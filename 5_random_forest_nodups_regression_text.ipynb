{
 "cells": [
  {
   "cell_type": "code",
   "execution_count": 147,
   "metadata": {},
   "outputs": [],
   "source": [
    "from sklearn.preprocessing import StandardScaler\n",
    "#from factor_analyzer import FactorAnalyzer, calculate_kmo\n",
    "from scipy.stats import bartlett\n",
    "import pandas as pd\n",
    "from sklearn.preprocessing import StandardScaler\n",
    "#from factor_analyzer import FactorAnalyzer, calculate_kmo, calculate_bartlett_sphericity\n",
    "import pandas as pd\n",
    "import numpy as np\n",
    "import matplotlib.pyplot as plt\n",
    "#import pingouin as pg\n",
    "import seaborn as sns"
   ]
  },
  {
   "cell_type": "code",
   "execution_count": 148,
   "metadata": {},
   "outputs": [
    {
     "name": "stdout",
     "output_type": "stream",
     "text": [
      "Index(['video_id', 'video_published_at', 'video_trending__date',\n",
      "       'video_trending_country', 'channel_id', 'video_title',\n",
      "       'video_description', 'video_default_thumbnail', 'video_category_id',\n",
      "       'video_tags', 'video_duration', 'video_dimension', 'video_definition',\n",
      "       'video_licensed_content', 'video_view_count', 'video_like_count',\n",
      "       'video_comment_count', 'channel_title', 'channel_description',\n",
      "       'channel_custom_url', 'channel_published_at', 'channel_country',\n",
      "       'channel_view_count', 'channel_subscriber_count',\n",
      "       'channel_have_hidden_subscribers', 'channel_video_count',\n",
      "       'channel_localized_title', 'channel_localized_description',\n",
      "       'engagement_rate', 'time_difference', 'video_duration_seconds'],\n",
      "      dtype='object')\n"
     ]
    },
    {
     "data": {
      "text/plain": [
       "(149885, 31)"
      ]
     },
     "execution_count": 148,
     "metadata": {},
     "output_type": "execute_result"
    }
   ],
   "source": [
    "data_path = \"data_cleaned_feature_31.csv\"\n",
    "data = pd.read_csv(data_path)\n",
    "print(data.columns)\n",
    "data.shape"
   ]
  },
  {
   "cell_type": "code",
   "execution_count": 149,
   "metadata": {},
   "outputs": [
    {
     "data": {
      "text/plain": [
       "(114683, 30)"
      ]
     },
     "execution_count": 149,
     "metadata": {},
     "output_type": "execute_result"
    }
   ],
   "source": [
    "data = data.drop(['video_trending_country'],axis=1).drop_duplicates()\n",
    "data.shape"
   ]
  },
  {
   "cell_type": "code",
   "execution_count": 150,
   "metadata": {},
   "outputs": [
    {
     "data": {
      "text/html": [
       "<div>\n",
       "<style scoped>\n",
       "    .dataframe tbody tr th:only-of-type {\n",
       "        vertical-align: middle;\n",
       "    }\n",
       "\n",
       "    .dataframe tbody tr th {\n",
       "        vertical-align: top;\n",
       "    }\n",
       "\n",
       "    .dataframe thead th {\n",
       "        text-align: right;\n",
       "    }\n",
       "</style>\n",
       "<table border=\"1\" class=\"dataframe\">\n",
       "  <thead>\n",
       "    <tr style=\"text-align: right;\">\n",
       "      <th></th>\n",
       "      <th>video_view_count</th>\n",
       "      <th>video_like_count</th>\n",
       "      <th>video_comment_count</th>\n",
       "      <th>channel_view_count</th>\n",
       "      <th>channel_subscriber_count</th>\n",
       "      <th>channel_video_count</th>\n",
       "      <th>engagement_rate</th>\n",
       "      <th>video_duration_seconds</th>\n",
       "    </tr>\n",
       "  </thead>\n",
       "  <tbody>\n",
       "    <tr>\n",
       "      <th>0</th>\n",
       "      <td>156272.0</td>\n",
       "      <td>4615.0</td>\n",
       "      <td>238.0</td>\n",
       "      <td>46473647</td>\n",
       "      <td>321000</td>\n",
       "      <td>207</td>\n",
       "      <td>0.031055</td>\n",
       "      <td>774.0</td>\n",
       "    </tr>\n",
       "    <tr>\n",
       "      <th>1</th>\n",
       "      <td>2148646.0</td>\n",
       "      <td>222346.0</td>\n",
       "      <td>11225.0</td>\n",
       "      <td>6395292</td>\n",
       "      <td>158000</td>\n",
       "      <td>61</td>\n",
       "      <td>0.108706</td>\n",
       "      <td>317.0</td>\n",
       "    </tr>\n",
       "    <tr>\n",
       "      <th>2</th>\n",
       "      <td>1106491.0</td>\n",
       "      <td>44317.0</td>\n",
       "      <td>2406.0</td>\n",
       "      <td>2807917957</td>\n",
       "      <td>8880000</td>\n",
       "      <td>1612</td>\n",
       "      <td>0.042226</td>\n",
       "      <td>2223.0</td>\n",
       "    </tr>\n",
       "    <tr>\n",
       "      <th>3</th>\n",
       "      <td>1185486.0</td>\n",
       "      <td>25373.0</td>\n",
       "      <td>2664.0</td>\n",
       "      <td>122939495</td>\n",
       "      <td>389000</td>\n",
       "      <td>635</td>\n",
       "      <td>0.023650</td>\n",
       "      <td>1297.0</td>\n",
       "    </tr>\n",
       "    <tr>\n",
       "      <th>4</th>\n",
       "      <td>69035.0</td>\n",
       "      <td>4346.0</td>\n",
       "      <td>125.0</td>\n",
       "      <td>85074466</td>\n",
       "      <td>436000</td>\n",
       "      <td>1429</td>\n",
       "      <td>0.064764</td>\n",
       "      <td>1269.0</td>\n",
       "    </tr>\n",
       "    <tr>\n",
       "      <th>...</th>\n",
       "      <td>...</td>\n",
       "      <td>...</td>\n",
       "      <td>...</td>\n",
       "      <td>...</td>\n",
       "      <td>...</td>\n",
       "      <td>...</td>\n",
       "      <td>...</td>\n",
       "      <td>...</td>\n",
       "    </tr>\n",
       "    <tr>\n",
       "      <th>149880</th>\n",
       "      <td>8548359.0</td>\n",
       "      <td>378107.0</td>\n",
       "      <td>3089.0</td>\n",
       "      <td>5592638348</td>\n",
       "      <td>12500000</td>\n",
       "      <td>1019</td>\n",
       "      <td>0.044593</td>\n",
       "      <td>24.0</td>\n",
       "    </tr>\n",
       "    <tr>\n",
       "      <th>149881</th>\n",
       "      <td>22553412.0</td>\n",
       "      <td>623924.0</td>\n",
       "      <td>7208.0</td>\n",
       "      <td>6331232520</td>\n",
       "      <td>8890000</td>\n",
       "      <td>480</td>\n",
       "      <td>0.027984</td>\n",
       "      <td>15.0</td>\n",
       "    </tr>\n",
       "    <tr>\n",
       "      <th>149882</th>\n",
       "      <td>63090147.0</td>\n",
       "      <td>2451904.0</td>\n",
       "      <td>3598.0</td>\n",
       "      <td>33506017412</td>\n",
       "      <td>44400000</td>\n",
       "      <td>3136</td>\n",
       "      <td>0.038921</td>\n",
       "      <td>15.0</td>\n",
       "    </tr>\n",
       "    <tr>\n",
       "      <th>149883</th>\n",
       "      <td>765386.0</td>\n",
       "      <td>27876.0</td>\n",
       "      <td>716.0</td>\n",
       "      <td>42201127</td>\n",
       "      <td>379000</td>\n",
       "      <td>809</td>\n",
       "      <td>0.037356</td>\n",
       "      <td>6566.0</td>\n",
       "    </tr>\n",
       "    <tr>\n",
       "      <th>149884</th>\n",
       "      <td>626417.0</td>\n",
       "      <td>12581.0</td>\n",
       "      <td>291.0</td>\n",
       "      <td>152352626</td>\n",
       "      <td>886000</td>\n",
       "      <td>11247</td>\n",
       "      <td>0.020549</td>\n",
       "      <td>30.0</td>\n",
       "    </tr>\n",
       "  </tbody>\n",
       "</table>\n",
       "<p>114683 rows × 8 columns</p>\n",
       "</div>"
      ],
      "text/plain": [
       "        video_view_count  video_like_count  video_comment_count  \\\n",
       "0               156272.0            4615.0                238.0   \n",
       "1              2148646.0          222346.0              11225.0   \n",
       "2              1106491.0           44317.0               2406.0   \n",
       "3              1185486.0           25373.0               2664.0   \n",
       "4                69035.0            4346.0                125.0   \n",
       "...                  ...               ...                  ...   \n",
       "149880         8548359.0          378107.0               3089.0   \n",
       "149881        22553412.0          623924.0               7208.0   \n",
       "149882        63090147.0         2451904.0               3598.0   \n",
       "149883          765386.0           27876.0                716.0   \n",
       "149884          626417.0           12581.0                291.0   \n",
       "\n",
       "        channel_view_count  channel_subscriber_count  channel_video_count  \\\n",
       "0                 46473647                    321000                  207   \n",
       "1                  6395292                    158000                   61   \n",
       "2               2807917957                   8880000                 1612   \n",
       "3                122939495                    389000                  635   \n",
       "4                 85074466                    436000                 1429   \n",
       "...                    ...                       ...                  ...   \n",
       "149880          5592638348                  12500000                 1019   \n",
       "149881          6331232520                   8890000                  480   \n",
       "149882         33506017412                  44400000                 3136   \n",
       "149883            42201127                    379000                  809   \n",
       "149884           152352626                    886000                11247   \n",
       "\n",
       "        engagement_rate  video_duration_seconds  \n",
       "0              0.031055                   774.0  \n",
       "1              0.108706                   317.0  \n",
       "2              0.042226                  2223.0  \n",
       "3              0.023650                  1297.0  \n",
       "4              0.064764                  1269.0  \n",
       "...                 ...                     ...  \n",
       "149880         0.044593                    24.0  \n",
       "149881         0.027984                    15.0  \n",
       "149882         0.038921                    15.0  \n",
       "149883         0.037356                  6566.0  \n",
       "149884         0.020549                    30.0  \n",
       "\n",
       "[114683 rows x 8 columns]"
      ]
     },
     "execution_count": 150,
     "metadata": {},
     "output_type": "execute_result"
    }
   ],
   "source": [
    "data.select_dtypes(include=['int64', 'float64'])"
   ]
  },
  {
   "cell_type": "code",
   "execution_count": 151,
   "metadata": {},
   "outputs": [
    {
     "data": {
      "text/plain": [
       "{'Total Rows': 114683,\n",
       " 'Duplicate Rows (Entire Row)': 0,\n",
       " 'Duplicate Video IDs': 96373}"
      ]
     },
     "execution_count": 151,
     "metadata": {},
     "output_type": "execute_result"
    }
   ],
   "source": [
    "duplicate_summary = {\n",
    "    \"Total Rows\": len(data),\n",
    "    \"Duplicate Rows (Entire Row)\": data.duplicated().sum(),\n",
    "    \"Duplicate Video IDs\": data.duplicated(subset=['video_id']).sum()\n",
    "}\n",
    "duplicate_summary "
   ]
  },
  {
   "cell_type": "code",
   "execution_count": 152,
   "metadata": {},
   "outputs": [
    {
     "data": {
      "text/plain": [
       "(114683, 30)"
      ]
     },
     "execution_count": 152,
     "metadata": {},
     "output_type": "execute_result"
    }
   ],
   "source": [
    "data.shape"
   ]
  },
  {
   "cell_type": "code",
   "execution_count": 153,
   "metadata": {},
   "outputs": [
    {
     "data": {
      "text/plain": [
       "(18310, 30)"
      ]
     },
     "execution_count": 153,
     "metadata": {},
     "output_type": "execute_result"
    }
   ],
   "source": [
    "data = data.drop_duplicates(subset=['video_id'])\n",
    "data.shape"
   ]
  },
  {
   "cell_type": "code",
   "execution_count": 154,
   "metadata": {},
   "outputs": [],
   "source": [
    "# text_features = ['video_description', 'video_title']\n",
    "\n",
    "# def clean_text_column(column):\n",
    "#     \"\"\"Clean a text column by filling nulls and removing special characters.\"\"\"\n",
    "#     return (\n",
    "#         column.fillna(\"\")  # Fill missing values with empty string\n",
    "#         .str.replace(r\"[^\\w\\s]\", \" \", regex=True)  # Remove special characters\n",
    "#         .str.lower()  # Convert to lowercase\n",
    "#         .str.strip()  # Remove leading/trailing spaces\n",
    "#     )\n",
    "\n",
    "# for text_feature in text_features:\n",
    "#     data[text_feature] = clean_text_column(data[text_feature])"
   ]
  },
  {
   "cell_type": "code",
   "execution_count": 155,
   "metadata": {},
   "outputs": [],
   "source": [
    "# from sentence_transformers import SentenceTransformer\n",
    "# model = SentenceTransformer('all-MiniLM-L6-v2')\n",
    "# sentence_embeddings = {}\n",
    "# for text_feature in text_features:\n",
    "#     text_data = data[text_feature].tolist()\n",
    "#     embeddings = model.encode(text_data, show_progress_bar=True)\n",
    "#     sentence_embeddings[text_feature] = pd.DataFrame(\n",
    "#         embeddings, \n",
    "#         columns=[f\"{text_feature}_dim{i}\" for i in range(embeddings.shape[1])]\n",
    "#     )"
   ]
  },
  {
   "cell_type": "code",
   "execution_count": 156,
   "metadata": {},
   "outputs": [],
   "source": [
    "def time_to_seconds(time_str):\n",
    "    days, time_part = time_str.split(\" days \")\n",
    "    days = int(days)\n",
    "    h, m, s = map(int, time_part.split(\":\"))\n",
    "    total_seconds = days * 86400 + h * 3600 + m * 60 + s\n",
    "    return total_seconds\n",
    "\n",
    "data['time_to_trend_difference_seconds'] = data['time_difference'].apply(time_to_seconds)\n",
    "data['likes_per_view'] = data['video_like_count'] / data['video_view_count']\n",
    "data['comments_per_view'] = data['video_comment_count'] / data['video_view_count']\n",
    "data['is_weekend'] = pd.to_datetime(data['video_published_at']).dt.weekday >= 5"
   ]
  },
  {
   "cell_type": "code",
   "execution_count": 157,
   "metadata": {},
   "outputs": [],
   "source": [
    "# columns_for_fa = [ 'video_view_count', 'video_like_count', 'video_comment_count',\n",
    "#     'channel_view_count', \n",
    "#     'channel_video_count', 'time_to_trend_difference_seconds',\n",
    "#     'video_duration_seconds']\n",
    "# fa_data = data[columns_for_fa].apply(pd.to_numeric, errors='coerce').dropna()\n",
    "# scaler = StandardScaler()\n",
    "# factor_data_standardized = scaler.fit_transform(fa_data)\n",
    "# kmo_all, kmo_model = calculate_kmo(factor_data_standardized)\n",
    "# print(f\"KMO: {kmo_model}\")\n",
    "# chi_square_value, p_value = calculate_bartlett_sphericity(factor_data_standardized)\n",
    "# print(f\"Bartlett's Test - Chi-Square: {chi_square_value}, p-value: {p_value}\")\n",
    "# fa = FactorAnalyzer(n_factors=3, rotation='varimax') \n",
    "# fa.fit(factor_data_standardized)\n",
    "# eigenvalues, _ = fa.get_eigenvalues()\n",
    "# print(f\"Eigenvalues: {eigenvalues}\")\n",
    "# loadings = fa.loadings_\n",
    "# print(f\"Factor Loadings:\\n{loadings}\")"
   ]
  },
  {
   "cell_type": "code",
   "execution_count": 158,
   "metadata": {},
   "outputs": [],
   "source": [
    "# factor_loadings = fa.loadings_\n",
    "# factor_loadings\n",
    "\n",
    "# threshold = 0.4\n",
    "# strong_loadings = np.abs(factor_loadings) > threshold\n",
    "\n",
    "# for i in range(factor_loadings.shape[1]):  \n",
    "#     print(f\"Factor {i+1} includes variables: {np.where(strong_loadings[:, i])[0]}\")"
   ]
  },
  {
   "cell_type": "code",
   "execution_count": 159,
   "metadata": {},
   "outputs": [],
   "source": [
    "# alpha1, ci1 = pg.cronbach_alpha(pd.DataFrame(factor_data_standardized).iloc[:, [0, 1,2]])\n",
    "# print(f\"Factor 1 - Cronbach's Alpha: {alpha1}, 95% CI: {ci1}\")"
   ]
  },
  {
   "cell_type": "code",
   "execution_count": 160,
   "metadata": {},
   "outputs": [],
   "source": [
    "# import seaborn as sns\n",
    "# factor_loadings_df = pd.DataFrame(loadings, columns=['Factor 1', 'Factor 2', 'Factor 3'], index=columns_for_fa)\n",
    "# sns.heatmap(factor_loadings_df, annot=True, cmap='coolwarm', fmt='.2f')\n",
    "# plt.title('Factor Loadings')\n",
    "# plt.show()"
   ]
  },
  {
   "cell_type": "code",
   "execution_count": 161,
   "metadata": {},
   "outputs": [
    {
     "data": {
      "text/plain": [
       "is_trending\n",
       "0    14594\n",
       "1     3716\n",
       "Name: count, dtype: int64"
      ]
     },
     "execution_count": 161,
     "metadata": {},
     "output_type": "execute_result"
    }
   ],
   "source": [
    "data['is_trending'] = data['time_difference'].apply(\n",
    "    lambda x: 1 if int(x.split(\" \")[0]) <= 1 else 0 \n",
    ")\n",
    "data.is_trending.value_counts() ## checking how fast videos are trending"
   ]
  },
  {
   "cell_type": "code",
   "execution_count": 162,
   "metadata": {},
   "outputs": [
    {
     "data": {
      "text/plain": [
       "0          5\n",
       "1         26\n",
       "2          3\n",
       "3          3\n",
       "4          3\n",
       "          ..\n",
       "149685     1\n",
       "149704    13\n",
       "149725     7\n",
       "149737     1\n",
       "149822    14\n",
       "Name: time_difference_days, Length: 18310, dtype: int64"
      ]
     },
     "execution_count": 162,
     "metadata": {},
     "output_type": "execute_result"
    }
   ],
   "source": [
    "# do split (\" \") and take the first element\n",
    "\n",
    "data[\"time_difference_days\"] = data[\"time_difference\"].apply(lambda x: int(x.split(\" \")[0]))\n",
    "data[\"time_difference_days\"]"
   ]
  },
  {
   "cell_type": "code",
   "execution_count": 163,
   "metadata": {},
   "outputs": [
    {
     "data": {
      "text/plain": [
       "(18310, 36)"
      ]
     },
     "execution_count": 163,
     "metadata": {},
     "output_type": "execute_result"
    }
   ],
   "source": [
    "data.shape"
   ]
  },
  {
   "cell_type": "code",
   "execution_count": 164,
   "metadata": {},
   "outputs": [],
   "source": [
    "# # hstack embedded_text and data\n",
    "# data = pd.concat([data, embedded_text], axis=1)\n",
    "# data.shape"
   ]
  },
  {
   "cell_type": "code",
   "execution_count": 165,
   "metadata": {},
   "outputs": [
    {
     "data": {
      "text/plain": [
       "array([0.03105483, 0.10870613, 0.04222628, ..., 0.01327402, 0.03468068,\n",
       "       0.0573489 ])"
      ]
     },
     "execution_count": 165,
     "metadata": {},
     "output_type": "execute_result"
    }
   ],
   "source": [
    "data.engagement_rate.unique()"
   ]
  },
  {
   "cell_type": "code",
   "execution_count": 166,
   "metadata": {},
   "outputs": [],
   "source": [
    "# majority_class = data[data['is_trending'] == 0]\n",
    "# minority_class = data[data['is_trending'] == 1]\n",
    "# # shape\n",
    "# majority_class.shape, minority_class.shape"
   ]
  },
  {
   "cell_type": "code",
   "execution_count": 167,
   "metadata": {},
   "outputs": [],
   "source": [
    "# from sklearn.utils import resample\n",
    "\n",
    "\n",
    "# minority_upsampled = resample(minority_class, \n",
    "#                               replace=True,     \n",
    "#                               n_samples=int(round(len(majority_class) * 0.7, -2)),  \n",
    "#                               random_state=42)  \n",
    "\n",
    "# data = pd.concat([majority_class, minority_upsampled])\n",
    "# data.is_trending.value_counts()"
   ]
  },
  {
   "cell_type": "code",
   "execution_count": 168,
   "metadata": {},
   "outputs": [],
   "source": [
    "# pd.concat([majority_class, minority_upsampled]).shape"
   ]
  },
  {
   "cell_type": "code",
   "execution_count": 169,
   "metadata": {},
   "outputs": [
    {
     "data": {
      "text/plain": [
       "0         2939.0\n",
       "1            NaN\n",
       "2         3423.0\n",
       "3            NaN\n",
       "4            NaN\n",
       "           ...  \n",
       "149685    2440.0\n",
       "149704    3171.0\n",
       "149725    4042.0\n",
       "149737       NaN\n",
       "149822    3919.0\n",
       "Name: channel_video_channel_publish_difference, Length: 18310, dtype: float64"
      ]
     },
     "execution_count": 169,
     "metadata": {},
     "output_type": "execute_result"
    }
   ],
   "source": [
    "data['channel_published_at'] = pd.to_datetime(data['channel_published_at'], errors='coerce').dt.tz_localize(None)\n",
    "data['video_published_at'] = pd.to_datetime(data['video_published_at'], errors='coerce').dt.tz_localize(None)\n",
    "data['channel_video_channel_publish_difference'] = (data['video_published_at'] - data['channel_published_at']).dt.days\n",
    "data['channel_video_channel_publish_difference']"
   ]
  },
  {
   "cell_type": "code",
   "execution_count": 170,
   "metadata": {},
   "outputs": [],
   "source": [
    "data['channel_video_channel_publish_difference'] = data['channel_video_channel_publish_difference'].fillna(data['channel_video_channel_publish_difference'].mean()) # di ko na alam kung tama to"
   ]
  },
  {
   "cell_type": "code",
   "execution_count": 171,
   "metadata": {},
   "outputs": [
    {
     "data": {
      "text/plain": [
       "is_trending\n",
       "0    14594\n",
       "1     3716\n",
       "Name: count, dtype: int64"
      ]
     },
     "execution_count": 171,
     "metadata": {},
     "output_type": "execute_result"
    }
   ],
   "source": [
    "data['is_trending'].value_counts()"
   ]
  },
  {
   "cell_type": "code",
   "execution_count": 172,
   "metadata": {},
   "outputs": [
    {
     "data": {
      "text/plain": [
       "is_weekend\n",
       "False    12946\n",
       "True      5364\n",
       "Name: count, dtype: int64"
      ]
     },
     "execution_count": 172,
     "metadata": {},
     "output_type": "execute_result"
    }
   ],
   "source": [
    "data['is_weekend'].value_counts()"
   ]
  },
  {
   "cell_type": "code",
   "execution_count": 173,
   "metadata": {},
   "outputs": [],
   "source": [
    "# features = [\n",
    "#     'video_duration_seconds', 'channel_video_count',\n",
    "#     'video_category_id', 'video_trending_country', 'is_weekend',\n",
    "#     'video_definition', 'video_dimension', 'video_licensed_content',\n",
    "#     'channel_country', 'channel_have_hidden_subscribers','channel_video_channel_publish_difference'\n",
    "# ]\n"
   ]
  },
  {
   "cell_type": "code",
   "execution_count": 174,
   "metadata": {},
   "outputs": [
    {
     "data": {
      "text/plain": [
       "0         False\n",
       "1         False\n",
       "2         False\n",
       "3         False\n",
       "4         False\n",
       "          ...  \n",
       "149685    False\n",
       "149704    False\n",
       "149725    False\n",
       "149737    False\n",
       "149822    False\n",
       "Name: channel_have_hidden_subscribers, Length: 18310, dtype: bool"
      ]
     },
     "execution_count": 174,
     "metadata": {},
     "output_type": "execute_result"
    }
   ],
   "source": [
    "data.channel_have_hidden_subscribers"
   ]
  },
  {
   "cell_type": "code",
   "execution_count": 175,
   "metadata": {},
   "outputs": [],
   "source": [
    "# data['is_trending'] = data['time_difference'].apply(\n",
    "#     lambda x: 1 if int(x.split(\" \")[0]) <= 3 else 0\n",
    "# )"
   ]
  },
  {
   "cell_type": "code",
   "execution_count": 176,
   "metadata": {},
   "outputs": [
    {
     "data": {
      "application/vnd.jupyter.widget-view+json": {
       "model_id": "529246245ec44308b331629731f986b6",
       "version_major": 2,
       "version_minor": 0
      },
      "text/plain": [
       "Batches:   0%|          | 0/573 [00:00<?, ?it/s]"
      ]
     },
     "metadata": {},
     "output_type": "display_data"
    },
    {
     "data": {
      "application/vnd.jupyter.widget-view+json": {
       "model_id": "333fcce1f2964a9584159bfa55ef86b0",
       "version_major": 2,
       "version_minor": 0
      },
      "text/plain": [
       "Batches:   0%|          | 0/573 [00:00<?, ?it/s]"
      ]
     },
     "metadata": {},
     "output_type": "display_data"
    }
   ],
   "source": [
    "text_features = ['video_description', 'video_title']\n",
    "\n",
    "def clean_text_column(column):\n",
    "    \"\"\"Clean a text column by filling nulls and removing special characters.\"\"\"\n",
    "    return (\n",
    "        column.fillna(\"\")  # Fill missing values with empty string\n",
    "        .str.replace(r\"[^\\w\\s]\", \" \", regex=True)  # Remove special characters\n",
    "        .str.lower()  # Convert to lowercase\n",
    "        .str.strip()  # Remove leading/trailing spaces\n",
    "    )\n",
    "\n",
    "for text_feature in text_features:\n",
    "    data[text_feature] = clean_text_column(data[text_feature])\n",
    "\n",
    "from sentence_transformers import SentenceTransformer\n",
    "model = SentenceTransformer('all-MiniLM-L6-v2')\n",
    "sentence_embeddings = {}\n",
    "for text_feature in text_features:\n",
    "    text_data = data[text_feature].tolist()\n",
    "    embeddings = model.encode(text_data, show_progress_bar=True)\n",
    "    sentence_embeddings[text_feature] = pd.DataFrame(\n",
    "        embeddings, \n",
    "        columns=[f\"{text_feature}_dim{i}\" for i in range(embeddings.shape[1])]\n",
    "    )\n",
    "\n",
    "embedded_text = pd.concat(sentence_embeddings.values(), axis=1)"
   ]
  },
  {
   "cell_type": "code",
   "execution_count": 189,
   "metadata": {},
   "outputs": [
    {
     "data": {
      "text/plain": [
       "(18310, 806)"
      ]
     },
     "execution_count": 189,
     "metadata": {},
     "output_type": "execute_result"
    }
   ],
   "source": [
    "data = pd.concat([data.reset_index(), embedded_text], axis=1)\n",
    "data.shape"
   ]
  },
  {
   "cell_type": "code",
   "execution_count": 190,
   "metadata": {},
   "outputs": [
    {
     "data": {
      "text/plain": [
       "768"
      ]
     },
     "execution_count": 190,
     "metadata": {},
     "output_type": "execute_result"
    }
   ],
   "source": [
    "embedded_text_columns = embedded_text.columns.tolist()\n",
    "len(embedded_text_columns)"
   ]
  },
  {
   "cell_type": "code",
   "execution_count": 191,
   "metadata": {},
   "outputs": [],
   "source": [
    "categorical_features = [\n",
    "    'video_category_id', 'is_weekend',\n",
    "    'video_definition', 'video_dimension', 'video_licensed_content',\n",
    "    'channel_country', 'channel_have_hidden_subscribers'\n",
    "]\n",
    "numerical_features = [\n",
    "    'video_duration_seconds', 'channel_video_count', 'channel_video_channel_publish_difference'\n",
    "]"
   ]
  },
  {
   "cell_type": "code",
   "execution_count": 192,
   "metadata": {},
   "outputs": [],
   "source": [
    "X_categorical = data[categorical_features]\n",
    "X_numerical = data[numerical_features]\n",
    "X_text = data[embedded_text_columns]\n",
    "y = data['engagement_rate']"
   ]
  },
  {
   "cell_type": "code",
   "execution_count": 194,
   "metadata": {},
   "outputs": [
    {
     "data": {
      "text/plain": [
       "(18310, 7)"
      ]
     },
     "execution_count": 194,
     "metadata": {},
     "output_type": "execute_result"
    }
   ],
   "source": [
    "X_categorical.shape"
   ]
  },
  {
   "cell_type": "code",
   "execution_count": 195,
   "metadata": {},
   "outputs": [
    {
     "data": {
      "text/plain": [
       "(18310, 3)"
      ]
     },
     "execution_count": 195,
     "metadata": {},
     "output_type": "execute_result"
    }
   ],
   "source": [
    "X_numerical.shape"
   ]
  },
  {
   "cell_type": "code",
   "execution_count": 196,
   "metadata": {},
   "outputs": [
    {
     "data": {
      "text/plain": [
       "(18310, 778)"
      ]
     },
     "execution_count": 196,
     "metadata": {},
     "output_type": "execute_result"
    }
   ],
   "source": [
    "import numpy as np\n",
    "X = pd.concat((X_numerical, X_categorical, X_text),axis=1)\n",
    "X.shape"
   ]
  },
  {
   "cell_type": "code",
   "execution_count": 197,
   "metadata": {},
   "outputs": [],
   "source": [
    "from sklearn.model_selection import train_test_split\n",
    "X_train, X_test, y_train, y_test = train_test_split(X, y, test_size=0.3, random_state=42)"
   ]
  },
  {
   "cell_type": "code",
   "execution_count": 198,
   "metadata": {},
   "outputs": [
    {
     "data": {
      "text/html": [
       "<div>\n",
       "<style scoped>\n",
       "    .dataframe tbody tr th:only-of-type {\n",
       "        vertical-align: middle;\n",
       "    }\n",
       "\n",
       "    .dataframe tbody tr th {\n",
       "        vertical-align: top;\n",
       "    }\n",
       "\n",
       "    .dataframe thead th {\n",
       "        text-align: right;\n",
       "    }\n",
       "</style>\n",
       "<table border=\"1\" class=\"dataframe\">\n",
       "  <thead>\n",
       "    <tr style=\"text-align: right;\">\n",
       "      <th></th>\n",
       "      <th>video_duration_seconds</th>\n",
       "      <th>channel_video_count</th>\n",
       "      <th>channel_video_channel_publish_difference</th>\n",
       "      <th>video_category_id</th>\n",
       "      <th>is_weekend</th>\n",
       "      <th>video_definition</th>\n",
       "      <th>video_dimension</th>\n",
       "      <th>video_licensed_content</th>\n",
       "      <th>channel_country</th>\n",
       "      <th>channel_have_hidden_subscribers</th>\n",
       "      <th>...</th>\n",
       "      <th>video_title_dim374</th>\n",
       "      <th>video_title_dim375</th>\n",
       "      <th>video_title_dim376</th>\n",
       "      <th>video_title_dim377</th>\n",
       "      <th>video_title_dim378</th>\n",
       "      <th>video_title_dim379</th>\n",
       "      <th>video_title_dim380</th>\n",
       "      <th>video_title_dim381</th>\n",
       "      <th>video_title_dim382</th>\n",
       "      <th>video_title_dim383</th>\n",
       "    </tr>\n",
       "  </thead>\n",
       "  <tbody>\n",
       "    <tr>\n",
       "      <th>10264</th>\n",
       "      <td>487.0</td>\n",
       "      <td>936</td>\n",
       "      <td>3878.121553</td>\n",
       "      <td>Science &amp; Technology</td>\n",
       "      <td>False</td>\n",
       "      <td>hd</td>\n",
       "      <td>2d</td>\n",
       "      <td>True</td>\n",
       "      <td>United States</td>\n",
       "      <td>False</td>\n",
       "      <td>...</td>\n",
       "      <td>0.039261</td>\n",
       "      <td>0.002876</td>\n",
       "      <td>-0.067118</td>\n",
       "      <td>0.039997</td>\n",
       "      <td>-0.030495</td>\n",
       "      <td>-0.003761</td>\n",
       "      <td>0.044838</td>\n",
       "      <td>0.010311</td>\n",
       "      <td>0.015545</td>\n",
       "      <td>0.067037</td>\n",
       "    </tr>\n",
       "    <tr>\n",
       "      <th>8114</th>\n",
       "      <td>748.0</td>\n",
       "      <td>844</td>\n",
       "      <td>4563.000000</td>\n",
       "      <td>Education</td>\n",
       "      <td>False</td>\n",
       "      <td>hd</td>\n",
       "      <td>2d</td>\n",
       "      <td>True</td>\n",
       "      <td>Germany</td>\n",
       "      <td>False</td>\n",
       "      <td>...</td>\n",
       "      <td>0.033493</td>\n",
       "      <td>-0.050844</td>\n",
       "      <td>0.005471</td>\n",
       "      <td>0.058531</td>\n",
       "      <td>-0.075809</td>\n",
       "      <td>0.070728</td>\n",
       "      <td>0.037826</td>\n",
       "      <td>0.019287</td>\n",
       "      <td>-0.011648</td>\n",
       "      <td>-0.020003</td>\n",
       "    </tr>\n",
       "    <tr>\n",
       "      <th>15984</th>\n",
       "      <td>59.0</td>\n",
       "      <td>3165</td>\n",
       "      <td>6152.000000</td>\n",
       "      <td>News &amp; Politics</td>\n",
       "      <td>False</td>\n",
       "      <td>hd</td>\n",
       "      <td>2d</td>\n",
       "      <td>True</td>\n",
       "      <td>Italy</td>\n",
       "      <td>False</td>\n",
       "      <td>...</td>\n",
       "      <td>0.022281</td>\n",
       "      <td>-0.101378</td>\n",
       "      <td>0.064327</td>\n",
       "      <td>0.030213</td>\n",
       "      <td>0.003270</td>\n",
       "      <td>-0.005103</td>\n",
       "      <td>-0.029635</td>\n",
       "      <td>0.048736</td>\n",
       "      <td>0.038847</td>\n",
       "      <td>-0.058433</td>\n",
       "    </tr>\n",
       "    <tr>\n",
       "      <th>5181</th>\n",
       "      <td>58.0</td>\n",
       "      <td>1674</td>\n",
       "      <td>2817.000000</td>\n",
       "      <td>Entertainment</td>\n",
       "      <td>False</td>\n",
       "      <td>hd</td>\n",
       "      <td>2d</td>\n",
       "      <td>True</td>\n",
       "      <td>Brazil</td>\n",
       "      <td>False</td>\n",
       "      <td>...</td>\n",
       "      <td>0.043455</td>\n",
       "      <td>0.018028</td>\n",
       "      <td>-0.049987</td>\n",
       "      <td>0.077757</td>\n",
       "      <td>-0.029774</td>\n",
       "      <td>0.049609</td>\n",
       "      <td>0.064199</td>\n",
       "      <td>0.051374</td>\n",
       "      <td>-0.037515</td>\n",
       "      <td>-0.058000</td>\n",
       "    </tr>\n",
       "    <tr>\n",
       "      <th>9657</th>\n",
       "      <td>1770.0</td>\n",
       "      <td>381</td>\n",
       "      <td>3878.121553</td>\n",
       "      <td>People &amp; Blogs</td>\n",
       "      <td>False</td>\n",
       "      <td>hd</td>\n",
       "      <td>2d</td>\n",
       "      <td>True</td>\n",
       "      <td>Indonesia</td>\n",
       "      <td>False</td>\n",
       "      <td>...</td>\n",
       "      <td>0.001505</td>\n",
       "      <td>-0.026050</td>\n",
       "      <td>-0.000867</td>\n",
       "      <td>0.055327</td>\n",
       "      <td>-0.092131</td>\n",
       "      <td>0.033613</td>\n",
       "      <td>0.104298</td>\n",
       "      <td>0.030238</td>\n",
       "      <td>0.010395</td>\n",
       "      <td>-0.042445</td>\n",
       "    </tr>\n",
       "    <tr>\n",
       "      <th>...</th>\n",
       "      <td>...</td>\n",
       "      <td>...</td>\n",
       "      <td>...</td>\n",
       "      <td>...</td>\n",
       "      <td>...</td>\n",
       "      <td>...</td>\n",
       "      <td>...</td>\n",
       "      <td>...</td>\n",
       "      <td>...</td>\n",
       "      <td>...</td>\n",
       "      <td>...</td>\n",
       "      <td>...</td>\n",
       "      <td>...</td>\n",
       "      <td>...</td>\n",
       "      <td>...</td>\n",
       "      <td>...</td>\n",
       "      <td>...</td>\n",
       "      <td>...</td>\n",
       "      <td>...</td>\n",
       "      <td>...</td>\n",
       "      <td>...</td>\n",
       "    </tr>\n",
       "    <tr>\n",
       "      <th>11284</th>\n",
       "      <td>933.0</td>\n",
       "      <td>939</td>\n",
       "      <td>2472.000000</td>\n",
       "      <td>Entertainment</td>\n",
       "      <td>False</td>\n",
       "      <td>hd</td>\n",
       "      <td>2d</td>\n",
       "      <td>True</td>\n",
       "      <td>Japan</td>\n",
       "      <td>False</td>\n",
       "      <td>...</td>\n",
       "      <td>-0.029220</td>\n",
       "      <td>0.081392</td>\n",
       "      <td>0.024048</td>\n",
       "      <td>0.038235</td>\n",
       "      <td>0.033520</td>\n",
       "      <td>0.016209</td>\n",
       "      <td>-0.018309</td>\n",
       "      <td>0.047248</td>\n",
       "      <td>-0.015575</td>\n",
       "      <td>-0.025135</td>\n",
       "    </tr>\n",
       "    <tr>\n",
       "      <th>11964</th>\n",
       "      <td>1237.0</td>\n",
       "      <td>984</td>\n",
       "      <td>4411.000000</td>\n",
       "      <td>Sports</td>\n",
       "      <td>False</td>\n",
       "      <td>hd</td>\n",
       "      <td>2d</td>\n",
       "      <td>True</td>\n",
       "      <td>Spain</td>\n",
       "      <td>False</td>\n",
       "      <td>...</td>\n",
       "      <td>0.098161</td>\n",
       "      <td>0.023039</td>\n",
       "      <td>0.039445</td>\n",
       "      <td>0.060952</td>\n",
       "      <td>-0.074366</td>\n",
       "      <td>-0.014194</td>\n",
       "      <td>-0.025621</td>\n",
       "      <td>-0.014073</td>\n",
       "      <td>0.037163</td>\n",
       "      <td>-0.053636</td>\n",
       "    </tr>\n",
       "    <tr>\n",
       "      <th>5390</th>\n",
       "      <td>4383.0</td>\n",
       "      <td>352</td>\n",
       "      <td>3946.000000</td>\n",
       "      <td>Entertainment</td>\n",
       "      <td>False</td>\n",
       "      <td>hd</td>\n",
       "      <td>2d</td>\n",
       "      <td>True</td>\n",
       "      <td>France</td>\n",
       "      <td>False</td>\n",
       "      <td>...</td>\n",
       "      <td>-0.002605</td>\n",
       "      <td>-0.004779</td>\n",
       "      <td>0.038738</td>\n",
       "      <td>-0.014561</td>\n",
       "      <td>0.016958</td>\n",
       "      <td>0.059930</td>\n",
       "      <td>0.066011</td>\n",
       "      <td>-0.001092</td>\n",
       "      <td>-0.082906</td>\n",
       "      <td>-0.065520</td>\n",
       "    </tr>\n",
       "    <tr>\n",
       "      <th>860</th>\n",
       "      <td>174.0</td>\n",
       "      <td>221</td>\n",
       "      <td>4040.000000</td>\n",
       "      <td>Music</td>\n",
       "      <td>False</td>\n",
       "      <td>hd</td>\n",
       "      <td>2d</td>\n",
       "      <td>True</td>\n",
       "      <td>United States</td>\n",
       "      <td>False</td>\n",
       "      <td>...</td>\n",
       "      <td>0.050205</td>\n",
       "      <td>-0.019282</td>\n",
       "      <td>0.036674</td>\n",
       "      <td>0.013587</td>\n",
       "      <td>-0.034370</td>\n",
       "      <td>-0.021249</td>\n",
       "      <td>0.077918</td>\n",
       "      <td>-0.018086</td>\n",
       "      <td>0.065192</td>\n",
       "      <td>0.031782</td>\n",
       "    </tr>\n",
       "    <tr>\n",
       "      <th>15795</th>\n",
       "      <td>911.0</td>\n",
       "      <td>1166</td>\n",
       "      <td>4509.000000</td>\n",
       "      <td>Comedy</td>\n",
       "      <td>False</td>\n",
       "      <td>hd</td>\n",
       "      <td>2d</td>\n",
       "      <td>True</td>\n",
       "      <td>Indonesia</td>\n",
       "      <td>False</td>\n",
       "      <td>...</td>\n",
       "      <td>0.025722</td>\n",
       "      <td>-0.009829</td>\n",
       "      <td>-0.052199</td>\n",
       "      <td>0.063432</td>\n",
       "      <td>-0.025855</td>\n",
       "      <td>-0.009270</td>\n",
       "      <td>0.076586</td>\n",
       "      <td>0.096087</td>\n",
       "      <td>-0.043802</td>\n",
       "      <td>-0.042200</td>\n",
       "    </tr>\n",
       "  </tbody>\n",
       "</table>\n",
       "<p>12817 rows × 778 columns</p>\n",
       "</div>"
      ],
      "text/plain": [
       "       video_duration_seconds  channel_video_count  \\\n",
       "10264                   487.0                  936   \n",
       "8114                    748.0                  844   \n",
       "15984                    59.0                 3165   \n",
       "5181                     58.0                 1674   \n",
       "9657                   1770.0                  381   \n",
       "...                       ...                  ...   \n",
       "11284                   933.0                  939   \n",
       "11964                  1237.0                  984   \n",
       "5390                   4383.0                  352   \n",
       "860                     174.0                  221   \n",
       "15795                   911.0                 1166   \n",
       "\n",
       "       channel_video_channel_publish_difference     video_category_id  \\\n",
       "10264                               3878.121553  Science & Technology   \n",
       "8114                                4563.000000             Education   \n",
       "15984                               6152.000000       News & Politics   \n",
       "5181                                2817.000000         Entertainment   \n",
       "9657                                3878.121553        People & Blogs   \n",
       "...                                         ...                   ...   \n",
       "11284                               2472.000000         Entertainment   \n",
       "11964                               4411.000000                Sports   \n",
       "5390                                3946.000000         Entertainment   \n",
       "860                                 4040.000000                 Music   \n",
       "15795                               4509.000000                Comedy   \n",
       "\n",
       "       is_weekend video_definition video_dimension  video_licensed_content  \\\n",
       "10264       False               hd              2d                    True   \n",
       "8114        False               hd              2d                    True   \n",
       "15984       False               hd              2d                    True   \n",
       "5181        False               hd              2d                    True   \n",
       "9657        False               hd              2d                    True   \n",
       "...           ...              ...             ...                     ...   \n",
       "11284       False               hd              2d                    True   \n",
       "11964       False               hd              2d                    True   \n",
       "5390        False               hd              2d                    True   \n",
       "860         False               hd              2d                    True   \n",
       "15795       False               hd              2d                    True   \n",
       "\n",
       "      channel_country  channel_have_hidden_subscribers  ...  \\\n",
       "10264   United States                            False  ...   \n",
       "8114          Germany                            False  ...   \n",
       "15984           Italy                            False  ...   \n",
       "5181           Brazil                            False  ...   \n",
       "9657        Indonesia                            False  ...   \n",
       "...               ...                              ...  ...   \n",
       "11284           Japan                            False  ...   \n",
       "11964           Spain                            False  ...   \n",
       "5390           France                            False  ...   \n",
       "860     United States                            False  ...   \n",
       "15795       Indonesia                            False  ...   \n",
       "\n",
       "       video_title_dim374  video_title_dim375  video_title_dim376  \\\n",
       "10264            0.039261            0.002876           -0.067118   \n",
       "8114             0.033493           -0.050844            0.005471   \n",
       "15984            0.022281           -0.101378            0.064327   \n",
       "5181             0.043455            0.018028           -0.049987   \n",
       "9657             0.001505           -0.026050           -0.000867   \n",
       "...                   ...                 ...                 ...   \n",
       "11284           -0.029220            0.081392            0.024048   \n",
       "11964            0.098161            0.023039            0.039445   \n",
       "5390            -0.002605           -0.004779            0.038738   \n",
       "860              0.050205           -0.019282            0.036674   \n",
       "15795            0.025722           -0.009829           -0.052199   \n",
       "\n",
       "       video_title_dim377  video_title_dim378  video_title_dim379  \\\n",
       "10264            0.039997           -0.030495           -0.003761   \n",
       "8114             0.058531           -0.075809            0.070728   \n",
       "15984            0.030213            0.003270           -0.005103   \n",
       "5181             0.077757           -0.029774            0.049609   \n",
       "9657             0.055327           -0.092131            0.033613   \n",
       "...                   ...                 ...                 ...   \n",
       "11284            0.038235            0.033520            0.016209   \n",
       "11964            0.060952           -0.074366           -0.014194   \n",
       "5390            -0.014561            0.016958            0.059930   \n",
       "860              0.013587           -0.034370           -0.021249   \n",
       "15795            0.063432           -0.025855           -0.009270   \n",
       "\n",
       "       video_title_dim380  video_title_dim381  video_title_dim382  \\\n",
       "10264            0.044838            0.010311            0.015545   \n",
       "8114             0.037826            0.019287           -0.011648   \n",
       "15984           -0.029635            0.048736            0.038847   \n",
       "5181             0.064199            0.051374           -0.037515   \n",
       "9657             0.104298            0.030238            0.010395   \n",
       "...                   ...                 ...                 ...   \n",
       "11284           -0.018309            0.047248           -0.015575   \n",
       "11964           -0.025621           -0.014073            0.037163   \n",
       "5390             0.066011           -0.001092           -0.082906   \n",
       "860              0.077918           -0.018086            0.065192   \n",
       "15795            0.076586            0.096087           -0.043802   \n",
       "\n",
       "       video_title_dim383  \n",
       "10264            0.067037  \n",
       "8114            -0.020003  \n",
       "15984           -0.058433  \n",
       "5181            -0.058000  \n",
       "9657            -0.042445  \n",
       "...                   ...  \n",
       "11284           -0.025135  \n",
       "11964           -0.053636  \n",
       "5390            -0.065520  \n",
       "860              0.031782  \n",
       "15795           -0.042200  \n",
       "\n",
       "[12817 rows x 778 columns]"
      ]
     },
     "execution_count": 198,
     "metadata": {},
     "output_type": "execute_result"
    }
   ],
   "source": [
    "X_train"
   ]
  },
  {
   "cell_type": "code",
   "execution_count": 199,
   "metadata": {},
   "outputs": [],
   "source": [
    "X_train_categorical = X_train[categorical_features]\n",
    "X_test_categorical = X_test[categorical_features]\n",
    "\n",
    "X_train_numerical = X_train[numerical_features]\n",
    "X_test_numerical = X_test[numerical_features]\n",
    "\n",
    "X_train_text = X_train[embedded_text_columns]\n",
    "X_test_text = X_test[embedded_text_columns]"
   ]
  },
  {
   "cell_type": "code",
   "execution_count": 200,
   "metadata": {},
   "outputs": [
    {
     "data": {
      "text/plain": [
       "10264    0.022798\n",
       "8114     0.064706\n",
       "15984    0.041621\n",
       "5181     0.043040\n",
       "9657     0.020947\n",
       "           ...   \n",
       "11284    0.055916\n",
       "11964    0.039799\n",
       "5390     0.076676\n",
       "860      0.069029\n",
       "15795    0.025257\n",
       "Name: engagement_rate, Length: 12817, dtype: float64"
      ]
     },
     "execution_count": 200,
     "metadata": {},
     "output_type": "execute_result"
    }
   ],
   "source": [
    "y_train"
   ]
  },
  {
   "cell_type": "code",
   "execution_count": 201,
   "metadata": {},
   "outputs": [],
   "source": [
    "from feature_engine.encoding import DecisionTreeEncoder\n",
    "from feature_engine.encoding import OneHotEncoder\n",
    "from feature_engine.encoding import MeanEncoder\n",
    "\n",
    "encoder = DecisionTreeEncoder(random_state=42)\n",
    "X_train_encode = encoder.fit_transform(X_train_categorical, y_train)\n",
    "X_test_encode = encoder.transform(X_test_categorical)"
   ]
  },
  {
   "cell_type": "code",
   "execution_count": 202,
   "metadata": {},
   "outputs": [],
   "source": [
    "from sklearn.preprocessing import StandardScaler\n",
    "scaler = StandardScaler()\n",
    "X_train_scaled = scaler.fit_transform(X_train_numerical)\n",
    "X_test_scaled = scaler.transform(X_test_numerical)\n",
    "# X_train_resampled, y_train_resampled = smote_enn.fit_resample(X_train_scaled, y_train)"
   ]
  },
  {
   "cell_type": "code",
   "execution_count": 203,
   "metadata": {},
   "outputs": [],
   "source": [
    "X_train = np.hstack((X_train_encode, X_train_scaled, X_train_text))\n",
    "X_test = np.hstack((X_test_encode, X_test_scaled, X_test_text))"
   ]
  },
  {
   "cell_type": "code",
   "execution_count": 204,
   "metadata": {},
   "outputs": [
    {
     "name": "stdout",
     "output_type": "stream",
     "text": [
      "Train MSE: 8.343068169968884e-05\n",
      "Test MSE: 0.0005972291425249223\n",
      "Train R2: 0.9036451263495532\n",
      "Test R2: 0.3221540563688646\n"
     ]
    }
   ],
   "source": [
    "from sklearn.ensemble import RandomForestRegressor\n",
    "from sklearn.metrics import mean_squared_error, r2_score\n",
    "\n",
    "regressor = RandomForestRegressor(random_state=42)\n",
    "\n",
    "regressor.fit(X_train, y_train)\n",
    "\n",
    "y_pred_train = regressor.predict(X_train)\n",
    "y_pred_test = regressor.predict(X_test)\n",
    "\n",
    "train_mse = mean_squared_error(y_train, y_pred_train)\n",
    "test_mse = mean_squared_error(y_test, y_pred_test)\n",
    "train_r2 = r2_score(y_train, y_pred_train)\n",
    "test_r2 = r2_score(y_test, y_pred_test)\n",
    "\n",
    "print(f\"Train MSE: {train_mse}\")\n",
    "print(f\"Test MSE: {test_mse}\")\n",
    "print(f\"Train R2: {train_r2}\")\n",
    "print(f\"Test R2: {test_r2}\")"
   ]
  },
  {
   "cell_type": "code",
   "execution_count": 206,
   "metadata": {},
   "outputs": [],
   "source": [
    "feature_importances = regressor.feature_importances_"
   ]
  },
  {
   "cell_type": "code",
   "execution_count": 211,
   "metadata": {},
   "outputs": [],
   "source": [
    "feature_names = pd.concat([data[categorical_features],data[numerical_features],data[embedded_text_columns]]).columns\n",
    "feature_importances = regressor.feature_importances_\n",
    "importance_df = pd.DataFrame({\n",
    "    'Feature': feature_names,\n",
    "    'Importance': feature_importances\n",
    "}).sort_values(by='Importance', ascending=False)"
   ]
  },
  {
   "cell_type": "code",
   "execution_count": 212,
   "metadata": {},
   "outputs": [
    {
     "data": {
      "image/png": "[encoded data removed]",
      "text/plain": [
       "<Figure size 1000x600 with 1 Axes>"
      ]
     },
     "metadata": {},
     "output_type": "display_data"
    }
   ],
   "source": [
    "top_features = importance_df.head(20)\n",
    "plt.figure(figsize=(10, 6))\n",
    "plt.barh(top_features['Feature'], top_features['Importance'], color='skyblue')\n",
    "plt.xlabel('Feature Importance')\n",
    "plt.ylabel('Features')\n",
    "plt.title('Top 20 Feature Importances in Random Forest')\n",
    "plt.gca().invert_yaxis()  \n",
    "plt.show()"
   ]
  },
  {
   "cell_type": "code",
   "execution_count": 208,
   "metadata": {},
   "outputs": [
    {
     "data": {
      "image/png": "[encoded data removed]",
      "text/plain": [
       "<Figure size 1000x600 with 1 Axes>"
      ]
     },
     "metadata": {},
     "output_type": "display_data"
    }
   ],
   "source": [
    "import matplotlib.pyplot as plt\n",
    "\n",
    "plt.figure(figsize=(10, 6))\n",
    "plt.plot(y_test.values, label='Actual', color='blue', alpha=0.6)\n",
    "plt.plot(y_pred_test, label='Predicted', color='red', alpha=0.6)\n",
    "plt.xlabel('Sample Index')\n",
    "plt.ylabel('Engagement Rate')\n",
    "plt.title('Comparison of Actual and Predicted Engagement Rates')\n",
    "plt.legend()\n",
    "plt.show()"
   ]
  },
  {
   "cell_type": "code",
   "execution_count": 213,
   "metadata": {},
   "outputs": [],
   "source": [
    "importance_df['Prefix'] = importance_df['Feature'].str.extract(r'(video_description|video_title)')"
   ]
  },
  {
   "cell_type": "code",
   "execution_count": 214,
   "metadata": {},
   "outputs": [],
   "source": [
    "aggregated_importance = importance_df.groupby('Prefix')['Importance'].sum().reset_index()\n",
    "\n",
    "aggregated_importance.columns = ['Feature', 'Importance']"
   ]
  },
  {
   "cell_type": "code",
   "execution_count": 225,
   "metadata": {},
   "outputs": [],
   "source": [
    "combined_features = pd.concat([top_features, aggregated_importance], ignore_index=True)"
   ]
  },
  {
   "cell_type": "code",
   "execution_count": 226,
   "metadata": {},
   "outputs": [
    {
     "data": {
      "text/html": [
       "<div>\n",
       "<style scoped>\n",
       "    .dataframe tbody tr th:only-of-type {\n",
       "        vertical-align: middle;\n",
       "    }\n",
       "\n",
       "    .dataframe tbody tr th {\n",
       "        vertical-align: top;\n",
       "    }\n",
       "\n",
       "    .dataframe thead th {\n",
       "        text-align: right;\n",
       "    }\n",
       "</style>\n",
       "<table border=\"1\" class=\"dataframe\">\n",
       "  <thead>\n",
       "    <tr style=\"text-align: right;\">\n",
       "      <th></th>\n",
       "      <th>Feature</th>\n",
       "      <th>Importance</th>\n",
       "    </tr>\n",
       "  </thead>\n",
       "  <tbody>\n",
       "    <tr>\n",
       "      <th>0</th>\n",
       "      <td>channel_video_count</td>\n",
       "      <td>0.087109</td>\n",
       "    </tr>\n",
       "    <tr>\n",
       "      <th>1</th>\n",
       "      <td>channel_country</td>\n",
       "      <td>0.050904</td>\n",
       "    </tr>\n",
       "    <tr>\n",
       "      <th>2</th>\n",
       "      <td>video_category_id</td>\n",
       "      <td>0.023101</td>\n",
       "    </tr>\n",
       "    <tr>\n",
       "      <th>3</th>\n",
       "      <td>video_duration_seconds</td>\n",
       "      <td>0.016340</td>\n",
       "    </tr>\n",
       "    <tr>\n",
       "      <th>4</th>\n",
       "      <td>video_description_dim203</td>\n",
       "      <td>0.005932</td>\n",
       "    </tr>\n",
       "    <tr>\n",
       "      <th>5</th>\n",
       "      <td>video_title_dim170</td>\n",
       "      <td>0.004280</td>\n",
       "    </tr>\n",
       "    <tr>\n",
       "      <th>6</th>\n",
       "      <td>video_description_dim324</td>\n",
       "      <td>0.003860</td>\n",
       "    </tr>\n",
       "    <tr>\n",
       "      <th>7</th>\n",
       "      <td>video_title_dim3</td>\n",
       "      <td>0.003635</td>\n",
       "    </tr>\n",
       "    <tr>\n",
       "      <th>8</th>\n",
       "      <td>video_title_dim358</td>\n",
       "      <td>0.003429</td>\n",
       "    </tr>\n",
       "    <tr>\n",
       "      <th>9</th>\n",
       "      <td>video_description_dim47</td>\n",
       "      <td>0.003065</td>\n",
       "    </tr>\n",
       "    <tr>\n",
       "      <th>10</th>\n",
       "      <td>video_description_dim108</td>\n",
       "      <td>0.003031</td>\n",
       "    </tr>\n",
       "    <tr>\n",
       "      <th>11</th>\n",
       "      <td>video_title_dim274</td>\n",
       "      <td>0.002693</td>\n",
       "    </tr>\n",
       "    <tr>\n",
       "      <th>12</th>\n",
       "      <td>video_description_dim61</td>\n",
       "      <td>0.002615</td>\n",
       "    </tr>\n",
       "    <tr>\n",
       "      <th>13</th>\n",
       "      <td>video_description_dim232</td>\n",
       "      <td>0.002577</td>\n",
       "    </tr>\n",
       "    <tr>\n",
       "      <th>14</th>\n",
       "      <td>video_title_dim60</td>\n",
       "      <td>0.002504</td>\n",
       "    </tr>\n",
       "    <tr>\n",
       "      <th>15</th>\n",
       "      <td>video_description_dim170</td>\n",
       "      <td>0.002501</td>\n",
       "    </tr>\n",
       "    <tr>\n",
       "      <th>16</th>\n",
       "      <td>video_title_dim251</td>\n",
       "      <td>0.002435</td>\n",
       "    </tr>\n",
       "    <tr>\n",
       "      <th>17</th>\n",
       "      <td>video_description_dim377</td>\n",
       "      <td>0.002361</td>\n",
       "    </tr>\n",
       "    <tr>\n",
       "      <th>18</th>\n",
       "      <td>video_title_dim239</td>\n",
       "      <td>0.002331</td>\n",
       "    </tr>\n",
       "    <tr>\n",
       "      <th>19</th>\n",
       "      <td>video_description_dim221</td>\n",
       "      <td>0.002283</td>\n",
       "    </tr>\n",
       "    <tr>\n",
       "      <th>20</th>\n",
       "      <td>video_description</td>\n",
       "      <td>0.382354</td>\n",
       "    </tr>\n",
       "    <tr>\n",
       "      <th>21</th>\n",
       "      <td>video_title</td>\n",
       "      <td>0.437700</td>\n",
       "    </tr>\n",
       "  </tbody>\n",
       "</table>\n",
       "</div>"
      ],
      "text/plain": [
       "                     Feature  Importance\n",
       "0        channel_video_count    0.087109\n",
       "1            channel_country    0.050904\n",
       "2          video_category_id    0.023101\n",
       "3     video_duration_seconds    0.016340\n",
       "4   video_description_dim203    0.005932\n",
       "5         video_title_dim170    0.004280\n",
       "6   video_description_dim324    0.003860\n",
       "7           video_title_dim3    0.003635\n",
       "8         video_title_dim358    0.003429\n",
       "9    video_description_dim47    0.003065\n",
       "10  video_description_dim108    0.003031\n",
       "11        video_title_dim274    0.002693\n",
       "12   video_description_dim61    0.002615\n",
       "13  video_description_dim232    0.002577\n",
       "14         video_title_dim60    0.002504\n",
       "15  video_description_dim170    0.002501\n",
       "16        video_title_dim251    0.002435\n",
       "17  video_description_dim377    0.002361\n",
       "18        video_title_dim239    0.002331\n",
       "19  video_description_dim221    0.002283\n",
       "20         video_description    0.382354\n",
       "21               video_title    0.437700"
      ]
     },
     "execution_count": 226,
     "metadata": {},
     "output_type": "execute_result"
    }
   ],
   "source": [
    "combined_features"
   ]
  },
  {
   "cell_type": "code",
   "execution_count": 227,
   "metadata": {},
   "outputs": [
    {
     "data": {
      "image/png": "[encoded data removed]",
      "text/plain": [
       "<Figure size 1000x600 with 1 Axes>"
      ]
     },
     "metadata": {},
     "output_type": "display_data"
    }
   ],
   "source": [
    "combined_features = combined_features.sort_values(by='Importance', ascending=False).head(20)\n",
    "\n",
    "# Plot the bar chart\n",
    "plt.figure(figsize=(10, 6))\n",
    "plt.barh(combined_features['Feature'], combined_features['Importance'], color='skyblue')\n",
    "plt.xlabel('Feature Importance')\n",
    "plt.ylabel('Features')\n",
    "plt.title('Top 20 Feature Importances in Random Forest')\n",
    "plt.gca().invert_yaxis()  # Invert y-axis for better readability\n",
    "plt.show()"
   ]
  }
 ],
 "metadata": {
  "kernelspec": {
   "display_name": "Python 3 (ipykernel)",
   "language": "python",
   "name": "python3"
  },
  "language_info": {
   "codemirror_mode": {
    "name": "ipython",
    "version": 3
   },
   "file_extension": ".py",
   "mimetype": "text/x-python",
   "name": "python",
   "nbconvert_exporter": "python",
   "pygments_lexer": "ipython3",
   "version": "3.11.10"
  }
 },
 "nbformat": 4,
 "nbformat_minor": 4
}
