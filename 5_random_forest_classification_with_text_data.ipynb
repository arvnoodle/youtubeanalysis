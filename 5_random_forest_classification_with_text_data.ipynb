{
 "cells": [
  {
   "cell_type": "code",
   "execution_count": 1,
   "metadata": {},
   "outputs": [],
   "source": [
    "from sklearn.preprocessing import StandardScaler\n",
    "#from factor_analyzer import FactorAnalyzer, calculate_kmo\n",
    "from scipy.stats import bartlett\n",
    "import pandas as pd\n",
    "from sklearn.preprocessing import StandardScaler\n",
    "#from factor_analyzer import FactorAnalyzer, calculate_kmo, calculate_bartlett_sphericity\n",
    "import pandas as pd\n",
    "import numpy as np\n",
    "import matplotlib.pyplot as plt\n",
    "#import pingouin as pg\n",
    "import seaborn as sns"
   ]
  },
  {
   "cell_type": "code",
   "execution_count": 2,
   "metadata": {},
   "outputs": [
    {
     "name": "stdout",
     "output_type": "stream",
     "text": [
      "Index(['video_id', 'video_published_at', 'video_trending__date',\n",
      "       'video_trending_country', 'channel_id', 'video_title',\n",
      "       'video_description', 'video_default_thumbnail', 'video_category_id',\n",
      "       'video_tags', 'video_duration', 'video_dimension', 'video_definition',\n",
      "       'video_licensed_content', 'video_view_count', 'video_like_count',\n",
      "       'video_comment_count', 'channel_title', 'channel_description',\n",
      "       'channel_custom_url', 'channel_published_at', 'channel_country',\n",
      "       'channel_view_count', 'channel_subscriber_count',\n",
      "       'channel_have_hidden_subscribers', 'channel_video_count',\n",
      "       'channel_localized_title', 'channel_localized_description',\n",
      "       'engagement_rate', 'time_difference', 'video_duration_seconds'],\n",
      "      dtype='object')\n"
     ]
    },
    {
     "data": {
      "text/plain": [
       "(149885, 31)"
      ]
     },
     "execution_count": 2,
     "metadata": {},
     "output_type": "execute_result"
    }
   ],
   "source": [
    "data_path = \"data_cleaned_feature_31.csv\"\n",
    "data = pd.read_csv(data_path)\n",
    "print(data.columns)\n",
    "data.shape"
   ]
  },
  {
   "cell_type": "code",
   "execution_count": 3,
   "metadata": {},
   "outputs": [
    {
     "data": {
      "text/plain": [
       "(114683, 30)"
      ]
     },
     "execution_count": 3,
     "metadata": {},
     "output_type": "execute_result"
    }
   ],
   "source": [
    "# drop duplicates\n",
    "data = data.drop(['video_trending_country'],axis=1).drop_duplicates()\n",
    "data.shape"
   ]
  },
  {
   "cell_type": "code",
   "execution_count": 4,
   "metadata": {},
   "outputs": [
    {
     "data": {
      "text/html": [
       "<div>\n",
       "<style scoped>\n",
       "    .dataframe tbody tr th:only-of-type {\n",
       "        vertical-align: middle;\n",
       "    }\n",
       "\n",
       "    .dataframe tbody tr th {\n",
       "        vertical-align: top;\n",
       "    }\n",
       "\n",
       "    .dataframe thead th {\n",
       "        text-align: right;\n",
       "    }\n",
       "</style>\n",
       "<table border=\"1\" class=\"dataframe\">\n",
       "  <thead>\n",
       "    <tr style=\"text-align: right;\">\n",
       "      <th></th>\n",
       "      <th>video_view_count</th>\n",
       "      <th>video_like_count</th>\n",
       "      <th>video_comment_count</th>\n",
       "      <th>channel_view_count</th>\n",
       "      <th>channel_subscriber_count</th>\n",
       "      <th>channel_video_count</th>\n",
       "      <th>engagement_rate</th>\n",
       "      <th>video_duration_seconds</th>\n",
       "    </tr>\n",
       "  </thead>\n",
       "  <tbody>\n",
       "    <tr>\n",
       "      <th>0</th>\n",
       "      <td>156272.0</td>\n",
       "      <td>4615.0</td>\n",
       "      <td>238.0</td>\n",
       "      <td>46473647</td>\n",
       "      <td>321000</td>\n",
       "      <td>207</td>\n",
       "      <td>0.031055</td>\n",
       "      <td>774.0</td>\n",
       "    </tr>\n",
       "    <tr>\n",
       "      <th>1</th>\n",
       "      <td>2148646.0</td>\n",
       "      <td>222346.0</td>\n",
       "      <td>11225.0</td>\n",
       "      <td>6395292</td>\n",
       "      <td>158000</td>\n",
       "      <td>61</td>\n",
       "      <td>0.108706</td>\n",
       "      <td>317.0</td>\n",
       "    </tr>\n",
       "    <tr>\n",
       "      <th>2</th>\n",
       "      <td>1106491.0</td>\n",
       "      <td>44317.0</td>\n",
       "      <td>2406.0</td>\n",
       "      <td>2807917957</td>\n",
       "      <td>8880000</td>\n",
       "      <td>1612</td>\n",
       "      <td>0.042226</td>\n",
       "      <td>2223.0</td>\n",
       "    </tr>\n",
       "    <tr>\n",
       "      <th>3</th>\n",
       "      <td>1185486.0</td>\n",
       "      <td>25373.0</td>\n",
       "      <td>2664.0</td>\n",
       "      <td>122939495</td>\n",
       "      <td>389000</td>\n",
       "      <td>635</td>\n",
       "      <td>0.023650</td>\n",
       "      <td>1297.0</td>\n",
       "    </tr>\n",
       "    <tr>\n",
       "      <th>4</th>\n",
       "      <td>69035.0</td>\n",
       "      <td>4346.0</td>\n",
       "      <td>125.0</td>\n",
       "      <td>85074466</td>\n",
       "      <td>436000</td>\n",
       "      <td>1429</td>\n",
       "      <td>0.064764</td>\n",
       "      <td>1269.0</td>\n",
       "    </tr>\n",
       "    <tr>\n",
       "      <th>...</th>\n",
       "      <td>...</td>\n",
       "      <td>...</td>\n",
       "      <td>...</td>\n",
       "      <td>...</td>\n",
       "      <td>...</td>\n",
       "      <td>...</td>\n",
       "      <td>...</td>\n",
       "      <td>...</td>\n",
       "    </tr>\n",
       "    <tr>\n",
       "      <th>149880</th>\n",
       "      <td>8548359.0</td>\n",
       "      <td>378107.0</td>\n",
       "      <td>3089.0</td>\n",
       "      <td>5592638348</td>\n",
       "      <td>12500000</td>\n",
       "      <td>1019</td>\n",
       "      <td>0.044593</td>\n",
       "      <td>24.0</td>\n",
       "    </tr>\n",
       "    <tr>\n",
       "      <th>149881</th>\n",
       "      <td>22553412.0</td>\n",
       "      <td>623924.0</td>\n",
       "      <td>7208.0</td>\n",
       "      <td>6331232520</td>\n",
       "      <td>8890000</td>\n",
       "      <td>480</td>\n",
       "      <td>0.027984</td>\n",
       "      <td>15.0</td>\n",
       "    </tr>\n",
       "    <tr>\n",
       "      <th>149882</th>\n",
       "      <td>63090147.0</td>\n",
       "      <td>2451904.0</td>\n",
       "      <td>3598.0</td>\n",
       "      <td>33506017412</td>\n",
       "      <td>44400000</td>\n",
       "      <td>3136</td>\n",
       "      <td>0.038921</td>\n",
       "      <td>15.0</td>\n",
       "    </tr>\n",
       "    <tr>\n",
       "      <th>149883</th>\n",
       "      <td>765386.0</td>\n",
       "      <td>27876.0</td>\n",
       "      <td>716.0</td>\n",
       "      <td>42201127</td>\n",
       "      <td>379000</td>\n",
       "      <td>809</td>\n",
       "      <td>0.037356</td>\n",
       "      <td>6566.0</td>\n",
       "    </tr>\n",
       "    <tr>\n",
       "      <th>149884</th>\n",
       "      <td>626417.0</td>\n",
       "      <td>12581.0</td>\n",
       "      <td>291.0</td>\n",
       "      <td>152352626</td>\n",
       "      <td>886000</td>\n",
       "      <td>11247</td>\n",
       "      <td>0.020549</td>\n",
       "      <td>30.0</td>\n",
       "    </tr>\n",
       "  </tbody>\n",
       "</table>\n",
       "<p>114683 rows × 8 columns</p>\n",
       "</div>"
      ],
      "text/plain": [
       "        video_view_count  video_like_count  video_comment_count  \\\n",
       "0               156272.0            4615.0                238.0   \n",
       "1              2148646.0          222346.0              11225.0   \n",
       "2              1106491.0           44317.0               2406.0   \n",
       "3              1185486.0           25373.0               2664.0   \n",
       "4                69035.0            4346.0                125.0   \n",
       "...                  ...               ...                  ...   \n",
       "149880         8548359.0          378107.0               3089.0   \n",
       "149881        22553412.0          623924.0               7208.0   \n",
       "149882        63090147.0         2451904.0               3598.0   \n",
       "149883          765386.0           27876.0                716.0   \n",
       "149884          626417.0           12581.0                291.0   \n",
       "\n",
       "        channel_view_count  channel_subscriber_count  channel_video_count  \\\n",
       "0                 46473647                    321000                  207   \n",
       "1                  6395292                    158000                   61   \n",
       "2               2807917957                   8880000                 1612   \n",
       "3                122939495                    389000                  635   \n",
       "4                 85074466                    436000                 1429   \n",
       "...                    ...                       ...                  ...   \n",
       "149880          5592638348                  12500000                 1019   \n",
       "149881          6331232520                   8890000                  480   \n",
       "149882         33506017412                  44400000                 3136   \n",
       "149883            42201127                    379000                  809   \n",
       "149884           152352626                    886000                11247   \n",
       "\n",
       "        engagement_rate  video_duration_seconds  \n",
       "0              0.031055                   774.0  \n",
       "1              0.108706                   317.0  \n",
       "2              0.042226                  2223.0  \n",
       "3              0.023650                  1297.0  \n",
       "4              0.064764                  1269.0  \n",
       "...                 ...                     ...  \n",
       "149880         0.044593                    24.0  \n",
       "149881         0.027984                    15.0  \n",
       "149882         0.038921                    15.0  \n",
       "149883         0.037356                  6566.0  \n",
       "149884         0.020549                    30.0  \n",
       "\n",
       "[114683 rows x 8 columns]"
      ]
     },
     "execution_count": 4,
     "metadata": {},
     "output_type": "execute_result"
    }
   ],
   "source": [
    "data.select_dtypes(include=['int64', 'float64'])"
   ]
  },
  {
   "cell_type": "code",
   "execution_count": 5,
   "metadata": {},
   "outputs": [
    {
     "data": {
      "text/plain": [
       "{'Total Rows': 114683,\n",
       " 'Duplicate Rows (Entire Row)': 0,\n",
       " 'Duplicate Video IDs': 96373}"
      ]
     },
     "execution_count": 5,
     "metadata": {},
     "output_type": "execute_result"
    }
   ],
   "source": [
    "duplicate_summary = {\n",
    "    \"Total Rows\": len(data),\n",
    "    \"Duplicate Rows (Entire Row)\": data.duplicated().sum(),\n",
    "    \"Duplicate Video IDs\": data.duplicated(subset=['video_id']).sum()\n",
    "}\n",
    "duplicate_summary "
   ]
  },
  {
   "cell_type": "code",
   "execution_count": 6,
   "metadata": {},
   "outputs": [
    {
     "data": {
      "text/plain": [
       "0         False\n",
       "1         False\n",
       "2         False\n",
       "3         False\n",
       "4         False\n",
       "          ...  \n",
       "149880     True\n",
       "149881     True\n",
       "149882     True\n",
       "149883     True\n",
       "149884     True\n",
       "Length: 114683, dtype: bool"
      ]
     },
     "execution_count": 6,
     "metadata": {},
     "output_type": "execute_result"
    }
   ],
   "source": [
    "data.duplicated(subset=['video_id'])"
   ]
  },
  {
   "cell_type": "code",
   "execution_count": 7,
   "metadata": {},
   "outputs": [
    {
     "data": {
      "text/html": [
       "<div>\n",
       "<style scoped>\n",
       "    .dataframe tbody tr th:only-of-type {\n",
       "        vertical-align: middle;\n",
       "    }\n",
       "\n",
       "    .dataframe tbody tr th {\n",
       "        vertical-align: top;\n",
       "    }\n",
       "\n",
       "    .dataframe thead th {\n",
       "        text-align: right;\n",
       "    }\n",
       "</style>\n",
       "<table border=\"1\" class=\"dataframe\">\n",
       "  <thead>\n",
       "    <tr style=\"text-align: right;\">\n",
       "      <th></th>\n",
       "      <th>video_id</th>\n",
       "      <th>video_published_at</th>\n",
       "      <th>video_trending__date</th>\n",
       "      <th>channel_id</th>\n",
       "      <th>video_title</th>\n",
       "      <th>video_description</th>\n",
       "      <th>video_default_thumbnail</th>\n",
       "      <th>video_category_id</th>\n",
       "      <th>video_tags</th>\n",
       "      <th>video_duration</th>\n",
       "      <th>...</th>\n",
       "      <th>channel_country</th>\n",
       "      <th>channel_view_count</th>\n",
       "      <th>channel_subscriber_count</th>\n",
       "      <th>channel_have_hidden_subscribers</th>\n",
       "      <th>channel_video_count</th>\n",
       "      <th>channel_localized_title</th>\n",
       "      <th>channel_localized_description</th>\n",
       "      <th>engagement_rate</th>\n",
       "      <th>time_difference</th>\n",
       "      <th>video_duration_seconds</th>\n",
       "    </tr>\n",
       "  </thead>\n",
       "  <tbody>\n",
       "    <tr>\n",
       "      <th>0</th>\n",
       "      <td>F5BuWCRx9bY</td>\n",
       "      <td>2024-10-10 16:19:23</td>\n",
       "      <td>2024-10-16</td>\n",
       "      <td>UCQKpp1etxGeY-NC2bXRtUAA</td>\n",
       "      <td>NDARO ALIVOMPIGA HELA STEVE MWEUSI UTACHEKA</td>\n",
       "      <td>#ndaro #chekatu #stevemweusi #comedy #funny #w...</td>\n",
       "      <td>https://i.ytimg.com/vi/F5BuWCRx9bY/default.jpg</td>\n",
       "      <td>Comedy</td>\n",
       "      <td>NaN</td>\n",
       "      <td>PT12M54S</td>\n",
       "      <td>...</td>\n",
       "      <td>Tanzania</td>\n",
       "      <td>46473647</td>\n",
       "      <td>321000</td>\n",
       "      <td>False</td>\n",
       "      <td>207</td>\n",
       "      <td>Ndaro Tz</td>\n",
       "      <td>East African Comedian</td>\n",
       "      <td>0.031055</td>\n",
       "      <td>5 days 07:40:37</td>\n",
       "      <td>774.0</td>\n",
       "    </tr>\n",
       "    <tr>\n",
       "      <th>1</th>\n",
       "      <td>xJvfULLGjQE</td>\n",
       "      <td>2024-10-06 17:48:07</td>\n",
       "      <td>2024-11-02</td>\n",
       "      <td>UCoZnEQMqVvv_DkF50fupMKw</td>\n",
       "      <td>Bassem Youssef &amp; Amjad Al-Nour - Bibi’s Trial ...</td>\n",
       "      <td>Bassem Youssef &amp; Amjad Al-Nour - Bibi’s Trial ...</td>\n",
       "      <td>https://i.ytimg.com/vi/xJvfULLGjQE/default.jpg</td>\n",
       "      <td>Music</td>\n",
       "      <td>باسم,يوسف,البرنامج,bassem,basem,youssef,yousef...</td>\n",
       "      <td>PT5M17S</td>\n",
       "      <td>...</td>\n",
       "      <td>Egypt</td>\n",
       "      <td>6395292</td>\n",
       "      <td>158000</td>\n",
       "      <td>False</td>\n",
       "      <td>61</td>\n",
       "      <td>Bassem Youssef</td>\n",
       "      <td>Comedian, political satirist,vegan,documentary...</td>\n",
       "      <td>0.108706</td>\n",
       "      <td>26 days 06:11:53</td>\n",
       "      <td>317.0</td>\n",
       "    </tr>\n",
       "    <tr>\n",
       "      <th>2</th>\n",
       "      <td>RN5maxRpI_s</td>\n",
       "      <td>2024-11-22 16:00:20</td>\n",
       "      <td>2024-11-26</td>\n",
       "      <td>UCL6JmiMXKoXS6bpP1D3bk8g</td>\n",
       "      <td>Nitrous vs Supercharger | HiLow</td>\n",
       "      <td>Thanks to Allstate for sponsoring today’s epis...</td>\n",
       "      <td>https://i.ytimg.com/vi/RN5maxRpI_s/default.jpg</td>\n",
       "      <td>Autos &amp; Vehicles</td>\n",
       "      <td>donut,donut media,cars,james pumphrey,up to sp...</td>\n",
       "      <td>PT37M3S</td>\n",
       "      <td>...</td>\n",
       "      <td>United States</td>\n",
       "      <td>2807917957</td>\n",
       "      <td>8880000</td>\n",
       "      <td>False</td>\n",
       "      <td>1612</td>\n",
       "      <td>Donut</td>\n",
       "      <td>it's ok to like cars\\n</td>\n",
       "      <td>0.042226</td>\n",
       "      <td>3 days 07:59:40</td>\n",
       "      <td>2223.0</td>\n",
       "    </tr>\n",
       "    <tr>\n",
       "      <th>3</th>\n",
       "      <td>m2CzFycwLuk</td>\n",
       "      <td>2024-11-15 18:00:06</td>\n",
       "      <td>2024-11-19</td>\n",
       "      <td>UCTXpFhlF-SPNMiyATwVq95Q</td>\n",
       "      <td>ВС РФ Зашли В Черниговскую Область🎖 Началось З...</td>\n",
       "      <td>В этом видео мы обсудим с Вами ситуацию в Укра...</td>\n",
       "      <td>https://i.ytimg.com/vi/m2CzFycwLuk/default.jpg</td>\n",
       "      <td>News &amp; Politics</td>\n",
       "      <td>NaN</td>\n",
       "      <td>PT21M37S</td>\n",
       "      <td>...</td>\n",
       "      <td>Belarus</td>\n",
       "      <td>122939495</td>\n",
       "      <td>389000</td>\n",
       "      <td>False</td>\n",
       "      <td>635</td>\n",
       "      <td>Военные Сводки</td>\n",
       "      <td>На этом канале Вы можете найти всю необходимую...</td>\n",
       "      <td>0.023650</td>\n",
       "      <td>3 days 05:59:54</td>\n",
       "      <td>1297.0</td>\n",
       "    </tr>\n",
       "    <tr>\n",
       "      <th>4</th>\n",
       "      <td>DNkWGG3iFks</td>\n",
       "      <td>2024-11-06 21:32:42</td>\n",
       "      <td>2024-11-10</td>\n",
       "      <td>UCtNu0UG8PyYGeHKxu1HypyA</td>\n",
       "      <td>اول مره تجيلى بعد الجواز بتقولى اكلك وحشنى  عم...</td>\n",
       "      <td>No description available</td>\n",
       "      <td>https://i.ytimg.com/vi/DNkWGG3iFks/default.jpg</td>\n",
       "      <td>Education</td>\n",
       "      <td>NaN</td>\n",
       "      <td>PT21M9S</td>\n",
       "      <td>...</td>\n",
       "      <td>Egypt</td>\n",
       "      <td>85074466</td>\n",
       "      <td>436000</td>\n",
       "      <td>False</td>\n",
       "      <td>1429</td>\n",
       "      <td>وصفه فى مطبخي</td>\n",
       "      <td>كل ما يخص المطبخ والبيت</td>\n",
       "      <td>0.064764</td>\n",
       "      <td>3 days 02:27:18</td>\n",
       "      <td>1269.0</td>\n",
       "    </tr>\n",
       "    <tr>\n",
       "      <th>...</th>\n",
       "      <td>...</td>\n",
       "      <td>...</td>\n",
       "      <td>...</td>\n",
       "      <td>...</td>\n",
       "      <td>...</td>\n",
       "      <td>...</td>\n",
       "      <td>...</td>\n",
       "      <td>...</td>\n",
       "      <td>...</td>\n",
       "      <td>...</td>\n",
       "      <td>...</td>\n",
       "      <td>...</td>\n",
       "      <td>...</td>\n",
       "      <td>...</td>\n",
       "      <td>...</td>\n",
       "      <td>...</td>\n",
       "      <td>...</td>\n",
       "      <td>...</td>\n",
       "      <td>...</td>\n",
       "      <td>...</td>\n",
       "      <td>...</td>\n",
       "    </tr>\n",
       "    <tr>\n",
       "      <th>149685</th>\n",
       "      <td>tJ9D9xXRYQc</td>\n",
       "      <td>2024-10-24 03:26:46</td>\n",
       "      <td>2024-10-26</td>\n",
       "      <td>UC2cuK3qB1LqEXKJlangmVzQ</td>\n",
       "      <td>TERIMAKASIH BANYAK SEMUANYA !!!</td>\n",
       "      <td>No description available</td>\n",
       "      <td>https://i.ytimg.com/vi/tJ9D9xXRYQc/default.jpg</td>\n",
       "      <td>People &amp; Blogs</td>\n",
       "      <td>NaN</td>\n",
       "      <td>PT11M43S</td>\n",
       "      <td>...</td>\n",
       "      <td>Unknown</td>\n",
       "      <td>33563535</td>\n",
       "      <td>357000</td>\n",
       "      <td>False</td>\n",
       "      <td>228</td>\n",
       "      <td>Navile mungil</td>\n",
       "      <td>No localized description available</td>\n",
       "      <td>0.060655</td>\n",
       "      <td>1 days 20:33:14</td>\n",
       "      <td>703.0</td>\n",
       "    </tr>\n",
       "    <tr>\n",
       "      <th>149704</th>\n",
       "      <td>Udo0kXIL7Fc</td>\n",
       "      <td>2024-10-01 12:27:58</td>\n",
       "      <td>2024-10-15</td>\n",
       "      <td>UCHUgd2j9_RTxt4CF4JJhqNQ</td>\n",
       "      <td>У той момент вбили і мене, морально, фізично, ...</td>\n",
       "      <td>______________________________________________...</td>\n",
       "      <td>https://i.ytimg.com/vi/Udo0kXIL7Fc/default.jpg</td>\n",
       "      <td>News &amp; Politics</td>\n",
       "      <td>Суспільне Одеса,суспільне одеса,новини одеси,н...</td>\n",
       "      <td>PT56S</td>\n",
       "      <td>...</td>\n",
       "      <td>Ukraine</td>\n",
       "      <td>78380425</td>\n",
       "      <td>130000</td>\n",
       "      <td>False</td>\n",
       "      <td>12394</td>\n",
       "      <td>Суспільне Одеса</td>\n",
       "      <td>Офіційний канал Суспільного мовника \\nСайт: su...</td>\n",
       "      <td>0.058834</td>\n",
       "      <td>13 days 11:32:02</td>\n",
       "      <td>56.0</td>\n",
       "    </tr>\n",
       "    <tr>\n",
       "      <th>149725</th>\n",
       "      <td>HZcpFYk7gS8</td>\n",
       "      <td>2024-11-18 17:00:28</td>\n",
       "      <td>2024-11-26</td>\n",
       "      <td>UCJIl08OJstq_9kgI9wf_xjg</td>\n",
       "      <td>Affaire Concul ! - Groland - CANAL+</td>\n",
       "      <td>L'intégralité de Groland est sur myCANAL : can...</td>\n",
       "      <td>https://i.ytimg.com/vi/HZcpFYk7gS8/default.jpg</td>\n",
       "      <td>Comedy</td>\n",
       "      <td>Canal +,canalplus,canal,Groland,Jules Edouard ...</td>\n",
       "      <td>PT2M1S</td>\n",
       "      <td>...</td>\n",
       "      <td>France</td>\n",
       "      <td>248901984</td>\n",
       "      <td>337000</td>\n",
       "      <td>False</td>\n",
       "      <td>1479</td>\n",
       "      <td>Groland</td>\n",
       "      <td>En direct de la Présipauté, des sketchs, des p...</td>\n",
       "      <td>0.013274</td>\n",
       "      <td>7 days 06:59:32</td>\n",
       "      <td>121.0</td>\n",
       "    </tr>\n",
       "    <tr>\n",
       "      <th>149737</th>\n",
       "      <td>eZfEVTlfc24</td>\n",
       "      <td>2024-11-21 13:00:49</td>\n",
       "      <td>2024-11-23</td>\n",
       "      <td>UCy3NetwuOLVhethwACfWL8w</td>\n",
       "      <td>PRO BOOSTS by LEGENDS in Standoff 2! | Tips &amp; ...</td>\n",
       "      <td>GET 10 FABLE BOXES using the promo code in the...</td>\n",
       "      <td>https://i.ytimg.com/vi/eZfEVTlfc24/default.jpg</td>\n",
       "      <td>Howto &amp; Style</td>\n",
       "      <td>axlebolt,clan,code,counter strike,fps,gold,mul...</td>\n",
       "      <td>PT3M18S</td>\n",
       "      <td>...</td>\n",
       "      <td>United States</td>\n",
       "      <td>718009</td>\n",
       "      <td>21100</td>\n",
       "      <td>False</td>\n",
       "      <td>20</td>\n",
       "      <td>Standoff 2: Headshot Club</td>\n",
       "      <td>Standoff 2: Headshot Club is the must-have cha...</td>\n",
       "      <td>0.034681</td>\n",
       "      <td>1 days 10:59:11</td>\n",
       "      <td>198.0</td>\n",
       "    </tr>\n",
       "    <tr>\n",
       "      <th>149822</th>\n",
       "      <td>vF_BtQtpfXg</td>\n",
       "      <td>2024-09-30 09:41:07</td>\n",
       "      <td>2024-10-15</td>\n",
       "      <td>UCbVRtqsTmYh1xhrDSTfSQLg</td>\n",
       "      <td>쿨룩 LIVE ▷ 피프티 피프티 'SOS' 라이브 / [박명수의 라디오쇼] / KB...</td>\n",
       "      <td>5인 5색 맑디 맑은 #피프티피프티 #fiftyfifty #sos #live \\n\\...</td>\n",
       "      <td>https://i.ytimg.com/vi/vF_BtQtpfXg/default.jpg</td>\n",
       "      <td>Entertainment</td>\n",
       "      <td>KBS,KBS CoolFM</td>\n",
       "      <td>PT3M3S</td>\n",
       "      <td>...</td>\n",
       "      <td>South Korea</td>\n",
       "      <td>861315500</td>\n",
       "      <td>1450000</td>\n",
       "      <td>False</td>\n",
       "      <td>15130</td>\n",
       "      <td>KBS CoolFM</td>\n",
       "      <td>No localized description available</td>\n",
       "      <td>0.057349</td>\n",
       "      <td>14 days 14:18:53</td>\n",
       "      <td>183.0</td>\n",
       "    </tr>\n",
       "  </tbody>\n",
       "</table>\n",
       "<p>18310 rows × 30 columns</p>\n",
       "</div>"
      ],
      "text/plain": [
       "           video_id   video_published_at video_trending__date  \\\n",
       "0       F5BuWCRx9bY  2024-10-10 16:19:23           2024-10-16   \n",
       "1       xJvfULLGjQE  2024-10-06 17:48:07           2024-11-02   \n",
       "2       RN5maxRpI_s  2024-11-22 16:00:20           2024-11-26   \n",
       "3       m2CzFycwLuk  2024-11-15 18:00:06           2024-11-19   \n",
       "4       DNkWGG3iFks  2024-11-06 21:32:42           2024-11-10   \n",
       "...             ...                  ...                  ...   \n",
       "149685  tJ9D9xXRYQc  2024-10-24 03:26:46           2024-10-26   \n",
       "149704  Udo0kXIL7Fc  2024-10-01 12:27:58           2024-10-15   \n",
       "149725  HZcpFYk7gS8  2024-11-18 17:00:28           2024-11-26   \n",
       "149737  eZfEVTlfc24  2024-11-21 13:00:49           2024-11-23   \n",
       "149822  vF_BtQtpfXg  2024-09-30 09:41:07           2024-10-15   \n",
       "\n",
       "                      channel_id  \\\n",
       "0       UCQKpp1etxGeY-NC2bXRtUAA   \n",
       "1       UCoZnEQMqVvv_DkF50fupMKw   \n",
       "2       UCL6JmiMXKoXS6bpP1D3bk8g   \n",
       "3       UCTXpFhlF-SPNMiyATwVq95Q   \n",
       "4       UCtNu0UG8PyYGeHKxu1HypyA   \n",
       "...                          ...   \n",
       "149685  UC2cuK3qB1LqEXKJlangmVzQ   \n",
       "149704  UCHUgd2j9_RTxt4CF4JJhqNQ   \n",
       "149725  UCJIl08OJstq_9kgI9wf_xjg   \n",
       "149737  UCy3NetwuOLVhethwACfWL8w   \n",
       "149822  UCbVRtqsTmYh1xhrDSTfSQLg   \n",
       "\n",
       "                                              video_title  \\\n",
       "0             NDARO ALIVOMPIGA HELA STEVE MWEUSI UTACHEKA   \n",
       "1       Bassem Youssef & Amjad Al-Nour - Bibi’s Trial ...   \n",
       "2                         Nitrous vs Supercharger | HiLow   \n",
       "3       ВС РФ Зашли В Черниговскую Область🎖 Началось З...   \n",
       "4       اول مره تجيلى بعد الجواز بتقولى اكلك وحشنى  عم...   \n",
       "...                                                   ...   \n",
       "149685                    TERIMAKASIH BANYAK SEMUANYA !!!   \n",
       "149704  У той момент вбили і мене, морально, фізично, ...   \n",
       "149725                Affaire Concul ! - Groland - CANAL+   \n",
       "149737  PRO BOOSTS by LEGENDS in Standoff 2! | Tips & ...   \n",
       "149822  쿨룩 LIVE ▷ 피프티 피프티 'SOS' 라이브 / [박명수의 라디오쇼] / KB...   \n",
       "\n",
       "                                        video_description  \\\n",
       "0       #ndaro #chekatu #stevemweusi #comedy #funny #w...   \n",
       "1       Bassem Youssef & Amjad Al-Nour - Bibi’s Trial ...   \n",
       "2       Thanks to Allstate for sponsoring today’s epis...   \n",
       "3       В этом видео мы обсудим с Вами ситуацию в Укра...   \n",
       "4                                No description available   \n",
       "...                                                   ...   \n",
       "149685                           No description available   \n",
       "149704  ______________________________________________...   \n",
       "149725  L'intégralité de Groland est sur myCANAL : can...   \n",
       "149737  GET 10 FABLE BOXES using the promo code in the...   \n",
       "149822  5인 5색 맑디 맑은 #피프티피프티 #fiftyfifty #sos #live \\n\\...   \n",
       "\n",
       "                               video_default_thumbnail video_category_id  \\\n",
       "0       https://i.ytimg.com/vi/F5BuWCRx9bY/default.jpg            Comedy   \n",
       "1       https://i.ytimg.com/vi/xJvfULLGjQE/default.jpg             Music   \n",
       "2       https://i.ytimg.com/vi/RN5maxRpI_s/default.jpg  Autos & Vehicles   \n",
       "3       https://i.ytimg.com/vi/m2CzFycwLuk/default.jpg   News & Politics   \n",
       "4       https://i.ytimg.com/vi/DNkWGG3iFks/default.jpg         Education   \n",
       "...                                                ...               ...   \n",
       "149685  https://i.ytimg.com/vi/tJ9D9xXRYQc/default.jpg    People & Blogs   \n",
       "149704  https://i.ytimg.com/vi/Udo0kXIL7Fc/default.jpg   News & Politics   \n",
       "149725  https://i.ytimg.com/vi/HZcpFYk7gS8/default.jpg            Comedy   \n",
       "149737  https://i.ytimg.com/vi/eZfEVTlfc24/default.jpg     Howto & Style   \n",
       "149822  https://i.ytimg.com/vi/vF_BtQtpfXg/default.jpg     Entertainment   \n",
       "\n",
       "                                               video_tags video_duration  ...  \\\n",
       "0                                                     NaN       PT12M54S  ...   \n",
       "1       باسم,يوسف,البرنامج,bassem,basem,youssef,yousef...        PT5M17S  ...   \n",
       "2       donut,donut media,cars,james pumphrey,up to sp...        PT37M3S  ...   \n",
       "3                                                     NaN       PT21M37S  ...   \n",
       "4                                                     NaN        PT21M9S  ...   \n",
       "...                                                   ...            ...  ...   \n",
       "149685                                                NaN       PT11M43S  ...   \n",
       "149704  Суспільне Одеса,суспільне одеса,новини одеси,н...          PT56S  ...   \n",
       "149725  Canal +,canalplus,canal,Groland,Jules Edouard ...         PT2M1S  ...   \n",
       "149737  axlebolt,clan,code,counter strike,fps,gold,mul...        PT3M18S  ...   \n",
       "149822                                     KBS,KBS CoolFM         PT3M3S  ...   \n",
       "\n",
       "       channel_country channel_view_count  channel_subscriber_count  \\\n",
       "0             Tanzania           46473647                    321000   \n",
       "1                Egypt            6395292                    158000   \n",
       "2        United States         2807917957                   8880000   \n",
       "3              Belarus          122939495                    389000   \n",
       "4                Egypt           85074466                    436000   \n",
       "...                ...                ...                       ...   \n",
       "149685         Unknown           33563535                    357000   \n",
       "149704         Ukraine           78380425                    130000   \n",
       "149725          France          248901984                    337000   \n",
       "149737   United States             718009                     21100   \n",
       "149822     South Korea          861315500                   1450000   \n",
       "\n",
       "        channel_have_hidden_subscribers  channel_video_count  \\\n",
       "0                                 False                  207   \n",
       "1                                 False                   61   \n",
       "2                                 False                 1612   \n",
       "3                                 False                  635   \n",
       "4                                 False                 1429   \n",
       "...                                 ...                  ...   \n",
       "149685                            False                  228   \n",
       "149704                            False                12394   \n",
       "149725                            False                 1479   \n",
       "149737                            False                   20   \n",
       "149822                            False                15130   \n",
       "\n",
       "          channel_localized_title  \\\n",
       "0                        Ndaro Tz   \n",
       "1                  Bassem Youssef   \n",
       "2                           Donut   \n",
       "3                  Военные Сводки   \n",
       "4                   وصفه فى مطبخي   \n",
       "...                           ...   \n",
       "149685              Navile mungil   \n",
       "149704            Суспільне Одеса   \n",
       "149725                    Groland   \n",
       "149737  Standoff 2: Headshot Club   \n",
       "149822                 KBS CoolFM   \n",
       "\n",
       "                            channel_localized_description engagement_rate  \\\n",
       "0                                   East African Comedian        0.031055   \n",
       "1       Comedian, political satirist,vegan,documentary...        0.108706   \n",
       "2                                  it's ok to like cars\\n        0.042226   \n",
       "3       На этом канале Вы можете найти всю необходимую...        0.023650   \n",
       "4                                 كل ما يخص المطبخ والبيت        0.064764   \n",
       "...                                                   ...             ...   \n",
       "149685                 No localized description available        0.060655   \n",
       "149704  Офіційний канал Суспільного мовника \\nСайт: su...        0.058834   \n",
       "149725  En direct de la Présipauté, des sketchs, des p...        0.013274   \n",
       "149737  Standoff 2: Headshot Club is the must-have cha...        0.034681   \n",
       "149822                 No localized description available        0.057349   \n",
       "\n",
       "         time_difference video_duration_seconds  \n",
       "0        5 days 07:40:37                  774.0  \n",
       "1       26 days 06:11:53                  317.0  \n",
       "2        3 days 07:59:40                 2223.0  \n",
       "3        3 days 05:59:54                 1297.0  \n",
       "4        3 days 02:27:18                 1269.0  \n",
       "...                  ...                    ...  \n",
       "149685   1 days 20:33:14                  703.0  \n",
       "149704  13 days 11:32:02                   56.0  \n",
       "149725   7 days 06:59:32                  121.0  \n",
       "149737   1 days 10:59:11                  198.0  \n",
       "149822  14 days 14:18:53                  183.0  \n",
       "\n",
       "[18310 rows x 30 columns]"
      ]
     },
     "execution_count": 7,
     "metadata": {},
     "output_type": "execute_result"
    }
   ],
   "source": [
    "data.drop_duplicates(subset=['video_id'])"
   ]
  },
  {
   "cell_type": "code",
   "execution_count": 8,
   "metadata": {},
   "outputs": [],
   "source": [
    "text_features = ['video_description', 'video_title']\n",
    "\n",
    "def clean_text_column(column):\n",
    "    \"\"\"Clean a text column by filling nulls and removing special characters.\"\"\"\n",
    "    return (\n",
    "        column.fillna(\"\")  # Fill missing values with empty string\n",
    "        .str.replace(r\"[^\\w\\s]\", \" \", regex=True)  # Remove special characters\n",
    "        .str.lower()  # Convert to lowercase\n",
    "        .str.strip()  # Remove leading/trailing spaces\n",
    "    )\n",
    "\n",
    "for text_feature in text_features:\n",
    "    data[text_feature] = clean_text_column(data[text_feature])"
   ]
  },
  {
   "cell_type": "code",
   "execution_count": 9,
   "metadata": {},
   "outputs": [
    {
     "data": {
      "application/vnd.jupyter.widget-view+json": {
       "model_id": "3941ea2376664fcdaef4dfc470e75c7c",
       "version_major": 2,
       "version_minor": 0
      },
      "text/plain": [
       "Batches:   0%|          | 0/3584 [00:00<?, ?it/s]"
      ]
     },
     "metadata": {},
     "output_type": "display_data"
    },
    {
     "data": {
      "application/vnd.jupyter.widget-view+json": {
       "model_id": "acd7b2cf586a4132a289aa9383d57191",
       "version_major": 2,
       "version_minor": 0
      },
      "text/plain": [
       "Batches:   0%|          | 0/3584 [00:00<?, ?it/s]"
      ]
     },
     "metadata": {},
     "output_type": "display_data"
    }
   ],
   "source": [
    "from sentence_transformers import SentenceTransformer\n",
    "model = SentenceTransformer('all-MiniLM-L6-v2')\n",
    "sentence_embeddings = {}\n",
    "for text_feature in text_features:\n",
    "    text_data = data[text_feature].tolist()\n",
    "    embeddings = model.encode(text_data, show_progress_bar=True)\n",
    "    sentence_embeddings[text_feature] = pd.DataFrame(\n",
    "        embeddings, \n",
    "        columns=[f\"{text_feature}_dim{i}\" for i in range(embeddings.shape[1])]\n",
    "    )"
   ]
  },
  {
   "cell_type": "code",
   "execution_count": 10,
   "metadata": {},
   "outputs": [],
   "source": [
    "embedded_text = pd.concat(sentence_embeddings.values(), axis=1)"
   ]
  },
  {
   "cell_type": "code",
   "execution_count": 11,
   "metadata": {},
   "outputs": [],
   "source": [
    "def time_to_seconds(time_str):\n",
    "    days, time_part = time_str.split(\" days \")\n",
    "    days = int(days)\n",
    "    h, m, s = map(int, time_part.split(\":\"))\n",
    "    total_seconds = days * 86400 + h * 3600 + m * 60 + s\n",
    "    return total_seconds\n",
    "\n",
    "data['time_to_trend_difference_seconds'] = data['time_difference'].apply(time_to_seconds)\n",
    "data['likes_per_view'] = data['video_like_count'] / data['video_view_count']\n",
    "data['comments_per_view'] = data['video_comment_count'] / data['video_view_count']\n",
    "data['is_weekend'] = pd.to_datetime(data['video_published_at']).dt.weekday >= 5"
   ]
  },
  {
   "cell_type": "code",
   "execution_count": 12,
   "metadata": {},
   "outputs": [
    {
     "data": {
      "text/plain": [
       "is_trending\n",
       "0    102425\n",
       "1     12258\n",
       "Name: count, dtype: int64"
      ]
     },
     "execution_count": 12,
     "metadata": {},
     "output_type": "execute_result"
    }
   ],
   "source": [
    "data['is_trending'] = data['time_difference'].apply(\n",
    "    lambda x: 1 if int(x.split(\" \")[0]) <= 1 else 0 \n",
    ")\n",
    "data.is_trending.value_counts() ## checking how fast videos are trending"
   ]
  },
  {
   "cell_type": "code",
   "execution_count": 13,
   "metadata": {},
   "outputs": [
    {
     "data": {
      "text/plain": [
       "0          5\n",
       "1         26\n",
       "2          3\n",
       "3          3\n",
       "4          3\n",
       "          ..\n",
       "149880    19\n",
       "149881    10\n",
       "149882    24\n",
       "149883     4\n",
       "149884    18\n",
       "Name: time_difference_days, Length: 114683, dtype: int64"
      ]
     },
     "execution_count": 13,
     "metadata": {},
     "output_type": "execute_result"
    }
   ],
   "source": [
    "# do split (\" \") and take the first element\n",
    "\n",
    "data[\"time_difference_days\"] = data[\"time_difference\"].apply(lambda x: int(x.split(\" \")[0]))\n",
    "data[\"time_difference_days\"]"
   ]
  },
  {
   "cell_type": "code",
   "execution_count": 14,
   "metadata": {},
   "outputs": [
    {
     "data": {
      "text/plain": [
       "(114683, 36)"
      ]
     },
     "execution_count": 14,
     "metadata": {},
     "output_type": "execute_result"
    }
   ],
   "source": [
    "data.shape"
   ]
  },
  {
   "cell_type": "code",
   "execution_count": 15,
   "metadata": {},
   "outputs": [
    {
     "data": {
      "text/plain": [
       "(137490, 804)"
      ]
     },
     "execution_count": 15,
     "metadata": {},
     "output_type": "execute_result"
    }
   ],
   "source": [
    "# hstack embedded_text and data\n",
    "data = pd.concat([data, embedded_text], axis=1)\n",
    "data.shape"
   ]
  },
  {
   "cell_type": "code",
   "execution_count": 16,
   "metadata": {},
   "outputs": [
    {
     "data": {
      "text/plain": [
       "((102425, 804), (12258, 804))"
      ]
     },
     "execution_count": 16,
     "metadata": {},
     "output_type": "execute_result"
    }
   ],
   "source": [
    "majority_class = data[data['is_trending'] == 0]\n",
    "minority_class = data[data['is_trending'] == 1]\n",
    "# shape\n",
    "majority_class.shape, minority_class.shape"
   ]
  },
  {
   "cell_type": "code",
   "execution_count": 17,
   "metadata": {},
   "outputs": [
    {
     "data": {
      "text/plain": [
       "is_trending\n",
       "0.0    102425\n",
       "1.0     30700\n",
       "Name: count, dtype: int64"
      ]
     },
     "execution_count": 17,
     "metadata": {},
     "output_type": "execute_result"
    }
   ],
   "source": [
    "from sklearn.utils import resample\n",
    "\n",
    "\n",
    "minority_upsampled = resample(minority_class, \n",
    "                              replace=True,     \n",
    "                              n_samples=int(round(len(majority_class) * 0.3, -2)),  \n",
    "                              random_state=42)  \n",
    "\n",
    "data = pd.concat([majority_class, minority_upsampled])\n",
    "data.is_trending.value_counts()"
   ]
  },
  {
   "cell_type": "code",
   "execution_count": 18,
   "metadata": {},
   "outputs": [
    {
     "data": {
      "text/plain": [
       "(133125, 804)"
      ]
     },
     "execution_count": 18,
     "metadata": {},
     "output_type": "execute_result"
    }
   ],
   "source": [
    "pd.concat([majority_class, minority_upsampled]).shape"
   ]
  },
  {
   "cell_type": "code",
   "execution_count": 19,
   "metadata": {},
   "outputs": [
    {
     "data": {
      "text/plain": [
       "0        2939.0\n",
       "1           NaN\n",
       "2        3423.0\n",
       "3           NaN\n",
       "4           NaN\n",
       "          ...  \n",
       "92269    4032.0\n",
       "34195    2373.0\n",
       "13934    2105.0\n",
       "5325     4786.0\n",
       "48673    3762.0\n",
       "Name: channel_video_channel_publish_difference, Length: 133125, dtype: float64"
      ]
     },
     "execution_count": 19,
     "metadata": {},
     "output_type": "execute_result"
    }
   ],
   "source": [
    "data['channel_published_at'] = pd.to_datetime(data['channel_published_at'], errors='coerce').dt.tz_localize(None)\n",
    "data['video_published_at'] = pd.to_datetime(data['video_published_at'], errors='coerce').dt.tz_localize(None)\n",
    "data['channel_video_channel_publish_difference'] = (data['video_published_at'] - data['channel_published_at']).dt.days\n",
    "data['channel_video_channel_publish_difference']"
   ]
  },
  {
   "cell_type": "code",
   "execution_count": 20,
   "metadata": {},
   "outputs": [
    {
     "data": {
      "text/plain": [
       "0       2016-09-23 08:16:40\n",
       "1                       NaT\n",
       "2       2015-07-09 18:57:30\n",
       "3                       NaT\n",
       "4                       NaT\n",
       "                ...        \n",
       "92269   2013-10-04 23:11:13\n",
       "34195   2018-05-07 10:18:52\n",
       "13934   2019-01-13 13:43:18\n",
       "5325    2011-10-03 14:00:47\n",
       "48673   2014-07-23 12:35:37\n",
       "Name: channel_published_at, Length: 133125, dtype: datetime64[ns]"
      ]
     },
     "execution_count": 20,
     "metadata": {},
     "output_type": "execute_result"
    }
   ],
   "source": [
    "data['channel_published_at']"
   ]
  },
  {
   "cell_type": "code",
   "execution_count": 21,
   "metadata": {},
   "outputs": [
    {
     "data": {
      "text/plain": [
       "0       2024-10-10 16:19:23\n",
       "1       2024-10-06 17:48:07\n",
       "2       2024-11-22 16:00:20\n",
       "3       2024-11-15 18:00:06\n",
       "4       2024-11-06 21:32:42\n",
       "                ...        \n",
       "92269   2024-10-19 03:08:54\n",
       "34195   2024-11-05 06:02:32\n",
       "13934   2024-10-18 14:56:28\n",
       "5325    2024-11-09 21:23:57\n",
       "48673   2024-11-10 11:24:33\n",
       "Name: video_published_at, Length: 133125, dtype: datetime64[ns]"
      ]
     },
     "execution_count": 21,
     "metadata": {},
     "output_type": "execute_result"
    }
   ],
   "source": [
    "data['video_published_at']"
   ]
  },
  {
   "cell_type": "code",
   "execution_count": 22,
   "metadata": {},
   "outputs": [],
   "source": [
    "data['channel_video_channel_publish_difference'] = data['channel_video_channel_publish_difference'].fillna(data['channel_video_channel_publish_difference'].mean()) # di ko na alam kung tama to"
   ]
  },
  {
   "cell_type": "code",
   "execution_count": 23,
   "metadata": {},
   "outputs": [],
   "source": [
    "# import SMOTENN \n",
    "# from imblearn.combine import SMOTEENN\n",
    "# smote_enn = SMOTEENN(random_state=42)"
   ]
  },
  {
   "cell_type": "code",
   "execution_count": 24,
   "metadata": {},
   "outputs": [
    {
     "data": {
      "text/plain": [
       "is_trending\n",
       "0.0    102425\n",
       "1.0     30700\n",
       "Name: count, dtype: int64"
      ]
     },
     "execution_count": 24,
     "metadata": {},
     "output_type": "execute_result"
    }
   ],
   "source": [
    "data['is_trending'].value_counts()"
   ]
  },
  {
   "cell_type": "code",
   "execution_count": 25,
   "metadata": {},
   "outputs": [
    {
     "data": {
      "text/plain": [
       "is_weekend\n",
       "False    94224\n",
       "True     38901\n",
       "Name: count, dtype: int64"
      ]
     },
     "execution_count": 25,
     "metadata": {},
     "output_type": "execute_result"
    }
   ],
   "source": [
    "data['is_weekend'].value_counts()"
   ]
  },
  {
   "cell_type": "code",
   "execution_count": 26,
   "metadata": {},
   "outputs": [],
   "source": [
    "# features = [\n",
    "#     'video_duration_seconds', 'channel_video_count',\n",
    "#     'video_category_id', 'video_trending_country', 'is_weekend',\n",
    "#     'video_definition', 'video_dimension', 'video_licensed_content',\n",
    "#     'channel_country', 'channel_have_hidden_subscribers','channel_video_channel_publish_difference'\n",
    "# ]\n"
   ]
  },
  {
   "cell_type": "code",
   "execution_count": 27,
   "metadata": {},
   "outputs": [
    {
     "data": {
      "text/plain": [
       "0        False\n",
       "1        False\n",
       "2        False\n",
       "3        False\n",
       "4        False\n",
       "         ...  \n",
       "92269    False\n",
       "34195    False\n",
       "13934    False\n",
       "5325     False\n",
       "48673    False\n",
       "Name: channel_have_hidden_subscribers, Length: 133125, dtype: object"
      ]
     },
     "execution_count": 27,
     "metadata": {},
     "output_type": "execute_result"
    }
   ],
   "source": [
    "data.channel_have_hidden_subscribers"
   ]
  },
  {
   "cell_type": "code",
   "execution_count": 28,
   "metadata": {},
   "outputs": [],
   "source": [
    "# data['is_trending'] = data['time_difference'].apply(\n",
    "#     lambda x: 1 if int(x.split(\" \")[0]) <= 3 else 0\n",
    "# )"
   ]
  },
  {
   "cell_type": "code",
   "execution_count": 29,
   "metadata": {},
   "outputs": [],
   "source": [
    "embedded_text_columns = embedded_text.columns.tolist()\n",
    "# embedded_text_columns"
   ]
  },
  {
   "cell_type": "code",
   "execution_count": 30,
   "metadata": {},
   "outputs": [],
   "source": [
    "categorical_features = [\n",
    "    'video_category_id', 'is_weekend',\n",
    "    'video_definition', 'video_dimension', 'video_licensed_content',\n",
    "    'channel_country', 'channel_have_hidden_subscribers'\n",
    "]\n",
    "numerical_features = [\n",
    "    'video_duration_seconds', 'channel_video_count', 'channel_video_channel_publish_difference'\n",
    "]"
   ]
  },
  {
   "cell_type": "code",
   "execution_count": 31,
   "metadata": {},
   "outputs": [],
   "source": [
    "X_categorical = data[categorical_features]\n",
    "X_numerical = data[numerical_features]\n",
    "X_text = data[embedded_text_columns]\n",
    "y = data['is_trending']"
   ]
  },
  {
   "cell_type": "code",
   "execution_count": 32,
   "metadata": {},
   "outputs": [
    {
     "data": {
      "text/plain": [
       "(133125, 7)"
      ]
     },
     "execution_count": 32,
     "metadata": {},
     "output_type": "execute_result"
    }
   ],
   "source": [
    "X_categorical.shape"
   ]
  },
  {
   "cell_type": "code",
   "execution_count": 33,
   "metadata": {},
   "outputs": [
    {
     "data": {
      "text/plain": [
       "(133125, 768)"
      ]
     },
     "execution_count": 33,
     "metadata": {},
     "output_type": "execute_result"
    }
   ],
   "source": [
    "X_text.shape"
   ]
  },
  {
   "cell_type": "code",
   "execution_count": 41,
   "metadata": {},
   "outputs": [
    {
     "data": {
      "text/plain": [
       "(133125, 778)"
      ]
     },
     "execution_count": 41,
     "metadata": {},
     "output_type": "execute_result"
    }
   ],
   "source": [
    "import numpy as np\n",
    "X = pd.concat((X_numerical, X_categorical, X_text),axis=1)\n",
    "X.shape"
   ]
  },
  {
   "cell_type": "code",
   "execution_count": 42,
   "metadata": {},
   "outputs": [],
   "source": [
    "from sklearn.model_selection import train_test_split\n",
    "X_train, X_test, y_train, y_test = train_test_split(X, y, test_size=0.3, random_state=42)"
   ]
  },
  {
   "cell_type": "code",
   "execution_count": 43,
   "metadata": {},
   "outputs": [],
   "source": [
    "X_train_categorical = X_train[categorical_features]\n",
    "X_test_categorical = X_test[categorical_features]\n",
    "\n",
    "X_train_numerical = X_train[numerical_features]\n",
    "X_test_numerical = X_test[numerical_features]\n",
    "\n",
    "X_train_text = X_train[embedded_text_columns]\n",
    "X_test_text = X_test[embedded_text_columns]"
   ]
  },
  {
   "cell_type": "code",
   "execution_count": 44,
   "metadata": {},
   "outputs": [],
   "source": [
    "from feature_engine.encoding import DecisionTreeEncoder\n",
    "from feature_engine.encoding import OneHotEncoder\n",
    "from feature_engine.encoding import MeanEncoder\n",
    "\n",
    "encoder = DecisionTreeEncoder(regression=False)\n",
    "X_train_encode = encoder.fit_transform(X_train_categorical, y_train)\n",
    "X_test_encode = encoder.transform(X_test_categorical)"
   ]
  },
  {
   "cell_type": "code",
   "execution_count": 45,
   "metadata": {},
   "outputs": [],
   "source": [
    "from sklearn.preprocessing import StandardScaler\n",
    "scaler = StandardScaler()\n",
    "X_train_scaled = scaler.fit_transform(X_train_numerical)\n",
    "X_test_scaled = scaler.transform(X_test_numerical)\n",
    "# X_train_resampled, y_train_resampled = smote_enn.fit_resample(X_train_scaled, y_train)"
   ]
  },
  {
   "cell_type": "code",
   "execution_count": 46,
   "metadata": {},
   "outputs": [],
   "source": [
    "X_train = np.hstack((X_train_encode, X_train_scaled, X_train_text))\n",
    "X_test = np.hstack((X_test_encode, X_test_scaled, X_test_text))"
   ]
  },
  {
   "cell_type": "markdown",
   "metadata": {},
   "source": [
    "video title/ desc without country / nonscaled embeddings"
   ]
  },
  {
   "cell_type": "code",
   "execution_count": 49,
   "metadata": {},
   "outputs": [
    {
     "name": "stdout",
     "output_type": "stream",
     "text": [
      "Model Accuracy: 0.9202513896539637\n",
      "[[29189  1515]\n",
      " [ 1670  7564]]\n",
      "              precision    recall  f1-score   support\n",
      "\n",
      "         0.0       0.95      0.95      0.95     30704\n",
      "         1.0       0.83      0.82      0.83      9234\n",
      "\n",
      "    accuracy                           0.92     39938\n",
      "   macro avg       0.89      0.88      0.89     39938\n",
      "weighted avg       0.92      0.92      0.92     39938\n",
      "\n"
     ]
    }
   ],
   "source": [
    "from sklearn.ensemble import RandomForestClassifier\n",
    "\n",
    "model = RandomForestClassifier(random_state=42,class_weight='balanced')\n",
    "model.fit(X_train, y_train)\n",
    "accuracy = model.score(X_test, y_test)\n",
    "print(f\"Model Accuracy: {accuracy}\")\n",
    "from sklearn.metrics import classification_report, confusion_matrix\n",
    "y_pred = model.predict(X_test)\n",
    "print(confusion_matrix(y_test, y_pred))\n",
    "print(classification_report(y_test, y_pred))"
   ]
  },
  {
   "cell_type": "code",
   "execution_count": 60,
   "metadata": {},
   "outputs": [
    {
     "data": {
      "image/png": "[encoded data removed]",
      "text/plain": [
       "<Figure size 1000x600 with 1 Axes>"
      ]
     },
     "metadata": {},
     "output_type": "display_data"
    }
   ],
   "source": [
    "feature_names = pd.concat([data[categorical_features],data[numerical_features],data[embedded_text_columns]]).columns\n",
    "feature_importances = model.feature_importances_\n",
    "importance_df = pd.DataFrame({\n",
    "    'Feature': feature_names,\n",
    "    'Importance': feature_importances\n",
    "}).sort_values(by='Importance', ascending=False)\n",
    "\n",
    "top_features = importance_df.head(20)\n",
    "plt.figure(figsize=(10, 6))\n",
    "plt.barh(top_features['Feature'], top_features['Importance'], color='skyblue')\n",
    "plt.xlabel('Feature Importance')\n",
    "plt.ylabel('Features')\n",
    "plt.title('Top 20 Feature Importances in Random Forest')\n",
    "plt.gca().invert_yaxis()  \n",
    "plt.show()"
   ]
  },
  {
   "cell_type": "code",
   "execution_count": 61,
   "metadata": {},
   "outputs": [],
   "source": [
    "importance_df['Prefix'] = importance_df['Feature'].str.extract(r'(video_description|video_title)')\n",
    "\n",
    "# Group by the extracted prefix and sum the importance values\n",
    "aggregated_importance = importance_df.groupby('Prefix')['Importance'].sum().reset_index()\n",
    "\n",
    "# Rename columns for clarity\n",
    "aggregated_importance.columns = ['Feature Prefix', 'Total Importance']"
   ]
  },
  {
   "cell_type": "code",
   "execution_count": 62,
   "metadata": {},
   "outputs": [
    {
     "data": {
      "text/html": [
       "<div>\n",
       "<style scoped>\n",
       "    .dataframe tbody tr th:only-of-type {\n",
       "        vertical-align: middle;\n",
       "    }\n",
       "\n",
       "    .dataframe tbody tr th {\n",
       "        vertical-align: top;\n",
       "    }\n",
       "\n",
       "    .dataframe thead th {\n",
       "        text-align: right;\n",
       "    }\n",
       "</style>\n",
       "<table border=\"1\" class=\"dataframe\">\n",
       "  <thead>\n",
       "    <tr style=\"text-align: right;\">\n",
       "      <th></th>\n",
       "      <th>Feature Prefix</th>\n",
       "      <th>Total Importance</th>\n",
       "    </tr>\n",
       "  </thead>\n",
       "  <tbody>\n",
       "    <tr>\n",
       "      <th>0</th>\n",
       "      <td>video_description</td>\n",
       "      <td>0.214172</td>\n",
       "    </tr>\n",
       "    <tr>\n",
       "      <th>1</th>\n",
       "      <td>video_title</td>\n",
       "      <td>0.316329</td>\n",
       "    </tr>\n",
       "  </tbody>\n",
       "</table>\n",
       "</div>"
      ],
      "text/plain": [
       "      Feature Prefix  Total Importance\n",
       "0  video_description          0.214172\n",
       "1        video_title          0.316329"
      ]
     },
     "execution_count": 62,
     "metadata": {},
     "output_type": "execute_result"
    }
   ],
   "source": [
    "aggregated_importance"
   ]
  },
  {
   "cell_type": "code",
   "execution_count": 63,
   "metadata": {},
   "outputs": [],
   "source": [
    "aggregated_data = pd.DataFrame({\n",
    "    'Feature': ['video_description (aggregated)', 'video_title (aggregated)'],\n",
    "    'Importance': [0.214172, 0.316329]\n",
    "})"
   ]
  },
  {
   "cell_type": "code",
   "execution_count": 65,
   "metadata": {},
   "outputs": [
    {
     "data": {
      "image/png": "[encoded data removed]",
      "text/plain": [
       "<Figure size 1000x600 with 1 Axes>"
      ]
     },
     "metadata": {},
     "output_type": "display_data"
    }
   ],
   "source": [
    "combined_features = pd.concat([top_features, aggregated_data], ignore_index=True)\n",
    "combined_features = combined_features.sort_values(by='Importance', ascending=False).head(20)\n",
    "\n",
    "# Plot the bar chart\n",
    "plt.figure(figsize=(10, 6))\n",
    "plt.barh(combined_features['Feature'], combined_features['Importance'], color='skyblue')\n",
    "plt.xlabel('Feature Importance')\n",
    "plt.ylabel('Features')\n",
    "plt.title('Top 20 Feature Importances in Random Forest')\n",
    "plt.gca().invert_yaxis()  # Invert y-axis for better readability\n",
    "plt.show()"
   ]
  },
  {
   "cell_type": "code",
   "execution_count": null,
   "metadata": {},
   "outputs": [],
   "source": [
    "shap_values = explainer.shap_values(X_sampled_test)"
   ]
  },
  {
   "cell_type": "code",
   "execution_count": null,
   "metadata": {},
   "outputs": [],
   "source": [
    "shap_values = explainer.shap_values(X_sampled_test)\n",
    "shap.summary_plot(shap_values[1], X_test_scaled, feature_names=feature_names)"
   ]
  },
  {
   "cell_type": "markdown",
   "metadata": {},
   "source": [
    "video title/ desc with country"
   ]
  },
  {
   "cell_type": "code",
   "execution_count": 193,
   "metadata": {},
   "outputs": [
    {
     "name": "stdout",
     "output_type": "stream",
     "text": [
      "Model Accuracy: 0.9184363663845224\n",
      "[[37469  3137]\n",
      " [ 1180 11142]]\n",
      "              precision    recall  f1-score   support\n",
      "\n",
      "           0       0.97      0.92      0.95     40606\n",
      "           1       0.78      0.90      0.84     12322\n",
      "\n",
      "    accuracy                           0.92     52928\n",
      "   macro avg       0.87      0.91      0.89     52928\n",
      "weighted avg       0.93      0.92      0.92     52928\n",
      "\n"
     ]
    }
   ],
   "source": [
    "from sklearn.ensemble import RandomForestClassifier\n",
    "\n",
    "model = RandomForestClassifier(random_state=42,class_weight='balanced')\n",
    "model.fit(X_train_scaled, y_train)\n",
    "accuracy = model.score(X_test_scaled, y_test)\n",
    "print(f\"Model Accuracy: {accuracy}\")\n",
    "from sklearn.metrics import classification_report, confusion_matrix\n",
    "y_pred = model.predict(X_test_scaled)\n",
    "print(confusion_matrix(y_test, y_pred))\n",
    "print(classification_report(y_test, y_pred))"
   ]
  },
  {
   "cell_type": "code",
   "execution_count": 208,
   "metadata": {},
   "outputs": [
    {
     "data": {
      "text/plain": [
       "(176424, 768)"
      ]
     },
     "execution_count": 208,
     "metadata": {},
     "output_type": "execute_result"
    }
   ],
   "source": [
    "data[embedded_text_columns].shape"
   ]
  },
  {
   "cell_type": "code",
   "execution_count": null,
   "metadata": {},
   "outputs": [],
   "source": [
    "data[categorical_features]\n",
    "data[numerical_features]\n",
    "data[embedded_text_columns]"
   ]
  },
  {
   "cell_type": "code",
   "execution_count": 211,
   "metadata": {},
   "outputs": [],
   "source": [
    "feature_names = pd.concat([data[categorical_features],data[numerical_features],data[embedded_text_columns]]).columns"
   ]
  },
  {
   "cell_type": "code",
   "execution_count": 212,
   "metadata": {},
   "outputs": [],
   "source": [
    "feature_importances = model.feature_importances_"
   ]
  },
  {
   "cell_type": "code",
   "execution_count": 214,
   "metadata": {},
   "outputs": [
    {
     "data": {
      "text/plain": [
       "(779,)"
      ]
     },
     "execution_count": 214,
     "metadata": {},
     "output_type": "execute_result"
    }
   ],
   "source": [
    "feature_importances.shape"
   ]
  },
  {
   "cell_type": "code",
   "execution_count": 213,
   "metadata": {},
   "outputs": [
    {
     "data": {
      "text/plain": [
       "779"
      ]
     },
     "execution_count": 213,
     "metadata": {},
     "output_type": "execute_result"
    }
   ],
   "source": [
    "len(feature_names)"
   ]
  },
  {
   "cell_type": "code",
   "execution_count": 215,
   "metadata": {},
   "outputs": [],
   "source": [
    "importance_df = pd.DataFrame({\n",
    "    'Feature': feature_names,\n",
    "    'Importance': feature_importances\n",
    "}).sort_values(by='Importance', ascending=False)\n",
    "\n",
    "# Display the top 20 features\n",
    "top_features = importance_df.head(20)"
   ]
  },
  {
   "cell_type": "code",
   "execution_count": 216,
   "metadata": {},
   "outputs": [
    {
     "data": {
      "image/png": "[encoded data removed]",
      "text/plain": [
       "<Figure size 1000x600 with 1 Axes>"
      ]
     },
     "metadata": {},
     "output_type": "display_data"
    }
   ],
   "source": [
    "plt.figure(figsize=(10, 6))\n",
    "plt.barh(top_features['Feature'], top_features['Importance'], color='skyblue')\n",
    "plt.xlabel('Feature Importance')\n",
    "plt.ylabel('Features')\n",
    "plt.title('Top 20 Feature Importances in Random Forest')\n",
    "plt.gca().invert_yaxis()  # Highest importance at the top\n",
    "plt.show()"
   ]
  },
  {
   "cell_type": "markdown",
   "metadata": {},
   "source": [
    "video desc / title / glove"
   ]
  },
  {
   "cell_type": "code",
   "execution_count": 199,
   "metadata": {},
   "outputs": [
    {
     "data": {
      "text/html": [
       "<div>\n",
       "<style scoped>\n",
       "    .dataframe tbody tr th:only-of-type {\n",
       "        vertical-align: middle;\n",
       "    }\n",
       "\n",
       "    .dataframe tbody tr th {\n",
       "        vertical-align: top;\n",
       "    }\n",
       "\n",
       "    .dataframe thead th {\n",
       "        text-align: right;\n",
       "    }\n",
       "</style>\n",
       "<table border=\"1\" class=\"dataframe\">\n",
       "  <thead>\n",
       "    <tr style=\"text-align: right;\">\n",
       "      <th></th>\n",
       "      <th>video_id</th>\n",
       "      <th>video_published_at</th>\n",
       "      <th>video_trending__date</th>\n",
       "      <th>video_trending_country</th>\n",
       "      <th>channel_id</th>\n",
       "      <th>video_title</th>\n",
       "      <th>video_description</th>\n",
       "      <th>video_default_thumbnail</th>\n",
       "      <th>video_category_id</th>\n",
       "      <th>video_tags</th>\n",
       "      <th>...</th>\n",
       "      <th>video_title_dim375</th>\n",
       "      <th>video_title_dim376</th>\n",
       "      <th>video_title_dim377</th>\n",
       "      <th>video_title_dim378</th>\n",
       "      <th>video_title_dim379</th>\n",
       "      <th>video_title_dim380</th>\n",
       "      <th>video_title_dim381</th>\n",
       "      <th>video_title_dim382</th>\n",
       "      <th>video_title_dim383</th>\n",
       "      <th>channel_video_channel_publish_difference</th>\n",
       "    </tr>\n",
       "  </thead>\n",
       "  <tbody>\n",
       "    <tr>\n",
       "      <th>0</th>\n",
       "      <td>F5BuWCRx9bY</td>\n",
       "      <td>2024-10-10 16:19:23</td>\n",
       "      <td>2024-10-16</td>\n",
       "      <td>Tanzania</td>\n",
       "      <td>UCQKpp1etxGeY-NC2bXRtUAA</td>\n",
       "      <td>ndaro alivompiga hela steve mweusi utacheka</td>\n",
       "      <td>ndaro  chekatu  stevemweusi  comedy  funny  wa...</td>\n",
       "      <td>https://i.ytimg.com/vi/F5BuWCRx9bY/default.jpg</td>\n",
       "      <td>Comedy</td>\n",
       "      <td>NaN</td>\n",
       "      <td>...</td>\n",
       "      <td>0.052038</td>\n",
       "      <td>0.011442</td>\n",
       "      <td>0.041564</td>\n",
       "      <td>0.002116</td>\n",
       "      <td>0.062815</td>\n",
       "      <td>0.090188</td>\n",
       "      <td>0.021328</td>\n",
       "      <td>-0.030839</td>\n",
       "      <td>-0.050243</td>\n",
       "      <td>2939.000000</td>\n",
       "    </tr>\n",
       "    <tr>\n",
       "      <th>1</th>\n",
       "      <td>xJvfULLGjQE</td>\n",
       "      <td>2024-10-06 17:48:07</td>\n",
       "      <td>2024-11-02</td>\n",
       "      <td>Iraq</td>\n",
       "      <td>UCoZnEQMqVvv_DkF50fupMKw</td>\n",
       "      <td>bassem youssef   amjad al nour   bibi s trial ...</td>\n",
       "      <td>bassem youssef   amjad al nour   bibi s trial ...</td>\n",
       "      <td>https://i.ytimg.com/vi/xJvfULLGjQE/default.jpg</td>\n",
       "      <td>Music</td>\n",
       "      <td>باسم,يوسف,البرنامج,bassem,basem,youssef,yousef...</td>\n",
       "      <td>...</td>\n",
       "      <td>0.075022</td>\n",
       "      <td>0.092405</td>\n",
       "      <td>-0.005706</td>\n",
       "      <td>-0.039031</td>\n",
       "      <td>-0.011297</td>\n",
       "      <td>0.110390</td>\n",
       "      <td>-0.003291</td>\n",
       "      <td>0.018915</td>\n",
       "      <td>-0.052395</td>\n",
       "      <td>3993.923086</td>\n",
       "    </tr>\n",
       "    <tr>\n",
       "      <th>2</th>\n",
       "      <td>RN5maxRpI_s</td>\n",
       "      <td>2024-11-22 16:00:20</td>\n",
       "      <td>2024-11-26</td>\n",
       "      <td>Canada</td>\n",
       "      <td>UCL6JmiMXKoXS6bpP1D3bk8g</td>\n",
       "      <td>nitrous vs supercharger   hilow</td>\n",
       "      <td>thanks to allstate for sponsoring today s epis...</td>\n",
       "      <td>https://i.ytimg.com/vi/RN5maxRpI_s/default.jpg</td>\n",
       "      <td>Autos &amp; Vehicles</td>\n",
       "      <td>donut,donut media,cars,james pumphrey,up to sp...</td>\n",
       "      <td>...</td>\n",
       "      <td>0.035021</td>\n",
       "      <td>-0.068079</td>\n",
       "      <td>0.005821</td>\n",
       "      <td>0.002878</td>\n",
       "      <td>-0.004581</td>\n",
       "      <td>0.117938</td>\n",
       "      <td>-0.014508</td>\n",
       "      <td>0.053138</td>\n",
       "      <td>0.074979</td>\n",
       "      <td>3423.000000</td>\n",
       "    </tr>\n",
       "    <tr>\n",
       "      <th>3</th>\n",
       "      <td>m2CzFycwLuk</td>\n",
       "      <td>2024-11-15 18:00:06</td>\n",
       "      <td>2024-11-19</td>\n",
       "      <td>Russia</td>\n",
       "      <td>UCTXpFhlF-SPNMiyATwVq95Q</td>\n",
       "      <td>вс рф зашли в черниговскую область  началось з...</td>\n",
       "      <td>в этом видео мы обсудим с вами ситуацию в укра...</td>\n",
       "      <td>https://i.ytimg.com/vi/m2CzFycwLuk/default.jpg</td>\n",
       "      <td>News &amp; Politics</td>\n",
       "      <td>NaN</td>\n",
       "      <td>...</td>\n",
       "      <td>0.037068</td>\n",
       "      <td>0.034959</td>\n",
       "      <td>-0.037604</td>\n",
       "      <td>-0.059063</td>\n",
       "      <td>-0.002642</td>\n",
       "      <td>-0.037778</td>\n",
       "      <td>-0.037291</td>\n",
       "      <td>-0.060310</td>\n",
       "      <td>0.006313</td>\n",
       "      <td>3993.923086</td>\n",
       "    </tr>\n",
       "    <tr>\n",
       "      <th>4</th>\n",
       "      <td>DNkWGG3iFks</td>\n",
       "      <td>2024-11-06 21:32:42</td>\n",
       "      <td>2024-11-10</td>\n",
       "      <td>Egypt</td>\n",
       "      <td>UCtNu0UG8PyYGeHKxu1HypyA</td>\n",
       "      <td>اول مره تجيلى بعد الجواز بتقولى اكلك وحشنى  عم...</td>\n",
       "      <td>no description available</td>\n",
       "      <td>https://i.ytimg.com/vi/DNkWGG3iFks/default.jpg</td>\n",
       "      <td>Education</td>\n",
       "      <td>NaN</td>\n",
       "      <td>...</td>\n",
       "      <td>0.045751</td>\n",
       "      <td>0.045610</td>\n",
       "      <td>-0.090647</td>\n",
       "      <td>0.005257</td>\n",
       "      <td>-0.015008</td>\n",
       "      <td>0.107871</td>\n",
       "      <td>-0.026175</td>\n",
       "      <td>-0.026161</td>\n",
       "      <td>-0.063542</td>\n",
       "      <td>3993.923086</td>\n",
       "    </tr>\n",
       "    <tr>\n",
       "      <th>...</th>\n",
       "      <td>...</td>\n",
       "      <td>...</td>\n",
       "      <td>...</td>\n",
       "      <td>...</td>\n",
       "      <td>...</td>\n",
       "      <td>...</td>\n",
       "      <td>...</td>\n",
       "      <td>...</td>\n",
       "      <td>...</td>\n",
       "      <td>...</td>\n",
       "      <td>...</td>\n",
       "      <td>...</td>\n",
       "      <td>...</td>\n",
       "      <td>...</td>\n",
       "      <td>...</td>\n",
       "      <td>...</td>\n",
       "      <td>...</td>\n",
       "      <td>...</td>\n",
       "      <td>...</td>\n",
       "      <td>...</td>\n",
       "      <td>...</td>\n",
       "    </tr>\n",
       "    <tr>\n",
       "      <th>7005</th>\n",
       "      <td>RuNGkryK6ws</td>\n",
       "      <td>2024-11-10 13:01:23</td>\n",
       "      <td>2024-11-11</td>\n",
       "      <td>Russia</td>\n",
       "      <td>UCStv7__4KQ47SUx7vi3SzoQ</td>\n",
       "      <td>итальянец пробует пиццу хот дог от  kushat</td>\n",
       "      <td>no description available</td>\n",
       "      <td>https://i.ytimg.com/vi/RuNGkryK6ws/default.jpg</td>\n",
       "      <td>People &amp; Blogs</td>\n",
       "      <td>NaN</td>\n",
       "      <td>...</td>\n",
       "      <td>0.069221</td>\n",
       "      <td>0.098415</td>\n",
       "      <td>-0.039153</td>\n",
       "      <td>-0.093068</td>\n",
       "      <td>-0.065263</td>\n",
       "      <td>-0.080465</td>\n",
       "      <td>0.031674</td>\n",
       "      <td>0.034770</td>\n",
       "      <td>-0.000679</td>\n",
       "      <td>3993.923086</td>\n",
       "    </tr>\n",
       "    <tr>\n",
       "      <th>32731</th>\n",
       "      <td>S0-mMeAErIM</td>\n",
       "      <td>2024-11-13 09:30:08</td>\n",
       "      <td>2024-11-14</td>\n",
       "      <td>South Korea</td>\n",
       "      <td>UCzpmbFPlNij2V8pIseMmQ2Q</td>\n",
       "      <td>eng  이시언    오빠가 이래서 우리가 손절설이 돌잖아         손절설 해...</td>\n",
       "      <td>야외로 나온 나래식   \\n가을 맞이  우중 캠핑 왔어요 \\n\\n오늘은 일 안 하고...</td>\n",
       "      <td>https://i.ytimg.com/vi/S0-mMeAErIM/default.jpg</td>\n",
       "      <td>Entertainment</td>\n",
       "      <td>이시언,시언's쿨,시언스쿨,찐친,나래식,박나래,나래바,박나래 유튜브,코빅,코미디빅리...</td>\n",
       "      <td>...</td>\n",
       "      <td>-0.055300</td>\n",
       "      <td>-0.037571</td>\n",
       "      <td>-0.019244</td>\n",
       "      <td>-0.041743</td>\n",
       "      <td>-0.015384</td>\n",
       "      <td>-0.047727</td>\n",
       "      <td>-0.017900</td>\n",
       "      <td>-0.008656</td>\n",
       "      <td>-0.021469</td>\n",
       "      <td>3993.923086</td>\n",
       "    </tr>\n",
       "    <tr>\n",
       "      <th>132841</th>\n",
       "      <td>87J4QqsLyyc</td>\n",
       "      <td>2024-11-20 02:14:13</td>\n",
       "      <td>2024-11-22</td>\n",
       "      <td>Guatemala</td>\n",
       "      <td>UC72ZaBKI-Bo5fjmWEYonhJw</td>\n",
       "      <td>argentina 1   0 perú   eliminatorias sudameric...</td>\n",
       "      <td>la selección argentina cerró su 2024 con una v...</td>\n",
       "      <td>https://i.ytimg.com/vi/87J4QqsLyyc/default.jpg</td>\n",
       "      <td>Sports</td>\n",
       "      <td>TyC,Sports,TyC Sports,messi,messi seleccion ar...</td>\n",
       "      <td>...</td>\n",
       "      <td>-0.021557</td>\n",
       "      <td>-0.008307</td>\n",
       "      <td>-0.062348</td>\n",
       "      <td>0.019665</td>\n",
       "      <td>0.079426</td>\n",
       "      <td>0.033415</td>\n",
       "      <td>-0.021473</td>\n",
       "      <td>0.026502</td>\n",
       "      <td>-0.020512</td>\n",
       "      <td>4233.000000</td>\n",
       "    </tr>\n",
       "    <tr>\n",
       "      <th>113650</th>\n",
       "      <td>jl98XJmkzf0</td>\n",
       "      <td>2024-11-04 18:02:32</td>\n",
       "      <td>2024-11-06</td>\n",
       "      <td>Morocco</td>\n",
       "      <td>UCzTMWdo-wxySmYXAM4kYgaw</td>\n",
       "      <td>مشيت نعاون عائلتي غرقو في فيضان فلينسيا و لكن ...</td>\n",
       "      <td>يمنع اعادة رفع الفديو على اليوتيوب    جميع الح...</td>\n",
       "      <td>https://i.ytimg.com/vi/jl98XJmkzf0/default.jpg</td>\n",
       "      <td>Entertainment</td>\n",
       "      <td>فيضانات إسبانيا,فيضانات اوروبا,فيضانات اسبانيا...</td>\n",
       "      <td>...</td>\n",
       "      <td>-0.049197</td>\n",
       "      <td>0.042136</td>\n",
       "      <td>-0.066461</td>\n",
       "      <td>0.094273</td>\n",
       "      <td>-0.009315</td>\n",
       "      <td>0.163570</td>\n",
       "      <td>-0.009212</td>\n",
       "      <td>-0.059182</td>\n",
       "      <td>-0.052894</td>\n",
       "      <td>2567.000000</td>\n",
       "    </tr>\n",
       "    <tr>\n",
       "      <th>37666</th>\n",
       "      <td>BX7ZVrr-UFo</td>\n",
       "      <td>2024-10-19 01:02:13</td>\n",
       "      <td>2024-10-19</td>\n",
       "      <td>Brazil</td>\n",
       "      <td>UCqRraVICLr0asn90cAvkIZQ</td>\n",
       "      <td>bastidores   corinthians 5 x 2 athletico pr   ...</td>\n",
       "      <td>o timão garantiu uma goleada importantíssima n...</td>\n",
       "      <td>https://i.ytimg.com/vi/BX7ZVrr-UFo/default.jpg</td>\n",
       "      <td>Sports</td>\n",
       "      <td>corinthians,tv corinthians,corinthians tv,bast...</td>\n",
       "      <td>...</td>\n",
       "      <td>0.062515</td>\n",
       "      <td>-0.005591</td>\n",
       "      <td>0.016840</td>\n",
       "      <td>-0.086368</td>\n",
       "      <td>0.027348</td>\n",
       "      <td>-0.021303</td>\n",
       "      <td>-0.075004</td>\n",
       "      <td>-0.049466</td>\n",
       "      <td>0.041575</td>\n",
       "      <td>5621.000000</td>\n",
       "    </tr>\n",
       "  </tbody>\n",
       "</table>\n",
       "<p>176424 rows × 806 columns</p>\n",
       "</div>"
      ],
      "text/plain": [
       "           video_id  video_published_at video_trending__date  \\\n",
       "0       F5BuWCRx9bY 2024-10-10 16:19:23           2024-10-16   \n",
       "1       xJvfULLGjQE 2024-10-06 17:48:07           2024-11-02   \n",
       "2       RN5maxRpI_s 2024-11-22 16:00:20           2024-11-26   \n",
       "3       m2CzFycwLuk 2024-11-15 18:00:06           2024-11-19   \n",
       "4       DNkWGG3iFks 2024-11-06 21:32:42           2024-11-10   \n",
       "...             ...                 ...                  ...   \n",
       "7005    RuNGkryK6ws 2024-11-10 13:01:23           2024-11-11   \n",
       "32731   S0-mMeAErIM 2024-11-13 09:30:08           2024-11-14   \n",
       "132841  87J4QqsLyyc 2024-11-20 02:14:13           2024-11-22   \n",
       "113650  jl98XJmkzf0 2024-11-04 18:02:32           2024-11-06   \n",
       "37666   BX7ZVrr-UFo 2024-10-19 01:02:13           2024-10-19   \n",
       "\n",
       "       video_trending_country                channel_id  \\\n",
       "0                    Tanzania  UCQKpp1etxGeY-NC2bXRtUAA   \n",
       "1                        Iraq  UCoZnEQMqVvv_DkF50fupMKw   \n",
       "2                      Canada  UCL6JmiMXKoXS6bpP1D3bk8g   \n",
       "3                      Russia  UCTXpFhlF-SPNMiyATwVq95Q   \n",
       "4                       Egypt  UCtNu0UG8PyYGeHKxu1HypyA   \n",
       "...                       ...                       ...   \n",
       "7005                   Russia  UCStv7__4KQ47SUx7vi3SzoQ   \n",
       "32731             South Korea  UCzpmbFPlNij2V8pIseMmQ2Q   \n",
       "132841              Guatemala  UC72ZaBKI-Bo5fjmWEYonhJw   \n",
       "113650                Morocco  UCzTMWdo-wxySmYXAM4kYgaw   \n",
       "37666                  Brazil  UCqRraVICLr0asn90cAvkIZQ   \n",
       "\n",
       "                                              video_title  \\\n",
       "0             ndaro alivompiga hela steve mweusi utacheka   \n",
       "1       bassem youssef   amjad al nour   bibi s trial ...   \n",
       "2                         nitrous vs supercharger   hilow   \n",
       "3       вс рф зашли в черниговскую область  началось з...   \n",
       "4       اول مره تجيلى بعد الجواز بتقولى اكلك وحشنى  عم...   \n",
       "...                                                   ...   \n",
       "7005           итальянец пробует пиццу хот дог от  kushat   \n",
       "32731   eng  이시언    오빠가 이래서 우리가 손절설이 돌잖아         손절설 해...   \n",
       "132841  argentina 1   0 perú   eliminatorias sudameric...   \n",
       "113650  مشيت نعاون عائلتي غرقو في فيضان فلينسيا و لكن ...   \n",
       "37666   bastidores   corinthians 5 x 2 athletico pr   ...   \n",
       "\n",
       "                                        video_description  \\\n",
       "0       ndaro  chekatu  stevemweusi  comedy  funny  wa...   \n",
       "1       bassem youssef   amjad al nour   bibi s trial ...   \n",
       "2       thanks to allstate for sponsoring today s epis...   \n",
       "3       в этом видео мы обсудим с вами ситуацию в укра...   \n",
       "4                                no description available   \n",
       "...                                                   ...   \n",
       "7005                             no description available   \n",
       "32731   야외로 나온 나래식   \\n가을 맞이  우중 캠핑 왔어요 \\n\\n오늘은 일 안 하고...   \n",
       "132841  la selección argentina cerró su 2024 con una v...   \n",
       "113650  يمنع اعادة رفع الفديو على اليوتيوب    جميع الح...   \n",
       "37666   o timão garantiu uma goleada importantíssima n...   \n",
       "\n",
       "                               video_default_thumbnail video_category_id  \\\n",
       "0       https://i.ytimg.com/vi/F5BuWCRx9bY/default.jpg            Comedy   \n",
       "1       https://i.ytimg.com/vi/xJvfULLGjQE/default.jpg             Music   \n",
       "2       https://i.ytimg.com/vi/RN5maxRpI_s/default.jpg  Autos & Vehicles   \n",
       "3       https://i.ytimg.com/vi/m2CzFycwLuk/default.jpg   News & Politics   \n",
       "4       https://i.ytimg.com/vi/DNkWGG3iFks/default.jpg         Education   \n",
       "...                                                ...               ...   \n",
       "7005    https://i.ytimg.com/vi/RuNGkryK6ws/default.jpg    People & Blogs   \n",
       "32731   https://i.ytimg.com/vi/S0-mMeAErIM/default.jpg     Entertainment   \n",
       "132841  https://i.ytimg.com/vi/87J4QqsLyyc/default.jpg            Sports   \n",
       "113650  https://i.ytimg.com/vi/jl98XJmkzf0/default.jpg     Entertainment   \n",
       "37666   https://i.ytimg.com/vi/BX7ZVrr-UFo/default.jpg            Sports   \n",
       "\n",
       "                                               video_tags  ...  \\\n",
       "0                                                     NaN  ...   \n",
       "1       باسم,يوسف,البرنامج,bassem,basem,youssef,yousef...  ...   \n",
       "2       donut,donut media,cars,james pumphrey,up to sp...  ...   \n",
       "3                                                     NaN  ...   \n",
       "4                                                     NaN  ...   \n",
       "...                                                   ...  ...   \n",
       "7005                                                  NaN  ...   \n",
       "32731   이시언,시언's쿨,시언스쿨,찐친,나래식,박나래,나래바,박나래 유튜브,코빅,코미디빅리...  ...   \n",
       "132841  TyC,Sports,TyC Sports,messi,messi seleccion ar...  ...   \n",
       "113650  فيضانات إسبانيا,فيضانات اوروبا,فيضانات اسبانيا...  ...   \n",
       "37666   corinthians,tv corinthians,corinthians tv,bast...  ...   \n",
       "\n",
       "       video_title_dim375 video_title_dim376 video_title_dim377  \\\n",
       "0                0.052038           0.011442           0.041564   \n",
       "1                0.075022           0.092405          -0.005706   \n",
       "2                0.035021          -0.068079           0.005821   \n",
       "3                0.037068           0.034959          -0.037604   \n",
       "4                0.045751           0.045610          -0.090647   \n",
       "...                   ...                ...                ...   \n",
       "7005             0.069221           0.098415          -0.039153   \n",
       "32731           -0.055300          -0.037571          -0.019244   \n",
       "132841          -0.021557          -0.008307          -0.062348   \n",
       "113650          -0.049197           0.042136          -0.066461   \n",
       "37666            0.062515          -0.005591           0.016840   \n",
       "\n",
       "        video_title_dim378  video_title_dim379  video_title_dim380  \\\n",
       "0                 0.002116            0.062815            0.090188   \n",
       "1                -0.039031           -0.011297            0.110390   \n",
       "2                 0.002878           -0.004581            0.117938   \n",
       "3                -0.059063           -0.002642           -0.037778   \n",
       "4                 0.005257           -0.015008            0.107871   \n",
       "...                    ...                 ...                 ...   \n",
       "7005             -0.093068           -0.065263           -0.080465   \n",
       "32731            -0.041743           -0.015384           -0.047727   \n",
       "132841            0.019665            0.079426            0.033415   \n",
       "113650            0.094273           -0.009315            0.163570   \n",
       "37666            -0.086368            0.027348           -0.021303   \n",
       "\n",
       "        video_title_dim381 video_title_dim382 video_title_dim383  \\\n",
       "0                 0.021328          -0.030839          -0.050243   \n",
       "1                -0.003291           0.018915          -0.052395   \n",
       "2                -0.014508           0.053138           0.074979   \n",
       "3                -0.037291          -0.060310           0.006313   \n",
       "4                -0.026175          -0.026161          -0.063542   \n",
       "...                    ...                ...                ...   \n",
       "7005              0.031674           0.034770          -0.000679   \n",
       "32731            -0.017900          -0.008656          -0.021469   \n",
       "132841           -0.021473           0.026502          -0.020512   \n",
       "113650           -0.009212          -0.059182          -0.052894   \n",
       "37666            -0.075004          -0.049466           0.041575   \n",
       "\n",
       "       channel_video_channel_publish_difference  \n",
       "0                                   2939.000000  \n",
       "1                                   3993.923086  \n",
       "2                                   3423.000000  \n",
       "3                                   3993.923086  \n",
       "4                                   3993.923086  \n",
       "...                                         ...  \n",
       "7005                                3993.923086  \n",
       "32731                               3993.923086  \n",
       "132841                              4233.000000  \n",
       "113650                              2567.000000  \n",
       "37666                               5621.000000  \n",
       "\n",
       "[176424 rows x 806 columns]"
      ]
     },
     "execution_count": 199,
     "metadata": {},
     "output_type": "execute_result"
    }
   ],
   "source": [
    "data"
   ]
  },
  {
   "cell_type": "code",
   "execution_count": 196,
   "metadata": {},
   "outputs": [
    {
     "data": {
      "text/plain": [
       "(779,)"
      ]
     },
     "execution_count": 196,
     "metadata": {},
     "output_type": "execute_result"
    }
   ],
   "source": [
    "feature_importances.shape"
   ]
  },
  {
   "cell_type": "code",
   "execution_count": 149,
   "metadata": {},
   "outputs": [
    {
     "name": "stdout",
     "output_type": "stream",
     "text": [
      "Model Accuracy: 0.9125793530834341\n",
      "[[37046  3560]\n",
      " [ 1067 11255]]\n",
      "              precision    recall  f1-score   support\n",
      "\n",
      "           0       0.97      0.91      0.94     40606\n",
      "           1       0.76      0.91      0.83     12322\n",
      "\n",
      "    accuracy                           0.91     52928\n",
      "   macro avg       0.87      0.91      0.89     52928\n",
      "weighted avg       0.92      0.91      0.92     52928\n",
      "\n"
     ]
    }
   ],
   "source": [
    "from sklearn.ensemble import RandomForestClassifier\n",
    "\n",
    "model = RandomForestClassifier(random_state=42,class_weight='balanced')\n",
    "model.fit(X_train_scaled, y_train)\n",
    "accuracy = model.score(X_test_scaled, y_test)\n",
    "print(f\"Model Accuracy: {accuracy}\")\n",
    "from sklearn.metrics import classification_report, confusion_matrix\n",
    "y_pred = model.predict(X_test_scaled)\n",
    "print(confusion_matrix(y_test, y_pred))\n",
    "print(classification_report(y_test, y_pred))"
   ]
  },
  {
   "cell_type": "markdown",
   "metadata": {},
   "source": [
    "video description / video tags / video title"
   ]
  },
  {
   "cell_type": "code",
   "execution_count": 96,
   "metadata": {},
   "outputs": [
    {
     "name": "stdout",
     "output_type": "stream",
     "text": [
      "Model Accuracy: 0.9127305018137848\n",
      "[[37041  3565]\n",
      " [ 1054 11268]]\n",
      "              precision    recall  f1-score   support\n",
      "\n",
      "           0       0.97      0.91      0.94     40606\n",
      "           1       0.76      0.91      0.83     12322\n",
      "\n",
      "    accuracy                           0.91     52928\n",
      "   macro avg       0.87      0.91      0.89     52928\n",
      "weighted avg       0.92      0.91      0.92     52928\n",
      "\n"
     ]
    }
   ],
   "source": [
    "from sklearn.ensemble import RandomForestClassifier\n",
    "\n",
    "model = RandomForestClassifier(random_state=42,class_weight='balanced')\n",
    "model.fit(X_train_scaled, y_train)\n",
    "accuracy = model.score(X_test_scaled, y_test)\n",
    "print(f\"Model Accuracy: {accuracy}\")\n",
    "from sklearn.metrics import classification_report, confusion_matrix\n",
    "y_pred = model.predict(X_test_scaled)\n",
    "print(confusion_matrix(y_test, y_pred))\n",
    "print(classification_report(y_test, y_pred))"
   ]
  },
  {
   "cell_type": "markdown",
   "metadata": {},
   "source": [
    "video description / video tags"
   ]
  },
  {
   "cell_type": "code",
   "execution_count": 50,
   "metadata": {},
   "outputs": [
    {
     "data": {
      "text/html": [
       "<style>#sk-container-id-1 {\n",
       "  /* Definition of color scheme common for light and dark mode */\n",
       "  --sklearn-color-text: black;\n",
       "  --sklearn-color-line: gray;\n",
       "  /* Definition of color scheme for unfitted estimators */\n",
       "  --sklearn-color-unfitted-level-0: #fff5e6;\n",
       "  --sklearn-color-unfitted-level-1: #f6e4d2;\n",
       "  --sklearn-color-unfitted-level-2: #ffe0b3;\n",
       "  --sklearn-color-unfitted-level-3: chocolate;\n",
       "  /* Definition of color scheme for fitted estimators */\n",
       "  --sklearn-color-fitted-level-0: #f0f8ff;\n",
       "  --sklearn-color-fitted-level-1: #d4ebff;\n",
       "  --sklearn-color-fitted-level-2: #b3dbfd;\n",
       "  --sklearn-color-fitted-level-3: cornflowerblue;\n",
       "\n",
       "  /* Specific color for light theme */\n",
       "  --sklearn-color-text-on-default-background: var(--sg-text-color, var(--theme-code-foreground, var(--jp-content-font-color1, black)));\n",
       "  --sklearn-color-background: var(--sg-background-color, var(--theme-background, var(--jp-layout-color0, white)));\n",
       "  --sklearn-color-border-box: var(--sg-text-color, var(--theme-code-foreground, var(--jp-content-font-color1, black)));\n",
       "  --sklearn-color-icon: #696969;\n",
       "\n",
       "  @media (prefers-color-scheme: dark) {\n",
       "    /* Redefinition of color scheme for dark theme */\n",
       "    --sklearn-color-text-on-default-background: var(--sg-text-color, var(--theme-code-foreground, var(--jp-content-font-color1, white)));\n",
       "    --sklearn-color-background: var(--sg-background-color, var(--theme-background, var(--jp-layout-color0, #111)));\n",
       "    --sklearn-color-border-box: var(--sg-text-color, var(--theme-code-foreground, var(--jp-content-font-color1, white)));\n",
       "    --sklearn-color-icon: #878787;\n",
       "  }\n",
       "}\n",
       "\n",
       "#sk-container-id-1 {\n",
       "  color: var(--sklearn-color-text);\n",
       "}\n",
       "\n",
       "#sk-container-id-1 pre {\n",
       "  padding: 0;\n",
       "}\n",
       "\n",
       "#sk-container-id-1 input.sk-hidden--visually {\n",
       "  border: 0;\n",
       "  clip: rect(1px 1px 1px 1px);\n",
       "  clip: rect(1px, 1px, 1px, 1px);\n",
       "  height: 1px;\n",
       "  margin: -1px;\n",
       "  overflow: hidden;\n",
       "  padding: 0;\n",
       "  position: absolute;\n",
       "  width: 1px;\n",
       "}\n",
       "\n",
       "#sk-container-id-1 div.sk-dashed-wrapped {\n",
       "  border: 1px dashed var(--sklearn-color-line);\n",
       "  margin: 0 0.4em 0.5em 0.4em;\n",
       "  box-sizing: border-box;\n",
       "  padding-bottom: 0.4em;\n",
       "  background-color: var(--sklearn-color-background);\n",
       "}\n",
       "\n",
       "#sk-container-id-1 div.sk-container {\n",
       "  /* jupyter's `normalize.less` sets `[hidden] { display: none; }`\n",
       "     but bootstrap.min.css set `[hidden] { display: none !important; }`\n",
       "     so we also need the `!important` here to be able to override the\n",
       "     default hidden behavior on the sphinx rendered scikit-learn.org.\n",
       "     See: https://github.com/scikit-learn/scikit-learn/issues/21755 */\n",
       "  display: inline-block !important;\n",
       "  position: relative;\n",
       "}\n",
       "\n",
       "#sk-container-id-1 div.sk-text-repr-fallback {\n",
       "  display: none;\n",
       "}\n",
       "\n",
       "div.sk-parallel-item,\n",
       "div.sk-serial,\n",
       "div.sk-item {\n",
       "  /* draw centered vertical line to link estimators */\n",
       "  background-image: linear-gradient(var(--sklearn-color-text-on-default-background), var(--sklearn-color-text-on-default-background));\n",
       "  background-size: 2px 100%;\n",
       "  background-repeat: no-repeat;\n",
       "  background-position: center center;\n",
       "}\n",
       "\n",
       "/* Parallel-specific style estimator block */\n",
       "\n",
       "#sk-container-id-1 div.sk-parallel-item::after {\n",
       "  content: \"\";\n",
       "  width: 100%;\n",
       "  border-bottom: 2px solid var(--sklearn-color-text-on-default-background);\n",
       "  flex-grow: 1;\n",
       "}\n",
       "\n",
       "#sk-container-id-1 div.sk-parallel {\n",
       "  display: flex;\n",
       "  align-items: stretch;\n",
       "  justify-content: center;\n",
       "  background-color: var(--sklearn-color-background);\n",
       "  position: relative;\n",
       "}\n",
       "\n",
       "#sk-container-id-1 div.sk-parallel-item {\n",
       "  display: flex;\n",
       "  flex-direction: column;\n",
       "}\n",
       "\n",
       "#sk-container-id-1 div.sk-parallel-item:first-child::after {\n",
       "  align-self: flex-end;\n",
       "  width: 50%;\n",
       "}\n",
       "\n",
       "#sk-container-id-1 div.sk-parallel-item:last-child::after {\n",
       "  align-self: flex-start;\n",
       "  width: 50%;\n",
       "}\n",
       "\n",
       "#sk-container-id-1 div.sk-parallel-item:only-child::after {\n",
       "  width: 0;\n",
       "}\n",
       "\n",
       "/* Serial-specific style estimator block */\n",
       "\n",
       "#sk-container-id-1 div.sk-serial {\n",
       "  display: flex;\n",
       "  flex-direction: column;\n",
       "  align-items: center;\n",
       "  background-color: var(--sklearn-color-background);\n",
       "  padding-right: 1em;\n",
       "  padding-left: 1em;\n",
       "}\n",
       "\n",
       "\n",
       "/* Toggleable style: style used for estimator/Pipeline/ColumnTransformer box that is\n",
       "clickable and can be expanded/collapsed.\n",
       "- Pipeline and ColumnTransformer use this feature and define the default style\n",
       "- Estimators will overwrite some part of the style using the `sk-estimator` class\n",
       "*/\n",
       "\n",
       "/* Pipeline and ColumnTransformer style (default) */\n",
       "\n",
       "#sk-container-id-1 div.sk-toggleable {\n",
       "  /* Default theme specific background. It is overwritten whether we have a\n",
       "  specific estimator or a Pipeline/ColumnTransformer */\n",
       "  background-color: var(--sklearn-color-background);\n",
       "}\n",
       "\n",
       "/* Toggleable label */\n",
       "#sk-container-id-1 label.sk-toggleable__label {\n",
       "  cursor: pointer;\n",
       "  display: block;\n",
       "  width: 100%;\n",
       "  margin-bottom: 0;\n",
       "  padding: 0.5em;\n",
       "  box-sizing: border-box;\n",
       "  text-align: center;\n",
       "}\n",
       "\n",
       "#sk-container-id-1 label.sk-toggleable__label-arrow:before {\n",
       "  /* Arrow on the left of the label */\n",
       "  content: \"▸\";\n",
       "  float: left;\n",
       "  margin-right: 0.25em;\n",
       "  color: var(--sklearn-color-icon);\n",
       "}\n",
       "\n",
       "#sk-container-id-1 label.sk-toggleable__label-arrow:hover:before {\n",
       "  color: var(--sklearn-color-text);\n",
       "}\n",
       "\n",
       "/* Toggleable content - dropdown */\n",
       "\n",
       "#sk-container-id-1 div.sk-toggleable__content {\n",
       "  max-height: 0;\n",
       "  max-width: 0;\n",
       "  overflow: hidden;\n",
       "  text-align: left;\n",
       "  /* unfitted */\n",
       "  background-color: var(--sklearn-color-unfitted-level-0);\n",
       "}\n",
       "\n",
       "#sk-container-id-1 div.sk-toggleable__content.fitted {\n",
       "  /* fitted */\n",
       "  background-color: var(--sklearn-color-fitted-level-0);\n",
       "}\n",
       "\n",
       "#sk-container-id-1 div.sk-toggleable__content pre {\n",
       "  margin: 0.2em;\n",
       "  border-radius: 0.25em;\n",
       "  color: var(--sklearn-color-text);\n",
       "  /* unfitted */\n",
       "  background-color: var(--sklearn-color-unfitted-level-0);\n",
       "}\n",
       "\n",
       "#sk-container-id-1 div.sk-toggleable__content.fitted pre {\n",
       "  /* unfitted */\n",
       "  background-color: var(--sklearn-color-fitted-level-0);\n",
       "}\n",
       "\n",
       "#sk-container-id-1 input.sk-toggleable__control:checked~div.sk-toggleable__content {\n",
       "  /* Expand drop-down */\n",
       "  max-height: 200px;\n",
       "  max-width: 100%;\n",
       "  overflow: auto;\n",
       "}\n",
       "\n",
       "#sk-container-id-1 input.sk-toggleable__control:checked~label.sk-toggleable__label-arrow:before {\n",
       "  content: \"▾\";\n",
       "}\n",
       "\n",
       "/* Pipeline/ColumnTransformer-specific style */\n",
       "\n",
       "#sk-container-id-1 div.sk-label input.sk-toggleable__control:checked~label.sk-toggleable__label {\n",
       "  color: var(--sklearn-color-text);\n",
       "  background-color: var(--sklearn-color-unfitted-level-2);\n",
       "}\n",
       "\n",
       "#sk-container-id-1 div.sk-label.fitted input.sk-toggleable__control:checked~label.sk-toggleable__label {\n",
       "  background-color: var(--sklearn-color-fitted-level-2);\n",
       "}\n",
       "\n",
       "/* Estimator-specific style */\n",
       "\n",
       "/* Colorize estimator box */\n",
       "#sk-container-id-1 div.sk-estimator input.sk-toggleable__control:checked~label.sk-toggleable__label {\n",
       "  /* unfitted */\n",
       "  background-color: var(--sklearn-color-unfitted-level-2);\n",
       "}\n",
       "\n",
       "#sk-container-id-1 div.sk-estimator.fitted input.sk-toggleable__control:checked~label.sk-toggleable__label {\n",
       "  /* fitted */\n",
       "  background-color: var(--sklearn-color-fitted-level-2);\n",
       "}\n",
       "\n",
       "#sk-container-id-1 div.sk-label label.sk-toggleable__label,\n",
       "#sk-container-id-1 div.sk-label label {\n",
       "  /* The background is the default theme color */\n",
       "  color: var(--sklearn-color-text-on-default-background);\n",
       "}\n",
       "\n",
       "/* On hover, darken the color of the background */\n",
       "#sk-container-id-1 div.sk-label:hover label.sk-toggleable__label {\n",
       "  color: var(--sklearn-color-text);\n",
       "  background-color: var(--sklearn-color-unfitted-level-2);\n",
       "}\n",
       "\n",
       "/* Label box, darken color on hover, fitted */\n",
       "#sk-container-id-1 div.sk-label.fitted:hover label.sk-toggleable__label.fitted {\n",
       "  color: var(--sklearn-color-text);\n",
       "  background-color: var(--sklearn-color-fitted-level-2);\n",
       "}\n",
       "\n",
       "/* Estimator label */\n",
       "\n",
       "#sk-container-id-1 div.sk-label label {\n",
       "  font-family: monospace;\n",
       "  font-weight: bold;\n",
       "  display: inline-block;\n",
       "  line-height: 1.2em;\n",
       "}\n",
       "\n",
       "#sk-container-id-1 div.sk-label-container {\n",
       "  text-align: center;\n",
       "}\n",
       "\n",
       "/* Estimator-specific */\n",
       "#sk-container-id-1 div.sk-estimator {\n",
       "  font-family: monospace;\n",
       "  border: 1px dotted var(--sklearn-color-border-box);\n",
       "  border-radius: 0.25em;\n",
       "  box-sizing: border-box;\n",
       "  margin-bottom: 0.5em;\n",
       "  /* unfitted */\n",
       "  background-color: var(--sklearn-color-unfitted-level-0);\n",
       "}\n",
       "\n",
       "#sk-container-id-1 div.sk-estimator.fitted {\n",
       "  /* fitted */\n",
       "  background-color: var(--sklearn-color-fitted-level-0);\n",
       "}\n",
       "\n",
       "/* on hover */\n",
       "#sk-container-id-1 div.sk-estimator:hover {\n",
       "  /* unfitted */\n",
       "  background-color: var(--sklearn-color-unfitted-level-2);\n",
       "}\n",
       "\n",
       "#sk-container-id-1 div.sk-estimator.fitted:hover {\n",
       "  /* fitted */\n",
       "  background-color: var(--sklearn-color-fitted-level-2);\n",
       "}\n",
       "\n",
       "/* Specification for estimator info (e.g. \"i\" and \"?\") */\n",
       "\n",
       "/* Common style for \"i\" and \"?\" */\n",
       "\n",
       ".sk-estimator-doc-link,\n",
       "a:link.sk-estimator-doc-link,\n",
       "a:visited.sk-estimator-doc-link {\n",
       "  float: right;\n",
       "  font-size: smaller;\n",
       "  line-height: 1em;\n",
       "  font-family: monospace;\n",
       "  background-color: var(--sklearn-color-background);\n",
       "  border-radius: 1em;\n",
       "  height: 1em;\n",
       "  width: 1em;\n",
       "  text-decoration: none !important;\n",
       "  margin-left: 1ex;\n",
       "  /* unfitted */\n",
       "  border: var(--sklearn-color-unfitted-level-1) 1pt solid;\n",
       "  color: var(--sklearn-color-unfitted-level-1);\n",
       "}\n",
       "\n",
       ".sk-estimator-doc-link.fitted,\n",
       "a:link.sk-estimator-doc-link.fitted,\n",
       "a:visited.sk-estimator-doc-link.fitted {\n",
       "  /* fitted */\n",
       "  border: var(--sklearn-color-fitted-level-1) 1pt solid;\n",
       "  color: var(--sklearn-color-fitted-level-1);\n",
       "}\n",
       "\n",
       "/* On hover */\n",
       "div.sk-estimator:hover .sk-estimator-doc-link:hover,\n",
       ".sk-estimator-doc-link:hover,\n",
       "div.sk-label-container:hover .sk-estimator-doc-link:hover,\n",
       ".sk-estimator-doc-link:hover {\n",
       "  /* unfitted */\n",
       "  background-color: var(--sklearn-color-unfitted-level-3);\n",
       "  color: var(--sklearn-color-background);\n",
       "  text-decoration: none;\n",
       "}\n",
       "\n",
       "div.sk-estimator.fitted:hover .sk-estimator-doc-link.fitted:hover,\n",
       ".sk-estimator-doc-link.fitted:hover,\n",
       "div.sk-label-container:hover .sk-estimator-doc-link.fitted:hover,\n",
       ".sk-estimator-doc-link.fitted:hover {\n",
       "  /* fitted */\n",
       "  background-color: var(--sklearn-color-fitted-level-3);\n",
       "  color: var(--sklearn-color-background);\n",
       "  text-decoration: none;\n",
       "}\n",
       "\n",
       "/* Span, style for the box shown on hovering the info icon */\n",
       ".sk-estimator-doc-link span {\n",
       "  display: none;\n",
       "  z-index: 9999;\n",
       "  position: relative;\n",
       "  font-weight: normal;\n",
       "  right: .2ex;\n",
       "  padding: .5ex;\n",
       "  margin: .5ex;\n",
       "  width: min-content;\n",
       "  min-width: 20ex;\n",
       "  max-width: 50ex;\n",
       "  color: var(--sklearn-color-text);\n",
       "  box-shadow: 2pt 2pt 4pt #999;\n",
       "  /* unfitted */\n",
       "  background: var(--sklearn-color-unfitted-level-0);\n",
       "  border: .5pt solid var(--sklearn-color-unfitted-level-3);\n",
       "}\n",
       "\n",
       ".sk-estimator-doc-link.fitted span {\n",
       "  /* fitted */\n",
       "  background: var(--sklearn-color-fitted-level-0);\n",
       "  border: var(--sklearn-color-fitted-level-3);\n",
       "}\n",
       "\n",
       ".sk-estimator-doc-link:hover span {\n",
       "  display: block;\n",
       "}\n",
       "\n",
       "/* \"?\"-specific style due to the `<a>` HTML tag */\n",
       "\n",
       "#sk-container-id-1 a.estimator_doc_link {\n",
       "  float: right;\n",
       "  font-size: 1rem;\n",
       "  line-height: 1em;\n",
       "  font-family: monospace;\n",
       "  background-color: var(--sklearn-color-background);\n",
       "  border-radius: 1rem;\n",
       "  height: 1rem;\n",
       "  width: 1rem;\n",
       "  text-decoration: none;\n",
       "  /* unfitted */\n",
       "  color: var(--sklearn-color-unfitted-level-1);\n",
       "  border: var(--sklearn-color-unfitted-level-1) 1pt solid;\n",
       "}\n",
       "\n",
       "#sk-container-id-1 a.estimator_doc_link.fitted {\n",
       "  /* fitted */\n",
       "  border: var(--sklearn-color-fitted-level-1) 1pt solid;\n",
       "  color: var(--sklearn-color-fitted-level-1);\n",
       "}\n",
       "\n",
       "/* On hover */\n",
       "#sk-container-id-1 a.estimator_doc_link:hover {\n",
       "  /* unfitted */\n",
       "  background-color: var(--sklearn-color-unfitted-level-3);\n",
       "  color: var(--sklearn-color-background);\n",
       "  text-decoration: none;\n",
       "}\n",
       "\n",
       "#sk-container-id-1 a.estimator_doc_link.fitted:hover {\n",
       "  /* fitted */\n",
       "  background-color: var(--sklearn-color-fitted-level-3);\n",
       "}\n",
       "</style><div id=\"sk-container-id-1\" class=\"sk-top-container\"><div class=\"sk-text-repr-fallback\"><pre>RandomForestClassifier(class_weight=&#x27;balanced&#x27;, random_state=42)</pre><b>In a Jupyter environment, please rerun this cell to show the HTML representation or trust the notebook. <br />On GitHub, the HTML representation is unable to render, please try loading this page with nbviewer.org.</b></div><div class=\"sk-container\" hidden><div class=\"sk-item\"><div class=\"sk-estimator fitted sk-toggleable\"><input class=\"sk-toggleable__control sk-hidden--visually\" id=\"sk-estimator-id-1\" type=\"checkbox\" checked><label for=\"sk-estimator-id-1\" class=\"sk-toggleable__label fitted sk-toggleable__label-arrow fitted\">&nbsp;&nbsp;RandomForestClassifier<a class=\"sk-estimator-doc-link fitted\" rel=\"noreferrer\" target=\"_blank\" href=\"https://scikit-learn.org/1.5/modules/generated/sklearn.ensemble.RandomForestClassifier.html\">?<span>Documentation for RandomForestClassifier</span></a><span class=\"sk-estimator-doc-link fitted\">i<span>Fitted</span></span></label><div class=\"sk-toggleable__content fitted\"><pre>RandomForestClassifier(class_weight=&#x27;balanced&#x27;, random_state=42)</pre></div> </div></div></div></div>"
      ],
      "text/plain": [
       "RandomForestClassifier(class_weight='balanced', random_state=42)"
      ]
     },
     "execution_count": 50,
     "metadata": {},
     "output_type": "execute_result"
    }
   ],
   "source": [
    "from sklearn.ensemble import RandomForestClassifier\n",
    "# adjust class weights\n",
    "# parameters for random_forest classifier\n",
    "\n",
    "model = RandomForestClassifier(random_state=42,class_weight='balanced')\n",
    "model.fit(X_train_scaled, y_train)"
   ]
  },
  {
   "cell_type": "code",
   "execution_count": 51,
   "metadata": {},
   "outputs": [
    {
     "name": "stdout",
     "output_type": "stream",
     "text": [
      "Model Accuracy: 0.9112001209189843\n"
     ]
    }
   ],
   "source": [
    "accuracy = model.score(X_test_scaled, y_test)\n",
    "print(f\"Model Accuracy: {accuracy}\")"
   ]
  },
  {
   "cell_type": "code",
   "execution_count": 52,
   "metadata": {},
   "outputs": [
    {
     "name": "stdout",
     "output_type": "stream",
     "text": [
      "[[36959  3647]\n",
      " [ 1053 11269]]\n",
      "              precision    recall  f1-score   support\n",
      "\n",
      "           0       0.97      0.91      0.94     40606\n",
      "           1       0.76      0.91      0.83     12322\n",
      "\n",
      "    accuracy                           0.91     52928\n",
      "   macro avg       0.86      0.91      0.88     52928\n",
      "weighted avg       0.92      0.91      0.91     52928\n",
      "\n"
     ]
    }
   ],
   "source": [
    "from sklearn.metrics import classification_report, confusion_matrix\n",
    "y_pred = model.predict(X_test_scaled)\n",
    "print(confusion_matrix(y_test, y_pred))\n",
    "print(classification_report(y_test, y_pred))"
   ]
  },
  {
   "cell_type": "code",
   "execution_count": 75,
   "metadata": {},
   "outputs": [
    {
     "data": {
      "text/plain": [
       "<Axes: >"
      ]
     },
     "execution_count": 75,
     "metadata": {},
     "output_type": "execute_result"
    },
    {
     "data": {
      "image/png": "[encoded data removed]",
      "text/plain": [
       "<Figure size 640x480 with 2 Axes>"
      ]
     },
     "metadata": {},
     "output_type": "display_data"
    }
   ],
   "source": [
    "# heatmap confusion matrix\n",
    "import seaborn as sns\n",
    "cm = confusion_matrix(y_test, y_pred)\n",
    "sns.heatmap(cm, annot=True, fmt='d', cmap='Blues')"
   ]
  },
  {
   "cell_type": "code",
   "execution_count": 39,
   "metadata": {},
   "outputs": [
    {
     "data": {
      "text/plain": [
       "Index(['video_id', 'video_published_at', 'video_trending__date',\n",
       "       'video_trending_country', 'channel_id', 'video_title',\n",
       "       'video_description', 'video_default_thumbnail', 'video_category_id',\n",
       "       'video_tags', 'video_duration', 'video_dimension', 'video_definition',\n",
       "       'video_licensed_content', 'video_view_count', 'video_like_count',\n",
       "       'video_comment_count', 'channel_title', 'channel_description',\n",
       "       'channel_custom_url', 'channel_published_at', 'channel_country',\n",
       "       'channel_view_count', 'channel_subscriber_count',\n",
       "       'channel_have_hidden_subscribers', 'channel_video_count',\n",
       "       'channel_localized_title', 'channel_localized_description',\n",
       "       'engagement_rate', 'time_difference', 'video_duration_seconds',\n",
       "       'time_to_trend_difference_seconds', 'likes_per_view',\n",
       "       'comments_per_view', 'is_weekend', 'is_trending',\n",
       "       'time_difference_days', 'channel_video_channel_publish_difference'],\n",
       "      dtype='object')"
      ]
     },
     "execution_count": 39,
     "metadata": {},
     "output_type": "execute_result"
    }
   ],
   "source": [
    "data.columns"
   ]
  },
  {
   "cell_type": "code",
   "execution_count": 35,
   "metadata": {},
   "outputs": [
    {
     "data": {
      "text/html": [
       "<div>\n",
       "<style scoped>\n",
       "    .dataframe tbody tr th:only-of-type {\n",
       "        vertical-align: middle;\n",
       "    }\n",
       "\n",
       "    .dataframe tbody tr th {\n",
       "        vertical-align: top;\n",
       "    }\n",
       "\n",
       "    .dataframe thead th {\n",
       "        text-align: right;\n",
       "    }\n",
       "</style>\n",
       "<table border=\"1\" class=\"dataframe\">\n",
       "  <thead>\n",
       "    <tr style=\"text-align: right;\">\n",
       "      <th></th>\n",
       "      <th>importance</th>\n",
       "    </tr>\n",
       "  </thead>\n",
       "  <tbody>\n",
       "    <tr>\n",
       "      <th>channel_video_count</th>\n",
       "      <td>0.455299</td>\n",
       "    </tr>\n",
       "    <tr>\n",
       "      <th>video_duration_seconds</th>\n",
       "      <td>0.289840</td>\n",
       "    </tr>\n",
       "    <tr>\n",
       "      <th>video_category_id</th>\n",
       "      <td>0.178292</td>\n",
       "    </tr>\n",
       "    <tr>\n",
       "      <th>is_weekend</th>\n",
       "      <td>0.040236</td>\n",
       "    </tr>\n",
       "    <tr>\n",
       "      <th>video_trending_country</th>\n",
       "      <td>0.009069</td>\n",
       "    </tr>\n",
       "    <tr>\n",
       "      <th>video_definition</th>\n",
       "      <td>0.008931</td>\n",
       "    </tr>\n",
       "    <tr>\n",
       "      <th>channel_have_hidden_subscribers</th>\n",
       "      <td>0.008912</td>\n",
       "    </tr>\n",
       "    <tr>\n",
       "      <th>channel_country</th>\n",
       "      <td>0.008286</td>\n",
       "    </tr>\n",
       "    <tr>\n",
       "      <th>video_dimension</th>\n",
       "      <td>0.001136</td>\n",
       "    </tr>\n",
       "    <tr>\n",
       "      <th>video_licensed_content</th>\n",
       "      <td>0.000000</td>\n",
       "    </tr>\n",
       "    <tr>\n",
       "      <th>channel_video_channel_publish_difference</th>\n",
       "      <td>0.000000</td>\n",
       "    </tr>\n",
       "  </tbody>\n",
       "</table>\n",
       "</div>"
      ],
      "text/plain": [
       "                                          importance\n",
       "channel_video_count                         0.455299\n",
       "video_duration_seconds                      0.289840\n",
       "video_category_id                           0.178292\n",
       "is_weekend                                  0.040236\n",
       "video_trending_country                      0.009069\n",
       "video_definition                            0.008931\n",
       "channel_have_hidden_subscribers             0.008912\n",
       "channel_country                             0.008286\n",
       "video_dimension                             0.001136\n",
       "video_licensed_content                      0.000000\n",
       "channel_video_channel_publish_difference    0.000000"
      ]
     },
     "execution_count": 35,
     "metadata": {},
     "output_type": "execute_result"
    }
   ],
   "source": [
    "importance = model.feature_importances_\n",
    "feature_importance = pd.DataFrame(importance, index=features, columns=['importance']).sort_values('importance', ascending=False)\n",
    "feature_importance"
   ]
  },
  {
   "cell_type": "code",
   "execution_count": 36,
   "metadata": {},
   "outputs": [
    {
     "data": {
      "text/plain": [
       "<Figure size 1000x800 with 0 Axes>"
      ]
     },
     "metadata": {},
     "output_type": "display_data"
    },
    {
     "data": {
      "image/png": "[encoded data removed]",
      "text/plain": [
       "<Figure size 640x480 with 1 Axes>"
      ]
     },
     "metadata": {},
     "output_type": "display_data"
    }
   ],
   "source": [
    "plt.figure(figsize=(10, 8))\n",
    "feature_importance.head(10).plot(kind='barh', legend=False)\n",
    "plt.title('Top 10 Feature Importances (Random Forest)')\n",
    "plt.xlabel('Importance')\n",
    "plt.ylabel('Feature')\n",
    "plt.gca().invert_yaxis()\n",
    "plt.show()"
   ]
  },
  {
   "cell_type": "code",
   "execution_count": null,
   "metadata": {},
   "outputs": [],
   "source": [
    "import shap\n",
    "\n",
    "explainer = shap.TreeExplainer(model)\n",
    "shap_values = explainer.shap_values(X_test_scaled)"
   ]
  },
  {
   "cell_type": "code",
   "execution_count": 254,
   "metadata": {},
   "outputs": [],
   "source": [
    "import torch\n",
    "import torch.nn as nn\n",
    "import torch.optim as optim\n",
    "from sklearn.metrics import classification_report, confusion_matrix\n",
    "from torch.utils.data import DataLoader, TensorDataset\n",
    "import numpy as np\n",
    "\n",
    "# Convert data to PyTorch tensors\n",
    "X_train_tensor = torch.tensor(X_train_scaled, dtype=torch.float32)\n",
    "y_train_tensor = torch.tensor(y_train.to_numpy(), dtype=torch.long)\n",
    "X_test_tensor = torch.tensor(X_test_scaled, dtype=torch.float32)\n",
    "y_test_tensor = torch.tensor(y_test.to_numpy(), dtype=torch.long)"
   ]
  },
  {
   "cell_type": "code",
   "execution_count": 255,
   "metadata": {},
   "outputs": [],
   "source": [
    "class NeuralNetwork(nn.Module):\n",
    "    def __init__(self, input_size, num_classes):\n",
    "        super(NeuralNetwork, self).__init__()\n",
    "        self.network = nn.Sequential(\n",
    "            nn.Linear(input_size, 128),\n",
    "            nn.ReLU(),\n",
    "            nn.Dropout(0.3),\n",
    "            nn.Linear(128, 64),\n",
    "            nn.ReLU(),\n",
    "            nn.Dropout(0.3),\n",
    "            nn.Linear(64, num_classes)\n",
    "        )\n",
    "    \n",
    "    def forward(self, x):\n",
    "        return self.network(x)"
   ]
  },
  {
   "cell_type": "code",
   "execution_count": 256,
   "metadata": {},
   "outputs": [],
   "source": [
    "input_size = X_train_tensor.shape[1]\n",
    "num_classes = len(np.unique(y_train_tensor))"
   ]
  },
  {
   "cell_type": "code",
   "execution_count": 257,
   "metadata": {},
   "outputs": [],
   "source": [
    "model = NeuralNetwork(input_size, num_classes)\n",
    "criterion = nn.CrossEntropyLoss()\n",
    "optimizer = optim.Adam(model.parameters(), lr=0.001)"
   ]
  },
  {
   "cell_type": "code",
   "execution_count": 258,
   "metadata": {},
   "outputs": [],
   "source": [
    "num_epochs = 100\n",
    "batch_size = 64\n",
    "\n",
    "\n",
    "train_dataset = TensorDataset(X_train_tensor, y_train_tensor)\n",
    "train_loader = DataLoader(train_dataset, batch_size=batch_size, shuffle=True)"
   ]
  },
  {
   "cell_type": "code",
   "execution_count": 259,
   "metadata": {},
   "outputs": [
    {
     "name": "stdout",
     "output_type": "stream",
     "text": [
      "Epoch [10/100], Loss: 0.5139\n",
      "Epoch [20/100], Loss: 0.5357\n",
      "Epoch [30/100], Loss: 0.4657\n",
      "Epoch [40/100], Loss: 0.5624\n",
      "Epoch [50/100], Loss: 0.5226\n",
      "Epoch [60/100], Loss: 0.4857\n",
      "Epoch [70/100], Loss: 0.2354\n",
      "Epoch [80/100], Loss: 0.3308\n",
      "Epoch [90/100], Loss: 0.5864\n",
      "Epoch [100/100], Loss: 0.5217\n"
     ]
    }
   ],
   "source": [
    "model.train()\n",
    "for epoch in range(num_epochs):\n",
    "    for X_batch, y_batch in train_loader:\n",
    "\n",
    "        outputs = model(X_batch)\n",
    "        loss = criterion(outputs, y_batch)\n",
    "\n",
    "        optimizer.zero_grad()\n",
    "        loss.backward()\n",
    "        optimizer.step()\n",
    "    \n",
    "    if (epoch+1) % 10 == 0:\n",
    "        print(f\"Epoch [{epoch+1}/{num_epochs}], Loss: {loss.item():.4f}\")"
   ]
  },
  {
   "cell_type": "code",
   "execution_count": 261,
   "metadata": {},
   "outputs": [
    {
     "name": "stdout",
     "output_type": "stream",
     "text": [
      "Model Accuracy: 0.7219\n",
      "[[37522  3010]\n",
      " [13981  6575]]\n",
      "              precision    recall  f1-score   support\n",
      "\n",
      "           0       0.73      0.93      0.82     40532\n",
      "           1       0.69      0.32      0.44     20556\n",
      "\n",
      "    accuracy                           0.72     61088\n",
      "   macro avg       0.71      0.62      0.63     61088\n",
      "weighted avg       0.71      0.72      0.69     61088\n",
      "\n"
     ]
    }
   ],
   "source": [
    "model.eval()\n",
    "with torch.no_grad():\n",
    "    y_pred = model(X_test_tensor)\n",
    "    _, y_pred_classes = torch.max(y_pred, 1)\n",
    "\n",
    "accuracy = (y_pred_classes == y_test_tensor).sum().item() / len(y_test_tensor)\n",
    "print(f\"Model Accuracy: {accuracy:.4f}\")\n",
    "\n",
    "y_test_np = y_test_tensor.numpy()\n",
    "y_pred_np = y_pred_classes.numpy()\n",
    "print(confusion_matrix(y_test_np, y_pred_np))\n",
    "print(classification_report(y_test_np, y_pred_np))"
   ]
  }
 ],
 "metadata": {
  "kernelspec": {
   "display_name": "Python 3 (ipykernel)",
   "language": "python",
   "name": "python3"
  },
  "language_info": {
   "codemirror_mode": {
    "name": "ipython",
    "version": 3
   },
   "file_extension": ".py",
   "mimetype": "text/x-python",
   "name": "python",
   "nbconvert_exporter": "python",
   "pygments_lexer": "ipython3",
   "version": "3.11.10"
  }
 },
 "nbformat": 4,
 "nbformat_minor": 4
}
