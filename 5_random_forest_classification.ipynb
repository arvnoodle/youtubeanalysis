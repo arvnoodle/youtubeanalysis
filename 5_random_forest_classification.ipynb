{
 "cells": [
  {
   "cell_type": "code",
   "execution_count": 1,
   "metadata": {},
   "outputs": [],
   "source": [
    "from sklearn.preprocessing import StandardScaler\n",
    "#from factor_analyzer import FactorAnalyzer, calculate_kmo\n",
    "from scipy.stats import bartlett\n",
    "import pandas as pd\n",
    "from sklearn.preprocessing import StandardScaler\n",
    "#from factor_analyzer import FactorAnalyzer, calculate_kmo, calculate_bartlett_sphericity\n",
    "import pandas as pd\n",
    "import numpy as np\n",
    "import matplotlib.pyplot as plt\n",
    "#import pingouin as pg\n",
    "import seaborn as sns"
   ]
  },
  {
   "cell_type": "code",
   "execution_count": 2,
   "metadata": {},
   "outputs": [
    {
     "name": "stdout",
     "output_type": "stream",
     "text": [
      "Index(['video_id', 'video_published_at', 'video_trending__date',\n",
      "       'video_trending_country', 'channel_id', 'video_title',\n",
      "       'video_description', 'video_default_thumbnail', 'video_category_id',\n",
      "       'video_tags', 'video_duration', 'video_dimension', 'video_definition',\n",
      "       'video_licensed_content', 'video_view_count', 'video_like_count',\n",
      "       'video_comment_count', 'channel_title', 'channel_description',\n",
      "       'channel_custom_url', 'channel_published_at', 'channel_country',\n",
      "       'channel_view_count', 'channel_subscriber_count',\n",
      "       'channel_have_hidden_subscribers', 'channel_video_count',\n",
      "       'channel_localized_title', 'channel_localized_description',\n",
      "       'engagement_rate', 'time_difference', 'video_duration_seconds'],\n",
      "      dtype='object')\n"
     ]
    },
    {
     "data": {
      "text/plain": [
       "(149885, 31)"
      ]
     },
     "execution_count": 2,
     "metadata": {},
     "output_type": "execute_result"
    }
   ],
   "source": [
    "data_path = \"data_cleaned_feature_31.csv\"\n",
    "data = pd.read_csv(data_path)\n",
    "print(data.columns)\n",
    "data.shape"
   ]
  },
  {
   "cell_type": "code",
   "execution_count": 3,
   "metadata": {},
   "outputs": [
    {
     "data": {
      "text/plain": [
       "(114683, 30)"
      ]
     },
     "execution_count": 3,
     "metadata": {},
     "output_type": "execute_result"
    }
   ],
   "source": [
    "# drop duplicates\n",
    "data = data.drop(['video_trending_country'],axis=1).drop_duplicates()\n",
    "data.shape"
   ]
  },
  {
   "cell_type": "code",
   "execution_count": 4,
   "metadata": {},
   "outputs": [
    {
     "data": {
      "text/html": [
       "<div>\n",
       "<style scoped>\n",
       "    .dataframe tbody tr th:only-of-type {\n",
       "        vertical-align: middle;\n",
       "    }\n",
       "\n",
       "    .dataframe tbody tr th {\n",
       "        vertical-align: top;\n",
       "    }\n",
       "\n",
       "    .dataframe thead th {\n",
       "        text-align: right;\n",
       "    }\n",
       "</style>\n",
       "<table border=\"1\" class=\"dataframe\">\n",
       "  <thead>\n",
       "    <tr style=\"text-align: right;\">\n",
       "      <th></th>\n",
       "      <th>video_view_count</th>\n",
       "      <th>video_like_count</th>\n",
       "      <th>video_comment_count</th>\n",
       "      <th>channel_view_count</th>\n",
       "      <th>channel_subscriber_count</th>\n",
       "      <th>channel_video_count</th>\n",
       "      <th>engagement_rate</th>\n",
       "      <th>video_duration_seconds</th>\n",
       "    </tr>\n",
       "  </thead>\n",
       "  <tbody>\n",
       "    <tr>\n",
       "      <th>0</th>\n",
       "      <td>156272.0</td>\n",
       "      <td>4615.0</td>\n",
       "      <td>238.0</td>\n",
       "      <td>46473647</td>\n",
       "      <td>321000</td>\n",
       "      <td>207</td>\n",
       "      <td>0.031055</td>\n",
       "      <td>774.0</td>\n",
       "    </tr>\n",
       "    <tr>\n",
       "      <th>1</th>\n",
       "      <td>2148646.0</td>\n",
       "      <td>222346.0</td>\n",
       "      <td>11225.0</td>\n",
       "      <td>6395292</td>\n",
       "      <td>158000</td>\n",
       "      <td>61</td>\n",
       "      <td>0.108706</td>\n",
       "      <td>317.0</td>\n",
       "    </tr>\n",
       "    <tr>\n",
       "      <th>2</th>\n",
       "      <td>1106491.0</td>\n",
       "      <td>44317.0</td>\n",
       "      <td>2406.0</td>\n",
       "      <td>2807917957</td>\n",
       "      <td>8880000</td>\n",
       "      <td>1612</td>\n",
       "      <td>0.042226</td>\n",
       "      <td>2223.0</td>\n",
       "    </tr>\n",
       "    <tr>\n",
       "      <th>3</th>\n",
       "      <td>1185486.0</td>\n",
       "      <td>25373.0</td>\n",
       "      <td>2664.0</td>\n",
       "      <td>122939495</td>\n",
       "      <td>389000</td>\n",
       "      <td>635</td>\n",
       "      <td>0.023650</td>\n",
       "      <td>1297.0</td>\n",
       "    </tr>\n",
       "    <tr>\n",
       "      <th>4</th>\n",
       "      <td>69035.0</td>\n",
       "      <td>4346.0</td>\n",
       "      <td>125.0</td>\n",
       "      <td>85074466</td>\n",
       "      <td>436000</td>\n",
       "      <td>1429</td>\n",
       "      <td>0.064764</td>\n",
       "      <td>1269.0</td>\n",
       "    </tr>\n",
       "    <tr>\n",
       "      <th>...</th>\n",
       "      <td>...</td>\n",
       "      <td>...</td>\n",
       "      <td>...</td>\n",
       "      <td>...</td>\n",
       "      <td>...</td>\n",
       "      <td>...</td>\n",
       "      <td>...</td>\n",
       "      <td>...</td>\n",
       "    </tr>\n",
       "    <tr>\n",
       "      <th>149880</th>\n",
       "      <td>8548359.0</td>\n",
       "      <td>378107.0</td>\n",
       "      <td>3089.0</td>\n",
       "      <td>5592638348</td>\n",
       "      <td>12500000</td>\n",
       "      <td>1019</td>\n",
       "      <td>0.044593</td>\n",
       "      <td>24.0</td>\n",
       "    </tr>\n",
       "    <tr>\n",
       "      <th>149881</th>\n",
       "      <td>22553412.0</td>\n",
       "      <td>623924.0</td>\n",
       "      <td>7208.0</td>\n",
       "      <td>6331232520</td>\n",
       "      <td>8890000</td>\n",
       "      <td>480</td>\n",
       "      <td>0.027984</td>\n",
       "      <td>15.0</td>\n",
       "    </tr>\n",
       "    <tr>\n",
       "      <th>149882</th>\n",
       "      <td>63090147.0</td>\n",
       "      <td>2451904.0</td>\n",
       "      <td>3598.0</td>\n",
       "      <td>33506017412</td>\n",
       "      <td>44400000</td>\n",
       "      <td>3136</td>\n",
       "      <td>0.038921</td>\n",
       "      <td>15.0</td>\n",
       "    </tr>\n",
       "    <tr>\n",
       "      <th>149883</th>\n",
       "      <td>765386.0</td>\n",
       "      <td>27876.0</td>\n",
       "      <td>716.0</td>\n",
       "      <td>42201127</td>\n",
       "      <td>379000</td>\n",
       "      <td>809</td>\n",
       "      <td>0.037356</td>\n",
       "      <td>6566.0</td>\n",
       "    </tr>\n",
       "    <tr>\n",
       "      <th>149884</th>\n",
       "      <td>626417.0</td>\n",
       "      <td>12581.0</td>\n",
       "      <td>291.0</td>\n",
       "      <td>152352626</td>\n",
       "      <td>886000</td>\n",
       "      <td>11247</td>\n",
       "      <td>0.020549</td>\n",
       "      <td>30.0</td>\n",
       "    </tr>\n",
       "  </tbody>\n",
       "</table>\n",
       "<p>114683 rows × 8 columns</p>\n",
       "</div>"
      ],
      "text/plain": [
       "        video_view_count  video_like_count  video_comment_count  \\\n",
       "0               156272.0            4615.0                238.0   \n",
       "1              2148646.0          222346.0              11225.0   \n",
       "2              1106491.0           44317.0               2406.0   \n",
       "3              1185486.0           25373.0               2664.0   \n",
       "4                69035.0            4346.0                125.0   \n",
       "...                  ...               ...                  ...   \n",
       "149880         8548359.0          378107.0               3089.0   \n",
       "149881        22553412.0          623924.0               7208.0   \n",
       "149882        63090147.0         2451904.0               3598.0   \n",
       "149883          765386.0           27876.0                716.0   \n",
       "149884          626417.0           12581.0                291.0   \n",
       "\n",
       "        channel_view_count  channel_subscriber_count  channel_video_count  \\\n",
       "0                 46473647                    321000                  207   \n",
       "1                  6395292                    158000                   61   \n",
       "2               2807917957                   8880000                 1612   \n",
       "3                122939495                    389000                  635   \n",
       "4                 85074466                    436000                 1429   \n",
       "...                    ...                       ...                  ...   \n",
       "149880          5592638348                  12500000                 1019   \n",
       "149881          6331232520                   8890000                  480   \n",
       "149882         33506017412                  44400000                 3136   \n",
       "149883            42201127                    379000                  809   \n",
       "149884           152352626                    886000                11247   \n",
       "\n",
       "        engagement_rate  video_duration_seconds  \n",
       "0              0.031055                   774.0  \n",
       "1              0.108706                   317.0  \n",
       "2              0.042226                  2223.0  \n",
       "3              0.023650                  1297.0  \n",
       "4              0.064764                  1269.0  \n",
       "...                 ...                     ...  \n",
       "149880         0.044593                    24.0  \n",
       "149881         0.027984                    15.0  \n",
       "149882         0.038921                    15.0  \n",
       "149883         0.037356                  6566.0  \n",
       "149884         0.020549                    30.0  \n",
       "\n",
       "[114683 rows x 8 columns]"
      ]
     },
     "execution_count": 4,
     "metadata": {},
     "output_type": "execute_result"
    }
   ],
   "source": [
    "data.select_dtypes(include=['int64', 'float64'])"
   ]
  },
  {
   "cell_type": "code",
   "execution_count": 5,
   "metadata": {},
   "outputs": [
    {
     "data": {
      "text/plain": [
       "{'Total Rows': 114683,\n",
       " 'Duplicate Rows (Entire Row)': 0,\n",
       " 'Duplicate Video IDs': 96373}"
      ]
     },
     "execution_count": 5,
     "metadata": {},
     "output_type": "execute_result"
    }
   ],
   "source": [
    "duplicate_summary = {\n",
    "    \"Total Rows\": len(data),\n",
    "    \"Duplicate Rows (Entire Row)\": data.duplicated().sum(),\n",
    "    \"Duplicate Video IDs\": data.duplicated(subset=['video_id']).sum()\n",
    "}\n",
    "duplicate_summary "
   ]
  },
  {
   "cell_type": "code",
   "execution_count": 6,
   "metadata": {},
   "outputs": [
    {
     "data": {
      "text/plain": [
       "0         False\n",
       "1         False\n",
       "2         False\n",
       "3         False\n",
       "4         False\n",
       "          ...  \n",
       "149880     True\n",
       "149881     True\n",
       "149882     True\n",
       "149883     True\n",
       "149884     True\n",
       "Length: 114683, dtype: bool"
      ]
     },
     "execution_count": 6,
     "metadata": {},
     "output_type": "execute_result"
    }
   ],
   "source": [
    "data.duplicated(subset=['video_id'])"
   ]
  },
  {
   "cell_type": "code",
   "execution_count": 7,
   "metadata": {},
   "outputs": [],
   "source": [
    "data = data.drop_duplicates(subset=['video_id'])"
   ]
  },
  {
   "cell_type": "code",
   "execution_count": 8,
   "metadata": {},
   "outputs": [],
   "source": [
    "# text_features = ['video_description', 'video_title']\n",
    "\n",
    "# def clean_text_column(column):\n",
    "#     \"\"\"Clean a text column by filling nulls and removing special characters.\"\"\"\n",
    "#     return (\n",
    "#         column.fillna(\"\")  # Fill missing values with empty string\n",
    "#         .str.replace(r\"[^\\w\\s]\", \" \", regex=True)  # Remove special characters\n",
    "#         .str.lower()  # Convert to lowercase\n",
    "#         .str.strip()  # Remove leading/trailing spaces\n",
    "#     )\n",
    "\n",
    "# for text_feature in text_features:\n",
    "#     data[text_feature] = clean_text_column(data[text_feature])"
   ]
  },
  {
   "cell_type": "code",
   "execution_count": 9,
   "metadata": {},
   "outputs": [],
   "source": [
    "# from sentence_transformers import SentenceTransformer\n",
    "# model = SentenceTransformer('all-MiniLM-L6-v2')\n",
    "# sentence_embeddings = {}\n",
    "# for text_feature in text_features:\n",
    "#     text_data = data[text_feature].tolist()\n",
    "#     embeddings = model.encode(text_data, show_progress_bar=True)\n",
    "#     sentence_embeddings[text_feature] = pd.DataFrame(\n",
    "#         embeddings, \n",
    "#         columns=[f\"{text_feature}_dim{i}\" for i in range(embeddings.shape[1])]\n",
    "#     )"
   ]
  },
  {
   "cell_type": "code",
   "execution_count": 10,
   "metadata": {},
   "outputs": [],
   "source": [
    "def time_to_seconds(time_str):\n",
    "    days, time_part = time_str.split(\" days \")\n",
    "    days = int(days)\n",
    "    h, m, s = map(int, time_part.split(\":\"))\n",
    "    total_seconds = days * 86400 + h * 3600 + m * 60 + s\n",
    "    return total_seconds\n",
    "\n",
    "data['time_to_trend_difference_seconds'] = data['time_difference'].apply(time_to_seconds)\n",
    "data['likes_per_view'] = data['video_like_count'] / data['video_view_count']\n",
    "data['comments_per_view'] = data['video_comment_count'] / data['video_view_count']\n",
    "data['is_weekend'] = pd.to_datetime(data['video_published_at']).dt.weekday >= 5"
   ]
  },
  {
   "cell_type": "code",
   "execution_count": 11,
   "metadata": {},
   "outputs": [],
   "source": [
    "# columns_for_fa = [ 'video_view_count', 'video_like_count', 'video_comment_count',\n",
    "#     'channel_view_count', \n",
    "#     'channel_video_count', 'time_to_trend_difference_seconds',\n",
    "#     'video_duration_seconds']\n",
    "# fa_data = data[columns_for_fa].apply(pd.to_numeric, errors='coerce').dropna()\n",
    "# scaler = StandardScaler()\n",
    "# factor_data_standardized = scaler.fit_transform(fa_data)\n",
    "# kmo_all, kmo_model = calculate_kmo(factor_data_standardized)\n",
    "# print(f\"KMO: {kmo_model}\")\n",
    "# chi_square_value, p_value = calculate_bartlett_sphericity(factor_data_standardized)\n",
    "# print(f\"Bartlett's Test - Chi-Square: {chi_square_value}, p-value: {p_value}\")\n",
    "# fa = FactorAnalyzer(n_factors=3, rotation='varimax') \n",
    "# fa.fit(factor_data_standardized)\n",
    "# eigenvalues, _ = fa.get_eigenvalues()\n",
    "# print(f\"Eigenvalues: {eigenvalues}\")\n",
    "# loadings = fa.loadings_\n",
    "# print(f\"Factor Loadings:\\n{loadings}\")"
   ]
  },
  {
   "cell_type": "code",
   "execution_count": 12,
   "metadata": {},
   "outputs": [],
   "source": [
    "# factor_loadings = fa.loadings_\n",
    "# factor_loadings\n",
    "\n",
    "# threshold = 0.4\n",
    "# strong_loadings = np.abs(factor_loadings) > threshold\n",
    "\n",
    "# for i in range(factor_loadings.shape[1]):  \n",
    "#     print(f\"Factor {i+1} includes variables: {np.where(strong_loadings[:, i])[0]}\")"
   ]
  },
  {
   "cell_type": "code",
   "execution_count": 13,
   "metadata": {},
   "outputs": [],
   "source": [
    "# alpha1, ci1 = pg.cronbach_alpha(pd.DataFrame(factor_data_standardized).iloc[:, [0, 1,2]])\n",
    "# print(f\"Factor 1 - Cronbach's Alpha: {alpha1}, 95% CI: {ci1}\")"
   ]
  },
  {
   "cell_type": "code",
   "execution_count": 14,
   "metadata": {},
   "outputs": [],
   "source": [
    "# import seaborn as sns\n",
    "# factor_loadings_df = pd.DataFrame(loadings, columns=['Factor 1', 'Factor 2', 'Factor 3'], index=columns_for_fa)\n",
    "# sns.heatmap(factor_loadings_df, annot=True, cmap='coolwarm', fmt='.2f')\n",
    "# plt.title('Factor Loadings')\n",
    "# plt.show()"
   ]
  },
  {
   "cell_type": "code",
   "execution_count": 15,
   "metadata": {},
   "outputs": [
    {
     "data": {
      "text/plain": [
       "is_trending\n",
       "0    14594\n",
       "1     3716\n",
       "Name: count, dtype: int64"
      ]
     },
     "execution_count": 15,
     "metadata": {},
     "output_type": "execute_result"
    }
   ],
   "source": [
    "data['is_trending'] = data['time_difference'].apply(\n",
    "    lambda x: 1 if int(x.split(\" \")[0]) <= 1 else 0 \n",
    ")\n",
    "data.is_trending.value_counts() ## checking how fast videos are trending"
   ]
  },
  {
   "cell_type": "code",
   "execution_count": 16,
   "metadata": {},
   "outputs": [
    {
     "data": {
      "text/plain": [
       "0          5\n",
       "1         26\n",
       "2          3\n",
       "3          3\n",
       "4          3\n",
       "          ..\n",
       "149685     1\n",
       "149704    13\n",
       "149725     7\n",
       "149737     1\n",
       "149822    14\n",
       "Name: time_difference_days, Length: 18310, dtype: int64"
      ]
     },
     "execution_count": 16,
     "metadata": {},
     "output_type": "execute_result"
    }
   ],
   "source": [
    "# do split (\" \") and take the first element\n",
    "\n",
    "data[\"time_difference_days\"] = data[\"time_difference\"].apply(lambda x: int(x.split(\" \")[0]))\n",
    "data[\"time_difference_days\"]"
   ]
  },
  {
   "cell_type": "code",
   "execution_count": 17,
   "metadata": {},
   "outputs": [
    {
     "data": {
      "text/plain": [
       "(18310, 36)"
      ]
     },
     "execution_count": 17,
     "metadata": {},
     "output_type": "execute_result"
    }
   ],
   "source": [
    "data.shape"
   ]
  },
  {
   "cell_type": "code",
   "execution_count": 18,
   "metadata": {},
   "outputs": [],
   "source": [
    "# # hstack embedded_text and data\n",
    "# data = pd.concat([data, embedded_text], axis=1)\n",
    "# data.shape"
   ]
  },
  {
   "cell_type": "code",
   "execution_count": null,
   "metadata": {},
   "outputs": [
    {
     "data": {
      "text/plain": [
       "((14594, 36), (3716, 36))"
      ]
     },
     "execution_count": 19,
     "metadata": {},
     "output_type": "execute_result"
    }
   ],
   "source": [
    "majority_class = data[data['is_trending'] == 0]\n",
    "minority_class = data[data['is_trending'] == 1]\n",
    "# shape\n",
    "majority_class.shape, minority_class.shape\n",
    "\n",
    "from sklearn.utils import resample\n",
    "\n",
    "\n",
    "minority_upsampled = resample(minority_class, \n",
    "                              replace=True,     \n",
    "                              n_samples=int(round(len(majority_class) * 0.7, -2)),  \n",
    "                              random_state=42)  \n",
    "\n",
    "data = pd.concat([majority_class, minority_upsampled])\n",
    "data.is_trending.value_counts()"
   ]
  },
  {
   "cell_type": "code",
   "execution_count": 21,
   "metadata": {},
   "outputs": [
    {
     "data": {
      "text/plain": [
       "(24794, 36)"
      ]
     },
     "execution_count": 21,
     "metadata": {},
     "output_type": "execute_result"
    }
   ],
   "source": [
    "pd.concat([majority_class, minority_upsampled]).shape"
   ]
  },
  {
   "cell_type": "code",
   "execution_count": 22,
   "metadata": {},
   "outputs": [
    {
     "data": {
      "text/plain": [
       "0         2939.0\n",
       "1            NaN\n",
       "2         3423.0\n",
       "3            NaN\n",
       "4            NaN\n",
       "           ...  \n",
       "5350      3852.0\n",
       "115899       NaN\n",
       "25269     3595.0\n",
       "47793        NaN\n",
       "6942      3172.0\n",
       "Name: channel_video_channel_publish_difference, Length: 24794, dtype: float64"
      ]
     },
     "execution_count": 22,
     "metadata": {},
     "output_type": "execute_result"
    }
   ],
   "source": [
    "data['channel_published_at'] = pd.to_datetime(data['channel_published_at'], errors='coerce').dt.tz_localize(None)\n",
    "data['video_published_at'] = pd.to_datetime(data['video_published_at'], errors='coerce').dt.tz_localize(None)\n",
    "data['channel_video_channel_publish_difference'] = (data['video_published_at'] - data['channel_published_at']).dt.days\n",
    "data['channel_video_channel_publish_difference']"
   ]
  },
  {
   "cell_type": "code",
   "execution_count": 23,
   "metadata": {},
   "outputs": [],
   "source": [
    "data['channel_video_channel_publish_difference'] = data['channel_video_channel_publish_difference'].fillna(data['channel_video_channel_publish_difference'].mean()) # di ko na alam kung tama to"
   ]
  },
  {
   "cell_type": "code",
   "execution_count": 24,
   "metadata": {},
   "outputs": [
    {
     "data": {
      "text/plain": [
       "is_trending\n",
       "0    14594\n",
       "1    10200\n",
       "Name: count, dtype: int64"
      ]
     },
     "execution_count": 24,
     "metadata": {},
     "output_type": "execute_result"
    }
   ],
   "source": [
    "data['is_trending'].value_counts()"
   ]
  },
  {
   "cell_type": "code",
   "execution_count": 25,
   "metadata": {},
   "outputs": [
    {
     "data": {
      "text/plain": [
       "is_weekend\n",
       "False    17284\n",
       "True      7510\n",
       "Name: count, dtype: int64"
      ]
     },
     "execution_count": 25,
     "metadata": {},
     "output_type": "execute_result"
    }
   ],
   "source": [
    "data['is_weekend'].value_counts()"
   ]
  },
  {
   "cell_type": "code",
   "execution_count": 26,
   "metadata": {},
   "outputs": [],
   "source": [
    "# features = [\n",
    "#     'video_duration_seconds', 'channel_video_count',\n",
    "#     'video_category_id', 'video_trending_country', 'is_weekend',\n",
    "#     'video_definition', 'video_dimension', 'video_licensed_content',\n",
    "#     'channel_country', 'channel_have_hidden_subscribers','channel_video_channel_publish_difference'\n",
    "# ]\n"
   ]
  },
  {
   "cell_type": "code",
   "execution_count": 27,
   "metadata": {},
   "outputs": [
    {
     "data": {
      "text/plain": [
       "0         False\n",
       "1         False\n",
       "2         False\n",
       "3         False\n",
       "4         False\n",
       "          ...  \n",
       "5350      False\n",
       "115899    False\n",
       "25269     False\n",
       "47793     False\n",
       "6942      False\n",
       "Name: channel_have_hidden_subscribers, Length: 24794, dtype: bool"
      ]
     },
     "execution_count": 27,
     "metadata": {},
     "output_type": "execute_result"
    }
   ],
   "source": [
    "data.channel_have_hidden_subscribers"
   ]
  },
  {
   "cell_type": "code",
   "execution_count": 28,
   "metadata": {},
   "outputs": [],
   "source": [
    "# data['is_trending'] = data['time_difference'].apply(\n",
    "#     lambda x: 1 if int(x.split(\" \")[0]) <= 3 else 0\n",
    "# )"
   ]
  },
  {
   "cell_type": "code",
   "execution_count": 29,
   "metadata": {},
   "outputs": [],
   "source": [
    "# embedded_text_columns = embedded_text.columns.tolist()\n",
    "# # embedded_text_columns"
   ]
  },
  {
   "cell_type": "code",
   "execution_count": 30,
   "metadata": {},
   "outputs": [],
   "source": [
    "categorical_features = [\n",
    "    'video_category_id', 'is_weekend',\n",
    "    'video_definition', 'video_dimension', 'video_licensed_content',\n",
    "    'channel_country', 'channel_have_hidden_subscribers'\n",
    "]\n",
    "numerical_features = [\n",
    "    'video_duration_seconds', 'channel_video_count', 'channel_video_channel_publish_difference'\n",
    "]"
   ]
  },
  {
   "cell_type": "code",
   "execution_count": 31,
   "metadata": {},
   "outputs": [],
   "source": [
    "X_categorical = data[categorical_features]\n",
    "X_numerical = data[numerical_features]\n",
    "#X_text = data[embedded_text_columns]\n",
    "y = data['is_trending']"
   ]
  },
  {
   "cell_type": "code",
   "execution_count": 32,
   "metadata": {},
   "outputs": [
    {
     "data": {
      "text/plain": [
       "(24794, 7)"
      ]
     },
     "execution_count": 32,
     "metadata": {},
     "output_type": "execute_result"
    }
   ],
   "source": [
    "X_categorical.shape"
   ]
  },
  {
   "cell_type": "code",
   "execution_count": 33,
   "metadata": {},
   "outputs": [
    {
     "data": {
      "text/plain": [
       "(24794, 7)"
      ]
     },
     "execution_count": 33,
     "metadata": {},
     "output_type": "execute_result"
    }
   ],
   "source": [
    "X_categorical.shape"
   ]
  },
  {
   "cell_type": "code",
   "execution_count": 34,
   "metadata": {},
   "outputs": [
    {
     "data": {
      "text/plain": [
       "(24794, 3)"
      ]
     },
     "execution_count": 34,
     "metadata": {},
     "output_type": "execute_result"
    }
   ],
   "source": [
    "X_numerical.shape"
   ]
  },
  {
   "cell_type": "code",
   "execution_count": 35,
   "metadata": {},
   "outputs": [
    {
     "data": {
      "text/plain": [
       "(24794, 10)"
      ]
     },
     "execution_count": 35,
     "metadata": {},
     "output_type": "execute_result"
    }
   ],
   "source": [
    "import numpy as np\n",
    "#X = np.hstack((X_numerical, X_categorical))\n",
    "X = pd.concat((X_numerical, X_categorical),axis=1)\n",
    "X.shape"
   ]
  },
  {
   "cell_type": "code",
   "execution_count": 36,
   "metadata": {},
   "outputs": [],
   "source": [
    "from sklearn.model_selection import train_test_split\n",
    "X_train, X_test, y_train, y_test = train_test_split(X, y, test_size=0.3, random_state=42)"
   ]
  },
  {
   "cell_type": "code",
   "execution_count": 37,
   "metadata": {},
   "outputs": [
    {
     "data": {
      "text/html": [
       "<div>\n",
       "<style scoped>\n",
       "    .dataframe tbody tr th:only-of-type {\n",
       "        vertical-align: middle;\n",
       "    }\n",
       "\n",
       "    .dataframe tbody tr th {\n",
       "        vertical-align: top;\n",
       "    }\n",
       "\n",
       "    .dataframe thead th {\n",
       "        text-align: right;\n",
       "    }\n",
       "</style>\n",
       "<table border=\"1\" class=\"dataframe\">\n",
       "  <thead>\n",
       "    <tr style=\"text-align: right;\">\n",
       "      <th></th>\n",
       "      <th>video_duration_seconds</th>\n",
       "      <th>channel_video_count</th>\n",
       "      <th>channel_video_channel_publish_difference</th>\n",
       "      <th>video_category_id</th>\n",
       "      <th>is_weekend</th>\n",
       "      <th>video_definition</th>\n",
       "      <th>video_dimension</th>\n",
       "      <th>video_licensed_content</th>\n",
       "      <th>channel_country</th>\n",
       "      <th>channel_have_hidden_subscribers</th>\n",
       "    </tr>\n",
       "  </thead>\n",
       "  <tbody>\n",
       "    <tr>\n",
       "      <th>80691</th>\n",
       "      <td>9515.0</td>\n",
       "      <td>2709</td>\n",
       "      <td>2549.000000</td>\n",
       "      <td>Sports</td>\n",
       "      <td>False</td>\n",
       "      <td>hd</td>\n",
       "      <td>2d</td>\n",
       "      <td>True</td>\n",
       "      <td>Spain</td>\n",
       "      <td>False</td>\n",
       "    </tr>\n",
       "    <tr>\n",
       "      <th>34771</th>\n",
       "      <td>22.0</td>\n",
       "      <td>180</td>\n",
       "      <td>3150.000000</td>\n",
       "      <td>People &amp; Blogs</td>\n",
       "      <td>False</td>\n",
       "      <td>hd</td>\n",
       "      <td>2d</td>\n",
       "      <td>True</td>\n",
       "      <td>Mexico</td>\n",
       "      <td>False</td>\n",
       "    </tr>\n",
       "    <tr>\n",
       "      <th>7144</th>\n",
       "      <td>980.0</td>\n",
       "      <td>264</td>\n",
       "      <td>2224.000000</td>\n",
       "      <td>Gaming</td>\n",
       "      <td>False</td>\n",
       "      <td>hd</td>\n",
       "      <td>2d</td>\n",
       "      <td>True</td>\n",
       "      <td>Unknown</td>\n",
       "      <td>False</td>\n",
       "    </tr>\n",
       "    <tr>\n",
       "      <th>12518</th>\n",
       "      <td>21.0</td>\n",
       "      <td>191</td>\n",
       "      <td>2496.000000</td>\n",
       "      <td>Entertainment</td>\n",
       "      <td>False</td>\n",
       "      <td>hd</td>\n",
       "      <td>2d</td>\n",
       "      <td>True</td>\n",
       "      <td>Turkey</td>\n",
       "      <td>False</td>\n",
       "    </tr>\n",
       "    <tr>\n",
       "      <th>79964</th>\n",
       "      <td>938.0</td>\n",
       "      <td>3136</td>\n",
       "      <td>3977.000000</td>\n",
       "      <td>Education</td>\n",
       "      <td>True</td>\n",
       "      <td>hd</td>\n",
       "      <td>2d</td>\n",
       "      <td>True</td>\n",
       "      <td>India</td>\n",
       "      <td>False</td>\n",
       "    </tr>\n",
       "    <tr>\n",
       "      <th>...</th>\n",
       "      <td>...</td>\n",
       "      <td>...</td>\n",
       "      <td>...</td>\n",
       "      <td>...</td>\n",
       "      <td>...</td>\n",
       "      <td>...</td>\n",
       "      <td>...</td>\n",
       "      <td>...</td>\n",
       "      <td>...</td>\n",
       "      <td>...</td>\n",
       "    </tr>\n",
       "    <tr>\n",
       "      <th>105503</th>\n",
       "      <td>241.0</td>\n",
       "      <td>21139</td>\n",
       "      <td>3894.442801</td>\n",
       "      <td>Sports</td>\n",
       "      <td>True</td>\n",
       "      <td>hd</td>\n",
       "      <td>2d</td>\n",
       "      <td>True</td>\n",
       "      <td>Italy</td>\n",
       "      <td>False</td>\n",
       "    </tr>\n",
       "    <tr>\n",
       "      <th>14916</th>\n",
       "      <td>12897.0</td>\n",
       "      <td>8814</td>\n",
       "      <td>2608.000000</td>\n",
       "      <td>Sports</td>\n",
       "      <td>False</td>\n",
       "      <td>hd</td>\n",
       "      <td>2d</td>\n",
       "      <td>True</td>\n",
       "      <td>United States</td>\n",
       "      <td>False</td>\n",
       "    </tr>\n",
       "    <tr>\n",
       "      <th>1163</th>\n",
       "      <td>156.0</td>\n",
       "      <td>36</td>\n",
       "      <td>3894.442801</td>\n",
       "      <td>Music</td>\n",
       "      <td>False</td>\n",
       "      <td>hd</td>\n",
       "      <td>2d</td>\n",
       "      <td>False</td>\n",
       "      <td>Singapore</td>\n",
       "      <td>False</td>\n",
       "    </tr>\n",
       "    <tr>\n",
       "      <th>50066</th>\n",
       "      <td>2788.0</td>\n",
       "      <td>101484</td>\n",
       "      <td>5414.000000</td>\n",
       "      <td>News &amp; Politics</td>\n",
       "      <td>False</td>\n",
       "      <td>hd</td>\n",
       "      <td>2d</td>\n",
       "      <td>True</td>\n",
       "      <td>Philippines</td>\n",
       "      <td>False</td>\n",
       "    </tr>\n",
       "    <tr>\n",
       "      <th>917</th>\n",
       "      <td>763.0</td>\n",
       "      <td>42458</td>\n",
       "      <td>3591.000000</td>\n",
       "      <td>Sports</td>\n",
       "      <td>True</td>\n",
       "      <td>hd</td>\n",
       "      <td>2d</td>\n",
       "      <td>True</td>\n",
       "      <td>Unknown</td>\n",
       "      <td>False</td>\n",
       "    </tr>\n",
       "  </tbody>\n",
       "</table>\n",
       "<p>17355 rows × 10 columns</p>\n",
       "</div>"
      ],
      "text/plain": [
       "        video_duration_seconds  channel_video_count  \\\n",
       "80691                   9515.0                 2709   \n",
       "34771                     22.0                  180   \n",
       "7144                     980.0                  264   \n",
       "12518                     21.0                  191   \n",
       "79964                    938.0                 3136   \n",
       "...                        ...                  ...   \n",
       "105503                   241.0                21139   \n",
       "14916                  12897.0                 8814   \n",
       "1163                     156.0                   36   \n",
       "50066                   2788.0               101484   \n",
       "917                      763.0                42458   \n",
       "\n",
       "        channel_video_channel_publish_difference video_category_id  \\\n",
       "80691                                2549.000000            Sports   \n",
       "34771                                3150.000000    People & Blogs   \n",
       "7144                                 2224.000000            Gaming   \n",
       "12518                                2496.000000     Entertainment   \n",
       "79964                                3977.000000         Education   \n",
       "...                                          ...               ...   \n",
       "105503                               3894.442801            Sports   \n",
       "14916                                2608.000000            Sports   \n",
       "1163                                 3894.442801             Music   \n",
       "50066                                5414.000000   News & Politics   \n",
       "917                                  3591.000000            Sports   \n",
       "\n",
       "        is_weekend video_definition video_dimension  video_licensed_content  \\\n",
       "80691        False               hd              2d                    True   \n",
       "34771        False               hd              2d                    True   \n",
       "7144         False               hd              2d                    True   \n",
       "12518        False               hd              2d                    True   \n",
       "79964         True               hd              2d                    True   \n",
       "...            ...              ...             ...                     ...   \n",
       "105503        True               hd              2d                    True   \n",
       "14916        False               hd              2d                    True   \n",
       "1163         False               hd              2d                   False   \n",
       "50066        False               hd              2d                    True   \n",
       "917           True               hd              2d                    True   \n",
       "\n",
       "       channel_country  channel_have_hidden_subscribers  \n",
       "80691            Spain                            False  \n",
       "34771           Mexico                            False  \n",
       "7144           Unknown                            False  \n",
       "12518           Turkey                            False  \n",
       "79964            India                            False  \n",
       "...                ...                              ...  \n",
       "105503           Italy                            False  \n",
       "14916    United States                            False  \n",
       "1163         Singapore                            False  \n",
       "50066      Philippines                            False  \n",
       "917            Unknown                            False  \n",
       "\n",
       "[17355 rows x 10 columns]"
      ]
     },
     "execution_count": 37,
     "metadata": {},
     "output_type": "execute_result"
    }
   ],
   "source": [
    "X_train"
   ]
  },
  {
   "cell_type": "code",
   "execution_count": 38,
   "metadata": {},
   "outputs": [],
   "source": [
    "X_train_categorical = X_train[categorical_features]\n",
    "X_test_categorical = X_test[categorical_features]\n",
    "\n",
    "X_train_numerical = X_train[numerical_features]\n",
    "X_test_numerical = X_test[numerical_features]"
   ]
  },
  {
   "cell_type": "code",
   "execution_count": 39,
   "metadata": {},
   "outputs": [
    {
     "name": "stderr",
     "output_type": "stream",
     "text": [
      "c:\\Users\\Administrator\\anaconda3\\envs\\ptcnn\\Lib\\site-packages\\feature_engine\\encoding\\base_encoder.py:260: UserWarning: During the encoding, NaN values were introduced in the feature(s) channel_country.\n",
      "  warnings.warn(\n"
     ]
    }
   ],
   "source": [
    "from feature_engine.encoding import DecisionTreeEncoder\n",
    "from feature_engine.encoding import OneHotEncoder\n",
    "from feature_engine.encoding import MeanEncoder\n",
    "\n",
    "encoder = DecisionTreeEncoder(regression=False)\n",
    "X_train_encode = encoder.fit_transform(X_train_categorical, y_train)\n",
    "X_test_encode = encoder.transform(X_test_categorical)"
   ]
  },
  {
   "cell_type": "code",
   "execution_count": 40,
   "metadata": {},
   "outputs": [],
   "source": [
    "from sklearn.preprocessing import StandardScaler\n",
    "scaler = StandardScaler()\n",
    "X_train_scaled = scaler.fit_transform(X_train_numerical)\n",
    "X_test_scaled = scaler.transform(X_test_numerical)\n",
    "# X_train_resampled, y_train_resampled = smote_enn.fit_resample(X_train_scaled, y_train)"
   ]
  },
  {
   "cell_type": "code",
   "execution_count": 41,
   "metadata": {},
   "outputs": [],
   "source": [
    "X_train = np.hstack((X_train_encode, X_train_scaled))\n",
    "X_test = np.hstack((X_test_encode, X_test_scaled))"
   ]
  },
  {
   "cell_type": "code",
   "execution_count": 42,
   "metadata": {},
   "outputs": [
    {
     "name": "stdout",
     "output_type": "stream",
     "text": [
      "Model Accuracy: 0.8956849038849307\n",
      "[[3889  447]\n",
      " [ 329 2774]]\n",
      "              precision    recall  f1-score   support\n",
      "\n",
      "           0       0.92      0.90      0.91      4336\n",
      "           1       0.86      0.89      0.88      3103\n",
      "\n",
      "    accuracy                           0.90      7439\n",
      "   macro avg       0.89      0.90      0.89      7439\n",
      "weighted avg       0.90      0.90      0.90      7439\n",
      "\n"
     ]
    }
   ],
   "source": [
    "from sklearn.ensemble import RandomForestClassifier\n",
    "\n",
    "model = RandomForestClassifier(random_state=42,class_weight='balanced')\n",
    "model.fit(X_train, y_train)\n",
    "accuracy = model.score(X_test, y_test)\n",
    "print(f\"Model Accuracy: {accuracy}\")\n",
    "from sklearn.metrics import classification_report, confusion_matrix\n",
    "y_pred = model.predict(X_test)\n",
    "print(confusion_matrix(y_test, y_pred))\n",
    "print(classification_report(y_test, y_pred))"
   ]
  },
  {
   "cell_type": "code",
   "execution_count": 43,
   "metadata": {},
   "outputs": [],
   "source": [
    "feature_names = data[categorical_features].columns.tolist() +  data[numerical_features].columns.tolist()"
   ]
  },
  {
   "cell_type": "code",
   "execution_count": 44,
   "metadata": {},
   "outputs": [
    {
     "data": {
      "image/png": "[encoded data removed]",
      "text/plain": [
       "<Figure size 1000x600 with 1 Axes>"
      ]
     },
     "metadata": {},
     "output_type": "display_data"
    }
   ],
   "source": [
    "#feature_names = pd.concat([data[categorical_features],data[numerical_features],data[embedded_text_columns]]).columns\n",
    "feature_importances = model.feature_importances_\n",
    "importance_df = pd.DataFrame({\n",
    "    'Feature': feature_names,\n",
    "    'Importance': feature_importances\n",
    "}).sort_values(by='Importance', ascending=False)\n",
    "\n",
    "top_features = importance_df.head(20)\n",
    "plt.figure(figsize=(10, 6))\n",
    "plt.barh(top_features['Feature'], top_features['Importance'], color='skyblue')\n",
    "plt.xlabel('Feature Importance')\n",
    "plt.ylabel('Features')\n",
    "plt.title('Top 20 Feature Importances in Random Forest')\n",
    "plt.gca().invert_yaxis()  \n",
    "plt.show()"
   ]
  },
  {
   "cell_type": "code",
   "execution_count": null,
   "metadata": {},
   "outputs": [],
   "source": []
  }
 ],
 "metadata": {
  "kernelspec": {
   "display_name": "ptcnn",
   "language": "python",
   "name": "python3"
  },
  "language_info": {
   "codemirror_mode": {
    "name": "ipython",
    "version": 3
   },
   "file_extension": ".py",
   "mimetype": "text/x-python",
   "name": "python",
   "nbconvert_exporter": "python",
   "pygments_lexer": "ipython3",
   "version": "3.12.7"
  }
 },
 "nbformat": 4,
 "nbformat_minor": 4
}
