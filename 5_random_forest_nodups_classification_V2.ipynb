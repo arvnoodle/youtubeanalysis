{
 "cells": [
  {
   "cell_type": "code",
   "execution_count": 138,
   "metadata": {},
   "outputs": [],
   "source": [
    "from sklearn.preprocessing import StandardScaler\n",
    "#from factor_analyzer import FactorAnalyzer, calculate_kmo\n",
    "from scipy.stats import bartlett\n",
    "import pandas as pd\n",
    "from sklearn.preprocessing import StandardScaler\n",
    "#from factor_analyzer import FactorAnalyzer, calculate_kmo, calculate_bartlett_sphericity\n",
    "import pandas as pd\n",
    "import numpy as np\n",
    "import matplotlib.pyplot as plt\n",
    "#import pingouin as pg\n",
    "import seaborn as sns"
   ]
  },
  {
   "cell_type": "code",
   "execution_count": 139,
   "metadata": {},
   "outputs": [
    {
     "name": "stdout",
     "output_type": "stream",
     "text": [
      "Index(['video_id', 'video_published_at', 'video_trending__date',\n",
      "       'video_trending_country', 'channel_id', 'video_title',\n",
      "       'video_description', 'video_default_thumbnail', 'video_category_id',\n",
      "       'video_tags', 'video_duration', 'video_dimension', 'video_definition',\n",
      "       'video_licensed_content', 'video_view_count', 'video_like_count',\n",
      "       'video_comment_count', 'channel_title', 'channel_description',\n",
      "       'channel_custom_url', 'channel_published_at', 'channel_country',\n",
      "       'channel_view_count', 'channel_subscriber_count',\n",
      "       'channel_have_hidden_subscribers', 'channel_video_count',\n",
      "       'channel_localized_title', 'channel_localized_description',\n",
      "       'engagement_rate', 'time_difference', 'video_duration_seconds'],\n",
      "      dtype='object')\n"
     ]
    },
    {
     "data": {
      "text/plain": [
       "(650048, 31)"
      ]
     },
     "execution_count": 139,
     "metadata": {},
     "output_type": "execute_result"
    }
   ],
   "source": [
    "data_path = \"data_cleaned_feature_31.csv\"\n",
    "data = pd.read_csv(data_path)\n",
    "print(data.columns)\n",
    "data.shape"
   ]
  },
  {
   "cell_type": "code",
   "execution_count": 140,
   "metadata": {},
   "outputs": [
    {
     "data": {
      "text/plain": [
       "(23334, 30)"
      ]
     },
     "execution_count": 140,
     "metadata": {},
     "output_type": "execute_result"
    }
   ],
   "source": [
    "data = data.drop(['video_trending_country'],axis=1).drop_duplicates()\n",
    "data = data.drop_duplicates(subset=['video_id'])\n",
    "data.shape"
   ]
  },
  {
   "cell_type": "code",
   "execution_count": 110,
   "metadata": {},
   "outputs": [],
   "source": [
    "def time_to_seconds(time_str):\n",
    "    days, time_part = time_str.split(\" days \")\n",
    "    days = int(days)\n",
    "    h, m, s = map(int, time_part.split(\":\"))\n",
    "    total_seconds = days * 86400 + h * 3600 + m * 60 + s\n",
    "    return total_seconds\n",
    "\n",
    "data['time_to_trend_difference_seconds'] = data['time_difference'].apply(time_to_seconds)\n",
    "data['likes_per_view'] = data['video_like_count'] / data['video_view_count']\n",
    "data['comments_per_view'] = data['video_comment_count'] / data['video_view_count']\n",
    "data['is_weekend'] = pd.to_datetime(data['video_published_at']).dt.weekday >= 5"
   ]
  },
  {
   "cell_type": "code",
   "execution_count": 111,
   "metadata": {},
   "outputs": [
    {
     "data": {
      "text/plain": [
       "is_trending\n",
       "1    16498\n",
       "0     6836\n",
       "Name: count, dtype: int64"
      ]
     },
     "execution_count": 111,
     "metadata": {},
     "output_type": "execute_result"
    }
   ],
   "source": [
    "data['is_trending'] = data['time_difference'].apply(\n",
    "    lambda x: 1 if int(x.split(\" \")[0]) <= 1 else 0 \n",
    ")\n",
    "data.is_trending.value_counts() ## checking how fast videos are trending"
   ]
  },
  {
   "cell_type": "code",
   "execution_count": 112,
   "metadata": {},
   "outputs": [
    {
     "data": {
      "text/plain": [
       "0         0\n",
       "1         0\n",
       "2         2\n",
       "3        -1\n",
       "4         2\n",
       "         ..\n",
       "649469    0\n",
       "649477    1\n",
       "649487    0\n",
       "649530    0\n",
       "649532    0\n",
       "Name: time_difference_days, Length: 23334, dtype: int64"
      ]
     },
     "execution_count": 112,
     "metadata": {},
     "output_type": "execute_result"
    }
   ],
   "source": [
    "# do split (\" \") and take the first element\n",
    "\n",
    "data[\"time_difference_days\"] = data[\"time_difference\"].apply(lambda x: int(x.split(\" \")[0]))\n",
    "data[\"time_difference_days\"]"
   ]
  },
  {
   "cell_type": "code",
   "execution_count": 113,
   "metadata": {},
   "outputs": [],
   "source": [
    "# use data['video_published_at'] to make a column if morning, afternoon, evening, night\n",
    "data['video_published_at'] = pd.to_datetime(data['video_published_at'])\n",
    "data['published_hour'] = data['video_published_at'].dt.hour\n",
    "data['published_morning'] = data['published_hour'].between(6, 12)\n",
    "data['published_afternoon'] = data['published_hour'].between(12, 18)\n",
    "data['published_evening'] = data['published_hour'].between(18, 24)\n",
    "data['published_night'] = data['published_hour'].between(0, 6)"
   ]
  },
  {
   "cell_type": "code",
   "execution_count": 114,
   "metadata": {},
   "outputs": [],
   "source": [
    "data['channel_published_at'] = pd.to_datetime(data['channel_published_at'], errors='coerce').dt.tz_localize(None)\n",
    "data['video_published_at'] = pd.to_datetime(data['video_published_at'], errors='coerce').dt.tz_localize(None)\n",
    "data['channel_video_channel_publish_difference'] = (data['video_published_at'] - data['channel_published_at']).dt.days\n",
    "data['channel_video_channel_publish_difference']\n",
    "data['channel_video_channel_publish_difference'] = data['channel_video_channel_publish_difference'].fillna(data['channel_video_channel_publish_difference'].mean()) # di ko na alam kung tama to"
   ]
  },
  {
   "cell_type": "code",
   "execution_count": 115,
   "metadata": {},
   "outputs": [
    {
     "data": {
      "text/plain": [
       "(23334, 42)"
      ]
     },
     "execution_count": 115,
     "metadata": {},
     "output_type": "execute_result"
    }
   ],
   "source": [
    "data.shape"
   ]
  },
  {
   "cell_type": "code",
   "execution_count": 116,
   "metadata": {},
   "outputs": [
    {
     "data": {
      "text/plain": [
       "is_trending\n",
       "1    16498\n",
       "0     6836\n",
       "Name: count, dtype: int64"
      ]
     },
     "execution_count": 116,
     "metadata": {},
     "output_type": "execute_result"
    }
   ],
   "source": [
    "data['is_trending'].value_counts()"
   ]
  },
  {
   "cell_type": "code",
   "execution_count": 117,
   "metadata": {},
   "outputs": [
    {
     "data": {
      "text/plain": [
       "is_weekend\n",
       "False    16493\n",
       "True      6841\n",
       "Name: count, dtype: int64"
      ]
     },
     "execution_count": 117,
     "metadata": {},
     "output_type": "execute_result"
    }
   ],
   "source": [
    "data['is_weekend'].value_counts()"
   ]
  },
  {
   "cell_type": "code",
   "execution_count": 118,
   "metadata": {},
   "outputs": [
    {
     "data": {
      "text/plain": [
       "is_trending\n",
       "1    16498\n",
       "0     6836\n",
       "Name: count, dtype: int64"
      ]
     },
     "execution_count": 118,
     "metadata": {},
     "output_type": "execute_result"
    }
   ],
   "source": [
    "data.is_trending.value_counts()"
   ]
  },
  {
   "cell_type": "code",
   "execution_count": 119,
   "metadata": {},
   "outputs": [
    {
     "name": "stdout",
     "output_type": "stream",
     "text": [
      "(16498, 42) (6836, 42)\n"
     ]
    }
   ],
   "source": [
    "majority_class = data[data['is_trending'] == 1]\n",
    "minority_class = data[data['is_trending'] == 0]\n",
    "# shape\n",
    "print(majority_class.shape, minority_class.shape)\n"
   ]
  },
  {
   "cell_type": "code",
   "execution_count": 120,
   "metadata": {},
   "outputs": [
    {
     "data": {
      "text/plain": [
       "is_trending\n",
       "1    16498\n",
       "0     8200\n",
       "Name: count, dtype: int64"
      ]
     },
     "execution_count": 120,
     "metadata": {},
     "output_type": "execute_result"
    }
   ],
   "source": [
    "from sklearn.utils import resample\n",
    "\n",
    "\n",
    "minority_upsampled = resample(minority_class, \n",
    "                              replace=True,     \n",
    "                              n_samples=int(round(len(majority_class) * 0.5, -2)),  \n",
    "                              random_state=42)  \n",
    "\n",
    "data = pd.concat([majority_class, minority_upsampled])\n",
    "data.is_trending.value_counts()"
   ]
  },
  {
   "cell_type": "code",
   "execution_count": 121,
   "metadata": {},
   "outputs": [],
   "source": [
    "categorical_features = [\n",
    "    'video_category_id', 'is_weekend',\n",
    "    'video_definition', 'video_dimension', 'video_licensed_content',\n",
    "    'channel_country', 'channel_have_hidden_subscribers',\n",
    "    'published_morning', 'published_afternoon', 'published_evening', 'published_night'\n",
    "]\n",
    "numerical_features = [\n",
    "    'video_duration_seconds', 'channel_video_count', 'channel_video_channel_publish_difference'\n",
    "]"
   ]
  },
  {
   "cell_type": "code",
   "execution_count": 122,
   "metadata": {},
   "outputs": [],
   "source": [
    "X_categorical = data[categorical_features]\n",
    "X_numerical = data[numerical_features]\n",
    "#X_text = data[embedded_text_columns]?\n",
    "y = data['is_trending']"
   ]
  },
  {
   "cell_type": "code",
   "execution_count": 123,
   "metadata": {},
   "outputs": [],
   "source": [
    "# from sklearn.ensemble import IsolationForest\n",
    "# isolation_forest = IsolationForest(contamination=0.10, random_state=42) \n",
    "# outliers = isolation_forest.fit_predict(X_numerical)\n",
    "\n",
    "# data_cleaned = data[outliers != -1]\n",
    "# data_cleaned.shape"
   ]
  },
  {
   "cell_type": "code",
   "execution_count": 124,
   "metadata": {},
   "outputs": [
    {
     "data": {
      "text/plain": [
       "(24698, 14)"
      ]
     },
     "execution_count": 124,
     "metadata": {},
     "output_type": "execute_result"
    }
   ],
   "source": [
    "import numpy as np\n",
    "#X = np.hstack((X_numerical, X_categorical))\n",
    "X = pd.concat((X_numerical, X_categorical),axis=1)\n",
    "X.shape"
   ]
  },
  {
   "cell_type": "code",
   "execution_count": 125,
   "metadata": {},
   "outputs": [],
   "source": [
    "from feature_engine.selection import DropConstantFeatures, DropDuplicateFeatures, DropCorrelatedFeatures\n",
    "from feature_engine.pipeline import Pipeline\n",
    "\n",
    "pipeline = Pipeline([\n",
    "    (\"drop_constant_features\", DropConstantFeatures(tol=0.98)),\n",
    "    (\"drop_duplicate_features\", DropDuplicateFeatures()),\n",
    "    (\"drop_correlated_features\", DropCorrelatedFeatures(method='pearson', threshold=0.85))\n",
    "])\n",
    "\n",
    "X_final = pipeline.fit_transform(X)"
   ]
  },
  {
   "cell_type": "code",
   "execution_count": 126,
   "metadata": {},
   "outputs": [
    {
     "data": {
      "text/plain": [
       "{'channel_have_hidden_subscribers', 'video_definition', 'video_dimension'}"
      ]
     },
     "execution_count": 126,
     "metadata": {},
     "output_type": "execute_result"
    }
   ],
   "source": [
    "# check difference of columns between X and X_final\n",
    "set(X.columns) - set(X_final.columns)"
   ]
  },
  {
   "cell_type": "code",
   "execution_count": 127,
   "metadata": {},
   "outputs": [],
   "source": [
    "from sklearn.model_selection import train_test_split\n",
    "X_train, X_test, y_train, y_test = train_test_split(X_final, y, test_size=0.3, random_state=42)"
   ]
  },
  {
   "cell_type": "code",
   "execution_count": 128,
   "metadata": {},
   "outputs": [],
   "source": [
    "categorical_features = [\n",
    "    'video_category_id', 'is_weekend' ,'video_licensed_content',\n",
    "    'channel_country', \n",
    "    'published_morning', 'published_afternoon', 'published_evening', 'published_night'\n",
    "]\n",
    "numerical_features = [\n",
    "    'video_duration_seconds', 'channel_video_count', 'channel_video_channel_publish_difference'\n",
    "]"
   ]
  },
  {
   "cell_type": "code",
   "execution_count": 129,
   "metadata": {},
   "outputs": [],
   "source": [
    "X_train_categorical = X_train[categorical_features]\n",
    "X_test_categorical = X_test[categorical_features]\n",
    "\n",
    "X_train_numerical = X_train[numerical_features]\n",
    "X_test_numerical = X_test[numerical_features]"
   ]
  },
  {
   "cell_type": "code",
   "execution_count": 130,
   "metadata": {},
   "outputs": [
    {
     "name": "stderr",
     "output_type": "stream",
     "text": [
      "c:\\Users\\Administrator\\anaconda3\\envs\\ptcnn\\Lib\\site-packages\\feature_engine\\encoding\\base_encoder.py:260: UserWarning: During the encoding, NaN values were introduced in the feature(s) channel_country.\n",
      "  warnings.warn(\n"
     ]
    }
   ],
   "source": [
    "from feature_engine.encoding import DecisionTreeEncoder\n",
    "from feature_engine.encoding import OneHotEncoder\n",
    "from feature_engine.encoding import MeanEncoder\n",
    "\n",
    "encoder = DecisionTreeEncoder(random_state=42, regression=False)\n",
    "X_train_encode = encoder.fit_transform(X_train_categorical, y_train)\n",
    "X_test_encode = encoder.transform(X_test_categorical)"
   ]
  },
  {
   "cell_type": "code",
   "execution_count": 131,
   "metadata": {},
   "outputs": [],
   "source": [
    "# from feature_engine.transformation import LogTransformer\n",
    "\n",
    "# log_transformer = LogTransformer(variables=numerical_features)\n",
    "\n",
    "# X_train_log = log_transformer.fit_transform(X_train_numerical)\n",
    "# X_test_log = log_transformer.transform(X_test_numerical) # di naman gumana hahahaha"
   ]
  },
  {
   "cell_type": "code",
   "execution_count": 132,
   "metadata": {},
   "outputs": [],
   "source": [
    "# from imblearn.combine import SMOTEENN\n",
    "# smote_enn = SMOTEENN(random_state=42)\n",
    "# X_train_resampled, y_train_resampled = smote_enn.fit_resample(X_train_combined, X_test_combined)"
   ]
  },
  {
   "cell_type": "code",
   "execution_count": 133,
   "metadata": {},
   "outputs": [],
   "source": [
    "from sklearn.preprocessing import StandardScaler\n",
    "scaler = StandardScaler()\n",
    "X_train_scaled = scaler.fit_transform(X_train_numerical)\n",
    "X_test_scaled = scaler.transform(X_test_numerical)\n",
    "# X_train_resampled, y_train_resampled = smote_enn.fit_resample(X_train_scaled, y_train)"
   ]
  },
  {
   "cell_type": "code",
   "execution_count": 134,
   "metadata": {},
   "outputs": [],
   "source": [
    "X_train = np.hstack((X_train_encode, X_train_scaled))\n",
    "X_test = np.hstack((X_test_encode, X_test_scaled))"
   ]
  },
  {
   "cell_type": "code",
   "execution_count": 135,
   "metadata": {},
   "outputs": [
    {
     "name": "stdout",
     "output_type": "stream",
     "text": [
      "Model Accuracy: 0.8423751686909582\n",
      "[[1791  679]\n",
      " [ 489 4451]]\n",
      "              precision    recall  f1-score   support\n",
      "\n",
      "           0       0.79      0.73      0.75      2470\n",
      "           1       0.87      0.90      0.88      4940\n",
      "\n",
      "    accuracy                           0.84      7410\n",
      "   macro avg       0.83      0.81      0.82      7410\n",
      "weighted avg       0.84      0.84      0.84      7410\n",
      "\n"
     ]
    }
   ],
   "source": [
    "from sklearn.ensemble import RandomForestClassifier\n",
    "\n",
    "\n",
    "model = RandomForestClassifier(max_depth=300,\n",
    "        max_features='sqrt',\n",
    "        n_estimators=1000,\n",
    "        min_samples_leaf=1,\n",
    "        min_samples_split=3,\n",
    "        random_state=33)\n",
    "model.fit(X_train, y_train)\n",
    "accuracy = model.score(X_test, y_test)\n",
    "print(f\"Model Accuracy: {accuracy}\")\n",
    "from sklearn.metrics import classification_report, confusion_matrix\n",
    "y_pred = model.predict(X_test)\n",
    "print(confusion_matrix(y_test, y_pred))\n",
    "print(classification_report(y_test, y_pred))"
   ]
  },
  {
   "cell_type": "code",
   "execution_count": 137,
   "metadata": {},
   "outputs": [
    {
     "data": {
      "image/png": "[encoded data removed]",
      "text/plain": [
       "<Figure size 640x480 with 1 Axes>"
      ]
     },
     "metadata": {},
     "output_type": "display_data"
    }
   ],
   "source": [
    "import matplotlib.pyplot as plt\n",
    "feature_importances = model.feature_importances_\n",
    "feature_names = list(X_train_numerical.columns) + list(X_train_categorical.columns)\n",
    "plt.barh(feature_names, feature_importances)\n",
    "plt.xlabel('Feature Importance')\n",
    "plt.title('Feature Importance Analysis')\n",
    "plt.show()"
   ]
  },
  {
   "cell_type": "code",
   "execution_count": null,
   "metadata": {},
   "outputs": [],
   "source": []
  }
 ],
 "metadata": {
  "kernelspec": {
   "display_name": "ptcnn",
   "language": "python",
   "name": "python3"
  },
  "language_info": {
   "codemirror_mode": {
    "name": "ipython",
    "version": 3
   },
   "file_extension": ".py",
   "mimetype": "text/x-python",
   "name": "python",
   "nbconvert_exporter": "python",
   "pygments_lexer": "ipython3",
   "version": "3.12.7"
  }
 },
 "nbformat": 4,
 "nbformat_minor": 4
}
