{
 "cells": [
  {
   "cell_type": "code",
   "execution_count": 1,
   "metadata": {},
   "outputs": [],
   "source": [
    "from sklearn.preprocessing import StandardScaler\n",
    "#from factor_analyzer import FactorAnalyzer, calculate_kmo\n",
    "from scipy.stats import bartlett\n",
    "import pandas as pd\n",
    "from sklearn.preprocessing import StandardScaler\n",
    "#from factor_analyzer import FactorAnalyzer, calculate_kmo, calculate_bartlett_sphericity\n",
    "import pandas as pd\n",
    "import numpy as np\n",
    "import matplotlib.pyplot as plt\n",
    "#import pingouin as pg\n",
    "import seaborn as sns"
   ]
  },
  {
   "cell_type": "code",
   "execution_count": 38,
   "metadata": {},
   "outputs": [],
   "source": [
    "# data_path = \"data_cleaned_feature_31.parquet\"\n",
    "# data = pd.read_parquet(data_path)\n",
    "# print(data.columns)\n",
    "# data.shape"
   ]
  },
  {
   "cell_type": "code",
   "execution_count": 39,
   "metadata": {},
   "outputs": [
    {
     "name": "stdout",
     "output_type": "stream",
     "text": [
      "Index(['video_id', 'video_published_at', 'video_trending__date',\n",
      "       'video_trending_country', 'channel_id', 'video_title',\n",
      "       'video_description', 'video_default_thumbnail', 'video_category_id',\n",
      "       'video_tags', 'video_duration', 'video_dimension', 'video_definition',\n",
      "       'video_licensed_content', 'video_view_count', 'video_like_count',\n",
      "       'video_comment_count', 'channel_title', 'channel_description',\n",
      "       'channel_custom_url', 'channel_published_at', 'channel_country',\n",
      "       'channel_view_count', 'channel_subscriber_count',\n",
      "       'channel_have_hidden_subscribers', 'channel_video_count',\n",
      "       'channel_localized_title', 'channel_localized_description',\n",
      "       'engagement_rate', 'time_difference', 'video_duration_seconds',\n",
      "       'time_difference_days', 'channel_cluster',\n",
      "       'time_to_trend_difference_seconds', 'is_weekend', 'is_trending',\n",
      "       'published_hour', 'published_morning', 'published_afternoon',\n",
      "       'published_evening', 'published_night',\n",
      "       'channel_video_channel_publish_difference', 'time_of_day'],\n",
      "      dtype='object')\n"
     ]
    },
    {
     "data": {
      "text/plain": [
       "(23933, 43)"
      ]
     },
     "execution_count": 39,
     "metadata": {},
     "output_type": "execute_result"
    }
   ],
   "source": [
    "data_path = \"data_youtube_cleaned_final_2.csv\"\n",
    "data = pd.read_csv(data_path)\n",
    "print(data.columns)\n",
    "data.shape"
   ]
  },
  {
   "cell_type": "code",
   "execution_count": 15,
   "metadata": {},
   "outputs": [
    {
     "data": {
      "text/plain": [
       "is_trending\n",
       "0    12703\n",
       "1    11230\n",
       "Name: count, dtype: int64"
      ]
     },
     "execution_count": 15,
     "metadata": {},
     "output_type": "execute_result"
    }
   ],
   "source": [
    "data.is_trending.value_counts() ## checking how fast videos are trending"
   ]
  },
  {
   "cell_type": "code",
   "execution_count": 16,
   "metadata": {},
   "outputs": [
    {
     "data": {
      "text/plain": [
       "is_weekend\n",
       "False    16921\n",
       "True      7012\n",
       "Name: count, dtype: int64"
      ]
     },
     "execution_count": 16,
     "metadata": {},
     "output_type": "execute_result"
    }
   ],
   "source": [
    "data['is_weekend'].value_counts()"
   ]
  },
  {
   "cell_type": "code",
   "execution_count": 17,
   "metadata": {},
   "outputs": [
    {
     "name": "stdout",
     "output_type": "stream",
     "text": [
      "Creating new Ultralytics Settings v0.0.6 file ✅ \n",
      "View Ultralytics Settings with 'yolo settings' or at '/root/.config/Ultralytics/settings.json'\n",
      "Update Settings with 'yolo settings key=value', i.e. 'yolo settings runs_dir=path/to/dir'. For help see https://docs.ultralytics.com/quickstart/#ultralytics-settings.\n",
      "Downloading https://github.com/ultralytics/assets/releases/download/v8.3.0/yolo11n.pt to 'yolo11n.pt'...\n"
     ]
    },
    {
     "name": "stderr",
     "output_type": "stream",
     "text": [
      "100%|██████████| 5.35M/5.35M [00:00<00:00, 34.9MB/s]\n"
     ]
    }
   ],
   "source": [
    "import pandas as pd\n",
    "import requests\n",
    "from PIL import Image\n",
    "from io import BytesIO\n",
    "from tqdm import tqdm\n",
    "from ultralytics import YOLO  # Use ultralytics YOLO package or adapt for YOLOv5\n",
    "import os\n",
    "from icecream import ic \n",
    "from concurrent.futures import ThreadPoolExecutor\n",
    "import numpy as np\n",
    "import torch\n",
    "from torchvision import models, transforms\n",
    "import logging\n",
    "\n",
    "model = YOLO('yolo11n.pt')\n",
    "model.overrides['verbose'] = False  # Disable verbose logging\n",
    "# logging.getLogger(\"ultralytics\").setLevel(logging.ERROR)\n",
    "thumbnail_urls = data['video_default_thumbnail']\n",
    "def detect_objects(image):\n",
    "    results = model(image)  # Perform detection\n",
    "    detections_df = results[0].to_df()  # Convert detections to a DataFrame\n",
    "    \n",
    "    # Check if detections_df is empty\n",
    "    if detections_df.empty:\n",
    "        return {'contain_1': None, 'contain_2': None, 'contain_3': None}  # No objects detected\n",
    "\n",
    "    # Count object occurrences using the 'name' column\n",
    "    object_counts = detections_df['name'].value_counts()\n",
    "\n",
    "    # Extract the top 3 detected objects (if available)\n",
    "    top_objects = object_counts.index.tolist()[:3]\n",
    "    contains_face = int('person' in top_objects)\n",
    "\n",
    "    # Map to new keys for clarity\n",
    "    result = {\n",
    "        'contain_1': top_objects[0] if len(top_objects) > 0 else None,\n",
    "        'contain_2': top_objects[1] if len(top_objects) > 1 else None,\n",
    "        'contain_3': top_objects[2] if len(top_objects) > 2 else None,\n",
    "    }\n",
    "    \n",
    "    return result\n",
    "\n",
    "def analyze_colors(image):\n",
    "    image = image.resize((100, 100))  # Resize for speed\n",
    "    pixels = np.array(image).reshape(-1, 3)  # Flatten pixels\n",
    "    dominant_color = np.mean(pixels, axis=0)  # Average color (RGB)\n",
    "    brightness = np.mean(np.sqrt(np.sum(pixels**2, axis=1)))  # Brightness metric\n",
    "    color_diversity = len(np.unique(pixels, axis=0))  # Distinct colors\n",
    "    return {\n",
    "        'dominant_color_r': dominant_color[0],\n",
    "        'dominant_color_g': dominant_color[1],\n",
    "        'dominant_color_b': dominant_color[2],\n",
    "        'brightness': brightness,\n",
    "        'color_diversity': color_diversity\n",
    "    }"
   ]
  },
  {
   "cell_type": "code",
   "execution_count": null,
   "metadata": {},
   "outputs": [
    {
     "name": "stderr",
     "output_type": "stream",
     "text": [
      "Processing Thumbnails:  48%|████▊     | 11448/23933 [41:03<38:23,  5.42image/s]  "
     ]
    }
   ],
   "source": [
    "results_list = []\n",
    "for url in tqdm(thumbnail_urls, desc=\"Processing Thumbnails\", unit=\"image\"):\n",
    "    try:\n",
    "        # Download image\n",
    "        response = requests.get(url, timeout=5)\n",
    "        image = Image.open(BytesIO(response.content)).convert(\"RGB\")\n",
    "\n",
    "        # Detect objects\n",
    "        detection_results = detect_objects(image)\n",
    "        color_analysis = analyze_colors(image)\n",
    "        combined_results = {**detection_results, **color_analysis, 'thumbnail_url': url}\n",
    "        results_list.append(combined_results)\n",
    "    \n",
    "    except Exception as e:\n",
    "        print(f\"Failed to process {url}: {e}\")\n",
    "        results_list.append({'thumbnail_url': url, 'error': str(e)})\n",
    "\n",
    "final_data = pd.merge(data, pd.DataFrame(results_list), how=\"left\", left_on='video_default_thumbnail', right_on='thumbnail_url')"
   ]
  },
  {
   "cell_type": "code",
   "execution_count": 21,
   "metadata": {},
   "outputs": [],
   "source": [
    "# final_data.to_csv(\"yolo_image_data.csv\", index=False)"
   ]
  },
  {
   "cell_type": "code",
   "execution_count": 2,
   "metadata": {},
   "outputs": [
    {
     "data": {
      "text/plain": [
       "(28667, 52)"
      ]
     },
     "execution_count": 2,
     "metadata": {},
     "output_type": "execute_result"
    }
   ],
   "source": [
    "final_data = pd.read_csv(\"yolo_image_data_12082024.csv\")\n",
    "final_data.shape"
   ]
  },
  {
   "cell_type": "code",
   "execution_count": 3,
   "metadata": {},
   "outputs": [
    {
     "data": {
      "text/plain": [
       "Index(['video_id', 'video_published_at', 'video_trending__date',\n",
       "       'video_trending_country', 'channel_id', 'video_title',\n",
       "       'video_description', 'video_default_thumbnail', 'video_category_id',\n",
       "       'video_tags', 'video_duration', 'video_dimension', 'video_definition',\n",
       "       'video_licensed_content', 'video_view_count', 'video_like_count',\n",
       "       'video_comment_count', 'channel_title', 'channel_description',\n",
       "       'channel_custom_url', 'channel_published_at', 'channel_country',\n",
       "       'channel_view_count', 'channel_subscriber_count',\n",
       "       'channel_have_hidden_subscribers', 'channel_video_count',\n",
       "       'channel_localized_title', 'channel_localized_description',\n",
       "       'engagement_rate', 'time_difference', 'video_duration_seconds',\n",
       "       'time_difference_days', 'channel_cluster',\n",
       "       'time_to_trend_difference_seconds', 'is_weekend', 'is_trending',\n",
       "       'published_hour', 'published_morning', 'published_afternoon',\n",
       "       'published_evening', 'published_night',\n",
       "       'channel_video_channel_publish_difference', 'time_of_day', 'contain_1',\n",
       "       'contain_2', 'contain_3', 'dominant_color_r', 'dominant_color_g',\n",
       "       'dominant_color_b', 'brightness', 'color_diversity', 'thumbnail_url'],\n",
       "      dtype='object')"
      ]
     },
     "execution_count": 3,
     "metadata": {},
     "output_type": "execute_result"
    }
   ],
   "source": [
    "final_data.columns"
   ]
  },
  {
   "cell_type": "code",
   "execution_count": 4,
   "metadata": {},
   "outputs": [
    {
     "data": {
      "text/plain": [
       "0         86394.0\n",
       "1        374390.0\n",
       "2        261583.0\n",
       "3        390372.0\n",
       "4        316800.0\n",
       "           ...   \n",
       "28662     53993.0\n",
       "28663    138586.0\n",
       "28664     25145.0\n",
       "28665    115152.0\n",
       "28666    113395.0\n",
       "Name: time_to_trend_difference_seconds, Length: 28667, dtype: float64"
      ]
     },
     "execution_count": 4,
     "metadata": {},
     "output_type": "execute_result"
    }
   ],
   "source": [
    "final_data.time_to_trend_difference_seconds"
   ]
  },
  {
   "cell_type": "code",
   "execution_count": 5,
   "metadata": {},
   "outputs": [
    {
     "data": {
      "text/plain": [
       "(28667, 52)"
      ]
     },
     "execution_count": 5,
     "metadata": {},
     "output_type": "execute_result"
    }
   ],
   "source": [
    "data = final_data.copy()\n",
    "data.shape"
   ]
  },
  {
   "cell_type": "code",
   "execution_count": 6,
   "metadata": {},
   "outputs": [
    {
     "name": "stderr",
     "output_type": "stream",
     "text": [
      "Override attn_implementation='sdpa' to 'eager' as use_memory_efficient_attention='true'\n"
     ]
    },
    {
     "data": {
      "application/vnd.jupyter.widget-view+json": {
       "model_id": "439ce17ce2c84431b8a978c65249b5d5",
       "version_major": 2,
       "version_minor": 0
      },
      "text/plain": [
       "Batches:   0%|          | 0/896 [00:00<?, ?it/s]"
      ]
     },
     "metadata": {},
     "output_type": "display_data"
    }
   ],
   "source": [
    "text_features = ['video_title']\n",
    "\n",
    "def clean_text_column(column):\n",
    "    \"\"\"Clean a text column by filling nulls and removing special characters.\"\"\"\n",
    "    return (\n",
    "        column.fillna(\"\")  # Fill missing values with empty string\n",
    "        .str.replace(r\"[^\\w\\s]\", \" \", regex=True)  # Remove special characters\n",
    "        .str.lower()  # Convert to lowercase\n",
    "        .str.strip()  # Remove leading/trailing spaces\n",
    "    )\n",
    "\n",
    "for text_feature in text_features:\n",
    "    data[text_feature] = clean_text_column(data[text_feature])\n",
    "\n",
    "from sentence_transformers import SentenceTransformer\n",
    "model = SentenceTransformer('Snowflake/snowflake-arctic-embed-m-v2.0', trust_remote_code=True)\n",
    "sentence_embeddings = {}\n",
    "for text_feature in text_features:\n",
    "    text_data = data[text_feature].tolist()\n",
    "    embeddings = model.encode(text_data, show_progress_bar=True)\n",
    "    sentence_embeddings[text_feature] = pd.DataFrame(\n",
    "        embeddings, \n",
    "        columns=[f\"{text_feature}_dim{i}\" for i in range(embeddings.shape[1])]\n",
    "    )\n",
    "\n",
    "embedded_text = pd.concat(sentence_embeddings.values(), axis=1)"
   ]
  },
  {
   "cell_type": "code",
   "execution_count": 7,
   "metadata": {},
   "outputs": [
    {
     "data": {
      "text/html": [
       "<div>\n",
       "<style scoped>\n",
       "    .dataframe tbody tr th:only-of-type {\n",
       "        vertical-align: middle;\n",
       "    }\n",
       "\n",
       "    .dataframe tbody tr th {\n",
       "        vertical-align: top;\n",
       "    }\n",
       "\n",
       "    .dataframe thead th {\n",
       "        text-align: right;\n",
       "    }\n",
       "</style>\n",
       "<table border=\"1\" class=\"dataframe\">\n",
       "  <thead>\n",
       "    <tr style=\"text-align: right;\">\n",
       "      <th></th>\n",
       "      <th>video_title_dim0</th>\n",
       "      <th>video_title_dim1</th>\n",
       "      <th>video_title_dim2</th>\n",
       "      <th>video_title_dim3</th>\n",
       "      <th>video_title_dim4</th>\n",
       "      <th>video_title_dim5</th>\n",
       "      <th>video_title_dim6</th>\n",
       "      <th>video_title_dim7</th>\n",
       "      <th>video_title_dim8</th>\n",
       "      <th>video_title_dim9</th>\n",
       "      <th>...</th>\n",
       "      <th>video_title_dim758</th>\n",
       "      <th>video_title_dim759</th>\n",
       "      <th>video_title_dim760</th>\n",
       "      <th>video_title_dim761</th>\n",
       "      <th>video_title_dim762</th>\n",
       "      <th>video_title_dim763</th>\n",
       "      <th>video_title_dim764</th>\n",
       "      <th>video_title_dim765</th>\n",
       "      <th>video_title_dim766</th>\n",
       "      <th>video_title_dim767</th>\n",
       "    </tr>\n",
       "  </thead>\n",
       "  <tbody>\n",
       "    <tr>\n",
       "      <th>0</th>\n",
       "      <td>0.009093</td>\n",
       "      <td>0.021144</td>\n",
       "      <td>-0.008860</td>\n",
       "      <td>-0.064535</td>\n",
       "      <td>0.003731</td>\n",
       "      <td>-0.035317</td>\n",
       "      <td>-0.036237</td>\n",
       "      <td>-0.075430</td>\n",
       "      <td>0.068747</td>\n",
       "      <td>-0.031702</td>\n",
       "      <td>...</td>\n",
       "      <td>0.031078</td>\n",
       "      <td>0.012558</td>\n",
       "      <td>0.005517</td>\n",
       "      <td>-0.002610</td>\n",
       "      <td>-0.029585</td>\n",
       "      <td>-0.029494</td>\n",
       "      <td>-0.006481</td>\n",
       "      <td>0.020358</td>\n",
       "      <td>0.003455</td>\n",
       "      <td>-0.036908</td>\n",
       "    </tr>\n",
       "    <tr>\n",
       "      <th>1</th>\n",
       "      <td>-0.004329</td>\n",
       "      <td>-0.068817</td>\n",
       "      <td>-0.005405</td>\n",
       "      <td>0.057014</td>\n",
       "      <td>-0.050793</td>\n",
       "      <td>0.013811</td>\n",
       "      <td>-0.039786</td>\n",
       "      <td>0.034869</td>\n",
       "      <td>-0.030075</td>\n",
       "      <td>0.050910</td>\n",
       "      <td>...</td>\n",
       "      <td>0.080197</td>\n",
       "      <td>0.028814</td>\n",
       "      <td>-0.002630</td>\n",
       "      <td>-0.009517</td>\n",
       "      <td>-0.030325</td>\n",
       "      <td>0.027094</td>\n",
       "      <td>-0.008299</td>\n",
       "      <td>-0.013473</td>\n",
       "      <td>-0.057107</td>\n",
       "      <td>0.010991</td>\n",
       "    </tr>\n",
       "    <tr>\n",
       "      <th>2</th>\n",
       "      <td>-0.076475</td>\n",
       "      <td>-0.005609</td>\n",
       "      <td>-0.088073</td>\n",
       "      <td>-0.038762</td>\n",
       "      <td>-0.049585</td>\n",
       "      <td>-0.058046</td>\n",
       "      <td>-0.047675</td>\n",
       "      <td>-0.002589</td>\n",
       "      <td>0.046021</td>\n",
       "      <td>-0.004440</td>\n",
       "      <td>...</td>\n",
       "      <td>-0.017091</td>\n",
       "      <td>-0.013402</td>\n",
       "      <td>-0.008842</td>\n",
       "      <td>-0.005788</td>\n",
       "      <td>-0.055960</td>\n",
       "      <td>0.023729</td>\n",
       "      <td>-0.020386</td>\n",
       "      <td>-0.015047</td>\n",
       "      <td>-0.013474</td>\n",
       "      <td>-0.002428</td>\n",
       "    </tr>\n",
       "    <tr>\n",
       "      <th>3</th>\n",
       "      <td>-0.052240</td>\n",
       "      <td>0.054189</td>\n",
       "      <td>-0.062050</td>\n",
       "      <td>-0.043521</td>\n",
       "      <td>0.024455</td>\n",
       "      <td>-0.072412</td>\n",
       "      <td>-0.066103</td>\n",
       "      <td>-0.021296</td>\n",
       "      <td>0.039994</td>\n",
       "      <td>0.018421</td>\n",
       "      <td>...</td>\n",
       "      <td>0.053687</td>\n",
       "      <td>-0.010949</td>\n",
       "      <td>0.024411</td>\n",
       "      <td>-0.013131</td>\n",
       "      <td>-0.036337</td>\n",
       "      <td>-0.025544</td>\n",
       "      <td>-0.067384</td>\n",
       "      <td>-0.020587</td>\n",
       "      <td>-0.030198</td>\n",
       "      <td>0.024231</td>\n",
       "    </tr>\n",
       "    <tr>\n",
       "      <th>4</th>\n",
       "      <td>0.049462</td>\n",
       "      <td>0.024351</td>\n",
       "      <td>-0.034504</td>\n",
       "      <td>-0.004160</td>\n",
       "      <td>0.043551</td>\n",
       "      <td>0.002668</td>\n",
       "      <td>-0.054742</td>\n",
       "      <td>0.023563</td>\n",
       "      <td>-0.015602</td>\n",
       "      <td>-0.008923</td>\n",
       "      <td>...</td>\n",
       "      <td>-0.003383</td>\n",
       "      <td>-0.047029</td>\n",
       "      <td>0.026381</td>\n",
       "      <td>-0.013540</td>\n",
       "      <td>-0.004209</td>\n",
       "      <td>0.002244</td>\n",
       "      <td>-0.052437</td>\n",
       "      <td>-0.001880</td>\n",
       "      <td>-0.095914</td>\n",
       "      <td>-0.000255</td>\n",
       "    </tr>\n",
       "    <tr>\n",
       "      <th>...</th>\n",
       "      <td>...</td>\n",
       "      <td>...</td>\n",
       "      <td>...</td>\n",
       "      <td>...</td>\n",
       "      <td>...</td>\n",
       "      <td>...</td>\n",
       "      <td>...</td>\n",
       "      <td>...</td>\n",
       "      <td>...</td>\n",
       "      <td>...</td>\n",
       "      <td>...</td>\n",
       "      <td>...</td>\n",
       "      <td>...</td>\n",
       "      <td>...</td>\n",
       "      <td>...</td>\n",
       "      <td>...</td>\n",
       "      <td>...</td>\n",
       "      <td>...</td>\n",
       "      <td>...</td>\n",
       "      <td>...</td>\n",
       "      <td>...</td>\n",
       "    </tr>\n",
       "    <tr>\n",
       "      <th>28662</th>\n",
       "      <td>0.021674</td>\n",
       "      <td>-0.047585</td>\n",
       "      <td>-0.083370</td>\n",
       "      <td>-0.046521</td>\n",
       "      <td>-0.060033</td>\n",
       "      <td>-0.042181</td>\n",
       "      <td>0.011170</td>\n",
       "      <td>-0.041465</td>\n",
       "      <td>0.077218</td>\n",
       "      <td>-0.022856</td>\n",
       "      <td>...</td>\n",
       "      <td>0.029917</td>\n",
       "      <td>-0.006506</td>\n",
       "      <td>-0.015061</td>\n",
       "      <td>-0.025143</td>\n",
       "      <td>-0.016077</td>\n",
       "      <td>0.001346</td>\n",
       "      <td>0.013126</td>\n",
       "      <td>-0.034247</td>\n",
       "      <td>-0.014442</td>\n",
       "      <td>0.001682</td>\n",
       "    </tr>\n",
       "    <tr>\n",
       "      <th>28663</th>\n",
       "      <td>-0.023548</td>\n",
       "      <td>-0.000685</td>\n",
       "      <td>-0.046862</td>\n",
       "      <td>0.000552</td>\n",
       "      <td>-0.040419</td>\n",
       "      <td>-0.023264</td>\n",
       "      <td>-0.003123</td>\n",
       "      <td>-0.055641</td>\n",
       "      <td>-0.042562</td>\n",
       "      <td>0.023054</td>\n",
       "      <td>...</td>\n",
       "      <td>0.001573</td>\n",
       "      <td>0.007381</td>\n",
       "      <td>0.028332</td>\n",
       "      <td>-0.038406</td>\n",
       "      <td>-0.072155</td>\n",
       "      <td>-0.040280</td>\n",
       "      <td>-0.015877</td>\n",
       "      <td>-0.049243</td>\n",
       "      <td>-0.000857</td>\n",
       "      <td>0.017989</td>\n",
       "    </tr>\n",
       "    <tr>\n",
       "      <th>28664</th>\n",
       "      <td>0.000053</td>\n",
       "      <td>-0.047104</td>\n",
       "      <td>-0.024426</td>\n",
       "      <td>0.002769</td>\n",
       "      <td>-0.021392</td>\n",
       "      <td>-0.009642</td>\n",
       "      <td>0.057881</td>\n",
       "      <td>-0.002587</td>\n",
       "      <td>-0.001672</td>\n",
       "      <td>0.014512</td>\n",
       "      <td>...</td>\n",
       "      <td>0.033934</td>\n",
       "      <td>0.011135</td>\n",
       "      <td>-0.037110</td>\n",
       "      <td>-0.015543</td>\n",
       "      <td>-0.039739</td>\n",
       "      <td>0.013641</td>\n",
       "      <td>-0.044061</td>\n",
       "      <td>-0.028385</td>\n",
       "      <td>0.002148</td>\n",
       "      <td>0.002315</td>\n",
       "    </tr>\n",
       "    <tr>\n",
       "      <th>28665</th>\n",
       "      <td>-0.032445</td>\n",
       "      <td>-0.000637</td>\n",
       "      <td>-0.000955</td>\n",
       "      <td>-0.066391</td>\n",
       "      <td>0.022123</td>\n",
       "      <td>-0.038293</td>\n",
       "      <td>-0.004615</td>\n",
       "      <td>-0.012204</td>\n",
       "      <td>-0.020850</td>\n",
       "      <td>-0.017536</td>\n",
       "      <td>...</td>\n",
       "      <td>0.078068</td>\n",
       "      <td>0.001750</td>\n",
       "      <td>-0.037340</td>\n",
       "      <td>-0.084835</td>\n",
       "      <td>-0.006891</td>\n",
       "      <td>-0.010650</td>\n",
       "      <td>0.039374</td>\n",
       "      <td>-0.045501</td>\n",
       "      <td>-0.050603</td>\n",
       "      <td>-0.026910</td>\n",
       "    </tr>\n",
       "    <tr>\n",
       "      <th>28666</th>\n",
       "      <td>-0.016671</td>\n",
       "      <td>0.008679</td>\n",
       "      <td>-0.036429</td>\n",
       "      <td>0.014224</td>\n",
       "      <td>-0.031795</td>\n",
       "      <td>-0.032131</td>\n",
       "      <td>-0.072621</td>\n",
       "      <td>-0.049019</td>\n",
       "      <td>0.035175</td>\n",
       "      <td>-0.014589</td>\n",
       "      <td>...</td>\n",
       "      <td>0.049477</td>\n",
       "      <td>0.027712</td>\n",
       "      <td>0.034322</td>\n",
       "      <td>0.011597</td>\n",
       "      <td>-0.024879</td>\n",
       "      <td>0.014487</td>\n",
       "      <td>-0.039758</td>\n",
       "      <td>-0.025672</td>\n",
       "      <td>0.011619</td>\n",
       "      <td>-0.007306</td>\n",
       "    </tr>\n",
       "  </tbody>\n",
       "</table>\n",
       "<p>28667 rows × 768 columns</p>\n",
       "</div>"
      ],
      "text/plain": [
       "       video_title_dim0  video_title_dim1  video_title_dim2  video_title_dim3  \\\n",
       "0              0.009093          0.021144         -0.008860         -0.064535   \n",
       "1             -0.004329         -0.068817         -0.005405          0.057014   \n",
       "2             -0.076475         -0.005609         -0.088073         -0.038762   \n",
       "3             -0.052240          0.054189         -0.062050         -0.043521   \n",
       "4              0.049462          0.024351         -0.034504         -0.004160   \n",
       "...                 ...               ...               ...               ...   \n",
       "28662          0.021674         -0.047585         -0.083370         -0.046521   \n",
       "28663         -0.023548         -0.000685         -0.046862          0.000552   \n",
       "28664          0.000053         -0.047104         -0.024426          0.002769   \n",
       "28665         -0.032445         -0.000637         -0.000955         -0.066391   \n",
       "28666         -0.016671          0.008679         -0.036429          0.014224   \n",
       "\n",
       "       video_title_dim4  video_title_dim5  video_title_dim6  video_title_dim7  \\\n",
       "0              0.003731         -0.035317         -0.036237         -0.075430   \n",
       "1             -0.050793          0.013811         -0.039786          0.034869   \n",
       "2             -0.049585         -0.058046         -0.047675         -0.002589   \n",
       "3              0.024455         -0.072412         -0.066103         -0.021296   \n",
       "4              0.043551          0.002668         -0.054742          0.023563   \n",
       "...                 ...               ...               ...               ...   \n",
       "28662         -0.060033         -0.042181          0.011170         -0.041465   \n",
       "28663         -0.040419         -0.023264         -0.003123         -0.055641   \n",
       "28664         -0.021392         -0.009642          0.057881         -0.002587   \n",
       "28665          0.022123         -0.038293         -0.004615         -0.012204   \n",
       "28666         -0.031795         -0.032131         -0.072621         -0.049019   \n",
       "\n",
       "       video_title_dim8  video_title_dim9  ...  video_title_dim758  \\\n",
       "0              0.068747         -0.031702  ...            0.031078   \n",
       "1             -0.030075          0.050910  ...            0.080197   \n",
       "2              0.046021         -0.004440  ...           -0.017091   \n",
       "3              0.039994          0.018421  ...            0.053687   \n",
       "4             -0.015602         -0.008923  ...           -0.003383   \n",
       "...                 ...               ...  ...                 ...   \n",
       "28662          0.077218         -0.022856  ...            0.029917   \n",
       "28663         -0.042562          0.023054  ...            0.001573   \n",
       "28664         -0.001672          0.014512  ...            0.033934   \n",
       "28665         -0.020850         -0.017536  ...            0.078068   \n",
       "28666          0.035175         -0.014589  ...            0.049477   \n",
       "\n",
       "       video_title_dim759  video_title_dim760  video_title_dim761  \\\n",
       "0                0.012558            0.005517           -0.002610   \n",
       "1                0.028814           -0.002630           -0.009517   \n",
       "2               -0.013402           -0.008842           -0.005788   \n",
       "3               -0.010949            0.024411           -0.013131   \n",
       "4               -0.047029            0.026381           -0.013540   \n",
       "...                   ...                 ...                 ...   \n",
       "28662           -0.006506           -0.015061           -0.025143   \n",
       "28663            0.007381            0.028332           -0.038406   \n",
       "28664            0.011135           -0.037110           -0.015543   \n",
       "28665            0.001750           -0.037340           -0.084835   \n",
       "28666            0.027712            0.034322            0.011597   \n",
       "\n",
       "       video_title_dim762  video_title_dim763  video_title_dim764  \\\n",
       "0               -0.029585           -0.029494           -0.006481   \n",
       "1               -0.030325            0.027094           -0.008299   \n",
       "2               -0.055960            0.023729           -0.020386   \n",
       "3               -0.036337           -0.025544           -0.067384   \n",
       "4               -0.004209            0.002244           -0.052437   \n",
       "...                   ...                 ...                 ...   \n",
       "28662           -0.016077            0.001346            0.013126   \n",
       "28663           -0.072155           -0.040280           -0.015877   \n",
       "28664           -0.039739            0.013641           -0.044061   \n",
       "28665           -0.006891           -0.010650            0.039374   \n",
       "28666           -0.024879            0.014487           -0.039758   \n",
       "\n",
       "       video_title_dim765  video_title_dim766  video_title_dim767  \n",
       "0                0.020358            0.003455           -0.036908  \n",
       "1               -0.013473           -0.057107            0.010991  \n",
       "2               -0.015047           -0.013474           -0.002428  \n",
       "3               -0.020587           -0.030198            0.024231  \n",
       "4               -0.001880           -0.095914           -0.000255  \n",
       "...                   ...                 ...                 ...  \n",
       "28662           -0.034247           -0.014442            0.001682  \n",
       "28663           -0.049243           -0.000857            0.017989  \n",
       "28664           -0.028385            0.002148            0.002315  \n",
       "28665           -0.045501           -0.050603           -0.026910  \n",
       "28666           -0.025672            0.011619           -0.007306  \n",
       "\n",
       "[28667 rows x 768 columns]"
      ]
     },
     "execution_count": 7,
     "metadata": {},
     "output_type": "execute_result"
    }
   ],
   "source": [
    "embedded_text"
   ]
  },
  {
   "cell_type": "code",
   "execution_count": 8,
   "metadata": {},
   "outputs": [
    {
     "data": {
      "text/plain": [
       "tag_count\n",
       "0      7748\n",
       "6       669\n",
       "4       663\n",
       "23      657\n",
       "14      652\n",
       "       ... \n",
       "105       1\n",
       "94        1\n",
       "93        1\n",
       "131       1\n",
       "111       1\n",
       "Name: count, Length: 110, dtype: int64"
      ]
     },
     "execution_count": 8,
     "metadata": {},
     "output_type": "execute_result"
    }
   ],
   "source": [
    "data['tag_count'] = data['video_tags'].apply(lambda x: 0 if x == 'No tags' else len(x.split(',')))\n",
    "data['tag_count'].value_counts()"
   ]
  },
  {
   "cell_type": "code",
   "execution_count": 9,
   "metadata": {},
   "outputs": [
    {
     "data": {
      "text/plain": [
       "(28667, 16)"
      ]
     },
     "execution_count": 9,
     "metadata": {},
     "output_type": "execute_result"
    }
   ],
   "source": [
    "from sklearn.decomposition import PCA\n",
    "embedding_dim = 16\n",
    "pca = PCA(n_components=embedding_dim)\n",
    "reduced_embeddings = pca.fit_transform(np.array(embedded_text))\n",
    "\n",
    "embedding_columns = [f\"text_embeddings_{i}\" for i in range(embedding_dim)]\n",
    "embedding_df = pd.DataFrame(reduced_embeddings, columns=embedding_columns)\n",
    "embedding_df.shape"
   ]
  },
  {
   "cell_type": "code",
   "execution_count": 10,
   "metadata": {},
   "outputs": [
    {
     "data": {
      "text/plain": [
       "(28667, 69)"
      ]
     },
     "execution_count": 10,
     "metadata": {},
     "output_type": "execute_result"
    }
   ],
   "source": [
    "data = pd.concat([data, embedding_df], axis=1)\n",
    "data.shape"
   ]
  },
  {
   "cell_type": "code",
   "execution_count": 11,
   "metadata": {},
   "outputs": [],
   "source": [
    "categorical_features = [\n",
    "    'video_category_id', 'is_weekend',\n",
    "    'video_definition', 'video_dimension', 'video_licensed_content',\n",
    "    'channel_country', 'channel_have_hidden_subscribers',\n",
    "    'published_morning', 'published_afternoon', 'published_evening', 'published_night', 'contain_1', 'contain_2',\n",
    "       'contain_3'\n",
    "]\n",
    "numerical_features = [\n",
    "    'video_duration_seconds', 'channel_video_count', 'channel_video_channel_publish_difference',\n",
    "    'dominant_color_r', 'dominant_color_g', 'dominant_color_b',\n",
    "       'brightness', 'color_diversity','tag_count'\n",
    "]"
   ]
  },
  {
   "cell_type": "code",
   "execution_count": 12,
   "metadata": {},
   "outputs": [
    {
     "data": {
      "text/plain": [
       "0           43\n",
       "1         5274\n",
       "2        36548\n",
       "3          920\n",
       "4          952\n",
       "         ...  \n",
       "28662      318\n",
       "28663     3383\n",
       "28664       72\n",
       "28665       21\n",
       "28666       28\n",
       "Name: channel_video_count, Length: 28667, dtype: int64"
      ]
     },
     "execution_count": 12,
     "metadata": {},
     "output_type": "execute_result"
    }
   ],
   "source": [
    "final_data.channel_video_count"
   ]
  },
  {
   "cell_type": "code",
   "execution_count": 13,
   "metadata": {},
   "outputs": [],
   "source": [
    "embedded_text_columns = embedding_df.columns.tolist()\n",
    "embedded_text_columns\n",
    "X_categorical = data[categorical_features]\n",
    "X_numerical = data[numerical_features]\n",
    "X_text = data[embedded_text_columns]\n",
    "y = data['is_trending']"
   ]
  },
  {
   "cell_type": "code",
   "execution_count": 14,
   "metadata": {},
   "outputs": [],
   "source": [
    "# from sklearn.ensemble import IsolationForest\n",
    "# isolation_forest = IsolationForest(contamination=0.10, random_state=42) \n",
    "# outliers = isolation_forest.fit_predict(X_numerical)\n",
    "\n",
    "# data_cleaned = data[outliers != -1]\n",
    "# data_cleaned.shape"
   ]
  },
  {
   "cell_type": "code",
   "execution_count": 15,
   "metadata": {},
   "outputs": [
    {
     "data": {
      "text/plain": [
       "(28667, 39)"
      ]
     },
     "execution_count": 15,
     "metadata": {},
     "output_type": "execute_result"
    }
   ],
   "source": [
    "import numpy as np\n",
    "X = pd.concat((X_numerical, X_categorical, X_text),axis=1)\n",
    "X.shape"
   ]
  },
  {
   "cell_type": "code",
   "execution_count": 71,
   "metadata": {},
   "outputs": [
    {
     "name": "stderr",
     "output_type": "stream",
     "text": [
      "/usr/local/lib/python3.11/dist-packages/feature_engine/encoding/rare_label.py:216: UserWarning: The number of unique categories for variable video_definition is less than that indicated in n_categories. Thus, all categories will be considered frequent\n",
      "  warnings.warn(\n",
      "/usr/local/lib/python3.11/dist-packages/feature_engine/encoding/rare_label.py:216: UserWarning: The number of unique categories for variable video_dimension is less than that indicated in n_categories. Thus, all categories will be considered frequent\n",
      "  warnings.warn(\n"
     ]
    },
    {
     "data": {
      "text/plain": [
       "(28667, 35)"
      ]
     },
     "execution_count": 71,
     "metadata": {},
     "output_type": "execute_result"
    }
   ],
   "source": [
    "from feature_engine.selection import DropConstantFeatures, DropDuplicateFeatures, DropCorrelatedFeatures\n",
    "from feature_engine.pipeline import Pipeline\n",
    "from feature_engine.imputation import CategoricalImputer\n",
    "from feature_engine.encoding import RareLabelEncoder\n",
    "pipeline = Pipeline([\n",
    "    (\"categorical_imputer\", CategoricalImputer(\n",
    "    variables=['contain_1', 'contain_2', 'contain_3'],\n",
    "    fill_value=\"Empty\")),\n",
    "    (\"rare_label_encode\", RareLabelEncoder(tol=0.005, ignore_format=False)),\n",
    "    (\"num_rare_label_encode\", RareLabelEncoder(tol=0.005, ignore_format=True, variables=['tag_count'], replace_with=-1)),\n",
    "    (\"drop_constant_features\", DropConstantFeatures(tol=0.90)),\n",
    "    (\"drop_duplicate_features\", DropDuplicateFeatures()),\n",
    "    (\"drop_correlated_features\", DropCorrelatedFeatures(method='pearson', threshold=0.90))\n",
    "])\n",
    "\n",
    "X_final = pipeline.fit_transform(X)\n",
    "X_final.shape"
   ]
  },
  {
   "cell_type": "code",
   "execution_count": 72,
   "metadata": {},
   "outputs": [
    {
     "data": {
      "text/plain": [
       "{'channel_have_hidden_subscribers',\n",
       " 'video_definition',\n",
       " 'video_dimension',\n",
       " 'video_licensed_content'}"
      ]
     },
     "execution_count": 72,
     "metadata": {},
     "output_type": "execute_result"
    }
   ],
   "source": [
    "# check difference of columns between X and X_final\n",
    "set(X.columns) - set(X_final.columns)"
   ]
  },
  {
   "cell_type": "code",
   "execution_count": 74,
   "metadata": {},
   "outputs": [],
   "source": [
    "from sklearn.model_selection import train_test_split\n",
    "X_train, X_test, y_train, y_test = train_test_split(X_final, y, test_size=0.2, random_state=0)"
   ]
  },
  {
   "cell_type": "code",
   "execution_count": 75,
   "metadata": {},
   "outputs": [],
   "source": [
    "categorical_features = [\n",
    "    'video_category_id', 'is_weekend',\n",
    "    'channel_country', \n",
    "    'published_morning', 'published_afternoon', 'published_evening', 'published_night', 'contain_1', 'contain_2','contain_3'\n",
    "]\n",
    "numerical_features = [\n",
    "    'video_duration_seconds', 'channel_video_count', 'channel_video_channel_publish_difference',\n",
    "    'dominant_color_r', 'dominant_color_b', 'dominant_color_g',\n",
    "       'brightness', 'color_diversity','tag_count'\n",
    "]"
   ]
  },
  {
   "cell_type": "code",
   "execution_count": 76,
   "metadata": {},
   "outputs": [],
   "source": [
    "X_train_categorical = X_train[categorical_features]\n",
    "X_test_categorical = X_test[categorical_features]\n",
    "\n",
    "X_train_numerical = X_train[numerical_features]\n",
    "X_test_numerical = X_test[numerical_features]\n",
    "\n",
    "X_train_text = X_train[embedded_text_columns]\n",
    "X_test_text = X_test[embedded_text_columns]"
   ]
  },
  {
   "cell_type": "code",
   "execution_count": 77,
   "metadata": {},
   "outputs": [],
   "source": [
    "from feature_engine.encoding import DecisionTreeEncoder\n",
    "from feature_engine.encoding import OneHotEncoder\n",
    "from feature_engine.encoding import MeanEncoder\n",
    "\n",
    "encoder = DecisionTreeEncoder(random_state=42, regression=False)\n",
    "X_train_encode = encoder.fit_transform(X_train_categorical, y_train)\n",
    "X_test_encode = encoder.transform(X_test_categorical)"
   ]
  },
  {
   "cell_type": "code",
   "execution_count": 78,
   "metadata": {},
   "outputs": [],
   "source": [
    "# from feature_engine.transformation import LogTransformer\n",
    "\n",
    "# log_transformer = LogTransformer(variables=numerical_features)\n",
    "\n",
    "# X_train_log = log_transformer.fit_transform(X_train_numerical)\n",
    "# X_test_log = log_transformer.transform(X_test_numerical) # di naman gumana hahahaha"
   ]
  },
  {
   "cell_type": "code",
   "execution_count": 79,
   "metadata": {},
   "outputs": [],
   "source": [
    "# from imblearn.combine import SMOTEENN\n",
    "# smote_enn = SMOTEENN(random_state=42)\n",
    "# X_train_resampled, y_train_resampled = smote_enn.fit_resample(X_train_combined, X_test_combined)"
   ]
  },
  {
   "cell_type": "code",
   "execution_count": 80,
   "metadata": {},
   "outputs": [],
   "source": [
    "# from sklearn.preprocessing import StandardScaler\n",
    "# scaler = StandardScaler()\n",
    "# X_train_scaled = scaler.fit_transform(X_train_numerical)\n",
    "# X_test_scaled = scaler.transform(X_test_numerical)\n",
    "# # X_train_resampled, y_train_resampled = smote_enn.fit_resample(X_train_scaled, y_train)\n",
    "# X_train = np.hstack((X_train_encode, X_train_scaled))\n",
    "# X_test = np.hstack((X_test_encode, X_test_scaled))"
   ]
  },
  {
   "cell_type": "code",
   "execution_count": 81,
   "metadata": {},
   "outputs": [
    {
     "name": "stdout",
     "output_type": "stream",
     "text": [
      "Model Accuracy: 0.7054412277642135\n",
      "[[2105  827]\n",
      " [ 862 1940]]\n",
      "              precision    recall  f1-score   support\n",
      "\n",
      "           0       0.71      0.72      0.71      2932\n",
      "           1       0.70      0.69      0.70      2802\n",
      "\n",
      "    accuracy                           0.71      5734\n",
      "   macro avg       0.71      0.71      0.71      5734\n",
      "weighted avg       0.71      0.71      0.71      5734\n",
      "\n"
     ]
    },
    {
     "data": {
      "image/png": "[encoded data removed]",
      "text/plain": [
       "<Figure size 1000x600 with 1 Axes>"
      ]
     },
     "metadata": {},
     "output_type": "display_data"
    },
    {
     "data": {
      "text/html": [
       "<div>\n",
       "<style scoped>\n",
       "    .dataframe tbody tr th:only-of-type {\n",
       "        vertical-align: middle;\n",
       "    }\n",
       "\n",
       "    .dataframe tbody tr th {\n",
       "        vertical-align: top;\n",
       "    }\n",
       "\n",
       "    .dataframe thead th {\n",
       "        text-align: right;\n",
       "    }\n",
       "</style>\n",
       "<table border=\"1\" class=\"dataframe\">\n",
       "  <thead>\n",
       "    <tr style=\"text-align: right;\">\n",
       "      <th></th>\n",
       "      <th>Feature Prefix</th>\n",
       "      <th>Total Importance</th>\n",
       "    </tr>\n",
       "  </thead>\n",
       "  <tbody>\n",
       "    <tr>\n",
       "      <th>0</th>\n",
       "      <td>text_embeddings</td>\n",
       "      <td>0.539265</td>\n",
       "    </tr>\n",
       "  </tbody>\n",
       "</table>\n",
       "</div>"
      ],
      "text/plain": [
       "    Feature Prefix  Total Importance\n",
       "0  text_embeddings          0.539265"
      ]
     },
     "execution_count": 81,
     "metadata": {},
     "output_type": "execute_result"
    }
   ],
   "source": [
    "from sklearn.preprocessing import MinMaxScaler, StandardScaler\n",
    "mmx_scaler = StandardScaler()\n",
    "X_train_mmx = mmx_scaler.fit_transform(np.hstack((X_train_numerical, X_train_encode, X_train_text)))\n",
    "X_test_mmx = mmx_scaler.transform(np.hstack((X_test_numerical, X_test_encode, X_test_text)))\n",
    "\n",
    "from sklearn.ensemble import RandomForestClassifier\n",
    "\n",
    "model = RandomForestClassifier(max_depth=300,\n",
    "        max_features='sqrt',\n",
    "        n_estimators=1000,\n",
    "        min_samples_leaf=1,\n",
    "        min_samples_split=3,\n",
    "        random_state=33)\n",
    "model.fit(X_train_mmx, y_train)\n",
    "accuracy = model.score(X_test_mmx, y_test)\n",
    "print(f\"Model Accuracy: {accuracy}\")\n",
    "from sklearn.metrics import classification_report, confusion_matrix\n",
    "y_pred = model.predict(X_test_mmx)\n",
    "print(confusion_matrix(y_test, y_pred))\n",
    "print(classification_report(y_test, y_pred))\n",
    "\n",
    "feature_names = pd.concat([data[categorical_features],data[numerical_features],data[embedded_text_columns]]).columns\n",
    "feature_importances = model.feature_importances_\n",
    "importance_df = pd.DataFrame({\n",
    "    'Feature': feature_names,\n",
    "    'Importance': feature_importances\n",
    "}).sort_values(by='Importance', ascending=False)\n",
    "\n",
    "top_features = importance_df.head(20)\n",
    "plt.figure(figsize=(10, 6))\n",
    "plt.barh(top_features['Feature'], top_features['Importance'], color='skyblue')\n",
    "plt.xlabel('Feature Importance')\n",
    "plt.ylabel('Features')\n",
    "plt.title('Top 20 Feature Importances in Random Forest')\n",
    "plt.gca().invert_yaxis()  \n",
    "plt.show()\n",
    "\n",
    "importance_df['Prefix'] = importance_df['Feature'].str.extract(r'(text_embeddings)')\n",
    "\n",
    "# Group by the extracted prefix and sum the importance values\n",
    "aggregated_importance = importance_df.groupby('Prefix')['Importance'].sum().reset_index()\n",
    "\n",
    "# Rename columns for clarity\n",
    "aggregated_importance.columns = ['Feature Prefix', 'Total Importance']\n",
    "aggregated_importance"
   ]
  },
  {
   "cell_type": "code",
   "execution_count": 82,
   "metadata": {},
   "outputs": [
    {
     "name": "stdout",
     "output_type": "stream",
     "text": [
      "Model Accuracy: 0.7075340076735264\n",
      "[[2111  821]\n",
      " [ 856 1946]]\n",
      "              precision    recall  f1-score   support\n",
      "\n",
      "           0       0.71      0.72      0.72      2932\n",
      "           1       0.70      0.69      0.70      2802\n",
      "\n",
      "    accuracy                           0.71      5734\n",
      "   macro avg       0.71      0.71      0.71      5734\n",
      "weighted avg       0.71      0.71      0.71      5734\n",
      "\n"
     ]
    },
    {
     "data": {
      "image/png": "[encoded data removed]",
      "text/plain": [
       "<Figure size 1000x600 with 1 Axes>"
      ]
     },
     "metadata": {},
     "output_type": "display_data"
    },
    {
     "data": {
      "text/html": [
       "<div>\n",
       "<style scoped>\n",
       "    .dataframe tbody tr th:only-of-type {\n",
       "        vertical-align: middle;\n",
       "    }\n",
       "\n",
       "    .dataframe tbody tr th {\n",
       "        vertical-align: top;\n",
       "    }\n",
       "\n",
       "    .dataframe thead th {\n",
       "        text-align: right;\n",
       "    }\n",
       "</style>\n",
       "<table border=\"1\" class=\"dataframe\">\n",
       "  <thead>\n",
       "    <tr style=\"text-align: right;\">\n",
       "      <th></th>\n",
       "      <th>Feature Prefix</th>\n",
       "      <th>Total Importance</th>\n",
       "    </tr>\n",
       "  </thead>\n",
       "  <tbody>\n",
       "    <tr>\n",
       "      <th>0</th>\n",
       "      <td>text_embeddings</td>\n",
       "      <td>0.538154</td>\n",
       "    </tr>\n",
       "  </tbody>\n",
       "</table>\n",
       "</div>"
      ],
      "text/plain": [
       "    Feature Prefix  Total Importance\n",
       "0  text_embeddings          0.538154"
      ]
     },
     "execution_count": 82,
     "metadata": {},
     "output_type": "execute_result"
    }
   ],
   "source": [
    "from sklearn.preprocessing import MinMaxScaler\n",
    "mmx_scaler = MinMaxScaler()\n",
    "X_train_mmx = np.hstack((X_train_numerical, X_train_encode,X_train_text))\n",
    "X_test_mmx = np.hstack((X_test_numerical, X_test_encode, X_test_text))\n",
    "\n",
    "from sklearn.ensemble import RandomForestClassifier\n",
    "\n",
    "model = RandomForestClassifier(max_depth=300,\n",
    "        max_features='sqrt',\n",
    "        n_estimators=1000,\n",
    "        min_samples_leaf=1,\n",
    "        min_samples_split=3,\n",
    "        random_state=33)\n",
    "model.fit(X_train_mmx, y_train)\n",
    "accuracy = model.score(X_test_mmx, y_test)\n",
    "print(f\"Model Accuracy: {accuracy}\")\n",
    "from sklearn.metrics import classification_report, confusion_matrix\n",
    "y_pred = model.predict(X_test_mmx)\n",
    "print(confusion_matrix(y_test, y_pred))\n",
    "print(classification_report(y_test, y_pred))\n",
    "\n",
    "feature_names = pd.concat([data[categorical_features],data[numerical_features],data[embedded_text_columns]]).columns\n",
    "feature_importances = model.feature_importances_\n",
    "importance_df = pd.DataFrame({\n",
    "    'Feature': feature_names,\n",
    "    'Importance': feature_importances\n",
    "}).sort_values(by='Importance', ascending=False)\n",
    "\n",
    "top_features = importance_df.head(20)\n",
    "plt.figure(figsize=(10, 6))\n",
    "plt.barh(top_features['Feature'], top_features['Importance'], color='skyblue')\n",
    "plt.xlabel('Feature Importance')\n",
    "plt.ylabel('Features')\n",
    "plt.title('Top 20 Feature Importances in Random Forest')\n",
    "plt.gca().invert_yaxis()  \n",
    "plt.show()\n",
    "\n",
    "importance_df['Prefix'] = importance_df['Feature'].str.extract(r'(text_embeddings)')\n",
    "\n",
    "# Group by the extracted prefix and sum the importance values\n",
    "aggregated_importance = importance_df.groupby('Prefix')['Importance'].sum().reset_index()\n",
    "\n",
    "# Rename columns for clarity\n",
    "aggregated_importance.columns = ['Feature Prefix', 'Total Importance']\n",
    "aggregated_importance"
   ]
  },
  {
   "cell_type": "code",
   "execution_count": 83,
   "metadata": {},
   "outputs": [
    {
     "name": "stdout",
     "output_type": "stream",
     "text": [
      "Model Accuracy: 0.7075340076735264\n",
      "[[2111  821]\n",
      " [ 856 1946]]\n",
      "              precision    recall  f1-score   support\n",
      "\n",
      "           0       0.71      0.72      0.72      2932\n",
      "           1       0.70      0.69      0.70      2802\n",
      "\n",
      "    accuracy                           0.71      5734\n",
      "   macro avg       0.71      0.71      0.71      5734\n",
      "weighted avg       0.71      0.71      0.71      5734\n",
      "\n"
     ]
    },
    {
     "data": {
      "image/png": "[encoded data removed]",
      "text/plain": [
       "<Figure size 1000x600 with 1 Axes>"
      ]
     },
     "metadata": {},
     "output_type": "display_data"
    },
    {
     "data": {
      "text/html": [
       "<div>\n",
       "<style scoped>\n",
       "    .dataframe tbody tr th:only-of-type {\n",
       "        vertical-align: middle;\n",
       "    }\n",
       "\n",
       "    .dataframe tbody tr th {\n",
       "        vertical-align: top;\n",
       "    }\n",
       "\n",
       "    .dataframe thead th {\n",
       "        text-align: right;\n",
       "    }\n",
       "</style>\n",
       "<table border=\"1\" class=\"dataframe\">\n",
       "  <thead>\n",
       "    <tr style=\"text-align: right;\">\n",
       "      <th></th>\n",
       "      <th>Feature Prefix</th>\n",
       "      <th>Total Importance</th>\n",
       "    </tr>\n",
       "  </thead>\n",
       "  <tbody>\n",
       "    <tr>\n",
       "      <th>0</th>\n",
       "      <td>text_embeddings</td>\n",
       "      <td>0.538154</td>\n",
       "    </tr>\n",
       "  </tbody>\n",
       "</table>\n",
       "</div>"
      ],
      "text/plain": [
       "    Feature Prefix  Total Importance\n",
       "0  text_embeddings          0.538154"
      ]
     },
     "execution_count": 83,
     "metadata": {},
     "output_type": "execute_result"
    }
   ],
   "source": [
    "from sklearn.preprocessing import MinMaxScaler\n",
    "mmx_scaler = StandardScaler()\n",
    "X_train_mmx = np.hstack((X_train_numerical, X_train_encode, X_train_text))\n",
    "X_test_mmx = np.hstack((X_test_numerical, X_test_encode, X_test_text))\n",
    "\n",
    "from sklearn.ensemble import RandomForestClassifier\n",
    "\n",
    "model = RandomForestClassifier(max_depth=300,\n",
    "        max_features='sqrt',\n",
    "        n_estimators=1000,\n",
    "        min_samples_leaf=1,\n",
    "        min_samples_split=3,\n",
    "        random_state=33)\n",
    "model.fit(X_train_mmx, y_train)\n",
    "accuracy = model.score(X_test_mmx, y_test)\n",
    "print(f\"Model Accuracy: {accuracy}\")\n",
    "from sklearn.metrics import classification_report, confusion_matrix\n",
    "y_pred = model.predict(X_test_mmx)\n",
    "print(confusion_matrix(y_test, y_pred))\n",
    "print(classification_report(y_test, y_pred))\n",
    "\n",
    "feature_names = pd.concat([data[categorical_features],data[numerical_features],data[embedded_text_columns]]).columns\n",
    "feature_importances = model.feature_importances_\n",
    "importance_df = pd.DataFrame({\n",
    "    'Feature': feature_names,\n",
    "    'Importance': feature_importances\n",
    "}).sort_values(by='Importance', ascending=False)\n",
    "\n",
    "top_features = importance_df.head(20)\n",
    "plt.figure(figsize=(10, 6))\n",
    "plt.barh(top_features['Feature'], top_features['Importance'], color='skyblue')\n",
    "plt.xlabel('Feature Importance')\n",
    "plt.ylabel('Features')\n",
    "plt.title('Top 20 Feature Importances in Random Forest')\n",
    "plt.gca().invert_yaxis()  \n",
    "plt.show()\n",
    "\n",
    "importance_df['Prefix'] = importance_df['Feature'].str.extract(r'(text_embeddings)')\n",
    "\n",
    "# Group by the extracted prefix and sum the importance values\n",
    "aggregated_importance = importance_df.groupby('Prefix')['Importance'].sum().reset_index()\n",
    "\n",
    "# Rename columns for clarity\n",
    "aggregated_importance.columns = ['Feature Prefix', 'Total Importance']\n",
    "aggregated_importance"
   ]
  },
  {
   "cell_type": "code",
   "execution_count": null,
   "metadata": {},
   "outputs": [],
   "source": []
  }
 ],
 "metadata": {
  "kernelspec": {
   "display_name": "Python 3 (ipykernel)",
   "language": "python",
   "name": "python3"
  },
  "language_info": {
   "codemirror_mode": {
    "name": "ipython",
    "version": 3
   },
   "file_extension": ".py",
   "mimetype": "text/x-python",
   "name": "python",
   "nbconvert_exporter": "python",
   "pygments_lexer": "ipython3",
   "version": "3.11.10"
  }
 },
 "nbformat": 4,
 "nbformat_minor": 4
}
