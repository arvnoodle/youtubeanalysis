{
 "cells": [
  {
   "cell_type": "code",
   "execution_count": 1,
   "metadata": {},
   "outputs": [],
   "source": [
    "from sklearn.preprocessing import StandardScaler\n",
    "#from factor_analyzer import FactorAnalyzer, calculate_kmo\n",
    "from scipy.stats import bartlett\n",
    "import pandas as pd\n",
    "from sklearn.preprocessing import StandardScaler\n",
    "#from factor_analyzer import FactorAnalyzer, calculate_kmo, calculate_bartlett_sphericity\n",
    "import pandas as pd\n",
    "import numpy as np\n",
    "import matplotlib.pyplot as plt\n",
    "#import pingouin as pg\n",
    "import seaborn as sns"
   ]
  },
  {
   "cell_type": "code",
   "execution_count": 2,
   "metadata": {},
   "outputs": [],
   "source": [
    "# data_path = \"data_cleaned_feature_31.parquet\"\n",
    "# data = pd.read_parquet(data_path)\n",
    "# print(data.columns)\n",
    "# data.shape"
   ]
  },
  {
   "cell_type": "code",
   "execution_count": 3,
   "metadata": {},
   "outputs": [
    {
     "name": "stdout",
     "output_type": "stream",
     "text": [
      "Index(['video_id', 'video_published_at', 'video_trending__date',\n",
      "       'video_trending_country', 'channel_id', 'video_title',\n",
      "       'video_description', 'video_default_thumbnail', 'video_category_id',\n",
      "       'video_tags', 'video_duration', 'video_dimension', 'video_definition',\n",
      "       'video_licensed_content', 'video_view_count', 'video_like_count',\n",
      "       'video_comment_count', 'channel_title', 'channel_description',\n",
      "       'channel_custom_url', 'channel_published_at', 'channel_country',\n",
      "       'channel_view_count', 'channel_subscriber_count',\n",
      "       'channel_have_hidden_subscribers', 'channel_video_count',\n",
      "       'channel_localized_title', 'channel_localized_description',\n",
      "       'engagement_rate', 'time_difference', 'video_duration_seconds',\n",
      "       'time_difference_days', 'channel_cluster',\n",
      "       'time_to_trend_difference_seconds', 'is_weekend', 'is_trending',\n",
      "       'published_hour', 'published_morning', 'published_afternoon',\n",
      "       'published_evening', 'published_night',\n",
      "       'channel_video_channel_publish_difference', 'time_of_day'],\n",
      "      dtype='object')\n"
     ]
    },
    {
     "data": {
      "text/plain": [
       "(28667, 43)"
      ]
     },
     "execution_count": 3,
     "metadata": {},
     "output_type": "execute_result"
    }
   ],
   "source": [
    "data_path = \"data_youtube_cleaned_first_final.csv\"\n",
    "data = pd.read_csv(data_path)\n",
    "print(data.columns)\n",
    "data.shape"
   ]
  },
  {
   "cell_type": "code",
   "execution_count": 4,
   "metadata": {},
   "outputs": [
    {
     "data": {
      "text/plain": [
       "is_trending\n",
       "0    14551\n",
       "1    14116\n",
       "Name: count, dtype: int64"
      ]
     },
     "execution_count": 4,
     "metadata": {},
     "output_type": "execute_result"
    }
   ],
   "source": [
    "data.is_trending.value_counts() ## checking how fast videos are trending"
   ]
  },
  {
   "cell_type": "code",
   "execution_count": 17,
   "metadata": {},
   "outputs": [
    {
     "name": "stdout",
     "output_type": "stream",
     "text": [
      "Creating new Ultralytics Settings v0.0.6 file ✅ \n",
      "View Ultralytics Settings with 'yolo settings' or at '/root/.config/Ultralytics/settings.json'\n",
      "Update Settings with 'yolo settings key=value', i.e. 'yolo settings runs_dir=path/to/dir'. For help see https://docs.ultralytics.com/quickstart/#ultralytics-settings.\n",
      "Downloading https://github.com/ultralytics/assets/releases/download/v8.3.0/yolo11n.pt to 'yolo11n.pt'...\n"
     ]
    },
    {
     "name": "stderr",
     "output_type": "stream",
     "text": [
      "100%|██████████| 5.35M/5.35M [00:00<00:00, 34.9MB/s]\n"
     ]
    }
   ],
   "source": [
    "import pandas as pd\n",
    "import requests\n",
    "from PIL import Image\n",
    "from io import BytesIO\n",
    "from tqdm import tqdm\n",
    "from ultralytics import YOLO  # Use ultralytics YOLO package or adapt for YOLOv5\n",
    "import os\n",
    "from icecream import ic \n",
    "from concurrent.futures import ThreadPoolExecutor\n",
    "import numpy as np\n",
    "import torch\n",
    "from torchvision import models, transforms\n",
    "import logging\n",
    "\n",
    "model = YOLO('yolo11n.pt')\n",
    "model.overrides['verbose'] = False  # Disable verbose logging\n",
    "# logging.getLogger(\"ultralytics\").setLevel(logging.ERROR)\n",
    "thumbnail_urls = data['video_default_thumbnail']\n",
    "def detect_objects(image):\n",
    "    results = model(image)  # Perform detection\n",
    "    detections_df = results[0].to_df()  # Convert detections to a DataFrame\n",
    "    \n",
    "    # Check if detections_df is empty\n",
    "    if detections_df.empty:\n",
    "        return {'contain_1': None, 'contain_2': None, 'contain_3': None}  # No objects detected\n",
    "\n",
    "    # Count object occurrences using the 'name' column\n",
    "    object_counts = detections_df['name'].value_counts()\n",
    "\n",
    "    # Extract the top 3 detected objects (if available)\n",
    "    top_objects = object_counts.index.tolist()[:3]\n",
    "    contains_face = int('person' in top_objects)\n",
    "\n",
    "    # Map to new keys for clarity\n",
    "    result = {\n",
    "        'contain_1': top_objects[0] if len(top_objects) > 0 else None,\n",
    "        'contain_2': top_objects[1] if len(top_objects) > 1 else None,\n",
    "        'contain_3': top_objects[2] if len(top_objects) > 2 else None,\n",
    "    }\n",
    "    \n",
    "    return result\n",
    "\n",
    "def analyze_colors(image):\n",
    "    image = image.resize((100, 100))  # Resize for speed\n",
    "    pixels = np.array(image).reshape(-1, 3)  # Flatten pixels\n",
    "    dominant_color = np.mean(pixels, axis=0)  # Average color (RGB)\n",
    "    brightness = np.mean(np.sqrt(np.sum(pixels**2, axis=1)))  # Brightness metric\n",
    "    color_diversity = len(np.unique(pixels, axis=0))  # Distinct colors\n",
    "    return {\n",
    "        'dominant_color_r': dominant_color[0],\n",
    "        'dominant_color_g': dominant_color[1],\n",
    "        'dominant_color_b': dominant_color[2],\n",
    "        'brightness': brightness,\n",
    "        'color_diversity': color_diversity\n",
    "    }"
   ]
  },
  {
   "cell_type": "code",
   "execution_count": null,
   "metadata": {},
   "outputs": [
    {
     "name": "stderr",
     "output_type": "stream",
     "text": [
      "Processing Thumbnails:  48%|████▊     | 11448/23933 [41:03<38:23,  5.42image/s]  "
     ]
    }
   ],
   "source": [
    "results_list = []\n",
    "for url in tqdm(thumbnail_urls, desc=\"Processing Thumbnails\", unit=\"image\"):\n",
    "    try:\n",
    "        # Download image\n",
    "        response = requests.get(url, timeout=5)\n",
    "        image = Image.open(BytesIO(response.content)).convert(\"RGB\")\n",
    "\n",
    "        # Detect objects\n",
    "        detection_results = detect_objects(image)\n",
    "        color_analysis = analyze_colors(image)\n",
    "        combined_results = {**detection_results, **color_analysis, 'thumbnail_url': url}\n",
    "        results_list.append(combined_results)\n",
    "    \n",
    "    except Exception as e:\n",
    "        print(f\"Failed to process {url}: {e}\")\n",
    "        results_list.append({'thumbnail_url': url, 'error': str(e)})\n",
    "\n",
    "final_data = pd.merge(data, pd.DataFrame(results_list), how=\"left\", left_on='video_default_thumbnail', right_on='thumbnail_url')"
   ]
  },
  {
   "cell_type": "code",
   "execution_count": 6,
   "metadata": {},
   "outputs": [
    {
     "data": {
      "text/plain": [
       "(28667, 52)"
      ]
     },
     "execution_count": 6,
     "metadata": {},
     "output_type": "execute_result"
    }
   ],
   "source": [
    "data = final_data.copy()\n",
    "data.shape"
   ]
  },
  {
   "cell_type": "code",
   "execution_count": 7,
   "metadata": {},
   "outputs": [
    {
     "name": "stderr",
     "output_type": "stream",
     "text": [
      "/workspace/testa/lib/python3.11/site-packages/tqdm/auto.py:21: TqdmWarning: IProgress not found. Please update jupyter and ipywidgets. See https://ipywidgets.readthedocs.io/en/stable/user_install.html\n",
      "  from .autonotebook import tqdm as notebook_tqdm\n",
      "Batches: 100%|██████████| 896/896 [01:15<00:00, 11.87it/s]\n"
     ]
    }
   ],
   "source": [
    "text_features = ['video_title']\n",
    "\n",
    "def clean_text_column(column):\n",
    "    \"\"\"Clean a text column by filling nulls and removing special characters.\"\"\"\n",
    "    return (\n",
    "        column.fillna(\"\")  # Fill missing values with empty string\n",
    "        .str.replace(r\"[^\\w\\s]\", \" \", regex=True)  # Remove special characters\n",
    "        .str.lower()  # Convert to lowercase\n",
    "        .str.strip()  # Remove leading/trailing spaces\n",
    "    )\n",
    "\n",
    "for text_feature in text_features:\n",
    "    data[text_feature] = clean_text_column(data[text_feature])\n",
    "\n",
    "from sentence_transformers import SentenceTransformer\n",
    "model = SentenceTransformer('Snowflake/snowflake-arctic-embed-l-v2.0', trust_remote_code=True)\n",
    "sentence_embeddings = {}\n",
    "for text_feature in text_features:\n",
    "    text_data = data[text_feature].tolist()\n",
    "    embeddings = model.encode(text_data, show_progress_bar=True)\n",
    "    sentence_embeddings[text_feature] = pd.DataFrame(\n",
    "        embeddings, \n",
    "        columns=[f\"{text_feature}_dim{i}\" for i in range(embeddings.shape[1])]\n",
    "    )\n",
    "\n",
    "embedded_text = pd.concat(sentence_embeddings.values(), axis=1)"
   ]
  },
  {
   "cell_type": "code",
   "execution_count": 8,
   "metadata": {},
   "outputs": [
    {
     "data": {
      "text/html": [
       "<div>\n",
       "<style scoped>\n",
       "    .dataframe tbody tr th:only-of-type {\n",
       "        vertical-align: middle;\n",
       "    }\n",
       "\n",
       "    .dataframe tbody tr th {\n",
       "        vertical-align: top;\n",
       "    }\n",
       "\n",
       "    .dataframe thead th {\n",
       "        text-align: right;\n",
       "    }\n",
       "</style>\n",
       "<table border=\"1\" class=\"dataframe\">\n",
       "  <thead>\n",
       "    <tr style=\"text-align: right;\">\n",
       "      <th></th>\n",
       "      <th>video_title_dim0</th>\n",
       "      <th>video_title_dim1</th>\n",
       "      <th>video_title_dim2</th>\n",
       "      <th>video_title_dim3</th>\n",
       "      <th>video_title_dim4</th>\n",
       "      <th>video_title_dim5</th>\n",
       "      <th>video_title_dim6</th>\n",
       "      <th>video_title_dim7</th>\n",
       "      <th>video_title_dim8</th>\n",
       "      <th>video_title_dim9</th>\n",
       "      <th>...</th>\n",
       "      <th>video_title_dim1014</th>\n",
       "      <th>video_title_dim1015</th>\n",
       "      <th>video_title_dim1016</th>\n",
       "      <th>video_title_dim1017</th>\n",
       "      <th>video_title_dim1018</th>\n",
       "      <th>video_title_dim1019</th>\n",
       "      <th>video_title_dim1020</th>\n",
       "      <th>video_title_dim1021</th>\n",
       "      <th>video_title_dim1022</th>\n",
       "      <th>video_title_dim1023</th>\n",
       "    </tr>\n",
       "  </thead>\n",
       "  <tbody>\n",
       "    <tr>\n",
       "      <th>0</th>\n",
       "      <td>-0.029332</td>\n",
       "      <td>0.073457</td>\n",
       "      <td>-0.025387</td>\n",
       "      <td>0.051385</td>\n",
       "      <td>-0.080761</td>\n",
       "      <td>0.003588</td>\n",
       "      <td>-0.029849</td>\n",
       "      <td>-0.018211</td>\n",
       "      <td>-0.117816</td>\n",
       "      <td>0.009209</td>\n",
       "      <td>...</td>\n",
       "      <td>0.015424</td>\n",
       "      <td>-0.010135</td>\n",
       "      <td>0.046761</td>\n",
       "      <td>-0.029204</td>\n",
       "      <td>-0.006269</td>\n",
       "      <td>-0.005549</td>\n",
       "      <td>0.026758</td>\n",
       "      <td>-0.023919</td>\n",
       "      <td>-0.016431</td>\n",
       "      <td>-0.009516</td>\n",
       "    </tr>\n",
       "    <tr>\n",
       "      <th>1</th>\n",
       "      <td>-0.013054</td>\n",
       "      <td>-0.000616</td>\n",
       "      <td>0.072254</td>\n",
       "      <td>-0.051791</td>\n",
       "      <td>0.044645</td>\n",
       "      <td>0.001377</td>\n",
       "      <td>0.039985</td>\n",
       "      <td>0.047299</td>\n",
       "      <td>-0.014075</td>\n",
       "      <td>0.021160</td>\n",
       "      <td>...</td>\n",
       "      <td>0.002187</td>\n",
       "      <td>-0.035403</td>\n",
       "      <td>-0.013216</td>\n",
       "      <td>0.013668</td>\n",
       "      <td>-0.034749</td>\n",
       "      <td>-0.000036</td>\n",
       "      <td>-0.061827</td>\n",
       "      <td>-0.003422</td>\n",
       "      <td>-0.017927</td>\n",
       "      <td>-0.012627</td>\n",
       "    </tr>\n",
       "    <tr>\n",
       "      <th>2</th>\n",
       "      <td>0.042582</td>\n",
       "      <td>0.016391</td>\n",
       "      <td>-0.015819</td>\n",
       "      <td>-0.063033</td>\n",
       "      <td>0.009769</td>\n",
       "      <td>0.021309</td>\n",
       "      <td>0.083345</td>\n",
       "      <td>-0.019655</td>\n",
       "      <td>0.007981</td>\n",
       "      <td>-0.027883</td>\n",
       "      <td>...</td>\n",
       "      <td>-0.018262</td>\n",
       "      <td>-0.018402</td>\n",
       "      <td>0.019069</td>\n",
       "      <td>-0.003547</td>\n",
       "      <td>0.011398</td>\n",
       "      <td>-0.040206</td>\n",
       "      <td>0.008057</td>\n",
       "      <td>-0.013344</td>\n",
       "      <td>0.000106</td>\n",
       "      <td>-0.030069</td>\n",
       "    </tr>\n",
       "    <tr>\n",
       "      <th>3</th>\n",
       "      <td>0.033424</td>\n",
       "      <td>0.041401</td>\n",
       "      <td>-0.009190</td>\n",
       "      <td>0.019307</td>\n",
       "      <td>-0.004661</td>\n",
       "      <td>0.037436</td>\n",
       "      <td>-0.056490</td>\n",
       "      <td>-0.106802</td>\n",
       "      <td>0.004678</td>\n",
       "      <td>-0.006344</td>\n",
       "      <td>...</td>\n",
       "      <td>0.010953</td>\n",
       "      <td>-0.014173</td>\n",
       "      <td>0.018121</td>\n",
       "      <td>-0.033014</td>\n",
       "      <td>0.003271</td>\n",
       "      <td>-0.003408</td>\n",
       "      <td>-0.015149</td>\n",
       "      <td>0.003807</td>\n",
       "      <td>-0.011146</td>\n",
       "      <td>0.009140</td>\n",
       "    </tr>\n",
       "    <tr>\n",
       "      <th>4</th>\n",
       "      <td>-0.050275</td>\n",
       "      <td>0.061590</td>\n",
       "      <td>-0.008719</td>\n",
       "      <td>-0.019276</td>\n",
       "      <td>-0.041856</td>\n",
       "      <td>-0.021160</td>\n",
       "      <td>0.046297</td>\n",
       "      <td>-0.004198</td>\n",
       "      <td>-0.009820</td>\n",
       "      <td>-0.062832</td>\n",
       "      <td>...</td>\n",
       "      <td>-0.035913</td>\n",
       "      <td>-0.017375</td>\n",
       "      <td>-0.035710</td>\n",
       "      <td>0.028675</td>\n",
       "      <td>0.005439</td>\n",
       "      <td>0.019691</td>\n",
       "      <td>-0.019989</td>\n",
       "      <td>-0.013979</td>\n",
       "      <td>0.037143</td>\n",
       "      <td>-0.067860</td>\n",
       "    </tr>\n",
       "    <tr>\n",
       "      <th>...</th>\n",
       "      <td>...</td>\n",
       "      <td>...</td>\n",
       "      <td>...</td>\n",
       "      <td>...</td>\n",
       "      <td>...</td>\n",
       "      <td>...</td>\n",
       "      <td>...</td>\n",
       "      <td>...</td>\n",
       "      <td>...</td>\n",
       "      <td>...</td>\n",
       "      <td>...</td>\n",
       "      <td>...</td>\n",
       "      <td>...</td>\n",
       "      <td>...</td>\n",
       "      <td>...</td>\n",
       "      <td>...</td>\n",
       "      <td>...</td>\n",
       "      <td>...</td>\n",
       "      <td>...</td>\n",
       "      <td>...</td>\n",
       "      <td>...</td>\n",
       "    </tr>\n",
       "    <tr>\n",
       "      <th>28662</th>\n",
       "      <td>-0.013107</td>\n",
       "      <td>0.033865</td>\n",
       "      <td>0.043237</td>\n",
       "      <td>0.060632</td>\n",
       "      <td>-0.046354</td>\n",
       "      <td>0.058876</td>\n",
       "      <td>0.060552</td>\n",
       "      <td>-0.018497</td>\n",
       "      <td>-0.027168</td>\n",
       "      <td>-0.044060</td>\n",
       "      <td>...</td>\n",
       "      <td>0.003851</td>\n",
       "      <td>-0.030513</td>\n",
       "      <td>0.074600</td>\n",
       "      <td>0.004872</td>\n",
       "      <td>-0.022599</td>\n",
       "      <td>-0.006109</td>\n",
       "      <td>0.001768</td>\n",
       "      <td>0.001998</td>\n",
       "      <td>0.011617</td>\n",
       "      <td>0.008535</td>\n",
       "    </tr>\n",
       "    <tr>\n",
       "      <th>28663</th>\n",
       "      <td>0.010467</td>\n",
       "      <td>0.009731</td>\n",
       "      <td>0.003371</td>\n",
       "      <td>0.013284</td>\n",
       "      <td>-0.079033</td>\n",
       "      <td>0.058272</td>\n",
       "      <td>-0.022454</td>\n",
       "      <td>-0.014205</td>\n",
       "      <td>-0.009706</td>\n",
       "      <td>-0.079112</td>\n",
       "      <td>...</td>\n",
       "      <td>0.009782</td>\n",
       "      <td>0.012875</td>\n",
       "      <td>0.007456</td>\n",
       "      <td>-0.013360</td>\n",
       "      <td>0.011372</td>\n",
       "      <td>-0.021392</td>\n",
       "      <td>-0.018166</td>\n",
       "      <td>0.005227</td>\n",
       "      <td>-0.002470</td>\n",
       "      <td>-0.011648</td>\n",
       "    </tr>\n",
       "    <tr>\n",
       "      <th>28664</th>\n",
       "      <td>0.004375</td>\n",
       "      <td>0.029462</td>\n",
       "      <td>-0.021653</td>\n",
       "      <td>0.002965</td>\n",
       "      <td>-0.045587</td>\n",
       "      <td>0.035810</td>\n",
       "      <td>0.025396</td>\n",
       "      <td>-0.015869</td>\n",
       "      <td>-0.035586</td>\n",
       "      <td>-0.067375</td>\n",
       "      <td>...</td>\n",
       "      <td>0.013877</td>\n",
       "      <td>0.012548</td>\n",
       "      <td>0.050731</td>\n",
       "      <td>-0.023280</td>\n",
       "      <td>-0.039941</td>\n",
       "      <td>-0.004542</td>\n",
       "      <td>-0.018185</td>\n",
       "      <td>-0.007802</td>\n",
       "      <td>0.028199</td>\n",
       "      <td>-0.032188</td>\n",
       "    </tr>\n",
       "    <tr>\n",
       "      <th>28665</th>\n",
       "      <td>-0.007436</td>\n",
       "      <td>0.071950</td>\n",
       "      <td>-0.068971</td>\n",
       "      <td>-0.018144</td>\n",
       "      <td>0.038449</td>\n",
       "      <td>0.052377</td>\n",
       "      <td>0.011597</td>\n",
       "      <td>0.010817</td>\n",
       "      <td>0.022876</td>\n",
       "      <td>-0.021684</td>\n",
       "      <td>...</td>\n",
       "      <td>-0.002786</td>\n",
       "      <td>-0.015963</td>\n",
       "      <td>0.059142</td>\n",
       "      <td>-0.020516</td>\n",
       "      <td>0.007483</td>\n",
       "      <td>-0.000725</td>\n",
       "      <td>-0.033344</td>\n",
       "      <td>-0.002203</td>\n",
       "      <td>0.007554</td>\n",
       "      <td>-0.007965</td>\n",
       "    </tr>\n",
       "    <tr>\n",
       "      <th>28666</th>\n",
       "      <td>0.026755</td>\n",
       "      <td>-0.005165</td>\n",
       "      <td>0.045017</td>\n",
       "      <td>-0.039840</td>\n",
       "      <td>-0.037537</td>\n",
       "      <td>-0.057704</td>\n",
       "      <td>-0.008854</td>\n",
       "      <td>-0.002217</td>\n",
       "      <td>-0.032180</td>\n",
       "      <td>0.066159</td>\n",
       "      <td>...</td>\n",
       "      <td>0.015522</td>\n",
       "      <td>-0.027538</td>\n",
       "      <td>0.050671</td>\n",
       "      <td>-0.028918</td>\n",
       "      <td>0.002781</td>\n",
       "      <td>-0.028369</td>\n",
       "      <td>0.030564</td>\n",
       "      <td>-0.030399</td>\n",
       "      <td>0.012865</td>\n",
       "      <td>-0.027265</td>\n",
       "    </tr>\n",
       "  </tbody>\n",
       "</table>\n",
       "<p>28667 rows × 1024 columns</p>\n",
       "</div>"
      ],
      "text/plain": [
       "       video_title_dim0  video_title_dim1  video_title_dim2  video_title_dim3  \\\n",
       "0             -0.029332          0.073457         -0.025387          0.051385   \n",
       "1             -0.013054         -0.000616          0.072254         -0.051791   \n",
       "2              0.042582          0.016391         -0.015819         -0.063033   \n",
       "3              0.033424          0.041401         -0.009190          0.019307   \n",
       "4             -0.050275          0.061590         -0.008719         -0.019276   \n",
       "...                 ...               ...               ...               ...   \n",
       "28662         -0.013107          0.033865          0.043237          0.060632   \n",
       "28663          0.010467          0.009731          0.003371          0.013284   \n",
       "28664          0.004375          0.029462         -0.021653          0.002965   \n",
       "28665         -0.007436          0.071950         -0.068971         -0.018144   \n",
       "28666          0.026755         -0.005165          0.045017         -0.039840   \n",
       "\n",
       "       video_title_dim4  video_title_dim5  video_title_dim6  video_title_dim7  \\\n",
       "0             -0.080761          0.003588         -0.029849         -0.018211   \n",
       "1              0.044645          0.001377          0.039985          0.047299   \n",
       "2              0.009769          0.021309          0.083345         -0.019655   \n",
       "3             -0.004661          0.037436         -0.056490         -0.106802   \n",
       "4             -0.041856         -0.021160          0.046297         -0.004198   \n",
       "...                 ...               ...               ...               ...   \n",
       "28662         -0.046354          0.058876          0.060552         -0.018497   \n",
       "28663         -0.079033          0.058272         -0.022454         -0.014205   \n",
       "28664         -0.045587          0.035810          0.025396         -0.015869   \n",
       "28665          0.038449          0.052377          0.011597          0.010817   \n",
       "28666         -0.037537         -0.057704         -0.008854         -0.002217   \n",
       "\n",
       "       video_title_dim8  video_title_dim9  ...  video_title_dim1014  \\\n",
       "0             -0.117816          0.009209  ...             0.015424   \n",
       "1             -0.014075          0.021160  ...             0.002187   \n",
       "2              0.007981         -0.027883  ...            -0.018262   \n",
       "3              0.004678         -0.006344  ...             0.010953   \n",
       "4             -0.009820         -0.062832  ...            -0.035913   \n",
       "...                 ...               ...  ...                  ...   \n",
       "28662         -0.027168         -0.044060  ...             0.003851   \n",
       "28663         -0.009706         -0.079112  ...             0.009782   \n",
       "28664         -0.035586         -0.067375  ...             0.013877   \n",
       "28665          0.022876         -0.021684  ...            -0.002786   \n",
       "28666         -0.032180          0.066159  ...             0.015522   \n",
       "\n",
       "       video_title_dim1015  video_title_dim1016  video_title_dim1017  \\\n",
       "0                -0.010135             0.046761            -0.029204   \n",
       "1                -0.035403            -0.013216             0.013668   \n",
       "2                -0.018402             0.019069            -0.003547   \n",
       "3                -0.014173             0.018121            -0.033014   \n",
       "4                -0.017375            -0.035710             0.028675   \n",
       "...                    ...                  ...                  ...   \n",
       "28662            -0.030513             0.074600             0.004872   \n",
       "28663             0.012875             0.007456            -0.013360   \n",
       "28664             0.012548             0.050731            -0.023280   \n",
       "28665            -0.015963             0.059142            -0.020516   \n",
       "28666            -0.027538             0.050671            -0.028918   \n",
       "\n",
       "       video_title_dim1018  video_title_dim1019  video_title_dim1020  \\\n",
       "0                -0.006269            -0.005549             0.026758   \n",
       "1                -0.034749            -0.000036            -0.061827   \n",
       "2                 0.011398            -0.040206             0.008057   \n",
       "3                 0.003271            -0.003408            -0.015149   \n",
       "4                 0.005439             0.019691            -0.019989   \n",
       "...                    ...                  ...                  ...   \n",
       "28662            -0.022599            -0.006109             0.001768   \n",
       "28663             0.011372            -0.021392            -0.018166   \n",
       "28664            -0.039941            -0.004542            -0.018185   \n",
       "28665             0.007483            -0.000725            -0.033344   \n",
       "28666             0.002781            -0.028369             0.030564   \n",
       "\n",
       "       video_title_dim1021  video_title_dim1022  video_title_dim1023  \n",
       "0                -0.023919            -0.016431            -0.009516  \n",
       "1                -0.003422            -0.017927            -0.012627  \n",
       "2                -0.013344             0.000106            -0.030069  \n",
       "3                 0.003807            -0.011146             0.009140  \n",
       "4                -0.013979             0.037143            -0.067860  \n",
       "...                    ...                  ...                  ...  \n",
       "28662             0.001998             0.011617             0.008535  \n",
       "28663             0.005227            -0.002470            -0.011648  \n",
       "28664            -0.007802             0.028199            -0.032188  \n",
       "28665            -0.002203             0.007554            -0.007965  \n",
       "28666            -0.030399             0.012865            -0.027265  \n",
       "\n",
       "[28667 rows x 1024 columns]"
      ]
     },
     "execution_count": 8,
     "metadata": {},
     "output_type": "execute_result"
    }
   ],
   "source": [
    "embedded_text"
   ]
  },
  {
   "cell_type": "code",
   "execution_count": 9,
   "metadata": {},
   "outputs": [
    {
     "data": {
      "text/plain": [
       "tag_count\n",
       "0      7748\n",
       "6       669\n",
       "4       663\n",
       "23      657\n",
       "14      652\n",
       "       ... \n",
       "99        1\n",
       "111       1\n",
       "94        1\n",
       "93        1\n",
       "131       1\n",
       "Name: count, Length: 110, dtype: int64"
      ]
     },
     "execution_count": 9,
     "metadata": {},
     "output_type": "execute_result"
    }
   ],
   "source": [
    "data['tag_count'] = data['video_tags'].apply(lambda x: 0 if x == 'No tags' else len(x.split(',')))\n",
    "data['tag_count'].value_counts()"
   ]
  },
  {
   "cell_type": "code",
   "execution_count": 10,
   "metadata": {},
   "outputs": [
    {
     "data": {
      "text/plain": [
       "(28667, 4)"
      ]
     },
     "execution_count": 10,
     "metadata": {},
     "output_type": "execute_result"
    }
   ],
   "source": [
    "from sklearn.decomposition import PCA\n",
    "embedding_dim = 4\n",
    "pca = PCA(n_components=embedding_dim)\n",
    "reduced_embeddings = pca.fit_transform(np.array(embedded_text))\n",
    "\n",
    "embedding_columns = [f\"text_embeddings_{i}\" for i in range(embedding_dim)]\n",
    "embedding_df = pd.DataFrame(reduced_embeddings, columns=embedding_columns)\n",
    "embedding_df.shape"
   ]
  },
  {
   "cell_type": "code",
   "execution_count": 11,
   "metadata": {},
   "outputs": [
    {
     "data": {
      "text/plain": [
       "(28667, 57)"
      ]
     },
     "execution_count": 11,
     "metadata": {},
     "output_type": "execute_result"
    }
   ],
   "source": [
    "data = pd.concat([data, embedding_df], axis=1)\n",
    "data.shape"
   ]
  },
  {
   "cell_type": "code",
   "execution_count": 12,
   "metadata": {},
   "outputs": [
    {
     "data": {
      "text/plain": [
       "['text_embeddings_0',\n",
       " 'text_embeddings_1',\n",
       " 'text_embeddings_2',\n",
       " 'text_embeddings_3']"
      ]
     },
     "execution_count": 12,
     "metadata": {},
     "output_type": "execute_result"
    }
   ],
   "source": [
    "categorical_features = [\n",
    "    'video_category_id', 'is_weekend',\n",
    "    'video_definition', 'video_dimension', 'video_licensed_content',\n",
    "    'channel_have_hidden_subscribers',\n",
    "    'published_morning', 'published_afternoon', 'published_evening', 'published_night', 'contain_1', 'contain_2',\n",
    "       'contain_3'\n",
    "]\n",
    "numerical_features = [\n",
    "    'video_duration_seconds', 'channel_video_count', 'channel_video_channel_publish_difference',\n",
    "    'dominant_color_r', 'dominant_color_g', 'dominant_color_b',\n",
    "       'brightness', 'color_diversity','tag_count'\n",
    "]\n",
    "embedded_text_columns = embedding_df.columns.tolist()\n",
    "embedded_text_columns"
   ]
  },
  {
   "cell_type": "code",
   "execution_count": 13,
   "metadata": {},
   "outputs": [
    {
     "data": {
      "text/plain": [
       "0           43\n",
       "1         5274\n",
       "2        36548\n",
       "3          920\n",
       "4          952\n",
       "         ...  \n",
       "28662      318\n",
       "28663     3383\n",
       "28664       72\n",
       "28665       21\n",
       "28666       28\n",
       "Name: channel_video_count, Length: 28667, dtype: int64"
      ]
     },
     "execution_count": 13,
     "metadata": {},
     "output_type": "execute_result"
    }
   ],
   "source": [
    "final_data.channel_video_count"
   ]
  },
  {
   "cell_type": "code",
   "execution_count": 14,
   "metadata": {},
   "outputs": [],
   "source": [
    "X_categorical = data[categorical_features]\n",
    "X_numerical = data[numerical_features]\n",
    "X_text = data[embedded_text_columns]\n",
    "y = data['is_trending']"
   ]
  },
  {
   "cell_type": "code",
   "execution_count": 15,
   "metadata": {},
   "outputs": [],
   "source": [
    "# from sklearn.ensemble import IsolationForest\n",
    "# isolation_forest = IsolationForest(contamination=0.10, random_state=42) \n",
    "# outliers = isolation_forest.fit_predict(X_numerical)\n",
    "\n",
    "# data_cleaned = data[outliers != -1]\n",
    "# data_cleaned.shape"
   ]
  },
  {
   "cell_type": "code",
   "execution_count": 16,
   "metadata": {},
   "outputs": [
    {
     "data": {
      "text/plain": [
       "(28667, 26)"
      ]
     },
     "execution_count": 16,
     "metadata": {},
     "output_type": "execute_result"
    }
   ],
   "source": [
    "import numpy as np\n",
    "X = pd.concat((X_numerical, X_categorical, X_text),axis=1)\n",
    "X.shape"
   ]
  },
  {
   "cell_type": "code",
   "execution_count": 17,
   "metadata": {},
   "outputs": [
    {
     "name": "stderr",
     "output_type": "stream",
     "text": [
      "/workspace/testa/lib/python3.11/site-packages/feature_engine/encoding/rare_label.py:216: UserWarning: The number of unique categories for variable video_definition is less than that indicated in n_categories. Thus, all categories will be considered frequent\n",
      "  warnings.warn(\n",
      "/workspace/testa/lib/python3.11/site-packages/feature_engine/encoding/rare_label.py:216: UserWarning: The number of unique categories for variable video_dimension is less than that indicated in n_categories. Thus, all categories will be considered frequent\n",
      "  warnings.warn(\n"
     ]
    },
    {
     "data": {
      "text/plain": [
       "(28667, 22)"
      ]
     },
     "execution_count": 17,
     "metadata": {},
     "output_type": "execute_result"
    }
   ],
   "source": [
    "from feature_engine.selection import DropConstantFeatures, DropDuplicateFeatures, DropCorrelatedFeatures\n",
    "from feature_engine.pipeline import Pipeline\n",
    "from feature_engine.imputation import CategoricalImputer\n",
    "from feature_engine.encoding import RareLabelEncoder\n",
    "pipeline = Pipeline([\n",
    "    (\"categorical_imputer\", CategoricalImputer(\n",
    "    variables=['contain_1', 'contain_2', 'contain_3'],\n",
    "    fill_value=\"Empty\")),\n",
    "    (\"rare_label_encode\", RareLabelEncoder(tol=0.005, ignore_format=False)),\n",
    "    (\"num_rare_label_encode\", RareLabelEncoder(tol=0.005, ignore_format=True, variables=['tag_count'], replace_with=-1)),\n",
    "    (\"drop_constant_features\", DropConstantFeatures(tol=0.90)),\n",
    "    (\"drop_duplicate_features\", DropDuplicateFeatures()),\n",
    "    (\"drop_correlated_features\", DropCorrelatedFeatures(method='pearson', threshold=0.90))\n",
    "])\n",
    "\n",
    "X_final = pipeline.fit_transform(X)\n",
    "X_final.shape"
   ]
  },
  {
   "cell_type": "code",
   "execution_count": 18,
   "metadata": {},
   "outputs": [
    {
     "data": {
      "text/plain": [
       "{'channel_have_hidden_subscribers',\n",
       " 'video_definition',\n",
       " 'video_dimension',\n",
       " 'video_licensed_content'}"
      ]
     },
     "execution_count": 18,
     "metadata": {},
     "output_type": "execute_result"
    }
   ],
   "source": [
    "# check difference of columns between X and X_final\n",
    "set(X.columns) - set(X_final.columns)"
   ]
  },
  {
   "cell_type": "code",
   "execution_count": 19,
   "metadata": {},
   "outputs": [],
   "source": [
    "from sklearn.model_selection import train_test_split\n",
    "X_train, X_test, y_train, y_test = train_test_split(X_final, y, test_size=0.2, random_state=0)"
   ]
  },
  {
   "cell_type": "code",
   "execution_count": 20,
   "metadata": {},
   "outputs": [],
   "source": [
    "categorical_features = [\n",
    "    'video_category_id', 'is_weekend', \n",
    "    'published_morning', 'published_afternoon', 'published_evening', 'published_night', 'contain_1', 'contain_2','contain_3'\n",
    "]\n",
    "numerical_features = [\n",
    "    'video_duration_seconds', 'channel_video_count', 'channel_video_channel_publish_difference',\n",
    "    'dominant_color_r', 'dominant_color_b', 'dominant_color_g',\n",
    "       'brightness', 'color_diversity','tag_count'\n",
    "]"
   ]
  },
  {
   "cell_type": "code",
   "execution_count": 21,
   "metadata": {},
   "outputs": [],
   "source": [
    "X_train_categorical = X_train[categorical_features]\n",
    "X_test_categorical = X_test[categorical_features]\n",
    "\n",
    "X_train_numerical = X_train[numerical_features]\n",
    "X_test_numerical = X_test[numerical_features]\n",
    "\n",
    "X_train_text = X_train[embedded_text_columns]\n",
    "X_test_text = X_test[embedded_text_columns]"
   ]
  },
  {
   "cell_type": "code",
   "execution_count": 22,
   "metadata": {},
   "outputs": [],
   "source": [
    "from feature_engine.encoding import DecisionTreeEncoder\n",
    "from feature_engine.encoding import OneHotEncoder\n",
    "from feature_engine.encoding import MeanEncoder\n",
    "\n",
    "encoder = DecisionTreeEncoder(random_state=42, regression=False)\n",
    "X_train_encode = encoder.fit_transform(X_train_categorical, y_train)\n",
    "X_test_encode = encoder.transform(X_test_categorical)"
   ]
  },
  {
   "cell_type": "code",
   "execution_count": 23,
   "metadata": {},
   "outputs": [],
   "source": [
    "# from feature_engine.transformation import LogTransformer\n",
    "\n",
    "# log_transformer = LogTransformer(variables=numerical_features)\n",
    "\n",
    "# X_train_log = log_transformer.fit_transform(X_train_numerical)\n",
    "# X_test_log = log_transformer.transform(X_test_numerical) # di naman gumana hahahaha"
   ]
  },
  {
   "cell_type": "code",
   "execution_count": 24,
   "metadata": {},
   "outputs": [],
   "source": [
    "# from imblearn.combine import SMOTEENN\n",
    "# smote_enn = SMOTEENN(random_state=42)\n",
    "# X_train_resampled, y_train_resampled = smote_enn.fit_resample(X_train_combined, X_test_combined)"
   ]
  },
  {
   "cell_type": "code",
   "execution_count": 25,
   "metadata": {},
   "outputs": [],
   "source": [
    "# from sklearn.preprocessing import StandardScaler\n",
    "# scaler = StandardScaler()\n",
    "# X_train_scaled = scaler.fit_transform(X_train_numerical)\n",
    "# X_test_scaled = scaler.transform(X_test_numerical)\n",
    "# # X_train_resampled, y_train_resampled = smote_enn.fit_resample(X_train_scaled, y_train)\n",
    "# X_train = np.hstack((X_train_encode, X_train_scaled))\n",
    "# X_test = np.hstack((X_test_encode, X_test_scaled))"
   ]
  },
  {
   "cell_type": "code",
   "execution_count": 26,
   "metadata": {},
   "outputs": [
    {
     "data": {
      "text/plain": [
       "array([1, 0, 1, ..., 0, 0, 0])"
      ]
     },
     "execution_count": 26,
     "metadata": {},
     "output_type": "execute_result"
    }
   ],
   "source": [
    "y_train.values"
   ]
  },
  {
   "cell_type": "code",
   "execution_count": 27,
   "metadata": {},
   "outputs": [
    {
     "data": {
      "text/plain": [
       "'done'"
      ]
     },
     "execution_count": 27,
     "metadata": {},
     "output_type": "execute_result"
    }
   ],
   "source": [
    "\"done\""
   ]
  },
  {
   "cell_type": "code",
   "execution_count": 28,
   "metadata": {},
   "outputs": [
    {
     "name": "stdout",
     "output_type": "stream",
     "text": [
      "Model Accuracy: 0.6934077432856645\n",
      "              precision    recall  f1-score   support\n",
      "\n",
      "           0       0.69      0.72      0.71      2932\n",
      "           1       0.70      0.66      0.68      2802\n",
      "\n",
      "    accuracy                           0.69      5734\n",
      "   macro avg       0.69      0.69      0.69      5734\n",
      "weighted avg       0.69      0.69      0.69      5734\n",
      "\n"
     ]
    },
    {
     "data": {
      "image/png": "[encoded data removed]",
      "text/plain": [
       "<Figure size 800x600 with 1 Axes>"
      ]
     },
     "metadata": {},
     "output_type": "display_data"
    },
    {
     "data": {
      "image/png": "[encoded data removed]",
      "text/plain": [
       "<Figure size 1000x600 with 1 Axes>"
      ]
     },
     "metadata": {},
     "output_type": "display_data"
    },
    {
     "data": {
      "text/html": [
       "<div>\n",
       "<style scoped>\n",
       "    .dataframe tbody tr th:only-of-type {\n",
       "        vertical-align: middle;\n",
       "    }\n",
       "\n",
       "    .dataframe tbody tr th {\n",
       "        vertical-align: top;\n",
       "    }\n",
       "\n",
       "    .dataframe thead th {\n",
       "        text-align: right;\n",
       "    }\n",
       "</style>\n",
       "<table border=\"1\" class=\"dataframe\">\n",
       "  <thead>\n",
       "    <tr style=\"text-align: right;\">\n",
       "      <th></th>\n",
       "      <th>Feature Prefix</th>\n",
       "      <th>Total Importance</th>\n",
       "    </tr>\n",
       "  </thead>\n",
       "  <tbody>\n",
       "    <tr>\n",
       "      <th>0</th>\n",
       "      <td>text_embeddings</td>\n",
       "      <td>0.272771</td>\n",
       "    </tr>\n",
       "  </tbody>\n",
       "</table>\n",
       "</div>"
      ],
      "text/plain": [
       "    Feature Prefix  Total Importance\n",
       "0  text_embeddings          0.272771"
      ]
     },
     "execution_count": 28,
     "metadata": {},
     "output_type": "execute_result"
    }
   ],
   "source": [
    "from sklearn.preprocessing import MinMaxScaler\n",
    "mmx_scaler = MinMaxScaler()\n",
    "X_train_mmx = np.hstack((X_train_numerical, X_train_encode,X_train_text))\n",
    "X_test_mmx = np.hstack((X_test_numerical, X_test_encode, X_test_text))\n",
    "\n",
    "from sklearn.ensemble import RandomForestClassifier\n",
    "\n",
    "model = RandomForestClassifier(max_depth=300,\n",
    "        max_features='sqrt',\n",
    "        n_estimators=1000,\n",
    "        min_samples_leaf=1,\n",
    "        min_samples_split=3,\n",
    "        random_state=33)\n",
    "model.fit(X_train_mmx, y_train)\n",
    "accuracy = model.score(X_test_mmx, y_test)\n",
    "print(f\"Model Accuracy: {accuracy}\")\n",
    "from sklearn.metrics import classification_report, confusion_matrix\n",
    "y_pred = model.predict(X_test_mmx)\n",
    "print(classification_report(y_test, y_pred))\n",
    "\n",
    "plt.figure(figsize=(8, 6))\n",
    "sns.heatmap(confusion_matrix(y_test, y_pred), annot=True, fmt='d', cmap='Blues', cbar=False)\n",
    "plt.title('Confusion Matrix Heatmap')\n",
    "plt.xlabel('Predicted Labels')\n",
    "plt.ylabel('True Labels')\n",
    "plt.show()\n",
    "\n",
    "feature_names = pd.concat([data[categorical_features],data[numerical_features],data[embedded_text_columns]]).columns\n",
    "feature_importances = model.feature_importances_\n",
    "importance_df = pd.DataFrame({\n",
    "    'Feature': feature_names,\n",
    "    'Importance': feature_importances\n",
    "}).sort_values(by='Importance', ascending=False)\n",
    "\n",
    "top_features = importance_df.head(20)\n",
    "plt.figure(figsize=(10, 6))\n",
    "plt.barh(top_features['Feature'], top_features['Importance'], color='skyblue')\n",
    "plt.xlabel('Feature Importance')\n",
    "plt.ylabel('Features')\n",
    "plt.title('Top 20 Feature Importances in Random Forest')\n",
    "plt.gca().invert_yaxis()  \n",
    "plt.show()\n",
    "\n",
    "importance_df['Prefix'] = importance_df['Feature'].str.extract(r'(text_embeddings)')\n",
    "\n",
    "# Group by the extracted prefix and sum the importance values\n",
    "aggregated_importance = importance_df.groupby('Prefix')['Importance'].sum().reset_index()\n",
    "\n",
    "# Rename columns for clarity\n",
    "aggregated_importance.columns = ['Feature Prefix', 'Total Importance']\n",
    "aggregated_importance"
   ]
  },
  {
   "cell_type": "code",
   "execution_count": 146,
   "metadata": {},
   "outputs": [],
   "source": [
    "import torch\n",
    "import torch.nn as nn\n",
    "import torch.optim as optim\n",
    "from torch.utils.data import Dataset, DataLoader\n",
    "import numpy as np\n",
    "from sklearn.metrics import classification_report, confusion_matrix, accuracy_score\n",
    "\n",
    "# Assuming you already have:\n",
    "# X_train_mmx, y_train, X_test_mmx, y_test\n",
    "# where X_* are NumPy arrays and y_* are NumPy arrays of shape (num_samples,)\n",
    "\n",
    "# Convert data to PyTorch tensors\n",
    "X_train_tensor = torch.tensor(X_train_mmx, dtype=torch.float32)\n",
    "y_train_tensor = torch.tensor(y_train.values, dtype=torch.float32)  # For binary classification as float\n",
    "X_test_tensor = torch.tensor(X_test_mmx, dtype=torch.float32)\n",
    "y_test_tensor = torch.tensor(y_test.values, dtype=torch.float32)"
   ]
  },
  {
   "cell_type": "code",
   "execution_count": 147,
   "metadata": {},
   "outputs": [],
   "source": [
    "class YoutubeDataset(Dataset):\n",
    "    def __init__(self, features, labels):\n",
    "        self.features = features\n",
    "        self.labels = labels\n",
    "        \n",
    "    def __len__(self):\n",
    "        return len(self.features)\n",
    "    \n",
    "    def __getitem__(self, idx):\n",
    "        x = self.features[idx]\n",
    "        y = self.labels[idx]\n",
    "        return x, y"
   ]
  },
  {
   "cell_type": "code",
   "execution_count": 148,
   "metadata": {},
   "outputs": [],
   "source": [
    "train_dataset = YoutubeDataset(X_train_tensor, y_train_tensor)\n",
    "test_dataset = YoutubeDataset(X_test_tensor, y_test_tensor)\n",
    "\n",
    "# Create DataLoaders\n",
    "batch_size = 64\n",
    "train_loader = DataLoader(train_dataset, batch_size=batch_size, shuffle=True)\n",
    "test_loader = DataLoader(test_dataset, batch_size=batch_size, shuffle=False)"
   ]
  },
  {
   "cell_type": "code",
   "execution_count": 152,
   "metadata": {},
   "outputs": [],
   "source": [
    "class ImprovedMLPClassifier(nn.Module):\n",
    "    def __init__(self, input_dim, hidden_dims=[128, 256, 128]):\n",
    "        super(ImprovedMLPClassifier, self).__init__()\n",
    "        layers = []\n",
    "        prev_dim = input_dim\n",
    "\n",
    "        for hidden_dim in hidden_dims:\n",
    "            layers.append(nn.Linear(prev_dim, hidden_dim))\n",
    "            layers.append(nn.BatchNorm1d(hidden_dim))  # Batch Normalization\n",
    "            layers.append(nn.GELU())  # Activation function (GELU instead of ReLU)\n",
    "            layers.append(nn.Dropout(0.2))  # Dropout for regularization\n",
    "            prev_dim = hidden_dim\n",
    "\n",
    "        layers.append(nn.Linear(prev_dim, 1))  # Output layer for binary classification\n",
    "        self.layers = nn.Sequential(*layers)\n",
    "\n",
    "    def forward(self, x):\n",
    "        return self.layers(x)\n",
    "\n",
    "input_dim = X_train_mmx.shape[1]\n",
    "model = ImprovedMLPClassifier(input_dim=input_dim, hidden_dims=[128, 256, 128])\n",
    "\n",
    "# Define loss and optimizer\n",
    "criterion = nn.BCEWithLogitsLoss()\n",
    "optimizer = optim.Adam(model.parameters(), lr=0.001)"
   ]
  },
  {
   "cell_type": "code",
   "execution_count": 155,
   "metadata": {},
   "outputs": [
    {
     "name": "stdout",
     "output_type": "stream",
     "text": [
      "Epoch [1/100], Loss: 0.6352\n",
      "Epoch [2/100], Loss: 0.6163\n",
      "Epoch [3/100], Loss: 0.6119\n",
      "Epoch [4/100], Loss: 0.6062\n",
      "Epoch [5/100], Loss: 0.6030\n",
      "Epoch [6/100], Loss: 0.6011\n",
      "Epoch [7/100], Loss: 0.5979\n",
      "Epoch [8/100], Loss: 0.5951\n",
      "Epoch [9/100], Loss: 0.5896\n",
      "Epoch [10/100], Loss: 0.5894\n",
      "Epoch [11/100], Loss: 0.5862\n",
      "Epoch [12/100], Loss: 0.5840\n",
      "Epoch [13/100], Loss: 0.5790\n",
      "Epoch [14/100], Loss: 0.5806\n",
      "Epoch [15/100], Loss: 0.5737\n",
      "Epoch [16/100], Loss: 0.5722\n",
      "Epoch [17/100], Loss: 0.5687\n",
      "Epoch [18/100], Loss: 0.5674\n",
      "Epoch [19/100], Loss: 0.5628\n",
      "Epoch [20/100], Loss: 0.5592\n",
      "Epoch [21/100], Loss: 0.5557\n",
      "Epoch [22/100], Loss: 0.5539\n",
      "Epoch [23/100], Loss: 0.5517\n",
      "Epoch [24/100], Loss: 0.5497\n",
      "Epoch [25/100], Loss: 0.5479\n",
      "Epoch [26/100], Loss: 0.5420\n",
      "Epoch [27/100], Loss: 0.5394\n",
      "Epoch [28/100], Loss: 0.5385\n",
      "Epoch [29/100], Loss: 0.5346\n",
      "Epoch [30/100], Loss: 0.5345\n",
      "Epoch [31/100], Loss: 0.5272\n",
      "Epoch [32/100], Loss: 0.5283\n",
      "Epoch [33/100], Loss: 0.5245\n",
      "Epoch [34/100], Loss: 0.5207\n",
      "Epoch [35/100], Loss: 0.5213\n",
      "Epoch [36/100], Loss: 0.5180\n",
      "Epoch [37/100], Loss: 0.5134\n",
      "Epoch [38/100], Loss: 0.5148\n",
      "Epoch [39/100], Loss: 0.5099\n",
      "Epoch [40/100], Loss: 0.5073\n",
      "Epoch [41/100], Loss: 0.5052\n",
      "Epoch [42/100], Loss: 0.5033\n",
      "Epoch [43/100], Loss: 0.5009\n",
      "Epoch [44/100], Loss: 0.5004\n",
      "Epoch [45/100], Loss: 0.4974\n",
      "Epoch [46/100], Loss: 0.4940\n",
      "Epoch [47/100], Loss: 0.4919\n",
      "Epoch [48/100], Loss: 0.4892\n",
      "Epoch [49/100], Loss: 0.4897\n",
      "Epoch [50/100], Loss: 0.4819\n",
      "Epoch [51/100], Loss: 0.4828\n",
      "Epoch [52/100], Loss: 0.4777\n",
      "Epoch [53/100], Loss: 0.4807\n",
      "Epoch [54/100], Loss: 0.4782\n",
      "Epoch [55/100], Loss: 0.4801\n",
      "Epoch [56/100], Loss: 0.4739\n",
      "Epoch [57/100], Loss: 0.4710\n",
      "Epoch [58/100], Loss: 0.4734\n",
      "Epoch [59/100], Loss: 0.4680\n",
      "Epoch [60/100], Loss: 0.4678\n",
      "Epoch [61/100], Loss: 0.4658\n",
      "Epoch [62/100], Loss: 0.4615\n",
      "Epoch [63/100], Loss: 0.4622\n",
      "Epoch [64/100], Loss: 0.4649\n",
      "Epoch [65/100], Loss: 0.4629\n",
      "Epoch [66/100], Loss: 0.4582\n",
      "Epoch [67/100], Loss: 0.4547\n",
      "Epoch [68/100], Loss: 0.4557\n",
      "Epoch [69/100], Loss: 0.4522\n",
      "Epoch [70/100], Loss: 0.4563\n",
      "Epoch [71/100], Loss: 0.4513\n",
      "Epoch [72/100], Loss: 0.4531\n",
      "Epoch [73/100], Loss: 0.4452\n",
      "Epoch [74/100], Loss: 0.4471\n",
      "Epoch [75/100], Loss: 0.4493\n",
      "Epoch [76/100], Loss: 0.4475\n",
      "Epoch [77/100], Loss: 0.4465\n",
      "Epoch [78/100], Loss: 0.4425\n",
      "Epoch [79/100], Loss: 0.4370\n",
      "Epoch [80/100], Loss: 0.4403\n",
      "Epoch [81/100], Loss: 0.4400\n",
      "Epoch [82/100], Loss: 0.4398\n",
      "Epoch [83/100], Loss: 0.4400\n",
      "Epoch [84/100], Loss: 0.4401\n",
      "Epoch [85/100], Loss: 0.4301\n",
      "Epoch [86/100], Loss: 0.4299\n",
      "Epoch [87/100], Loss: 0.4296\n",
      "Epoch [88/100], Loss: 0.4379\n",
      "Epoch [89/100], Loss: 0.4296\n",
      "Epoch [90/100], Loss: 0.4288\n",
      "Epoch [91/100], Loss: 0.4285\n",
      "Epoch [92/100], Loss: 0.4287\n",
      "Epoch [93/100], Loss: 0.4297\n",
      "Epoch [94/100], Loss: 0.4249\n",
      "Epoch [95/100], Loss: 0.4261\n",
      "Epoch [96/100], Loss: 0.4287\n",
      "Epoch [97/100], Loss: 0.4235\n",
      "Epoch [98/100], Loss: 0.4275\n",
      "Epoch [99/100], Loss: 0.4213\n",
      "Epoch [100/100], Loss: 0.4230\n"
     ]
    }
   ],
   "source": [
    "epochs = 100\n",
    "model.train()\n",
    "for epoch in range(epochs):\n",
    "    running_loss = 0.0\n",
    "    for batch_X, batch_y in train_loader:\n",
    "        optimizer.zero_grad()\n",
    "        \n",
    "        outputs = model(batch_X)\n",
    "        outputs = outputs.squeeze()  # remove extra dimension if needed\n",
    "        \n",
    "        loss = criterion(outputs, batch_y)\n",
    "        loss.backward()\n",
    "        optimizer.step()\n",
    "        \n",
    "        running_loss += loss.item() * batch_X.size(0)\n",
    "    \n",
    "    epoch_loss = running_loss / len(train_dataset)\n",
    "    print(f\"Epoch [{epoch+1}/{epochs}], Loss: {epoch_loss:.4f}\")"
   ]
  },
  {
   "cell_type": "code",
   "execution_count": 156,
   "metadata": {},
   "outputs": [
    {
     "name": "stdout",
     "output_type": "stream",
     "text": [
      "Test Accuracy: 0.6526\n",
      "[[2025  907]\n",
      " [1085 1717]]\n",
      "              precision    recall  f1-score   support\n",
      "\n",
      "         0.0       0.65      0.69      0.67      2932\n",
      "         1.0       0.65      0.61      0.63      2802\n",
      "\n",
      "    accuracy                           0.65      5734\n",
      "   macro avg       0.65      0.65      0.65      5734\n",
      "weighted avg       0.65      0.65      0.65      5734\n",
      "\n"
     ]
    }
   ],
   "source": [
    "model.eval()\n",
    "with torch.no_grad():\n",
    "    # Get predictions for test set\n",
    "    outputs = model(X_test_tensor).squeeze()\n",
    "    probs = torch.sigmoid(outputs)\n",
    "    preds = (probs >= 0.5).int()\n",
    "\n",
    "# Convert predictions and true labels to numpy arrays\n",
    "preds_np = preds.cpu().numpy()\n",
    "y_test_np = y_test_tensor.cpu().numpy()\n",
    "\n",
    "# Evaluate metrics\n",
    "acc = accuracy_score(y_test_np, preds_np)\n",
    "print(f\"Test Accuracy: {acc:.4f}\")\n",
    "print(confusion_matrix(y_test_np, preds_np))\n",
    "print(classification_report(y_test_np, preds_np))"
   ]
  }
 ],
 "metadata": {
  "kernelspec": {
   "display_name": "ptcnn",
   "language": "python",
   "name": "python3"
  },
  "language_info": {
   "codemirror_mode": {
    "name": "ipython",
    "version": 3
   },
   "file_extension": ".py",
   "mimetype": "text/x-python",
   "name": "python",
   "nbconvert_exporter": "python",
   "pygments_lexer": "ipython3",
   "version": "3.12.7"
  }
 },
 "nbformat": 4,
 "nbformat_minor": 4
}
