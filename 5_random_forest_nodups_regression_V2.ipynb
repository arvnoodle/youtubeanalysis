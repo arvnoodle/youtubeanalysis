{
 "cells": [
  {
   "cell_type": "code",
   "execution_count": 13,
   "metadata": {},
   "outputs": [],
   "source": [
    "from sklearn.preprocessing import StandardScaler\n",
    "#from factor_analyzer import FactorAnalyzer, calculate_kmo\n",
    "from scipy.stats import bartlett\n",
    "import pandas as pd\n",
    "from sklearn.preprocessing import StandardScaler\n",
    "#from factor_analyzer import FactorAnalyzer, calculate_kmo, calculate_bartlett_sphericity\n",
    "import pandas as pd\n",
    "import numpy as np\n",
    "import matplotlib.pyplot as plt\n",
    "#import pingouin as pg\n",
    "import seaborn as sns"
   ]
  },
  {
   "cell_type": "code",
   "execution_count": 14,
   "metadata": {},
   "outputs": [
    {
     "name": "stdout",
     "output_type": "stream",
     "text": [
      "Index(['video_id', 'video_published_at', 'video_trending__date',\n",
      "       'video_trending_country', 'channel_id', 'video_title',\n",
      "       'video_description', 'video_default_thumbnail', 'video_category_id',\n",
      "       'video_tags', 'video_duration', 'video_dimension', 'video_definition',\n",
      "       'video_licensed_content', 'video_view_count', 'video_like_count',\n",
      "       'video_comment_count', 'channel_title', 'channel_description',\n",
      "       'channel_custom_url', 'channel_published_at', 'channel_country',\n",
      "       'channel_view_count', 'channel_subscriber_count',\n",
      "       'channel_have_hidden_subscribers', 'channel_video_count',\n",
      "       'channel_localized_title', 'channel_localized_description',\n",
      "       'engagement_rate', 'time_difference', 'video_duration_seconds'],\n",
      "      dtype='object')\n"
     ]
    },
    {
     "data": {
      "text/plain": [
       "(650048, 31)"
      ]
     },
     "execution_count": 14,
     "metadata": {},
     "output_type": "execute_result"
    }
   ],
   "source": [
    "data_path = \"data_cleaned_feature_31.csv\"\n",
    "data = pd.read_csv(data_path)\n",
    "print(data.columns)\n",
    "data.shape"
   ]
  },
  {
   "cell_type": "code",
   "execution_count": null,
   "metadata": {},
   "outputs": [
    {
     "data": {
      "text/plain": [
       "(357413, 30)"
      ]
     },
     "execution_count": 15,
     "metadata": {},
     "output_type": "execute_result"
    }
   ],
   "source": [
    "\n",
    "data.shape"
   ]
  },
  {
   "cell_type": "code",
   "execution_count": 16,
   "metadata": {},
   "outputs": [
    {
     "data": {
      "text/html": [
       "<div>\n",
       "<style scoped>\n",
       "    .dataframe tbody tr th:only-of-type {\n",
       "        vertical-align: middle;\n",
       "    }\n",
       "\n",
       "    .dataframe tbody tr th {\n",
       "        vertical-align: top;\n",
       "    }\n",
       "\n",
       "    .dataframe thead th {\n",
       "        text-align: right;\n",
       "    }\n",
       "</style>\n",
       "<table border=\"1\" class=\"dataframe\">\n",
       "  <thead>\n",
       "    <tr style=\"text-align: right;\">\n",
       "      <th></th>\n",
       "      <th>video_view_count</th>\n",
       "      <th>video_like_count</th>\n",
       "      <th>video_comment_count</th>\n",
       "      <th>channel_view_count</th>\n",
       "      <th>channel_subscriber_count</th>\n",
       "      <th>channel_video_count</th>\n",
       "      <th>engagement_rate</th>\n",
       "      <th>video_duration_seconds</th>\n",
       "    </tr>\n",
       "  </thead>\n",
       "  <tbody>\n",
       "    <tr>\n",
       "      <th>0</th>\n",
       "      <td>20535235.0</td>\n",
       "      <td>2042255.0</td>\n",
       "      <td>152933.0</td>\n",
       "      <td>464615150</td>\n",
       "      <td>11600000</td>\n",
       "      <td>43</td>\n",
       "      <td>0.106899</td>\n",
       "      <td>148.0</td>\n",
       "    </tr>\n",
       "    <tr>\n",
       "      <th>1</th>\n",
       "      <td>853167.0</td>\n",
       "      <td>101155.0</td>\n",
       "      <td>10541.0</td>\n",
       "      <td>114331110</td>\n",
       "      <td>1380000</td>\n",
       "      <td>314</td>\n",
       "      <td>0.130919</td>\n",
       "      <td>2604.0</td>\n",
       "    </tr>\n",
       "    <tr>\n",
       "      <th>2</th>\n",
       "      <td>1730189.0</td>\n",
       "      <td>67522.0</td>\n",
       "      <td>2869.0</td>\n",
       "      <td>19991522</td>\n",
       "      <td>40600</td>\n",
       "      <td>56</td>\n",
       "      <td>0.040684</td>\n",
       "      <td>132.0</td>\n",
       "    </tr>\n",
       "    <tr>\n",
       "      <th>3</th>\n",
       "      <td>1073421.0</td>\n",
       "      <td>35534.0</td>\n",
       "      <td>1263.0</td>\n",
       "      <td>655373060</td>\n",
       "      <td>4710000</td>\n",
       "      <td>1746</td>\n",
       "      <td>0.034280</td>\n",
       "      <td>15.0</td>\n",
       "    </tr>\n",
       "    <tr>\n",
       "      <th>4</th>\n",
       "      <td>56032799.0</td>\n",
       "      <td>1058450.0</td>\n",
       "      <td>44767.0</td>\n",
       "      <td>269373477007</td>\n",
       "      <td>276000000</td>\n",
       "      <td>21864</td>\n",
       "      <td>0.019689</td>\n",
       "      <td>231.0</td>\n",
       "    </tr>\n",
       "    <tr>\n",
       "      <th>...</th>\n",
       "      <td>...</td>\n",
       "      <td>...</td>\n",
       "      <td>...</td>\n",
       "      <td>...</td>\n",
       "      <td>...</td>\n",
       "      <td>...</td>\n",
       "      <td>...</td>\n",
       "      <td>...</td>\n",
       "    </tr>\n",
       "    <tr>\n",
       "      <th>650042</th>\n",
       "      <td>280194.0</td>\n",
       "      <td>3711.0</td>\n",
       "      <td>926.0</td>\n",
       "      <td>212304779</td>\n",
       "      <td>866000</td>\n",
       "      <td>15420</td>\n",
       "      <td>0.016549</td>\n",
       "      <td>188.0</td>\n",
       "    </tr>\n",
       "    <tr>\n",
       "      <th>650044</th>\n",
       "      <td>920369.0</td>\n",
       "      <td>34452.0</td>\n",
       "      <td>2826.0</td>\n",
       "      <td>640672504</td>\n",
       "      <td>3120000</td>\n",
       "      <td>494</td>\n",
       "      <td>0.040503</td>\n",
       "      <td>663.0</td>\n",
       "    </tr>\n",
       "    <tr>\n",
       "      <th>650045</th>\n",
       "      <td>1269386.0</td>\n",
       "      <td>46713.0</td>\n",
       "      <td>7124.0</td>\n",
       "      <td>817972117</td>\n",
       "      <td>2960000</td>\n",
       "      <td>925</td>\n",
       "      <td>0.042412</td>\n",
       "      <td>130.0</td>\n",
       "    </tr>\n",
       "    <tr>\n",
       "      <th>650046</th>\n",
       "      <td>2037696.0</td>\n",
       "      <td>79148.0</td>\n",
       "      <td>2618.0</td>\n",
       "      <td>2823553551</td>\n",
       "      <td>7320000</td>\n",
       "      <td>164</td>\n",
       "      <td>0.040127</td>\n",
       "      <td>172.0</td>\n",
       "    </tr>\n",
       "    <tr>\n",
       "      <th>650047</th>\n",
       "      <td>1830806.0</td>\n",
       "      <td>80418.0</td>\n",
       "      <td>10631.0</td>\n",
       "      <td>4389931313</td>\n",
       "      <td>18800000</td>\n",
       "      <td>573</td>\n",
       "      <td>0.049732</td>\n",
       "      <td>3592.0</td>\n",
       "    </tr>\n",
       "  </tbody>\n",
       "</table>\n",
       "<p>357413 rows × 8 columns</p>\n",
       "</div>"
      ],
      "text/plain": [
       "        video_view_count  video_like_count  video_comment_count  \\\n",
       "0             20535235.0         2042255.0             152933.0   \n",
       "1               853167.0          101155.0              10541.0   \n",
       "2              1730189.0           67522.0               2869.0   \n",
       "3              1073421.0           35534.0               1263.0   \n",
       "4             56032799.0         1058450.0              44767.0   \n",
       "...                  ...               ...                  ...   \n",
       "650042          280194.0            3711.0                926.0   \n",
       "650044          920369.0           34452.0               2826.0   \n",
       "650045         1269386.0           46713.0               7124.0   \n",
       "650046         2037696.0           79148.0               2618.0   \n",
       "650047         1830806.0           80418.0              10631.0   \n",
       "\n",
       "        channel_view_count  channel_subscriber_count  channel_video_count  \\\n",
       "0                464615150                  11600000                   43   \n",
       "1                114331110                   1380000                  314   \n",
       "2                 19991522                     40600                   56   \n",
       "3                655373060                   4710000                 1746   \n",
       "4             269373477007                 276000000                21864   \n",
       "...                    ...                       ...                  ...   \n",
       "650042           212304779                    866000                15420   \n",
       "650044           640672504                   3120000                  494   \n",
       "650045           817972117                   2960000                  925   \n",
       "650046          2823553551                   7320000                  164   \n",
       "650047          4389931313                  18800000                  573   \n",
       "\n",
       "        engagement_rate  video_duration_seconds  \n",
       "0              0.106899                   148.0  \n",
       "1              0.130919                  2604.0  \n",
       "2              0.040684                   132.0  \n",
       "3              0.034280                    15.0  \n",
       "4              0.019689                   231.0  \n",
       "...                 ...                     ...  \n",
       "650042         0.016549                   188.0  \n",
       "650044         0.040503                   663.0  \n",
       "650045         0.042412                   130.0  \n",
       "650046         0.040127                   172.0  \n",
       "650047         0.049732                  3592.0  \n",
       "\n",
       "[357413 rows x 8 columns]"
      ]
     },
     "execution_count": 16,
     "metadata": {},
     "output_type": "execute_result"
    }
   ],
   "source": [
    "data.select_dtypes(include=['int64', 'float64'])"
   ]
  },
  {
   "cell_type": "code",
   "execution_count": 17,
   "metadata": {},
   "outputs": [
    {
     "data": {
      "text/plain": [
       "{'Total Rows': 357413,\n",
       " 'Duplicate Rows (Entire Row)': 0,\n",
       " 'Duplicate Video IDs': 334079}"
      ]
     },
     "execution_count": 17,
     "metadata": {},
     "output_type": "execute_result"
    }
   ],
   "source": [
    "duplicate_summary = {\n",
    "    \"Total Rows\": len(data),\n",
    "    \"Duplicate Rows (Entire Row)\": data.duplicated().sum(),\n",
    "    \"Duplicate Video IDs\": data.duplicated(subset=['video_id']).sum()\n",
    "}\n",
    "duplicate_summary "
   ]
  },
  {
   "cell_type": "code",
   "execution_count": 18,
   "metadata": {},
   "outputs": [
    {
     "data": {
      "text/plain": [
       "(357413, 30)"
      ]
     },
     "execution_count": 18,
     "metadata": {},
     "output_type": "execute_result"
    }
   ],
   "source": [
    "data.shape"
   ]
  },
  {
   "cell_type": "code",
   "execution_count": 19,
   "metadata": {},
   "outputs": [
    {
     "data": {
      "text/plain": [
       "(23334, 30)"
      ]
     },
     "execution_count": 19,
     "metadata": {},
     "output_type": "execute_result"
    }
   ],
   "source": [
    "data = data.drop_duplicates(subset=['video_id'])\n",
    "data.shape"
   ]
  },
  {
   "cell_type": "code",
   "execution_count": 20,
   "metadata": {},
   "outputs": [],
   "source": [
    "def time_to_seconds(time_str):\n",
    "    days, time_part = time_str.split(\" days \")\n",
    "    days = int(days)\n",
    "    h, m, s = map(int, time_part.split(\":\"))\n",
    "    total_seconds = days * 86400 + h * 3600 + m * 60 + s\n",
    "    return total_seconds\n",
    "\n",
    "data['time_to_trend_difference_seconds'] = data['time_difference'].apply(time_to_seconds)\n",
    "data['likes_per_view'] = data['video_like_count'] / data['video_view_count']\n",
    "data['comments_per_view'] = data['video_comment_count'] / data['video_view_count']\n",
    "data['is_weekend'] = pd.to_datetime(data['video_published_at']).dt.weekday >= 5"
   ]
  },
  {
   "cell_type": "code",
   "execution_count": 21,
   "metadata": {},
   "outputs": [
    {
     "data": {
      "text/plain": [
       "is_trending\n",
       "1    16498\n",
       "0     6836\n",
       "Name: count, dtype: int64"
      ]
     },
     "execution_count": 21,
     "metadata": {},
     "output_type": "execute_result"
    }
   ],
   "source": [
    "data['is_trending'] = data['time_difference'].apply(\n",
    "    lambda x: 1 if int(x.split(\" \")[0]) <= 1 else 0 \n",
    ")\n",
    "data.is_trending.value_counts() ## checking how fast videos are trending"
   ]
  },
  {
   "cell_type": "code",
   "execution_count": 22,
   "metadata": {},
   "outputs": [
    {
     "data": {
      "text/plain": [
       "0         0\n",
       "1         0\n",
       "2         2\n",
       "3        -1\n",
       "4         2\n",
       "         ..\n",
       "649469    0\n",
       "649477    1\n",
       "649487    0\n",
       "649530    0\n",
       "649532    0\n",
       "Name: time_difference_days, Length: 23334, dtype: int64"
      ]
     },
     "execution_count": 22,
     "metadata": {},
     "output_type": "execute_result"
    }
   ],
   "source": [
    "# do split (\" \") and take the first element\n",
    "\n",
    "data[\"time_difference_days\"] = data[\"time_difference\"].apply(lambda x: int(x.split(\" \")[0]))\n",
    "data[\"time_difference_days\"]"
   ]
  },
  {
   "cell_type": "code",
   "execution_count": 23,
   "metadata": {},
   "outputs": [],
   "source": [
    "# use data['video_published_at'] to make a column if morning, afternoon, evening, night\n",
    "data['video_published_at'] = pd.to_datetime(data['video_published_at'])\n",
    "data['published_hour'] = data['video_published_at'].dt.hour\n",
    "data['published_morning'] = data['published_hour'].between(6, 12)\n",
    "data['published_afternoon'] = data['published_hour'].between(12, 18)\n",
    "data['published_evening'] = data['published_hour'].between(18, 24)\n",
    "data['published_night'] = data['published_hour'].between(0, 6)"
   ]
  },
  {
   "cell_type": "code",
   "execution_count": null,
   "metadata": {},
   "outputs": [],
   "source": [
    "data['channel_published_at'] = pd.to_datetime(data['channel_published_at'], errors='coerce').dt.tz_localize(None)\n",
    "data['video_published_at'] = pd.to_datetime(data['video_published_at'], errors='coerce').dt.tz_localize(None)\n",
    "data['channel_video_channel_publish_difference'] = (data['video_published_at'] - data['channel_published_at']).dt.days\n",
    "data['channel_video_channel_publish_difference']\n",
    "data['channel_video_channel_publish_difference'] = data['channel_video_channel_publish_difference'].fillna(data['channel_video_channel_publish_difference'].mean()) # di ko na alam kung tama to"
   ]
  },
  {
   "cell_type": "code",
   "execution_count": 26,
   "metadata": {},
   "outputs": [
    {
     "data": {
      "text/plain": [
       "is_trending\n",
       "1    16498\n",
       "0     6836\n",
       "Name: count, dtype: int64"
      ]
     },
     "execution_count": 26,
     "metadata": {},
     "output_type": "execute_result"
    }
   ],
   "source": [
    "data['is_trending'].value_counts()"
   ]
  },
  {
   "cell_type": "code",
   "execution_count": 27,
   "metadata": {},
   "outputs": [
    {
     "data": {
      "text/plain": [
       "is_weekend\n",
       "False    16493\n",
       "True      6841\n",
       "Name: count, dtype: int64"
      ]
     },
     "execution_count": 27,
     "metadata": {},
     "output_type": "execute_result"
    }
   ],
   "source": [
    "data['is_weekend'].value_counts()"
   ]
  },
  {
   "cell_type": "code",
   "execution_count": 28,
   "metadata": {},
   "outputs": [
    {
     "data": {
      "text/plain": [
       "Index(['video_id', 'video_published_at', 'video_trending__date', 'channel_id',\n",
       "       'video_title', 'video_description', 'video_default_thumbnail',\n",
       "       'video_category_id', 'video_tags', 'video_duration', 'video_dimension',\n",
       "       'video_definition', 'video_licensed_content', 'video_view_count',\n",
       "       'video_like_count', 'video_comment_count', 'channel_title',\n",
       "       'channel_description', 'channel_custom_url', 'channel_published_at',\n",
       "       'channel_country', 'channel_view_count', 'channel_subscriber_count',\n",
       "       'channel_have_hidden_subscribers', 'channel_video_count',\n",
       "       'channel_localized_title', 'channel_localized_description',\n",
       "       'engagement_rate', 'time_difference', 'video_duration_seconds',\n",
       "       'time_to_trend_difference_seconds', 'likes_per_view',\n",
       "       'comments_per_view', 'is_weekend', 'is_trending',\n",
       "       'time_difference_days', 'published_hour', 'published_morning',\n",
       "       'published_afternoon', 'published_evening', 'published_night',\n",
       "       'channel_video_channel_publish_difference'],\n",
       "      dtype='object')"
      ]
     },
     "execution_count": 28,
     "metadata": {},
     "output_type": "execute_result"
    }
   ],
   "source": [
    "data.columns"
   ]
  },
  {
   "cell_type": "code",
   "execution_count": 29,
   "metadata": {},
   "outputs": [],
   "source": [
    "categorical_features = [\n",
    "    'video_category_id', 'is_weekend',\n",
    "    'video_definition', 'video_dimension', 'video_licensed_content',\n",
    "    'channel_country', 'channel_have_hidden_subscribers', 'published_morning', 'published_afternoon', 'published_evening', 'published_night'\n",
    "]\n",
    "numerical_features = [\n",
    "    'video_duration_seconds', 'channel_video_count', 'channel_video_channel_publish_difference'\n",
    "]"
   ]
  },
  {
   "cell_type": "code",
   "execution_count": 30,
   "metadata": {},
   "outputs": [],
   "source": [
    "X_categorical = data[categorical_features]\n",
    "X_numerical = data[numerical_features]\n",
    "#X_text = data[embedded_text_columns]?\n",
    "y = data['engagement_rate']"
   ]
  },
  {
   "cell_type": "code",
   "execution_count": 31,
   "metadata": {},
   "outputs": [],
   "source": [
    "# from sklearn.ensemble import IsolationForest\n",
    "# isolation_forest = IsolationForest(contamination=0.10, random_state=42) \n",
    "# outliers = isolation_forest.fit_predict(X_numerical)\n",
    "\n",
    "# data_cleaned = data[outliers != -1]\n",
    "# data_cleaned.shape"
   ]
  },
  {
   "cell_type": "code",
   "execution_count": 32,
   "metadata": {},
   "outputs": [],
   "source": [
    "X_categorical = data[categorical_features]\n",
    "X_numerical = data[numerical_features]\n",
    "y = data['engagement_rate']"
   ]
  },
  {
   "cell_type": "code",
   "execution_count": 33,
   "metadata": {},
   "outputs": [
    {
     "data": {
      "text/plain": [
       "0"
      ]
     },
     "execution_count": 33,
     "metadata": {},
     "output_type": "execute_result"
    }
   ],
   "source": [
    "y.isnull().sum()"
   ]
  },
  {
   "cell_type": "code",
   "execution_count": 34,
   "metadata": {},
   "outputs": [
    {
     "data": {
      "text/plain": [
       "(23334, 14)"
      ]
     },
     "execution_count": 34,
     "metadata": {},
     "output_type": "execute_result"
    }
   ],
   "source": [
    "import numpy as np\n",
    "#X = np.hstack((X_numerical, X_categorical))\n",
    "X = pd.concat((X_numerical, X_categorical),axis=1)\n",
    "X.shape"
   ]
  },
  {
   "cell_type": "code",
   "execution_count": 35,
   "metadata": {},
   "outputs": [],
   "source": [
    "from feature_engine.selection import DropConstantFeatures, DropDuplicateFeatures, DropCorrelatedFeatures\n",
    "from feature_engine.pipeline import Pipeline\n",
    "\n",
    "pipeline = Pipeline([\n",
    "    (\"drop_constant_features\", DropConstantFeatures(tol=0.98)),\n",
    "    (\"drop_duplicate_features\", DropDuplicateFeatures()),\n",
    "    (\"drop_correlated_features\", DropCorrelatedFeatures(method='pearson', threshold=0.85))\n",
    "])\n",
    "\n",
    "X_final = pipeline.fit_transform(X)"
   ]
  },
  {
   "cell_type": "code",
   "execution_count": 36,
   "metadata": {},
   "outputs": [
    {
     "data": {
      "text/plain": [
       "{'channel_have_hidden_subscribers', 'video_definition', 'video_dimension'}"
      ]
     },
     "execution_count": 36,
     "metadata": {},
     "output_type": "execute_result"
    }
   ],
   "source": [
    "# check difference of columns between X and X_final\n",
    "set(X.columns) - set(X_final.columns)"
   ]
  },
  {
   "cell_type": "code",
   "execution_count": 37,
   "metadata": {},
   "outputs": [],
   "source": [
    "from sklearn.model_selection import train_test_split\n",
    "X_train, X_test, y_train, y_test = train_test_split(X_final, y, test_size=0.3, random_state=42)"
   ]
  },
  {
   "cell_type": "code",
   "execution_count": 38,
   "metadata": {},
   "outputs": [
    {
     "data": {
      "text/plain": [
       "579       0.032851\n",
       "115122    0.035788\n",
       "345074    0.009000\n",
       "521352    0.067765\n",
       "229138    0.019506\n",
       "            ...   \n",
       "256234    0.026503\n",
       "595759    0.009878\n",
       "38823     0.053260\n",
       "2918      0.090691\n",
       "392768    0.025730\n",
       "Name: engagement_rate, Length: 16333, dtype: float64"
      ]
     },
     "execution_count": 38,
     "metadata": {},
     "output_type": "execute_result"
    }
   ],
   "source": [
    "y_train"
   ]
  },
  {
   "cell_type": "code",
   "execution_count": 39,
   "metadata": {},
   "outputs": [],
   "source": [
    "categorical_features = [\n",
    "    'video_category_id', 'is_weekend' ,'video_licensed_content',\n",
    "    'channel_country', 'published_morning', 'published_afternoon', 'published_evening', 'published_night'\n",
    "]\n",
    "numerical_features = [\n",
    "    'video_duration_seconds', 'channel_video_count', 'channel_video_channel_publish_difference'\n",
    "]"
   ]
  },
  {
   "cell_type": "code",
   "execution_count": 41,
   "metadata": {},
   "outputs": [],
   "source": [
    "X_train_categorical = X_train[categorical_features]\n",
    "X_test_categorical = X_test[categorical_features]\n",
    "\n",
    "X_train_numerical = X_train[numerical_features]\n",
    "X_test_numerical = X_test[numerical_features]"
   ]
  },
  {
   "cell_type": "code",
   "execution_count": 42,
   "metadata": {},
   "outputs": [],
   "source": [
    "from feature_engine.encoding import DecisionTreeEncoder\n",
    "from feature_engine.encoding import OneHotEncoder\n",
    "from feature_engine.encoding import MeanEncoder\n",
    "\n",
    "encoder = DecisionTreeEncoder(random_state=42)\n",
    "X_train_encode = encoder.fit_transform(X_train_categorical, y_train)\n",
    "X_test_encode = encoder.transform(X_test_categorical)"
   ]
  },
  {
   "cell_type": "code",
   "execution_count": 43,
   "metadata": {},
   "outputs": [],
   "source": [
    "# from feature_engine.transformation import LogTransformer\n",
    "\n",
    "# log_transformer = LogTransformer(variables=numerical_features)\n",
    "\n",
    "# X_train_log = log_transformer.fit_transform(X_train_numerical)\n",
    "# X_test_log = log_transformer.transform(X_test_numerical) # di naman gumana hahahaha"
   ]
  },
  {
   "cell_type": "code",
   "execution_count": 44,
   "metadata": {},
   "outputs": [],
   "source": [
    "from sklearn.preprocessing import StandardScaler\n",
    "scaler = StandardScaler()\n",
    "X_train_scaled = scaler.fit_transform(X_train_numerical)\n",
    "X_test_scaled = scaler.transform(X_test_numerical)\n",
    "# X_train_resampled, y_train_resampled = smote_enn.fit_resample(X_train_scaled, y_train)"
   ]
  },
  {
   "cell_type": "code",
   "execution_count": 45,
   "metadata": {},
   "outputs": [],
   "source": [
    "X_train = np.hstack((X_train_encode, X_train_scaled))\n",
    "X_test = np.hstack((X_test_encode, X_test_scaled))"
   ]
  },
  {
   "cell_type": "code",
   "execution_count": 46,
   "metadata": {},
   "outputs": [
    {
     "name": "stdout",
     "output_type": "stream",
     "text": [
      "Train MSE: 0.00011438448278173227\n",
      "Test MSE: 0.0009008612936570303\n",
      "Train R2: 0.9074153086797286\n",
      "Test R2: 0.30664635015805697\n"
     ]
    }
   ],
   "source": [
    "from sklearn.ensemble import RandomForestRegressor\n",
    "from sklearn.metrics import mean_squared_error, r2_score\n",
    "\n",
    "regressor = RandomForestRegressor(random_state=42)\n",
    "\n",
    "regressor.fit(X_train, y_train)\n",
    "\n",
    "y_pred_train = regressor.predict(X_train)\n",
    "y_pred_test = regressor.predict(X_test)\n",
    "\n",
    "train_mse = mean_squared_error(y_train, y_pred_train)\n",
    "test_mse = mean_squared_error(y_test, y_pred_test)\n",
    "train_r2 = r2_score(y_train, y_pred_train)\n",
    "test_r2 = r2_score(y_test, y_pred_test)\n",
    "\n",
    "print(f\"Train MSE: {train_mse}\")\n",
    "print(f\"Test MSE: {test_mse}\")\n",
    "print(f\"Train R2: {train_r2}\")\n",
    "print(f\"Test R2: {test_r2}\")"
   ]
  },
  {
   "cell_type": "code",
   "execution_count": 47,
   "metadata": {},
   "outputs": [
    {
     "data": {
      "image/png": "[encoded data removed]",
      "text/plain": [
       "<Figure size 640x480 with 1 Axes>"
      ]
     },
     "metadata": {},
     "output_type": "display_data"
    }
   ],
   "source": [
    "import matplotlib.pyplot as plt\n",
    "feature_importances = regressor.feature_importances_\n",
    "feature_names = list(X_train_numerical.columns) + list(X_train_categorical.columns)\n",
    "plt.barh(feature_names, feature_importances)\n",
    "plt.xlabel('Feature Importance')\n",
    "plt.title('Feature Importance Analysis')\n",
    "plt.show()"
   ]
  },
  {
   "cell_type": "code",
   "execution_count": 48,
   "metadata": {},
   "outputs": [
    {
     "data": {
      "image/png": "[encoded data removed]",
      "text/plain": [
       "<Figure size 1000x600 with 1 Axes>"
      ]
     },
     "metadata": {},
     "output_type": "display_data"
    }
   ],
   "source": [
    "import matplotlib.pyplot as plt\n",
    "\n",
    "plt.figure(figsize=(10, 6))\n",
    "plt.plot(y_test.values, label='Actual', color='blue', alpha=0.6)\n",
    "plt.plot(y_pred_test, label='Predicted', color='red', alpha=0.6)\n",
    "plt.xlabel('Sample Index')\n",
    "plt.ylabel('Engagement Rate')\n",
    "plt.title('Comparison of Actual and Predicted Engagement Rates')\n",
    "plt.legend()\n",
    "plt.show()"
   ]
  }
 ],
 "metadata": {
  "kernelspec": {
   "display_name": "ptcnn",
   "language": "python",
   "name": "python3"
  },
  "language_info": {
   "codemirror_mode": {
    "name": "ipython",
    "version": 3
   },
   "file_extension": ".py",
   "mimetype": "text/x-python",
   "name": "python",
   "nbconvert_exporter": "python",
   "pygments_lexer": "ipython3",
   "version": "3.12.7"
  }
 },
 "nbformat": 4,
 "nbformat_minor": 4
}
