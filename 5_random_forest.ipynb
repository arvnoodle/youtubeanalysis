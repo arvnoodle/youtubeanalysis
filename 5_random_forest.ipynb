{
 "cells": [
  {
   "cell_type": "code",
   "execution_count": 138,
   "metadata": {},
   "outputs": [],
   "source": [
    "from sklearn.preprocessing import StandardScaler\n",
    "#from factor_analyzer import FactorAnalyzer, calculate_kmo\n",
    "from scipy.stats import bartlett\n",
    "import pandas as pd\n",
    "from sklearn.preprocessing import StandardScaler\n",
    "#from factor_analyzer import FactorAnalyzer, calculate_kmo, calculate_bartlett_sphericity\n",
    "import pandas as pd\n",
    "import numpy as np\n",
    "import matplotlib.pyplot as plt\n",
    "#import pingouin as pg\n",
    "import seaborn as sns"
   ]
  },
  {
   "cell_type": "code",
   "execution_count": 139,
   "metadata": {},
   "outputs": [
    {
     "name": "stdout",
     "output_type": "stream",
     "text": [
      "Index(['video_id', 'video_published_at', 'video_trending__date',\n",
      "       'video_trending_country', 'channel_id', 'video_title',\n",
      "       'video_description', 'video_default_thumbnail', 'video_category_id',\n",
      "       'video_tags', 'video_duration', 'video_dimension', 'video_definition',\n",
      "       'video_licensed_content', 'video_view_count', 'video_like_count',\n",
      "       'video_comment_count', 'channel_title', 'channel_description',\n",
      "       'channel_custom_url', 'channel_published_at', 'channel_country',\n",
      "       'channel_view_count', 'channel_subscriber_count',\n",
      "       'channel_have_hidden_subscribers', 'channel_video_count',\n",
      "       'channel_localized_title', 'channel_localized_description',\n",
      "       'engagement_rate', 'time_difference', 'video_duration_seconds'],\n",
      "      dtype='object')\n"
     ]
    },
    {
     "data": {
      "text/plain": [
       "(149885, 31)"
      ]
     },
     "execution_count": 139,
     "metadata": {},
     "output_type": "execute_result"
    }
   ],
   "source": [
    "data_path = \"data_cleaned_feature_31.csv\"\n",
    "data = pd.read_csv(data_path)\n",
    "print(data.columns)\n",
    "data.shape"
   ]
  },
  {
   "cell_type": "code",
   "execution_count": 140,
   "metadata": {},
   "outputs": [
    {
     "data": {
      "text/plain": [
       "(114683, 30)"
      ]
     },
     "execution_count": 140,
     "metadata": {},
     "output_type": "execute_result"
    }
   ],
   "source": [
    "# drop duplicates\n",
    "data = data.drop(['video_trending_country'],axis=1).drop_duplicates()\n",
    "data.shape"
   ]
  },
  {
   "cell_type": "code",
   "execution_count": 141,
   "metadata": {},
   "outputs": [
    {
     "data": {
      "text/html": [
       "<div>\n",
       "<style scoped>\n",
       "    .dataframe tbody tr th:only-of-type {\n",
       "        vertical-align: middle;\n",
       "    }\n",
       "\n",
       "    .dataframe tbody tr th {\n",
       "        vertical-align: top;\n",
       "    }\n",
       "\n",
       "    .dataframe thead th {\n",
       "        text-align: right;\n",
       "    }\n",
       "</style>\n",
       "<table border=\"1\" class=\"dataframe\">\n",
       "  <thead>\n",
       "    <tr style=\"text-align: right;\">\n",
       "      <th></th>\n",
       "      <th>video_view_count</th>\n",
       "      <th>video_like_count</th>\n",
       "      <th>video_comment_count</th>\n",
       "      <th>channel_view_count</th>\n",
       "      <th>channel_subscriber_count</th>\n",
       "      <th>channel_video_count</th>\n",
       "      <th>engagement_rate</th>\n",
       "      <th>video_duration_seconds</th>\n",
       "    </tr>\n",
       "  </thead>\n",
       "  <tbody>\n",
       "    <tr>\n",
       "      <th>0</th>\n",
       "      <td>156272.0</td>\n",
       "      <td>4615.0</td>\n",
       "      <td>238.0</td>\n",
       "      <td>46473647</td>\n",
       "      <td>321000</td>\n",
       "      <td>207</td>\n",
       "      <td>0.031055</td>\n",
       "      <td>774.0</td>\n",
       "    </tr>\n",
       "    <tr>\n",
       "      <th>1</th>\n",
       "      <td>2148646.0</td>\n",
       "      <td>222346.0</td>\n",
       "      <td>11225.0</td>\n",
       "      <td>6395292</td>\n",
       "      <td>158000</td>\n",
       "      <td>61</td>\n",
       "      <td>0.108706</td>\n",
       "      <td>317.0</td>\n",
       "    </tr>\n",
       "    <tr>\n",
       "      <th>2</th>\n",
       "      <td>1106491.0</td>\n",
       "      <td>44317.0</td>\n",
       "      <td>2406.0</td>\n",
       "      <td>2807917957</td>\n",
       "      <td>8880000</td>\n",
       "      <td>1612</td>\n",
       "      <td>0.042226</td>\n",
       "      <td>2223.0</td>\n",
       "    </tr>\n",
       "    <tr>\n",
       "      <th>3</th>\n",
       "      <td>1185486.0</td>\n",
       "      <td>25373.0</td>\n",
       "      <td>2664.0</td>\n",
       "      <td>122939495</td>\n",
       "      <td>389000</td>\n",
       "      <td>635</td>\n",
       "      <td>0.023650</td>\n",
       "      <td>1297.0</td>\n",
       "    </tr>\n",
       "    <tr>\n",
       "      <th>4</th>\n",
       "      <td>69035.0</td>\n",
       "      <td>4346.0</td>\n",
       "      <td>125.0</td>\n",
       "      <td>85074466</td>\n",
       "      <td>436000</td>\n",
       "      <td>1429</td>\n",
       "      <td>0.064764</td>\n",
       "      <td>1269.0</td>\n",
       "    </tr>\n",
       "    <tr>\n",
       "      <th>...</th>\n",
       "      <td>...</td>\n",
       "      <td>...</td>\n",
       "      <td>...</td>\n",
       "      <td>...</td>\n",
       "      <td>...</td>\n",
       "      <td>...</td>\n",
       "      <td>...</td>\n",
       "      <td>...</td>\n",
       "    </tr>\n",
       "    <tr>\n",
       "      <th>149880</th>\n",
       "      <td>8548359.0</td>\n",
       "      <td>378107.0</td>\n",
       "      <td>3089.0</td>\n",
       "      <td>5592638348</td>\n",
       "      <td>12500000</td>\n",
       "      <td>1019</td>\n",
       "      <td>0.044593</td>\n",
       "      <td>24.0</td>\n",
       "    </tr>\n",
       "    <tr>\n",
       "      <th>149881</th>\n",
       "      <td>22553412.0</td>\n",
       "      <td>623924.0</td>\n",
       "      <td>7208.0</td>\n",
       "      <td>6331232520</td>\n",
       "      <td>8890000</td>\n",
       "      <td>480</td>\n",
       "      <td>0.027984</td>\n",
       "      <td>15.0</td>\n",
       "    </tr>\n",
       "    <tr>\n",
       "      <th>149882</th>\n",
       "      <td>63090147.0</td>\n",
       "      <td>2451904.0</td>\n",
       "      <td>3598.0</td>\n",
       "      <td>33506017412</td>\n",
       "      <td>44400000</td>\n",
       "      <td>3136</td>\n",
       "      <td>0.038921</td>\n",
       "      <td>15.0</td>\n",
       "    </tr>\n",
       "    <tr>\n",
       "      <th>149883</th>\n",
       "      <td>765386.0</td>\n",
       "      <td>27876.0</td>\n",
       "      <td>716.0</td>\n",
       "      <td>42201127</td>\n",
       "      <td>379000</td>\n",
       "      <td>809</td>\n",
       "      <td>0.037356</td>\n",
       "      <td>6566.0</td>\n",
       "    </tr>\n",
       "    <tr>\n",
       "      <th>149884</th>\n",
       "      <td>626417.0</td>\n",
       "      <td>12581.0</td>\n",
       "      <td>291.0</td>\n",
       "      <td>152352626</td>\n",
       "      <td>886000</td>\n",
       "      <td>11247</td>\n",
       "      <td>0.020549</td>\n",
       "      <td>30.0</td>\n",
       "    </tr>\n",
       "  </tbody>\n",
       "</table>\n",
       "<p>114683 rows × 8 columns</p>\n",
       "</div>"
      ],
      "text/plain": [
       "        video_view_count  video_like_count  video_comment_count  \\\n",
       "0               156272.0            4615.0                238.0   \n",
       "1              2148646.0          222346.0              11225.0   \n",
       "2              1106491.0           44317.0               2406.0   \n",
       "3              1185486.0           25373.0               2664.0   \n",
       "4                69035.0            4346.0                125.0   \n",
       "...                  ...               ...                  ...   \n",
       "149880         8548359.0          378107.0               3089.0   \n",
       "149881        22553412.0          623924.0               7208.0   \n",
       "149882        63090147.0         2451904.0               3598.0   \n",
       "149883          765386.0           27876.0                716.0   \n",
       "149884          626417.0           12581.0                291.0   \n",
       "\n",
       "        channel_view_count  channel_subscriber_count  channel_video_count  \\\n",
       "0                 46473647                    321000                  207   \n",
       "1                  6395292                    158000                   61   \n",
       "2               2807917957                   8880000                 1612   \n",
       "3                122939495                    389000                  635   \n",
       "4                 85074466                    436000                 1429   \n",
       "...                    ...                       ...                  ...   \n",
       "149880          5592638348                  12500000                 1019   \n",
       "149881          6331232520                   8890000                  480   \n",
       "149882         33506017412                  44400000                 3136   \n",
       "149883            42201127                    379000                  809   \n",
       "149884           152352626                    886000                11247   \n",
       "\n",
       "        engagement_rate  video_duration_seconds  \n",
       "0              0.031055                   774.0  \n",
       "1              0.108706                   317.0  \n",
       "2              0.042226                  2223.0  \n",
       "3              0.023650                  1297.0  \n",
       "4              0.064764                  1269.0  \n",
       "...                 ...                     ...  \n",
       "149880         0.044593                    24.0  \n",
       "149881         0.027984                    15.0  \n",
       "149882         0.038921                    15.0  \n",
       "149883         0.037356                  6566.0  \n",
       "149884         0.020549                    30.0  \n",
       "\n",
       "[114683 rows x 8 columns]"
      ]
     },
     "execution_count": 141,
     "metadata": {},
     "output_type": "execute_result"
    }
   ],
   "source": [
    "data.select_dtypes(include=['int64', 'float64'])"
   ]
  },
  {
   "cell_type": "code",
   "execution_count": 142,
   "metadata": {},
   "outputs": [
    {
     "data": {
      "text/plain": [
       "{'Total Rows': 114683,\n",
       " 'Duplicate Rows (Entire Row)': 0,\n",
       " 'Duplicate Video IDs': 96373}"
      ]
     },
     "execution_count": 142,
     "metadata": {},
     "output_type": "execute_result"
    }
   ],
   "source": [
    "duplicate_summary = {\n",
    "    \"Total Rows\": len(data),\n",
    "    \"Duplicate Rows (Entire Row)\": data.duplicated().sum(),\n",
    "    \"Duplicate Video IDs\": data.duplicated(subset=['video_id']).sum()\n",
    "}\n",
    "duplicate_summary "
   ]
  },
  {
   "cell_type": "code",
   "execution_count": 143,
   "metadata": {},
   "outputs": [
    {
     "data": {
      "text/plain": [
       "0         False\n",
       "1         False\n",
       "2         False\n",
       "3         False\n",
       "4         False\n",
       "          ...  \n",
       "149880     True\n",
       "149881     True\n",
       "149882     True\n",
       "149883     True\n",
       "149884     True\n",
       "Length: 114683, dtype: bool"
      ]
     },
     "execution_count": 143,
     "metadata": {},
     "output_type": "execute_result"
    }
   ],
   "source": [
    "data.duplicated(subset=['video_id'])"
   ]
  },
  {
   "cell_type": "code",
   "execution_count": 144,
   "metadata": {},
   "outputs": [
    {
     "data": {
      "text/html": [
       "<div>\n",
       "<style scoped>\n",
       "    .dataframe tbody tr th:only-of-type {\n",
       "        vertical-align: middle;\n",
       "    }\n",
       "\n",
       "    .dataframe tbody tr th {\n",
       "        vertical-align: top;\n",
       "    }\n",
       "\n",
       "    .dataframe thead th {\n",
       "        text-align: right;\n",
       "    }\n",
       "</style>\n",
       "<table border=\"1\" class=\"dataframe\">\n",
       "  <thead>\n",
       "    <tr style=\"text-align: right;\">\n",
       "      <th></th>\n",
       "      <th>video_id</th>\n",
       "      <th>video_published_at</th>\n",
       "      <th>video_trending__date</th>\n",
       "      <th>channel_id</th>\n",
       "      <th>video_title</th>\n",
       "      <th>video_description</th>\n",
       "      <th>video_default_thumbnail</th>\n",
       "      <th>video_category_id</th>\n",
       "      <th>video_tags</th>\n",
       "      <th>video_duration</th>\n",
       "      <th>...</th>\n",
       "      <th>channel_country</th>\n",
       "      <th>channel_view_count</th>\n",
       "      <th>channel_subscriber_count</th>\n",
       "      <th>channel_have_hidden_subscribers</th>\n",
       "      <th>channel_video_count</th>\n",
       "      <th>channel_localized_title</th>\n",
       "      <th>channel_localized_description</th>\n",
       "      <th>engagement_rate</th>\n",
       "      <th>time_difference</th>\n",
       "      <th>video_duration_seconds</th>\n",
       "    </tr>\n",
       "  </thead>\n",
       "  <tbody>\n",
       "    <tr>\n",
       "      <th>0</th>\n",
       "      <td>F5BuWCRx9bY</td>\n",
       "      <td>2024-10-10 16:19:23</td>\n",
       "      <td>2024-10-16</td>\n",
       "      <td>UCQKpp1etxGeY-NC2bXRtUAA</td>\n",
       "      <td>NDARO ALIVOMPIGA HELA STEVE MWEUSI UTACHEKA</td>\n",
       "      <td>#ndaro #chekatu #stevemweusi #comedy #funny #w...</td>\n",
       "      <td>https://i.ytimg.com/vi/F5BuWCRx9bY/default.jpg</td>\n",
       "      <td>Comedy</td>\n",
       "      <td>NaN</td>\n",
       "      <td>PT12M54S</td>\n",
       "      <td>...</td>\n",
       "      <td>Tanzania</td>\n",
       "      <td>46473647</td>\n",
       "      <td>321000</td>\n",
       "      <td>False</td>\n",
       "      <td>207</td>\n",
       "      <td>Ndaro Tz</td>\n",
       "      <td>East African Comedian</td>\n",
       "      <td>0.031055</td>\n",
       "      <td>5 days 07:40:37</td>\n",
       "      <td>774.0</td>\n",
       "    </tr>\n",
       "    <tr>\n",
       "      <th>1</th>\n",
       "      <td>xJvfULLGjQE</td>\n",
       "      <td>2024-10-06 17:48:07</td>\n",
       "      <td>2024-11-02</td>\n",
       "      <td>UCoZnEQMqVvv_DkF50fupMKw</td>\n",
       "      <td>Bassem Youssef &amp; Amjad Al-Nour - Bibi’s Trial ...</td>\n",
       "      <td>Bassem Youssef &amp; Amjad Al-Nour - Bibi’s Trial ...</td>\n",
       "      <td>https://i.ytimg.com/vi/xJvfULLGjQE/default.jpg</td>\n",
       "      <td>Music</td>\n",
       "      <td>باسم,يوسف,البرنامج,bassem,basem,youssef,yousef...</td>\n",
       "      <td>PT5M17S</td>\n",
       "      <td>...</td>\n",
       "      <td>Egypt</td>\n",
       "      <td>6395292</td>\n",
       "      <td>158000</td>\n",
       "      <td>False</td>\n",
       "      <td>61</td>\n",
       "      <td>Bassem Youssef</td>\n",
       "      <td>Comedian, political satirist,vegan,documentary...</td>\n",
       "      <td>0.108706</td>\n",
       "      <td>26 days 06:11:53</td>\n",
       "      <td>317.0</td>\n",
       "    </tr>\n",
       "    <tr>\n",
       "      <th>2</th>\n",
       "      <td>RN5maxRpI_s</td>\n",
       "      <td>2024-11-22 16:00:20</td>\n",
       "      <td>2024-11-26</td>\n",
       "      <td>UCL6JmiMXKoXS6bpP1D3bk8g</td>\n",
       "      <td>Nitrous vs Supercharger | HiLow</td>\n",
       "      <td>Thanks to Allstate for sponsoring today’s epis...</td>\n",
       "      <td>https://i.ytimg.com/vi/RN5maxRpI_s/default.jpg</td>\n",
       "      <td>Autos &amp; Vehicles</td>\n",
       "      <td>donut,donut media,cars,james pumphrey,up to sp...</td>\n",
       "      <td>PT37M3S</td>\n",
       "      <td>...</td>\n",
       "      <td>United States</td>\n",
       "      <td>2807917957</td>\n",
       "      <td>8880000</td>\n",
       "      <td>False</td>\n",
       "      <td>1612</td>\n",
       "      <td>Donut</td>\n",
       "      <td>it's ok to like cars\\n</td>\n",
       "      <td>0.042226</td>\n",
       "      <td>3 days 07:59:40</td>\n",
       "      <td>2223.0</td>\n",
       "    </tr>\n",
       "    <tr>\n",
       "      <th>3</th>\n",
       "      <td>m2CzFycwLuk</td>\n",
       "      <td>2024-11-15 18:00:06</td>\n",
       "      <td>2024-11-19</td>\n",
       "      <td>UCTXpFhlF-SPNMiyATwVq95Q</td>\n",
       "      <td>ВС РФ Зашли В Черниговскую Область🎖 Началось З...</td>\n",
       "      <td>В этом видео мы обсудим с Вами ситуацию в Укра...</td>\n",
       "      <td>https://i.ytimg.com/vi/m2CzFycwLuk/default.jpg</td>\n",
       "      <td>News &amp; Politics</td>\n",
       "      <td>NaN</td>\n",
       "      <td>PT21M37S</td>\n",
       "      <td>...</td>\n",
       "      <td>Belarus</td>\n",
       "      <td>122939495</td>\n",
       "      <td>389000</td>\n",
       "      <td>False</td>\n",
       "      <td>635</td>\n",
       "      <td>Военные Сводки</td>\n",
       "      <td>На этом канале Вы можете найти всю необходимую...</td>\n",
       "      <td>0.023650</td>\n",
       "      <td>3 days 05:59:54</td>\n",
       "      <td>1297.0</td>\n",
       "    </tr>\n",
       "    <tr>\n",
       "      <th>4</th>\n",
       "      <td>DNkWGG3iFks</td>\n",
       "      <td>2024-11-06 21:32:42</td>\n",
       "      <td>2024-11-10</td>\n",
       "      <td>UCtNu0UG8PyYGeHKxu1HypyA</td>\n",
       "      <td>اول مره تجيلى بعد الجواز بتقولى اكلك وحشنى  عم...</td>\n",
       "      <td>No description available</td>\n",
       "      <td>https://i.ytimg.com/vi/DNkWGG3iFks/default.jpg</td>\n",
       "      <td>Education</td>\n",
       "      <td>NaN</td>\n",
       "      <td>PT21M9S</td>\n",
       "      <td>...</td>\n",
       "      <td>Egypt</td>\n",
       "      <td>85074466</td>\n",
       "      <td>436000</td>\n",
       "      <td>False</td>\n",
       "      <td>1429</td>\n",
       "      <td>وصفه فى مطبخي</td>\n",
       "      <td>كل ما يخص المطبخ والبيت</td>\n",
       "      <td>0.064764</td>\n",
       "      <td>3 days 02:27:18</td>\n",
       "      <td>1269.0</td>\n",
       "    </tr>\n",
       "  </tbody>\n",
       "</table>\n",
       "<p>5 rows × 30 columns</p>\n",
       "</div>"
      ],
      "text/plain": [
       "      video_id   video_published_at video_trending__date  \\\n",
       "0  F5BuWCRx9bY  2024-10-10 16:19:23           2024-10-16   \n",
       "1  xJvfULLGjQE  2024-10-06 17:48:07           2024-11-02   \n",
       "2  RN5maxRpI_s  2024-11-22 16:00:20           2024-11-26   \n",
       "3  m2CzFycwLuk  2024-11-15 18:00:06           2024-11-19   \n",
       "4  DNkWGG3iFks  2024-11-06 21:32:42           2024-11-10   \n",
       "\n",
       "                 channel_id  \\\n",
       "0  UCQKpp1etxGeY-NC2bXRtUAA   \n",
       "1  UCoZnEQMqVvv_DkF50fupMKw   \n",
       "2  UCL6JmiMXKoXS6bpP1D3bk8g   \n",
       "3  UCTXpFhlF-SPNMiyATwVq95Q   \n",
       "4  UCtNu0UG8PyYGeHKxu1HypyA   \n",
       "\n",
       "                                         video_title  \\\n",
       "0        NDARO ALIVOMPIGA HELA STEVE MWEUSI UTACHEKA   \n",
       "1  Bassem Youssef & Amjad Al-Nour - Bibi’s Trial ...   \n",
       "2                    Nitrous vs Supercharger | HiLow   \n",
       "3  ВС РФ Зашли В Черниговскую Область🎖 Началось З...   \n",
       "4  اول مره تجيلى بعد الجواز بتقولى اكلك وحشنى  عم...   \n",
       "\n",
       "                                   video_description  \\\n",
       "0  #ndaro #chekatu #stevemweusi #comedy #funny #w...   \n",
       "1  Bassem Youssef & Amjad Al-Nour - Bibi’s Trial ...   \n",
       "2  Thanks to Allstate for sponsoring today’s epis...   \n",
       "3  В этом видео мы обсудим с Вами ситуацию в Укра...   \n",
       "4                           No description available   \n",
       "\n",
       "                          video_default_thumbnail video_category_id  \\\n",
       "0  https://i.ytimg.com/vi/F5BuWCRx9bY/default.jpg            Comedy   \n",
       "1  https://i.ytimg.com/vi/xJvfULLGjQE/default.jpg             Music   \n",
       "2  https://i.ytimg.com/vi/RN5maxRpI_s/default.jpg  Autos & Vehicles   \n",
       "3  https://i.ytimg.com/vi/m2CzFycwLuk/default.jpg   News & Politics   \n",
       "4  https://i.ytimg.com/vi/DNkWGG3iFks/default.jpg         Education   \n",
       "\n",
       "                                          video_tags video_duration  ...  \\\n",
       "0                                                NaN       PT12M54S  ...   \n",
       "1  باسم,يوسف,البرنامج,bassem,basem,youssef,yousef...        PT5M17S  ...   \n",
       "2  donut,donut media,cars,james pumphrey,up to sp...        PT37M3S  ...   \n",
       "3                                                NaN       PT21M37S  ...   \n",
       "4                                                NaN        PT21M9S  ...   \n",
       "\n",
       "  channel_country channel_view_count  channel_subscriber_count  \\\n",
       "0        Tanzania           46473647                    321000   \n",
       "1           Egypt            6395292                    158000   \n",
       "2   United States         2807917957                   8880000   \n",
       "3         Belarus          122939495                    389000   \n",
       "4           Egypt           85074466                    436000   \n",
       "\n",
       "   channel_have_hidden_subscribers  channel_video_count  \\\n",
       "0                            False                  207   \n",
       "1                            False                   61   \n",
       "2                            False                 1612   \n",
       "3                            False                  635   \n",
       "4                            False                 1429   \n",
       "\n",
       "   channel_localized_title                      channel_localized_description  \\\n",
       "0                 Ndaro Tz                              East African Comedian   \n",
       "1           Bassem Youssef  Comedian, political satirist,vegan,documentary...   \n",
       "2                    Donut                             it's ok to like cars\\n   \n",
       "3           Военные Сводки  На этом канале Вы можете найти всю необходимую...   \n",
       "4            وصفه فى مطبخي                            كل ما يخص المطبخ والبيت   \n",
       "\n",
       "  engagement_rate   time_difference video_duration_seconds  \n",
       "0        0.031055   5 days 07:40:37                  774.0  \n",
       "1        0.108706  26 days 06:11:53                  317.0  \n",
       "2        0.042226   3 days 07:59:40                 2223.0  \n",
       "3        0.023650   3 days 05:59:54                 1297.0  \n",
       "4        0.064764   3 days 02:27:18                 1269.0  \n",
       "\n",
       "[5 rows x 30 columns]"
      ]
     },
     "execution_count": 144,
     "metadata": {},
     "output_type": "execute_result"
    }
   ],
   "source": [
    "data.drop_duplicates(subset=['video_id']).head()"
   ]
  },
  {
   "cell_type": "code",
   "execution_count": 145,
   "metadata": {},
   "outputs": [],
   "source": [
    "# text_features = ['video_description', 'video_title']\n",
    "\n",
    "# def clean_text_column(column):\n",
    "#     \"\"\"Clean a text column by filling nulls and removing special characters.\"\"\"\n",
    "#     return (\n",
    "#         column.fillna(\"\")  # Fill missing values with empty string\n",
    "#         .str.replace(r\"[^\\w\\s]\", \" \", regex=True)  # Remove special characters\n",
    "#         .str.lower()  # Convert to lowercase\n",
    "#         .str.strip()  # Remove leading/trailing spaces\n",
    "#     )\n",
    "\n",
    "# for text_feature in text_features:\n",
    "#     data[text_feature] = clean_text_column(data[text_feature])"
   ]
  },
  {
   "cell_type": "code",
   "execution_count": 146,
   "metadata": {},
   "outputs": [],
   "source": [
    "# from sentence_transformers import SentenceTransformer\n",
    "# model = SentenceTransformer('all-MiniLM-L6-v2')\n",
    "# sentence_embeddings = {}\n",
    "# for text_feature in text_features:\n",
    "#     text_data = data[text_feature].tolist()\n",
    "#     embeddings = model.encode(text_data, show_progress_bar=True)\n",
    "#     sentence_embeddings[text_feature] = pd.DataFrame(\n",
    "#         embeddings, \n",
    "#         columns=[f\"{text_feature}_dim{i}\" for i in range(embeddings.shape[1])]\n",
    "#     )"
   ]
  },
  {
   "cell_type": "code",
   "execution_count": 147,
   "metadata": {},
   "outputs": [],
   "source": [
    "def time_to_seconds(time_str):\n",
    "    days, time_part = time_str.split(\" days \")\n",
    "    days = int(days)\n",
    "    h, m, s = map(int, time_part.split(\":\"))\n",
    "    total_seconds = days * 86400 + h * 3600 + m * 60 + s\n",
    "    return total_seconds\n",
    "\n",
    "data['time_to_trend_difference_seconds'] = data['time_difference'].apply(time_to_seconds)\n",
    "data['likes_per_view'] = data['video_like_count'] / data['video_view_count']\n",
    "data['comments_per_view'] = data['video_comment_count'] / data['video_view_count']\n",
    "data['is_weekend'] = pd.to_datetime(data['video_published_at']).dt.weekday >= 5"
   ]
  },
  {
   "cell_type": "code",
   "execution_count": 148,
   "metadata": {},
   "outputs": [],
   "source": [
    "# columns_for_fa = [ 'video_view_count', 'video_like_count', 'video_comment_count',\n",
    "#     'channel_view_count', \n",
    "#     'channel_video_count', 'time_to_trend_difference_seconds',\n",
    "#     'video_duration_seconds']\n",
    "# fa_data = data[columns_for_fa].apply(pd.to_numeric, errors='coerce').dropna()\n",
    "# scaler = StandardScaler()\n",
    "# factor_data_standardized = scaler.fit_transform(fa_data)\n",
    "# kmo_all, kmo_model = calculate_kmo(factor_data_standardized)\n",
    "# print(f\"KMO: {kmo_model}\")\n",
    "# chi_square_value, p_value = calculate_bartlett_sphericity(factor_data_standardized)\n",
    "# print(f\"Bartlett's Test - Chi-Square: {chi_square_value}, p-value: {p_value}\")\n",
    "# fa = FactorAnalyzer(n_factors=3, rotation='varimax') \n",
    "# fa.fit(factor_data_standardized)\n",
    "# eigenvalues, _ = fa.get_eigenvalues()\n",
    "# print(f\"Eigenvalues: {eigenvalues}\")\n",
    "# loadings = fa.loadings_\n",
    "# print(f\"Factor Loadings:\\n{loadings}\")"
   ]
  },
  {
   "cell_type": "code",
   "execution_count": 149,
   "metadata": {},
   "outputs": [],
   "source": [
    "# factor_loadings = fa.loadings_\n",
    "# factor_loadings\n",
    "\n",
    "# threshold = 0.4\n",
    "# strong_loadings = np.abs(factor_loadings) > threshold\n",
    "\n",
    "# for i in range(factor_loadings.shape[1]):  \n",
    "#     print(f\"Factor {i+1} includes variables: {np.where(strong_loadings[:, i])[0]}\")"
   ]
  },
  {
   "cell_type": "code",
   "execution_count": 150,
   "metadata": {},
   "outputs": [],
   "source": [
    "# alpha1, ci1 = pg.cronbach_alpha(pd.DataFrame(factor_data_standardized).iloc[:, [0, 1,2]])\n",
    "# print(f\"Factor 1 - Cronbach's Alpha: {alpha1}, 95% CI: {ci1}\")"
   ]
  },
  {
   "cell_type": "code",
   "execution_count": 151,
   "metadata": {},
   "outputs": [],
   "source": [
    "# import seaborn as sns\n",
    "# factor_loadings_df = pd.DataFrame(loadings, columns=['Factor 1', 'Factor 2', 'Factor 3'], index=columns_for_fa)\n",
    "# sns.heatmap(factor_loadings_df, annot=True, cmap='coolwarm', fmt='.2f')\n",
    "# plt.title('Factor Loadings')\n",
    "# plt.show()"
   ]
  },
  {
   "cell_type": "code",
   "execution_count": 152,
   "metadata": {},
   "outputs": [
    {
     "data": {
      "text/plain": [
       "is_trending\n",
       "0    102425\n",
       "1     12258\n",
       "Name: count, dtype: int64"
      ]
     },
     "execution_count": 152,
     "metadata": {},
     "output_type": "execute_result"
    }
   ],
   "source": [
    "data['is_trending'] = data['time_difference'].apply(\n",
    "    lambda x: 1 if int(x.split(\" \")[0]) <= 1 else 0 \n",
    ")\n",
    "data.is_trending.value_counts() ## checking how fast videos are trending"
   ]
  },
  {
   "cell_type": "code",
   "execution_count": 153,
   "metadata": {},
   "outputs": [
    {
     "data": {
      "text/plain": [
       "0          5\n",
       "1         26\n",
       "2          3\n",
       "3          3\n",
       "4          3\n",
       "          ..\n",
       "149880    19\n",
       "149881    10\n",
       "149882    24\n",
       "149883     4\n",
       "149884    18\n",
       "Name: time_difference_days, Length: 114683, dtype: int64"
      ]
     },
     "execution_count": 153,
     "metadata": {},
     "output_type": "execute_result"
    }
   ],
   "source": [
    "# do split (\" \") and take the first element\n",
    "\n",
    "data[\"time_difference_days\"] = data[\"time_difference\"].apply(lambda x: int(x.split(\" \")[0]))\n",
    "data[\"time_difference_days\"]"
   ]
  },
  {
   "cell_type": "code",
   "execution_count": 154,
   "metadata": {},
   "outputs": [
    {
     "data": {
      "text/plain": [
       "(114683, 36)"
      ]
     },
     "execution_count": 154,
     "metadata": {},
     "output_type": "execute_result"
    }
   ],
   "source": [
    "data.shape"
   ]
  },
  {
   "cell_type": "code",
   "execution_count": 155,
   "metadata": {},
   "outputs": [],
   "source": [
    "# # hstack embedded_text and data\n",
    "# data = pd.concat([data, embedded_text], axis=1)\n",
    "# data.shape"
   ]
  },
  {
   "cell_type": "code",
   "execution_count": 156,
   "metadata": {},
   "outputs": [
    {
     "data": {
      "text/plain": [
       "((102425, 36), (12258, 36))"
      ]
     },
     "execution_count": 156,
     "metadata": {},
     "output_type": "execute_result"
    }
   ],
   "source": [
    "majority_class = data[data['is_trending'] == 0]\n",
    "minority_class = data[data['is_trending'] == 1]\n",
    "# shape\n",
    "majority_class.shape, minority_class.shape"
   ]
  },
  {
   "cell_type": "code",
   "execution_count": 157,
   "metadata": {},
   "outputs": [
    {
     "data": {
      "text/plain": [
       "is_trending\n",
       "0    102425\n",
       "1     71700\n",
       "Name: count, dtype: int64"
      ]
     },
     "execution_count": 157,
     "metadata": {},
     "output_type": "execute_result"
    }
   ],
   "source": [
    "from sklearn.utils import resample\n",
    "\n",
    "\n",
    "minority_upsampled = resample(minority_class, \n",
    "                              replace=True,     \n",
    "                              n_samples=int(round(len(majority_class) * 0.7, -2)),  \n",
    "                              random_state=42)  \n",
    "\n",
    "data = pd.concat([majority_class, minority_upsampled])\n",
    "data.is_trending.value_counts()"
   ]
  },
  {
   "cell_type": "code",
   "execution_count": 158,
   "metadata": {},
   "outputs": [
    {
     "data": {
      "text/plain": [
       "(174125, 36)"
      ]
     },
     "execution_count": 158,
     "metadata": {},
     "output_type": "execute_result"
    }
   ],
   "source": [
    "pd.concat([majority_class, minority_upsampled]).shape"
   ]
  },
  {
   "cell_type": "code",
   "execution_count": 159,
   "metadata": {},
   "outputs": [
    {
     "data": {
      "text/plain": [
       "0         2939.0\n",
       "1            NaN\n",
       "2         3423.0\n",
       "3            NaN\n",
       "4            NaN\n",
       "           ...  \n",
       "115306       NaN\n",
       "124574    4381.0\n",
       "65791     4448.0\n",
       "149807    6365.0\n",
       "44308     3192.0\n",
       "Name: channel_video_channel_publish_difference, Length: 174125, dtype: float64"
      ]
     },
     "execution_count": 159,
     "metadata": {},
     "output_type": "execute_result"
    }
   ],
   "source": [
    "data['channel_published_at'] = pd.to_datetime(data['channel_published_at'], errors='coerce').dt.tz_localize(None)\n",
    "data['video_published_at'] = pd.to_datetime(data['video_published_at'], errors='coerce').dt.tz_localize(None)\n",
    "data['channel_video_channel_publish_difference'] = (data['video_published_at'] - data['channel_published_at']).dt.days\n",
    "data['channel_video_channel_publish_difference']"
   ]
  },
  {
   "cell_type": "code",
   "execution_count": 160,
   "metadata": {},
   "outputs": [],
   "source": [
    "data['channel_video_channel_publish_difference'] = data['channel_video_channel_publish_difference'].fillna(data['channel_video_channel_publish_difference'].mean()) # di ko na alam kung tama to"
   ]
  },
  {
   "cell_type": "code",
   "execution_count": 161,
   "metadata": {},
   "outputs": [
    {
     "data": {
      "text/plain": [
       "is_trending\n",
       "0    102425\n",
       "1     71700\n",
       "Name: count, dtype: int64"
      ]
     },
     "execution_count": 161,
     "metadata": {},
     "output_type": "execute_result"
    }
   ],
   "source": [
    "data['is_trending'].value_counts()"
   ]
  },
  {
   "cell_type": "code",
   "execution_count": 162,
   "metadata": {},
   "outputs": [
    {
     "data": {
      "text/plain": [
       "is_weekend\n",
       "False    121393\n",
       "True      52732\n",
       "Name: count, dtype: int64"
      ]
     },
     "execution_count": 162,
     "metadata": {},
     "output_type": "execute_result"
    }
   ],
   "source": [
    "data['is_weekend'].value_counts()"
   ]
  },
  {
   "cell_type": "code",
   "execution_count": 163,
   "metadata": {},
   "outputs": [],
   "source": [
    "# features = [\n",
    "#     'video_duration_seconds', 'channel_video_count',\n",
    "#     'video_category_id', 'video_trending_country', 'is_weekend',\n",
    "#     'video_definition', 'video_dimension', 'video_licensed_content',\n",
    "#     'channel_country', 'channel_have_hidden_subscribers','channel_video_channel_publish_difference'\n",
    "# ]\n"
   ]
  },
  {
   "cell_type": "code",
   "execution_count": 164,
   "metadata": {},
   "outputs": [
    {
     "data": {
      "text/plain": [
       "0         False\n",
       "1         False\n",
       "2         False\n",
       "3         False\n",
       "4         False\n",
       "          ...  \n",
       "115306    False\n",
       "124574    False\n",
       "65791     False\n",
       "149807    False\n",
       "44308     False\n",
       "Name: channel_have_hidden_subscribers, Length: 174125, dtype: bool"
      ]
     },
     "execution_count": 164,
     "metadata": {},
     "output_type": "execute_result"
    }
   ],
   "source": [
    "data.channel_have_hidden_subscribers"
   ]
  },
  {
   "cell_type": "code",
   "execution_count": 165,
   "metadata": {},
   "outputs": [],
   "source": [
    "# data['is_trending'] = data['time_difference'].apply(\n",
    "#     lambda x: 1 if int(x.split(\" \")[0]) <= 3 else 0\n",
    "# )"
   ]
  },
  {
   "cell_type": "code",
   "execution_count": 166,
   "metadata": {},
   "outputs": [],
   "source": [
    "# embedded_text_columns = embedded_text.columns.tolist()\n",
    "# # embedded_text_columns"
   ]
  },
  {
   "cell_type": "code",
   "execution_count": 167,
   "metadata": {},
   "outputs": [],
   "source": [
    "categorical_features = [\n",
    "    'video_category_id', 'is_weekend',\n",
    "    'video_definition', 'video_dimension', 'video_licensed_content',\n",
    "    'channel_country', 'channel_have_hidden_subscribers'\n",
    "]\n",
    "numerical_features = [\n",
    "    'video_duration_seconds', 'channel_video_count', 'channel_video_channel_publish_difference'\n",
    "]"
   ]
  },
  {
   "cell_type": "code",
   "execution_count": 168,
   "metadata": {},
   "outputs": [],
   "source": [
    "X_categorical = data[categorical_features]\n",
    "X_numerical = data[numerical_features]\n",
    "#X_text = data[embedded_text_columns]\n",
    "y = data['is_trending']"
   ]
  },
  {
   "cell_type": "code",
   "execution_count": 169,
   "metadata": {},
   "outputs": [
    {
     "data": {
      "text/plain": [
       "(174125, 7)"
      ]
     },
     "execution_count": 169,
     "metadata": {},
     "output_type": "execute_result"
    }
   ],
   "source": [
    "X_categorical.shape"
   ]
  },
  {
   "cell_type": "code",
   "execution_count": 170,
   "metadata": {},
   "outputs": [
    {
     "data": {
      "text/plain": [
       "(174125, 7)"
      ]
     },
     "execution_count": 170,
     "metadata": {},
     "output_type": "execute_result"
    }
   ],
   "source": [
    "X_categorical.shape"
   ]
  },
  {
   "cell_type": "code",
   "execution_count": 171,
   "metadata": {},
   "outputs": [
    {
     "data": {
      "text/plain": [
       "(174125, 3)"
      ]
     },
     "execution_count": 171,
     "metadata": {},
     "output_type": "execute_result"
    }
   ],
   "source": [
    "X_numerical.shape"
   ]
  },
  {
   "cell_type": "code",
   "execution_count": 184,
   "metadata": {},
   "outputs": [
    {
     "data": {
      "text/plain": [
       "(174125, 10)"
      ]
     },
     "execution_count": 184,
     "metadata": {},
     "output_type": "execute_result"
    }
   ],
   "source": [
    "import numpy as np\n",
    "#X = np.hstack((X_numerical, X_categorical))\n",
    "X = pd.concat((X_numerical, X_categorical),axis=1)\n",
    "X.shape"
   ]
  },
  {
   "cell_type": "code",
   "execution_count": 185,
   "metadata": {},
   "outputs": [],
   "source": [
    "from sklearn.model_selection import train_test_split\n",
    "X_train, X_test, y_train, y_test = train_test_split(X, y, test_size=0.3, random_state=42)"
   ]
  },
  {
   "cell_type": "code",
   "execution_count": 186,
   "metadata": {},
   "outputs": [
    {
     "data": {
      "text/html": [
       "<div>\n",
       "<style scoped>\n",
       "    .dataframe tbody tr th:only-of-type {\n",
       "        vertical-align: middle;\n",
       "    }\n",
       "\n",
       "    .dataframe tbody tr th {\n",
       "        vertical-align: top;\n",
       "    }\n",
       "\n",
       "    .dataframe thead th {\n",
       "        text-align: right;\n",
       "    }\n",
       "</style>\n",
       "<table border=\"1\" class=\"dataframe\">\n",
       "  <thead>\n",
       "    <tr style=\"text-align: right;\">\n",
       "      <th></th>\n",
       "      <th>video_duration_seconds</th>\n",
       "      <th>channel_video_count</th>\n",
       "      <th>channel_video_channel_publish_difference</th>\n",
       "      <th>video_category_id</th>\n",
       "      <th>is_weekend</th>\n",
       "      <th>video_definition</th>\n",
       "      <th>video_dimension</th>\n",
       "      <th>video_licensed_content</th>\n",
       "      <th>channel_country</th>\n",
       "      <th>channel_have_hidden_subscribers</th>\n",
       "    </tr>\n",
       "  </thead>\n",
       "  <tbody>\n",
       "    <tr>\n",
       "      <th>44184</th>\n",
       "      <td>35.0</td>\n",
       "      <td>11831</td>\n",
       "      <td>3924.000000</td>\n",
       "      <td>People &amp; Blogs</td>\n",
       "      <td>False</td>\n",
       "      <td>hd</td>\n",
       "      <td>2d</td>\n",
       "      <td>False</td>\n",
       "      <td>Serbia</td>\n",
       "      <td>False</td>\n",
       "    </tr>\n",
       "    <tr>\n",
       "      <th>32880</th>\n",
       "      <td>55.0</td>\n",
       "      <td>329</td>\n",
       "      <td>6051.000000</td>\n",
       "      <td>People &amp; Blogs</td>\n",
       "      <td>False</td>\n",
       "      <td>hd</td>\n",
       "      <td>2d</td>\n",
       "      <td>True</td>\n",
       "      <td>United States</td>\n",
       "      <td>False</td>\n",
       "    </tr>\n",
       "    <tr>\n",
       "      <th>20634</th>\n",
       "      <td>976.0</td>\n",
       "      <td>1953</td>\n",
       "      <td>2514.000000</td>\n",
       "      <td>Entertainment</td>\n",
       "      <td>False</td>\n",
       "      <td>hd</td>\n",
       "      <td>2d</td>\n",
       "      <td>True</td>\n",
       "      <td>Germany</td>\n",
       "      <td>False</td>\n",
       "    </tr>\n",
       "    <tr>\n",
       "      <th>1495</th>\n",
       "      <td>1359.0</td>\n",
       "      <td>981</td>\n",
       "      <td>2396.000000</td>\n",
       "      <td>Entertainment</td>\n",
       "      <td>True</td>\n",
       "      <td>hd</td>\n",
       "      <td>2d</td>\n",
       "      <td>True</td>\n",
       "      <td>Mexico</td>\n",
       "      <td>False</td>\n",
       "    </tr>\n",
       "    <tr>\n",
       "      <th>123274</th>\n",
       "      <td>1079.0</td>\n",
       "      <td>36</td>\n",
       "      <td>4030.613499</td>\n",
       "      <td>Gaming</td>\n",
       "      <td>False</td>\n",
       "      <td>hd</td>\n",
       "      <td>2d</td>\n",
       "      <td>True</td>\n",
       "      <td>United States</td>\n",
       "      <td>False</td>\n",
       "    </tr>\n",
       "    <tr>\n",
       "      <th>...</th>\n",
       "      <td>...</td>\n",
       "      <td>...</td>\n",
       "      <td>...</td>\n",
       "      <td>...</td>\n",
       "      <td>...</td>\n",
       "      <td>...</td>\n",
       "      <td>...</td>\n",
       "      <td>...</td>\n",
       "      <td>...</td>\n",
       "      <td>...</td>\n",
       "    </tr>\n",
       "    <tr>\n",
       "      <th>83353</th>\n",
       "      <td>1452.0</td>\n",
       "      <td>457</td>\n",
       "      <td>5723.000000</td>\n",
       "      <td>Sports</td>\n",
       "      <td>True</td>\n",
       "      <td>hd</td>\n",
       "      <td>2d</td>\n",
       "      <td>True</td>\n",
       "      <td>United States</td>\n",
       "      <td>False</td>\n",
       "    </tr>\n",
       "    <tr>\n",
       "      <th>39196</th>\n",
       "      <td>851.0</td>\n",
       "      <td>29875</td>\n",
       "      <td>4030.613499</td>\n",
       "      <td>News &amp; Politics</td>\n",
       "      <td>False</td>\n",
       "      <td>hd</td>\n",
       "      <td>2d</td>\n",
       "      <td>True</td>\n",
       "      <td>Spain</td>\n",
       "      <td>False</td>\n",
       "    </tr>\n",
       "    <tr>\n",
       "      <th>149842</th>\n",
       "      <td>12505.0</td>\n",
       "      <td>1622</td>\n",
       "      <td>4030.613499</td>\n",
       "      <td>Entertainment</td>\n",
       "      <td>True</td>\n",
       "      <td>hd</td>\n",
       "      <td>2d</td>\n",
       "      <td>True</td>\n",
       "      <td>Unknown</td>\n",
       "      <td>False</td>\n",
       "    </tr>\n",
       "    <tr>\n",
       "      <th>3399</th>\n",
       "      <td>15681.0</td>\n",
       "      <td>16092</td>\n",
       "      <td>4030.613499</td>\n",
       "      <td>Entertainment</td>\n",
       "      <td>True</td>\n",
       "      <td>hd</td>\n",
       "      <td>2d</td>\n",
       "      <td>True</td>\n",
       "      <td>Unknown</td>\n",
       "      <td>False</td>\n",
       "    </tr>\n",
       "    <tr>\n",
       "      <th>10816</th>\n",
       "      <td>60.0</td>\n",
       "      <td>530</td>\n",
       "      <td>5102.000000</td>\n",
       "      <td>Entertainment</td>\n",
       "      <td>False</td>\n",
       "      <td>hd</td>\n",
       "      <td>2d</td>\n",
       "      <td>False</td>\n",
       "      <td>Taiwan</td>\n",
       "      <td>False</td>\n",
       "    </tr>\n",
       "  </tbody>\n",
       "</table>\n",
       "<p>121887 rows × 10 columns</p>\n",
       "</div>"
      ],
      "text/plain": [
       "        video_duration_seconds  channel_video_count  \\\n",
       "44184                     35.0                11831   \n",
       "32880                     55.0                  329   \n",
       "20634                    976.0                 1953   \n",
       "1495                    1359.0                  981   \n",
       "123274                  1079.0                   36   \n",
       "...                        ...                  ...   \n",
       "83353                   1452.0                  457   \n",
       "39196                    851.0                29875   \n",
       "149842                 12505.0                 1622   \n",
       "3399                   15681.0                16092   \n",
       "10816                     60.0                  530   \n",
       "\n",
       "        channel_video_channel_publish_difference video_category_id  \\\n",
       "44184                                3924.000000    People & Blogs   \n",
       "32880                                6051.000000    People & Blogs   \n",
       "20634                                2514.000000     Entertainment   \n",
       "1495                                 2396.000000     Entertainment   \n",
       "123274                               4030.613499            Gaming   \n",
       "...                                          ...               ...   \n",
       "83353                                5723.000000            Sports   \n",
       "39196                                4030.613499   News & Politics   \n",
       "149842                               4030.613499     Entertainment   \n",
       "3399                                 4030.613499     Entertainment   \n",
       "10816                                5102.000000     Entertainment   \n",
       "\n",
       "        is_weekend video_definition video_dimension  video_licensed_content  \\\n",
       "44184        False               hd              2d                   False   \n",
       "32880        False               hd              2d                    True   \n",
       "20634        False               hd              2d                    True   \n",
       "1495          True               hd              2d                    True   \n",
       "123274       False               hd              2d                    True   \n",
       "...            ...              ...             ...                     ...   \n",
       "83353         True               hd              2d                    True   \n",
       "39196        False               hd              2d                    True   \n",
       "149842        True               hd              2d                    True   \n",
       "3399          True               hd              2d                    True   \n",
       "10816        False               hd              2d                   False   \n",
       "\n",
       "       channel_country  channel_have_hidden_subscribers  \n",
       "44184           Serbia                            False  \n",
       "32880    United States                            False  \n",
       "20634          Germany                            False  \n",
       "1495            Mexico                            False  \n",
       "123274   United States                            False  \n",
       "...                ...                              ...  \n",
       "83353    United States                            False  \n",
       "39196            Spain                            False  \n",
       "149842         Unknown                            False  \n",
       "3399           Unknown                            False  \n",
       "10816           Taiwan                            False  \n",
       "\n",
       "[121887 rows x 10 columns]"
      ]
     },
     "execution_count": 186,
     "metadata": {},
     "output_type": "execute_result"
    }
   ],
   "source": [
    "X_train"
   ]
  },
  {
   "cell_type": "code",
   "execution_count": 187,
   "metadata": {},
   "outputs": [],
   "source": [
    "X_train_categorical = X_train[categorical_features]\n",
    "X_test_categorical = X_test[categorical_features]\n",
    "\n",
    "X_train_numerical = X_train[numerical_features]\n",
    "X_test_numerical = X_test[numerical_features]"
   ]
  },
  {
   "cell_type": "code",
   "execution_count": 188,
   "metadata": {},
   "outputs": [
    {
     "name": "stderr",
     "output_type": "stream",
     "text": [
      "/usr/local/lib/python3.11/dist-packages/feature_engine/encoding/base_encoder.py:260: UserWarning: During the encoding, NaN values were introduced in the feature(s) channel_country.\n",
      "  warnings.warn(\n"
     ]
    }
   ],
   "source": [
    "from feature_engine.encoding import DecisionTreeEncoder\n",
    "from feature_engine.encoding import OneHotEncoder\n",
    "from feature_engine.encoding import MeanEncoder\n",
    "\n",
    "encoder = DecisionTreeEncoder(regression=False)\n",
    "X_train_encode = encoder.fit_transform(X_train_categorical, y_train)\n",
    "X_test_encode = encoder.transform(X_test_categorical)"
   ]
  },
  {
   "cell_type": "code",
   "execution_count": 190,
   "metadata": {},
   "outputs": [],
   "source": [
    "from sklearn.preprocessing import StandardScaler\n",
    "scaler = StandardScaler()\n",
    "X_train_scaled = scaler.fit_transform(X_train_numerical)\n",
    "X_test_scaled = scaler.transform(X_test_numerical)\n",
    "# X_train_resampled, y_train_resampled = smote_enn.fit_resample(X_train_scaled, y_train)"
   ]
  },
  {
   "cell_type": "code",
   "execution_count": 194,
   "metadata": {},
   "outputs": [],
   "source": [
    "X_train = np.hstack((X_train_encode, X_train_scaled))\n",
    "X_test = np.hstack((X_test_encode, X_test_scaled))"
   ]
  },
  {
   "cell_type": "code",
   "execution_count": 199,
   "metadata": {},
   "outputs": [
    {
     "name": "stdout",
     "output_type": "stream",
     "text": [
      "Model Accuracy: 0.9144683946552318\n",
      "[[26807  3819]\n",
      " [  649 20963]]\n",
      "              precision    recall  f1-score   support\n",
      "\n",
      "           0       0.98      0.88      0.92     30626\n",
      "           1       0.85      0.97      0.90     21612\n",
      "\n",
      "    accuracy                           0.91     52238\n",
      "   macro avg       0.91      0.92      0.91     52238\n",
      "weighted avg       0.92      0.91      0.92     52238\n",
      "\n"
     ]
    }
   ],
   "source": [
    "from sklearn.ensemble import RandomForestClassifier\n",
    "\n",
    "model = RandomForestClassifier(random_state=42,class_weight='balanced')\n",
    "model.fit(X_train, y_train)\n",
    "accuracy = model.score(X_test, y_test)\n",
    "print(f\"Model Accuracy: {accuracy}\")\n",
    "from sklearn.metrics import classification_report, confusion_matrix\n",
    "y_pred = model.predict(X_test)\n",
    "print(confusion_matrix(y_test, y_pred))\n",
    "print(classification_report(y_test, y_pred))"
   ]
  },
  {
   "cell_type": "code",
   "execution_count": 200,
   "metadata": {},
   "outputs": [],
   "source": [
    "feature_names = data[categorical_features].columns.tolist() +  data[numerical_features].columns.tolist()"
   ]
  },
  {
   "cell_type": "code",
   "execution_count": 201,
   "metadata": {},
   "outputs": [
    {
     "data": {
      "image/png": "[encoded data removed]",
      "text/plain": [
       "<Figure size 1000x600 with 1 Axes>"
      ]
     },
     "metadata": {},
     "output_type": "display_data"
    }
   ],
   "source": [
    "#feature_names = pd.concat([data[categorical_features],data[numerical_features],data[embedded_text_columns]]).columns\n",
    "feature_importances = model.feature_importances_\n",
    "importance_df = pd.DataFrame({\n",
    "    'Feature': feature_names,\n",
    "    'Importance': feature_importances\n",
    "}).sort_values(by='Importance', ascending=False)\n",
    "\n",
    "top_features = importance_df.head(20)\n",
    "plt.figure(figsize=(10, 6))\n",
    "plt.barh(top_features['Feature'], top_features['Importance'], color='skyblue')\n",
    "plt.xlabel('Feature Importance')\n",
    "plt.ylabel('Features')\n",
    "plt.title('Top 20 Feature Importances in Random Forest')\n",
    "plt.gca().invert_yaxis()  \n",
    "plt.show()"
   ]
  },
  {
   "cell_type": "code",
   "execution_count": 202,
   "metadata": {},
   "outputs": [],
   "source": [
    "import shap\n",
    "import matplotlib.pyplot as plt\n",
    "\n",
    "explainer = shap.TreeExplainer(model)"
   ]
  },
  {
   "cell_type": "code",
   "execution_count": 204,
   "metadata": {},
   "outputs": [
    {
     "data": {
      "text/plain": [
       "(100, 3)"
      ]
     },
     "execution_count": 204,
     "metadata": {},
     "output_type": "execute_result"
    }
   ],
   "source": [
    "X_test_scaled[:100].shape"
   ]
  },
  {
   "cell_type": "code",
   "execution_count": 207,
   "metadata": {},
   "outputs": [],
   "source": [
    "X_sampled_test = X_train[:100]"
   ]
  },
  {
   "cell_type": "markdown",
   "metadata": {},
   "source": [
    "possibly need to drop the country"
   ]
  },
  {
   "cell_type": "code",
   "execution_count": 208,
   "metadata": {},
   "outputs": [],
   "source": [
    "shap_values = explainer.shap_values(X_sampled_test)"
   ]
  },
  {
   "cell_type": "code",
   "execution_count": 223,
   "metadata": {},
   "outputs": [
    {
     "data": {
      "text/plain": [
       "(10, 2)"
      ]
     },
     "execution_count": 223,
     "metadata": {},
     "output_type": "execute_result"
    }
   ],
   "source": [
    "shap_values[1].shape"
   ]
  },
  {
   "cell_type": "code",
   "execution_count": 217,
   "metadata": {},
   "outputs": [
    {
     "name": "stdout",
     "output_type": "stream",
     "text": [
      "SHAP values shape: (10, 2)\n",
      "Features shape: (100, 10)\n"
     ]
    }
   ],
   "source": [
    "print(\"SHAP values shape:\", shap_values[1].shape)  # Replace 1 with the index for your binary/multiclass target\n",
    "print(\"Features shape:\", X_sampled_test.shape)\n"
   ]
  },
  {
   "cell_type": "code",
   "execution_count": 213,
   "metadata": {},
   "outputs": [
    {
     "ename": "DimensionError",
     "evalue": "Length of features is not equal to the length of shap_values!",
     "output_type": "error",
     "traceback": [
      "\u001b[0;31m---------------------------------------------------------------------------\u001b[0m",
      "\u001b[0;31mDimensionError\u001b[0m                            Traceback (most recent call last)",
      "Cell \u001b[0;32mIn[213], line 2\u001b[0m\n\u001b[1;32m      1\u001b[0m index \u001b[38;5;241m=\u001b[39m \u001b[38;5;241m0\u001b[39m  \u001b[38;5;66;03m# Change the index to visualize a specific sample\u001b[39;00m\n\u001b[0;32m----> 2\u001b[0m \u001b[43mshap\u001b[49m\u001b[38;5;241;43m.\u001b[39;49m\u001b[43mforce_plot\u001b[49m\u001b[43m(\u001b[49m\n\u001b[1;32m      3\u001b[0m \u001b[43m    \u001b[49m\u001b[43mexplainer\u001b[49m\u001b[38;5;241;43m.\u001b[39;49m\u001b[43mexpected_value\u001b[49m\u001b[43m[\u001b[49m\u001b[38;5;241;43m1\u001b[39;49m\u001b[43m]\u001b[49m\u001b[43m,\u001b[49m\u001b[43m  \u001b[49m\u001b[38;5;66;43;03m# Expected value for class 1 (adjust if binary)\u001b[39;49;00m\n\u001b[1;32m      4\u001b[0m \u001b[43m    \u001b[49m\u001b[43mshap_values\u001b[49m\u001b[43m[\u001b[49m\u001b[38;5;241;43m1\u001b[39;49m\u001b[43m]\u001b[49m\u001b[43m[\u001b[49m\u001b[43mindex\u001b[49m\u001b[43m]\u001b[49m\u001b[43m,\u001b[49m\u001b[43m        \u001b[49m\u001b[38;5;66;43;03m# SHAP values for the selected prediction\u001b[39;49;00m\n\u001b[1;32m      5\u001b[0m \u001b[43m    \u001b[49m\u001b[43mX_sampled_test\u001b[49m\u001b[43m[\u001b[49m\u001b[43mindex\u001b[49m\u001b[43m]\u001b[49m\u001b[43m,\u001b[49m\u001b[43m   \u001b[49m\u001b[38;5;66;43;03m# Input features for the selected prediction\u001b[39;49;00m\n\u001b[1;32m      6\u001b[0m \u001b[43m    \u001b[49m\u001b[43mmatplotlib\u001b[49m\u001b[38;5;241;43m=\u001b[39;49m\u001b[38;5;28;43;01mTrue\u001b[39;49;00m\u001b[43m              \u001b[49m\u001b[38;5;66;43;03m# Use matplotlib to plot\u001b[39;49;00m\n\u001b[1;32m      7\u001b[0m \u001b[43m)\u001b[49m\n",
      "File \u001b[0;32m/usr/local/lib/python3.11/dist-packages/shap/plots/_force.py:181\u001b[0m, in \u001b[0;36mforce\u001b[0;34m(base_value, shap_values, features, feature_names, out_names, link, plot_cmap, matplotlib, show, figsize, ordering_keys, ordering_keys_time_format, text_rotation, contribution_threshold)\u001b[0m\n\u001b[1;32m    176\u001b[0m     \u001b[38;5;28;01mif\u001b[39;00m \u001b[38;5;28mlen\u001b[39m(features) \u001b[38;5;241m==\u001b[39m shap_values\u001b[38;5;241m.\u001b[39mshape[\u001b[38;5;241m1\u001b[39m] \u001b[38;5;241m-\u001b[39m \u001b[38;5;241m1\u001b[39m:\n\u001b[1;32m    177\u001b[0m         emsg \u001b[38;5;241m+\u001b[39m\u001b[38;5;241m=\u001b[39m (\n\u001b[1;32m    178\u001b[0m             \u001b[38;5;124m\"\u001b[39m\u001b[38;5;124m You might be using an old format shap_values array with the base value \u001b[39m\u001b[38;5;124m\"\u001b[39m\n\u001b[1;32m    179\u001b[0m             \u001b[38;5;124m\"\u001b[39m\u001b[38;5;124mas the last column. In this case, just pass the array without the last column.\u001b[39m\u001b[38;5;124m\"\u001b[39m\n\u001b[1;32m    180\u001b[0m         )\n\u001b[0;32m--> 181\u001b[0m     \u001b[38;5;28;01mraise\u001b[39;00m DimensionError(emsg)\n\u001b[1;32m    183\u001b[0m instance \u001b[38;5;241m=\u001b[39m Instance(np\u001b[38;5;241m.\u001b[39mzeros((\u001b[38;5;241m1\u001b[39m, \u001b[38;5;28mlen\u001b[39m(feature_names))), features)\n\u001b[1;32m    184\u001b[0m e \u001b[38;5;241m=\u001b[39m AdditiveExplanation(\n\u001b[1;32m    185\u001b[0m     base_value,\n\u001b[1;32m    186\u001b[0m     np\u001b[38;5;241m.\u001b[39msum(shap_values[\u001b[38;5;241m0\u001b[39m, :]) \u001b[38;5;241m+\u001b[39m base_value,\n\u001b[0;32m   (...)\u001b[0m\n\u001b[1;32m    192\u001b[0m     DenseData(np\u001b[38;5;241m.\u001b[39mzeros((\u001b[38;5;241m1\u001b[39m, \u001b[38;5;28mlen\u001b[39m(feature_names))), \u001b[38;5;28mlist\u001b[39m(feature_names))\n\u001b[1;32m    193\u001b[0m )\n",
      "\u001b[0;31mDimensionError\u001b[0m: Length of features is not equal to the length of shap_values!"
     ]
    }
   ],
   "source": [
    "index = 0  # Change the index to visualize a specific sample\n",
    "shap.force_plot(\n",
    "    explainer.expected_value[1],  # Expected value for class 1 (adjust if binary)\n",
    "    shap_values[1][index],        # SHAP values for the selected prediction\n",
    "    X_sampled_test[index],   # Input features for the selected prediction\n",
    "    matplotlib=True              # Use matplotlib to plot\n",
    ")"
   ]
  }
 ],
 "metadata": {
  "kernelspec": {
   "display_name": "Python 3 (ipykernel)",
   "language": "python",
   "name": "python3"
  },
  "language_info": {
   "codemirror_mode": {
    "name": "ipython",
    "version": 3
   },
   "file_extension": ".py",
   "mimetype": "text/x-python",
   "name": "python",
   "nbconvert_exporter": "python",
   "pygments_lexer": "ipython3",
   "version": "3.11.10"
  }
 },
 "nbformat": 4,
 "nbformat_minor": 4
}
