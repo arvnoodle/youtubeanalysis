{
 "cells": [
  {
   "cell_type": "code",
   "execution_count": 42,
   "metadata": {},
   "outputs": [],
   "source": [
    "from sklearn.preprocessing import StandardScaler\n",
    "from factor_analyzer import FactorAnalyzer, calculate_kmo\n",
    "from scipy.stats import bartlett\n",
    "import pandas as pd\n",
    "from sklearn.preprocessing import StandardScaler\n",
    "from factor_analyzer import FactorAnalyzer, calculate_kmo, calculate_bartlett_sphericity\n",
    "import pandas as pd\n",
    "import numpy as np\n",
    "import matplotlib.pyplot as plt\n",
    "import pingouin as pg"
   ]
  },
  {
   "cell_type": "code",
   "execution_count": 43,
   "metadata": {},
   "outputs": [
    {
     "name": "stdout",
     "output_type": "stream",
     "text": [
      "Index(['video_id', 'video_published_at', 'video_trending__date',\n",
      "       'video_trending_country', 'channel_id', 'video_title',\n",
      "       'video_description', 'video_default_thumbnail', 'video_category_id',\n",
      "       'video_tags', 'video_duration', 'video_dimension', 'video_definition',\n",
      "       'video_licensed_content', 'video_view_count', 'video_like_count',\n",
      "       'video_comment_count', 'channel_title', 'channel_description',\n",
      "       'channel_custom_url', 'channel_published_at', 'channel_country',\n",
      "       'channel_view_count', 'channel_subscriber_count',\n",
      "       'channel_have_hidden_subscribers', 'channel_video_count',\n",
      "       'channel_localized_title', 'channel_localized_description',\n",
      "       'engagement_rate', 'time_difference', 'video_duration_seconds'],\n",
      "      dtype='object')\n"
     ]
    },
    {
     "data": {
      "text/plain": [
       "(149885, 31)"
      ]
     },
     "execution_count": 43,
     "metadata": {},
     "output_type": "execute_result"
    }
   ],
   "source": [
    "data_path = \"data_cleaned_feature_31.csv\"\n",
    "data = pd.read_csv(data_path)\n",
    "print(data.columns)\n",
    "data.shape"
   ]
  },
  {
   "cell_type": "code",
   "execution_count": 44,
   "metadata": {},
   "outputs": [
    {
     "data": {
      "text/plain": [
       "(149885, 31)"
      ]
     },
     "execution_count": 44,
     "metadata": {},
     "output_type": "execute_result"
    }
   ],
   "source": [
    "# drop duplicates\n",
    "data = data.drop_duplicates()\n",
    "data.shape"
   ]
  },
  {
   "cell_type": "code",
   "execution_count": 45,
   "metadata": {},
   "outputs": [
    {
     "data": {
      "text/html": [
       "<div>\n",
       "<style scoped>\n",
       "    .dataframe tbody tr th:only-of-type {\n",
       "        vertical-align: middle;\n",
       "    }\n",
       "\n",
       "    .dataframe tbody tr th {\n",
       "        vertical-align: top;\n",
       "    }\n",
       "\n",
       "    .dataframe thead th {\n",
       "        text-align: right;\n",
       "    }\n",
       "</style>\n",
       "<table border=\"1\" class=\"dataframe\">\n",
       "  <thead>\n",
       "    <tr style=\"text-align: right;\">\n",
       "      <th></th>\n",
       "      <th>video_view_count</th>\n",
       "      <th>video_like_count</th>\n",
       "      <th>video_comment_count</th>\n",
       "      <th>channel_view_count</th>\n",
       "      <th>channel_subscriber_count</th>\n",
       "      <th>channel_video_count</th>\n",
       "      <th>engagement_rate</th>\n",
       "      <th>video_duration_seconds</th>\n",
       "    </tr>\n",
       "  </thead>\n",
       "  <tbody>\n",
       "    <tr>\n",
       "      <th>0</th>\n",
       "      <td>156272.0</td>\n",
       "      <td>4615.0</td>\n",
       "      <td>238.0</td>\n",
       "      <td>46473647</td>\n",
       "      <td>321000</td>\n",
       "      <td>207</td>\n",
       "      <td>0.031055</td>\n",
       "      <td>774.0</td>\n",
       "    </tr>\n",
       "    <tr>\n",
       "      <th>1</th>\n",
       "      <td>2148646.0</td>\n",
       "      <td>222346.0</td>\n",
       "      <td>11225.0</td>\n",
       "      <td>6395292</td>\n",
       "      <td>158000</td>\n",
       "      <td>61</td>\n",
       "      <td>0.108706</td>\n",
       "      <td>317.0</td>\n",
       "    </tr>\n",
       "    <tr>\n",
       "      <th>2</th>\n",
       "      <td>1106491.0</td>\n",
       "      <td>44317.0</td>\n",
       "      <td>2406.0</td>\n",
       "      <td>2807917957</td>\n",
       "      <td>8880000</td>\n",
       "      <td>1612</td>\n",
       "      <td>0.042226</td>\n",
       "      <td>2223.0</td>\n",
       "    </tr>\n",
       "    <tr>\n",
       "      <th>3</th>\n",
       "      <td>1185486.0</td>\n",
       "      <td>25373.0</td>\n",
       "      <td>2664.0</td>\n",
       "      <td>122939495</td>\n",
       "      <td>389000</td>\n",
       "      <td>635</td>\n",
       "      <td>0.023650</td>\n",
       "      <td>1297.0</td>\n",
       "    </tr>\n",
       "    <tr>\n",
       "      <th>4</th>\n",
       "      <td>69035.0</td>\n",
       "      <td>4346.0</td>\n",
       "      <td>125.0</td>\n",
       "      <td>85074466</td>\n",
       "      <td>436000</td>\n",
       "      <td>1429</td>\n",
       "      <td>0.064764</td>\n",
       "      <td>1269.0</td>\n",
       "    </tr>\n",
       "    <tr>\n",
       "      <th>...</th>\n",
       "      <td>...</td>\n",
       "      <td>...</td>\n",
       "      <td>...</td>\n",
       "      <td>...</td>\n",
       "      <td>...</td>\n",
       "      <td>...</td>\n",
       "      <td>...</td>\n",
       "      <td>...</td>\n",
       "    </tr>\n",
       "    <tr>\n",
       "      <th>149880</th>\n",
       "      <td>8548359.0</td>\n",
       "      <td>378107.0</td>\n",
       "      <td>3089.0</td>\n",
       "      <td>5592638348</td>\n",
       "      <td>12500000</td>\n",
       "      <td>1019</td>\n",
       "      <td>0.044593</td>\n",
       "      <td>24.0</td>\n",
       "    </tr>\n",
       "    <tr>\n",
       "      <th>149881</th>\n",
       "      <td>22553412.0</td>\n",
       "      <td>623924.0</td>\n",
       "      <td>7208.0</td>\n",
       "      <td>6331232520</td>\n",
       "      <td>8890000</td>\n",
       "      <td>480</td>\n",
       "      <td>0.027984</td>\n",
       "      <td>15.0</td>\n",
       "    </tr>\n",
       "    <tr>\n",
       "      <th>149882</th>\n",
       "      <td>63090147.0</td>\n",
       "      <td>2451904.0</td>\n",
       "      <td>3598.0</td>\n",
       "      <td>33506017412</td>\n",
       "      <td>44400000</td>\n",
       "      <td>3136</td>\n",
       "      <td>0.038921</td>\n",
       "      <td>15.0</td>\n",
       "    </tr>\n",
       "    <tr>\n",
       "      <th>149883</th>\n",
       "      <td>765386.0</td>\n",
       "      <td>27876.0</td>\n",
       "      <td>716.0</td>\n",
       "      <td>42201127</td>\n",
       "      <td>379000</td>\n",
       "      <td>809</td>\n",
       "      <td>0.037356</td>\n",
       "      <td>6566.0</td>\n",
       "    </tr>\n",
       "    <tr>\n",
       "      <th>149884</th>\n",
       "      <td>626417.0</td>\n",
       "      <td>12581.0</td>\n",
       "      <td>291.0</td>\n",
       "      <td>152352626</td>\n",
       "      <td>886000</td>\n",
       "      <td>11247</td>\n",
       "      <td>0.020549</td>\n",
       "      <td>30.0</td>\n",
       "    </tr>\n",
       "  </tbody>\n",
       "</table>\n",
       "<p>149885 rows × 8 columns</p>\n",
       "</div>"
      ],
      "text/plain": [
       "        video_view_count  video_like_count  video_comment_count  \\\n",
       "0               156272.0            4615.0                238.0   \n",
       "1              2148646.0          222346.0              11225.0   \n",
       "2              1106491.0           44317.0               2406.0   \n",
       "3              1185486.0           25373.0               2664.0   \n",
       "4                69035.0            4346.0                125.0   \n",
       "...                  ...               ...                  ...   \n",
       "149880         8548359.0          378107.0               3089.0   \n",
       "149881        22553412.0          623924.0               7208.0   \n",
       "149882        63090147.0         2451904.0               3598.0   \n",
       "149883          765386.0           27876.0                716.0   \n",
       "149884          626417.0           12581.0                291.0   \n",
       "\n",
       "        channel_view_count  channel_subscriber_count  channel_video_count  \\\n",
       "0                 46473647                    321000                  207   \n",
       "1                  6395292                    158000                   61   \n",
       "2               2807917957                   8880000                 1612   \n",
       "3                122939495                    389000                  635   \n",
       "4                 85074466                    436000                 1429   \n",
       "...                    ...                       ...                  ...   \n",
       "149880          5592638348                  12500000                 1019   \n",
       "149881          6331232520                   8890000                  480   \n",
       "149882         33506017412                  44400000                 3136   \n",
       "149883            42201127                    379000                  809   \n",
       "149884           152352626                    886000                11247   \n",
       "\n",
       "        engagement_rate  video_duration_seconds  \n",
       "0              0.031055                   774.0  \n",
       "1              0.108706                   317.0  \n",
       "2              0.042226                  2223.0  \n",
       "3              0.023650                  1297.0  \n",
       "4              0.064764                  1269.0  \n",
       "...                 ...                     ...  \n",
       "149880         0.044593                    24.0  \n",
       "149881         0.027984                    15.0  \n",
       "149882         0.038921                    15.0  \n",
       "149883         0.037356                  6566.0  \n",
       "149884         0.020549                    30.0  \n",
       "\n",
       "[149885 rows x 8 columns]"
      ]
     },
     "execution_count": 45,
     "metadata": {},
     "output_type": "execute_result"
    }
   ],
   "source": [
    "data.select_dtypes(include=['int64', 'float64'])"
   ]
  },
  {
   "cell_type": "code",
   "execution_count": 46,
   "metadata": {},
   "outputs": [],
   "source": [
    "def time_to_seconds(time_str):\n",
    "    days, time_part = time_str.split(\" days \")\n",
    "    days = int(days)\n",
    "    h, m, s = map(int, time_part.split(\":\"))\n",
    "    total_seconds = days * 86400 + h * 3600 + m * 60 + s\n",
    "    return total_seconds\n",
    "\n",
    "data['time_to_trend_difference_seconds'] = data['time_difference'].apply(time_to_seconds)\n",
    "data['likes_per_view'] = data['video_like_count'] / data['video_view_count']\n",
    "data['comments_per_view'] = data['video_comment_count'] / data['video_view_count']\n",
    "data['is_weekend'] = pd.to_datetime(data['video_published_at']).dt.weekday >= 5"
   ]
  },
  {
   "cell_type": "code",
   "execution_count": 47,
   "metadata": {},
   "outputs": [
    {
     "name": "stdout",
     "output_type": "stream",
     "text": [
      "KMO: 0.6110047499077821\n",
      "Bartlett's Test - Chi-Square: 351240.4475798048, p-value: 0.0\n",
      "Eigenvalues: [2.52114072 1.16899624 1.0289022  0.86363226 0.75901578 0.57420976\n",
      " 0.08410303]\n",
      "Factor Loadings:\n",
      "[[ 0.8371877   0.3400273   0.04817764]\n",
      " [ 0.9575172   0.26772918  0.1195129 ]\n",
      " [ 0.50401756 -0.15539699 -0.01791814]\n",
      " [ 0.31910668  0.22810022  0.46726521]\n",
      " [-0.05170046 -0.15197509  0.35839714]\n",
      " [ 0.23732967  0.23277888 -0.16727011]\n",
      " [-0.02012567 -0.37904892  0.03271162]]\n"
     ]
    }
   ],
   "source": [
    "columns_for_fa = [ 'video_view_count', 'video_like_count', 'video_comment_count',\n",
    "    'channel_view_count', \n",
    "    'channel_video_count', 'time_to_trend_difference_seconds',\n",
    "    'video_duration_seconds']\n",
    "fa_data = data[columns_for_fa].apply(pd.to_numeric, errors='coerce').dropna()\n",
    "scaler = StandardScaler()\n",
    "factor_data_standardized = scaler.fit_transform(fa_data)\n",
    "kmo_all, kmo_model = calculate_kmo(factor_data_standardized)\n",
    "print(f\"KMO: {kmo_model}\")\n",
    "chi_square_value, p_value = calculate_bartlett_sphericity(factor_data_standardized)\n",
    "print(f\"Bartlett's Test - Chi-Square: {chi_square_value}, p-value: {p_value}\")\n",
    "fa = FactorAnalyzer(n_factors=3, rotation='varimax') \n",
    "fa.fit(factor_data_standardized)\n",
    "eigenvalues, _ = fa.get_eigenvalues()\n",
    "print(f\"Eigenvalues: {eigenvalues}\")\n",
    "loadings = fa.loadings_\n",
    "print(f\"Factor Loadings:\\n{loadings}\")"
   ]
  },
  {
   "cell_type": "code",
   "execution_count": 48,
   "metadata": {},
   "outputs": [
    {
     "name": "stdout",
     "output_type": "stream",
     "text": [
      "Factor 1 includes variables: [0 1 2]\n",
      "Factor 2 includes variables: []\n",
      "Factor 3 includes variables: [3]\n"
     ]
    }
   ],
   "source": [
    "factor_loadings = fa.loadings_\n",
    "factor_loadings\n",
    "\n",
    "threshold = 0.4\n",
    "strong_loadings = np.abs(factor_loadings) > threshold\n",
    "\n",
    "for i in range(factor_loadings.shape[1]):  \n",
    "    print(f\"Factor {i+1} includes variables: {np.where(strong_loadings[:, i])[0]}\")"
   ]
  },
  {
   "cell_type": "code",
   "execution_count": 49,
   "metadata": {},
   "outputs": [
    {
     "name": "stdout",
     "output_type": "stream",
     "text": [
      "Factor 1 - Cronbach's Alpha: 0.7985978898191615, 95% CI: [0.797 0.8  ]\n"
     ]
    }
   ],
   "source": [
    "alpha1, ci1 = pg.cronbach_alpha(pd.DataFrame(factor_data_standardized).iloc[:, [0, 1,2]])\n",
    "print(f\"Factor 1 - Cronbach's Alpha: {alpha1}, 95% CI: {ci1}\")"
   ]
  },
  {
   "cell_type": "code",
   "execution_count": 50,
   "metadata": {},
   "outputs": [
    {
     "data": {
      "image/png": "[encoded data removed]",
      "text/plain": [
       "<Figure size 640x480 with 2 Axes>"
      ]
     },
     "metadata": {},
     "output_type": "display_data"
    }
   ],
   "source": [
    "import seaborn as sns\n",
    "factor_loadings_df = pd.DataFrame(loadings, columns=['Factor 1', 'Factor 2', 'Factor 3'], index=columns_for_fa)\n",
    "sns.heatmap(factor_loadings_df, annot=True, cmap='coolwarm', fmt='.2f')\n",
    "plt.title('Factor Loadings')\n",
    "plt.show()"
   ]
  },
  {
   "cell_type": "code",
   "execution_count": null,
   "metadata": {},
   "outputs": [
    {
     "data": {
      "text/plain": [
       "is_trending\n",
       "0    135724\n",
       "1     14161\n",
       "Name: count, dtype: int64"
      ]
     },
     "execution_count": 51,
     "metadata": {},
     "output_type": "execute_result"
    }
   ],
   "source": [
    "data['is_trending'] = data['time_difference'].apply(\n",
    "    lambda x: 1 if int(x.split(\" \")[0]) <= 1 else 0 \n",
    ")\n",
    "data.is_trending.value_counts() ## checking how fast videos are trending"
   ]
  },
  {
   "cell_type": "code",
   "execution_count": 52,
   "metadata": {},
   "outputs": [
    {
     "data": {
      "text/plain": [
       "0          5\n",
       "1         26\n",
       "2          3\n",
       "3          3\n",
       "4          3\n",
       "          ..\n",
       "149880    19\n",
       "149881    10\n",
       "149882    24\n",
       "149883     4\n",
       "149884    18\n",
       "Name: time_difference_days, Length: 149885, dtype: int64"
      ]
     },
     "execution_count": 52,
     "metadata": {},
     "output_type": "execute_result"
    }
   ],
   "source": [
    "# do split (\" \") and take the first element\n",
    "\n",
    "data[\"time_difference_days\"] = data[\"time_difference\"].apply(lambda x: int(x.split(\" \")[0]))\n",
    "data[\"time_difference_days\"]"
   ]
  },
  {
   "cell_type": "code",
   "execution_count": 53,
   "metadata": {},
   "outputs": [
    {
     "data": {
      "text/plain": [
       "((135724, 37), (14161, 37))"
      ]
     },
     "execution_count": 53,
     "metadata": {},
     "output_type": "execute_result"
    }
   ],
   "source": [
    "majority_class = data[data['is_trending'] == 0]\n",
    "minority_class = data[data['is_trending'] == 1]\n",
    "# shape\n",
    "majority_class.shape, minority_class.shape"
   ]
  },
  {
   "cell_type": "code",
   "execution_count": 76,
   "metadata": {},
   "outputs": [
    {
     "data": {
      "text/plain": [
       "is_trending\n",
       "0    135724\n",
       "1     40700\n",
       "Name: count, dtype: int64"
      ]
     },
     "execution_count": 76,
     "metadata": {},
     "output_type": "execute_result"
    }
   ],
   "source": [
    "from sklearn.utils import resample\n",
    "\n",
    "\n",
    "minority_upsampled = resample(minority_class, \n",
    "                              replace=True,     \n",
    "                              n_samples=int(round(len(majority_class) * 0.3, -2)),  \n",
    "                              random_state=42)  \n",
    "\n",
    "data = pd.concat([majority_class, minority_upsampled])\n",
    "data.is_trending.value_counts()"
   ]
  },
  {
   "cell_type": "code",
   "execution_count": 55,
   "metadata": {},
   "outputs": [
    {
     "data": {
      "text/plain": [
       "0         2939.0\n",
       "1            NaN\n",
       "2         3423.0\n",
       "3            NaN\n",
       "4            NaN\n",
       "           ...  \n",
       "7005         NaN\n",
       "32731        NaN\n",
       "132841    4233.0\n",
       "113650    2567.0\n",
       "37666     5621.0\n",
       "Name: channel_video_channel_publish_difference, Length: 176424, dtype: float64"
      ]
     },
     "execution_count": 55,
     "metadata": {},
     "output_type": "execute_result"
    }
   ],
   "source": [
    "data['channel_published_at'] = pd.to_datetime(data['channel_published_at'], errors='coerce').dt.tz_localize(None)\n",
    "data['video_published_at'] = pd.to_datetime(data['video_published_at'], errors='coerce').dt.tz_localize(None)\n",
    "data['channel_video_channel_publish_difference'] = (data['video_published_at'] - data['channel_published_at']).dt.days\n",
    "data['channel_video_channel_publish_difference']"
   ]
  },
  {
   "cell_type": "code",
   "execution_count": 56,
   "metadata": {},
   "outputs": [
    {
     "data": {
      "text/plain": [
       "0        2016-09-23 08:16:40\n",
       "1                        NaT\n",
       "2        2015-07-09 18:57:30\n",
       "3                        NaT\n",
       "4                        NaT\n",
       "                 ...        \n",
       "7005                     NaT\n",
       "32731                    NaT\n",
       "132841   2013-04-18 14:39:48\n",
       "113650   2017-10-24 20:09:02\n",
       "37666    2009-05-29 14:50:20\n",
       "Name: channel_published_at, Length: 176424, dtype: datetime64[ns]"
      ]
     },
     "execution_count": 56,
     "metadata": {},
     "output_type": "execute_result"
    }
   ],
   "source": [
    "data['channel_published_at']"
   ]
  },
  {
   "cell_type": "code",
   "execution_count": 57,
   "metadata": {},
   "outputs": [
    {
     "data": {
      "text/plain": [
       "0        2024-10-10 16:19:23\n",
       "1        2024-10-06 17:48:07\n",
       "2        2024-11-22 16:00:20\n",
       "3        2024-11-15 18:00:06\n",
       "4        2024-11-06 21:32:42\n",
       "                 ...        \n",
       "7005     2024-11-10 13:01:23\n",
       "32731    2024-11-13 09:30:08\n",
       "132841   2024-11-20 02:14:13\n",
       "113650   2024-11-04 18:02:32\n",
       "37666    2024-10-19 01:02:13\n",
       "Name: video_published_at, Length: 176424, dtype: datetime64[ns]"
      ]
     },
     "execution_count": 57,
     "metadata": {},
     "output_type": "execute_result"
    }
   ],
   "source": [
    "data['video_published_at']"
   ]
  },
  {
   "cell_type": "code",
   "execution_count": 58,
   "metadata": {},
   "outputs": [],
   "source": [
    "data['channel_video_channel_publish_difference'] = data['channel_video_channel_publish_difference'].fillna(data['channel_video_channel_publish_difference'].mean()) # di ko na alam kung tama to"
   ]
  },
  {
   "cell_type": "code",
   "execution_count": 59,
   "metadata": {},
   "outputs": [],
   "source": [
    "# import SMOTENN \n",
    "from imblearn.combine import SMOTEENN\n",
    "smote_enn = SMOTEENN(random_state=42)"
   ]
  },
  {
   "cell_type": "code",
   "execution_count": 60,
   "metadata": {},
   "outputs": [
    {
     "data": {
      "text/plain": [
       "is_trending\n",
       "0    135724\n",
       "1     40700\n",
       "Name: count, dtype: int64"
      ]
     },
     "execution_count": 60,
     "metadata": {},
     "output_type": "execute_result"
    }
   ],
   "source": [
    "data['is_trending'].value_counts()"
   ]
  },
  {
   "cell_type": "code",
   "execution_count": 61,
   "metadata": {},
   "outputs": [
    {
     "data": {
      "text/plain": [
       "is_weekend\n",
       "False    124516\n",
       "True      51908\n",
       "Name: count, dtype: int64"
      ]
     },
     "execution_count": 61,
     "metadata": {},
     "output_type": "execute_result"
    }
   ],
   "source": [
    "data['is_weekend'].value_counts()"
   ]
  },
  {
   "cell_type": "code",
   "execution_count": 62,
   "metadata": {},
   "outputs": [],
   "source": [
    "features = [\n",
    "    'video_duration_seconds', 'channel_video_count',\n",
    "    'video_category_id', 'video_trending_country', 'is_weekend',\n",
    "    'video_definition', 'video_dimension', 'video_licensed_content',\n",
    "    'channel_country', 'channel_have_hidden_subscribers','channel_video_channel_publish_difference'\n",
    "]\n"
   ]
  },
  {
   "cell_type": "code",
   "execution_count": 63,
   "metadata": {},
   "outputs": [
    {
     "data": {
      "text/plain": [
       "0         False\n",
       "1         False\n",
       "2         False\n",
       "3         False\n",
       "4         False\n",
       "          ...  \n",
       "7005      False\n",
       "32731     False\n",
       "132841    False\n",
       "113650    False\n",
       "37666     False\n",
       "Name: channel_have_hidden_subscribers, Length: 176424, dtype: bool"
      ]
     },
     "execution_count": 63,
     "metadata": {},
     "output_type": "execute_result"
    }
   ],
   "source": [
    "data.channel_have_hidden_subscribers"
   ]
  },
  {
   "cell_type": "code",
   "execution_count": 64,
   "metadata": {},
   "outputs": [],
   "source": [
    "# data['is_trending'] = data['time_difference'].apply(\n",
    "#     lambda x: 1 if int(x.split(\" \")[0]) <= 3 else 0\n",
    "# )"
   ]
  },
  {
   "cell_type": "code",
   "execution_count": 65,
   "metadata": {},
   "outputs": [],
   "source": [
    "categorical_features = [\n",
    "    'video_category_id', 'video_trending_country', 'is_weekend',\n",
    "    'video_definition', 'video_dimension', 'video_licensed_content',\n",
    "    'channel_country', 'channel_have_hidden_subscribers'\n",
    "]\n",
    "numerical_features = [\n",
    "    'video_duration_seconds', 'channel_video_count', 'channel_video_channel_publish_difference'\n",
    "]"
   ]
  },
  {
   "cell_type": "code",
   "execution_count": 66,
   "metadata": {},
   "outputs": [],
   "source": [
    "X_categorical = data[categorical_features]\n",
    "X_numerical = data[numerical_features]\n",
    "y = data['is_trending']"
   ]
  },
  {
   "cell_type": "code",
   "execution_count": 67,
   "metadata": {},
   "outputs": [
    {
     "data": {
      "text/plain": [
       "(176424, 8)"
      ]
     },
     "execution_count": 67,
     "metadata": {},
     "output_type": "execute_result"
    }
   ],
   "source": [
    "X_categorical.shape"
   ]
  },
  {
   "cell_type": "code",
   "execution_count": 68,
   "metadata": {},
   "outputs": [],
   "source": [
    "from feature_engine.encoding import DecisionTreeEncoder\n",
    "from feature_engine.encoding import OneHotEncoder\n",
    "from feature_engine.encoding import MeanEncoder\n",
    "\n",
    "encoder = DecisionTreeEncoder(regression=False)\n",
    "X_categorical_encoded = encoder.fit_transform(X_categorical, y)"
   ]
  },
  {
   "cell_type": "code",
   "execution_count": 69,
   "metadata": {},
   "outputs": [
    {
     "name": "stdout",
     "output_type": "stream",
     "text": [
      "video_duration_seconds                      0\n",
      "channel_video_count                         0\n",
      "channel_video_channel_publish_difference    0\n",
      "dtype: int64\n",
      "video_duration_seconds                      0\n",
      "channel_video_count                         0\n",
      "channel_video_channel_publish_difference    0\n",
      "dtype: int64\n",
      "       video_duration_seconds  channel_video_count  \\\n",
      "count           176424.000000        176424.000000   \n",
      "mean              1124.472521          5350.438812   \n",
      "std               2691.181581         21602.454846   \n",
      "min                 10.000000             0.000000   \n",
      "25%                 53.000000           231.000000   \n",
      "50%                249.000000           709.000000   \n",
      "75%               1228.000000          1770.000000   \n",
      "max              42901.000000        540692.000000   \n",
      "\n",
      "       channel_video_channel_publish_difference  \n",
      "count                             176424.000000  \n",
      "mean                                3993.923086  \n",
      "std                                 1152.396603  \n",
      "min                                 1819.000000  \n",
      "25%                                 3300.000000  \n",
      "50%                                 3993.923086  \n",
      "75%                                 4380.000000  \n",
      "max                                20000.000000  \n"
     ]
    }
   ],
   "source": [
    "print(X_numerical.isna().sum()) \n",
    "print(np.isinf(X_numerical).sum()) \n",
    "print(X_numerical.describe())  "
   ]
  },
  {
   "cell_type": "code",
   "execution_count": 70,
   "metadata": {},
   "outputs": [
    {
     "data": {
      "text/plain": [
       "(176424, 11)"
      ]
     },
     "execution_count": 70,
     "metadata": {},
     "output_type": "execute_result"
    }
   ],
   "source": [
    "import numpy as np\n",
    "X = np.hstack((X_numerical, X_categorical_encoded))\n",
    "X.shape"
   ]
  },
  {
   "cell_type": "code",
   "execution_count": 71,
   "metadata": {},
   "outputs": [],
   "source": [
    "from sklearn.model_selection import train_test_split\n",
    "X_train, X_test, y_train, y_test = train_test_split(X, y, test_size=0.3, random_state=42)\n",
    "# smootenn\n",
    "# scaling\n",
    "from sklearn.preprocessing import StandardScaler\n",
    "scaler = StandardScaler()\n",
    "X_train_scaled = scaler.fit_transform(X_train)\n",
    "X_test_scaled = scaler.transform(X_test)\n",
    "# X_train_resampled, y_train_resampled = smote_enn.fit_resample(X_train_scaled, y_train)"
   ]
  },
  {
   "cell_type": "code",
   "execution_count": 72,
   "metadata": {},
   "outputs": [
    {
     "data": {
      "text/html": [
       "<style>#sk-container-id-2 {\n",
       "  /* Definition of color scheme common for light and dark mode */\n",
       "  --sklearn-color-text: black;\n",
       "  --sklearn-color-line: gray;\n",
       "  /* Definition of color scheme for unfitted estimators */\n",
       "  --sklearn-color-unfitted-level-0: #fff5e6;\n",
       "  --sklearn-color-unfitted-level-1: #f6e4d2;\n",
       "  --sklearn-color-unfitted-level-2: #ffe0b3;\n",
       "  --sklearn-color-unfitted-level-3: chocolate;\n",
       "  /* Definition of color scheme for fitted estimators */\n",
       "  --sklearn-color-fitted-level-0: #f0f8ff;\n",
       "  --sklearn-color-fitted-level-1: #d4ebff;\n",
       "  --sklearn-color-fitted-level-2: #b3dbfd;\n",
       "  --sklearn-color-fitted-level-3: cornflowerblue;\n",
       "\n",
       "  /* Specific color for light theme */\n",
       "  --sklearn-color-text-on-default-background: var(--sg-text-color, var(--theme-code-foreground, var(--jp-content-font-color1, black)));\n",
       "  --sklearn-color-background: var(--sg-background-color, var(--theme-background, var(--jp-layout-color0, white)));\n",
       "  --sklearn-color-border-box: var(--sg-text-color, var(--theme-code-foreground, var(--jp-content-font-color1, black)));\n",
       "  --sklearn-color-icon: #696969;\n",
       "\n",
       "  @media (prefers-color-scheme: dark) {\n",
       "    /* Redefinition of color scheme for dark theme */\n",
       "    --sklearn-color-text-on-default-background: var(--sg-text-color, var(--theme-code-foreground, var(--jp-content-font-color1, white)));\n",
       "    --sklearn-color-background: var(--sg-background-color, var(--theme-background, var(--jp-layout-color0, #111)));\n",
       "    --sklearn-color-border-box: var(--sg-text-color, var(--theme-code-foreground, var(--jp-content-font-color1, white)));\n",
       "    --sklearn-color-icon: #878787;\n",
       "  }\n",
       "}\n",
       "\n",
       "#sk-container-id-2 {\n",
       "  color: var(--sklearn-color-text);\n",
       "}\n",
       "\n",
       "#sk-container-id-2 pre {\n",
       "  padding: 0;\n",
       "}\n",
       "\n",
       "#sk-container-id-2 input.sk-hidden--visually {\n",
       "  border: 0;\n",
       "  clip: rect(1px 1px 1px 1px);\n",
       "  clip: rect(1px, 1px, 1px, 1px);\n",
       "  height: 1px;\n",
       "  margin: -1px;\n",
       "  overflow: hidden;\n",
       "  padding: 0;\n",
       "  position: absolute;\n",
       "  width: 1px;\n",
       "}\n",
       "\n",
       "#sk-container-id-2 div.sk-dashed-wrapped {\n",
       "  border: 1px dashed var(--sklearn-color-line);\n",
       "  margin: 0 0.4em 0.5em 0.4em;\n",
       "  box-sizing: border-box;\n",
       "  padding-bottom: 0.4em;\n",
       "  background-color: var(--sklearn-color-background);\n",
       "}\n",
       "\n",
       "#sk-container-id-2 div.sk-container {\n",
       "  /* jupyter's `normalize.less` sets `[hidden] { display: none; }`\n",
       "     but bootstrap.min.css set `[hidden] { display: none !important; }`\n",
       "     so we also need the `!important` here to be able to override the\n",
       "     default hidden behavior on the sphinx rendered scikit-learn.org.\n",
       "     See: https://github.com/scikit-learn/scikit-learn/issues/21755 */\n",
       "  display: inline-block !important;\n",
       "  position: relative;\n",
       "}\n",
       "\n",
       "#sk-container-id-2 div.sk-text-repr-fallback {\n",
       "  display: none;\n",
       "}\n",
       "\n",
       "div.sk-parallel-item,\n",
       "div.sk-serial,\n",
       "div.sk-item {\n",
       "  /* draw centered vertical line to link estimators */\n",
       "  background-image: linear-gradient(var(--sklearn-color-text-on-default-background), var(--sklearn-color-text-on-default-background));\n",
       "  background-size: 2px 100%;\n",
       "  background-repeat: no-repeat;\n",
       "  background-position: center center;\n",
       "}\n",
       "\n",
       "/* Parallel-specific style estimator block */\n",
       "\n",
       "#sk-container-id-2 div.sk-parallel-item::after {\n",
       "  content: \"\";\n",
       "  width: 100%;\n",
       "  border-bottom: 2px solid var(--sklearn-color-text-on-default-background);\n",
       "  flex-grow: 1;\n",
       "}\n",
       "\n",
       "#sk-container-id-2 div.sk-parallel {\n",
       "  display: flex;\n",
       "  align-items: stretch;\n",
       "  justify-content: center;\n",
       "  background-color: var(--sklearn-color-background);\n",
       "  position: relative;\n",
       "}\n",
       "\n",
       "#sk-container-id-2 div.sk-parallel-item {\n",
       "  display: flex;\n",
       "  flex-direction: column;\n",
       "}\n",
       "\n",
       "#sk-container-id-2 div.sk-parallel-item:first-child::after {\n",
       "  align-self: flex-end;\n",
       "  width: 50%;\n",
       "}\n",
       "\n",
       "#sk-container-id-2 div.sk-parallel-item:last-child::after {\n",
       "  align-self: flex-start;\n",
       "  width: 50%;\n",
       "}\n",
       "\n",
       "#sk-container-id-2 div.sk-parallel-item:only-child::after {\n",
       "  width: 0;\n",
       "}\n",
       "\n",
       "/* Serial-specific style estimator block */\n",
       "\n",
       "#sk-container-id-2 div.sk-serial {\n",
       "  display: flex;\n",
       "  flex-direction: column;\n",
       "  align-items: center;\n",
       "  background-color: var(--sklearn-color-background);\n",
       "  padding-right: 1em;\n",
       "  padding-left: 1em;\n",
       "}\n",
       "\n",
       "\n",
       "/* Toggleable style: style used for estimator/Pipeline/ColumnTransformer box that is\n",
       "clickable and can be expanded/collapsed.\n",
       "- Pipeline and ColumnTransformer use this feature and define the default style\n",
       "- Estimators will overwrite some part of the style using the `sk-estimator` class\n",
       "*/\n",
       "\n",
       "/* Pipeline and ColumnTransformer style (default) */\n",
       "\n",
       "#sk-container-id-2 div.sk-toggleable {\n",
       "  /* Default theme specific background. It is overwritten whether we have a\n",
       "  specific estimator or a Pipeline/ColumnTransformer */\n",
       "  background-color: var(--sklearn-color-background);\n",
       "}\n",
       "\n",
       "/* Toggleable label */\n",
       "#sk-container-id-2 label.sk-toggleable__label {\n",
       "  cursor: pointer;\n",
       "  display: block;\n",
       "  width: 100%;\n",
       "  margin-bottom: 0;\n",
       "  padding: 0.5em;\n",
       "  box-sizing: border-box;\n",
       "  text-align: center;\n",
       "}\n",
       "\n",
       "#sk-container-id-2 label.sk-toggleable__label-arrow:before {\n",
       "  /* Arrow on the left of the label */\n",
       "  content: \"▸\";\n",
       "  float: left;\n",
       "  margin-right: 0.25em;\n",
       "  color: var(--sklearn-color-icon);\n",
       "}\n",
       "\n",
       "#sk-container-id-2 label.sk-toggleable__label-arrow:hover:before {\n",
       "  color: var(--sklearn-color-text);\n",
       "}\n",
       "\n",
       "/* Toggleable content - dropdown */\n",
       "\n",
       "#sk-container-id-2 div.sk-toggleable__content {\n",
       "  max-height: 0;\n",
       "  max-width: 0;\n",
       "  overflow: hidden;\n",
       "  text-align: left;\n",
       "  /* unfitted */\n",
       "  background-color: var(--sklearn-color-unfitted-level-0);\n",
       "}\n",
       "\n",
       "#sk-container-id-2 div.sk-toggleable__content.fitted {\n",
       "  /* fitted */\n",
       "  background-color: var(--sklearn-color-fitted-level-0);\n",
       "}\n",
       "\n",
       "#sk-container-id-2 div.sk-toggleable__content pre {\n",
       "  margin: 0.2em;\n",
       "  border-radius: 0.25em;\n",
       "  color: var(--sklearn-color-text);\n",
       "  /* unfitted */\n",
       "  background-color: var(--sklearn-color-unfitted-level-0);\n",
       "}\n",
       "\n",
       "#sk-container-id-2 div.sk-toggleable__content.fitted pre {\n",
       "  /* unfitted */\n",
       "  background-color: var(--sklearn-color-fitted-level-0);\n",
       "}\n",
       "\n",
       "#sk-container-id-2 input.sk-toggleable__control:checked~div.sk-toggleable__content {\n",
       "  /* Expand drop-down */\n",
       "  max-height: 200px;\n",
       "  max-width: 100%;\n",
       "  overflow: auto;\n",
       "}\n",
       "\n",
       "#sk-container-id-2 input.sk-toggleable__control:checked~label.sk-toggleable__label-arrow:before {\n",
       "  content: \"▾\";\n",
       "}\n",
       "\n",
       "/* Pipeline/ColumnTransformer-specific style */\n",
       "\n",
       "#sk-container-id-2 div.sk-label input.sk-toggleable__control:checked~label.sk-toggleable__label {\n",
       "  color: var(--sklearn-color-text);\n",
       "  background-color: var(--sklearn-color-unfitted-level-2);\n",
       "}\n",
       "\n",
       "#sk-container-id-2 div.sk-label.fitted input.sk-toggleable__control:checked~label.sk-toggleable__label {\n",
       "  background-color: var(--sklearn-color-fitted-level-2);\n",
       "}\n",
       "\n",
       "/* Estimator-specific style */\n",
       "\n",
       "/* Colorize estimator box */\n",
       "#sk-container-id-2 div.sk-estimator input.sk-toggleable__control:checked~label.sk-toggleable__label {\n",
       "  /* unfitted */\n",
       "  background-color: var(--sklearn-color-unfitted-level-2);\n",
       "}\n",
       "\n",
       "#sk-container-id-2 div.sk-estimator.fitted input.sk-toggleable__control:checked~label.sk-toggleable__label {\n",
       "  /* fitted */\n",
       "  background-color: var(--sklearn-color-fitted-level-2);\n",
       "}\n",
       "\n",
       "#sk-container-id-2 div.sk-label label.sk-toggleable__label,\n",
       "#sk-container-id-2 div.sk-label label {\n",
       "  /* The background is the default theme color */\n",
       "  color: var(--sklearn-color-text-on-default-background);\n",
       "}\n",
       "\n",
       "/* On hover, darken the color of the background */\n",
       "#sk-container-id-2 div.sk-label:hover label.sk-toggleable__label {\n",
       "  color: var(--sklearn-color-text);\n",
       "  background-color: var(--sklearn-color-unfitted-level-2);\n",
       "}\n",
       "\n",
       "/* Label box, darken color on hover, fitted */\n",
       "#sk-container-id-2 div.sk-label.fitted:hover label.sk-toggleable__label.fitted {\n",
       "  color: var(--sklearn-color-text);\n",
       "  background-color: var(--sklearn-color-fitted-level-2);\n",
       "}\n",
       "\n",
       "/* Estimator label */\n",
       "\n",
       "#sk-container-id-2 div.sk-label label {\n",
       "  font-family: monospace;\n",
       "  font-weight: bold;\n",
       "  display: inline-block;\n",
       "  line-height: 1.2em;\n",
       "}\n",
       "\n",
       "#sk-container-id-2 div.sk-label-container {\n",
       "  text-align: center;\n",
       "}\n",
       "\n",
       "/* Estimator-specific */\n",
       "#sk-container-id-2 div.sk-estimator {\n",
       "  font-family: monospace;\n",
       "  border: 1px dotted var(--sklearn-color-border-box);\n",
       "  border-radius: 0.25em;\n",
       "  box-sizing: border-box;\n",
       "  margin-bottom: 0.5em;\n",
       "  /* unfitted */\n",
       "  background-color: var(--sklearn-color-unfitted-level-0);\n",
       "}\n",
       "\n",
       "#sk-container-id-2 div.sk-estimator.fitted {\n",
       "  /* fitted */\n",
       "  background-color: var(--sklearn-color-fitted-level-0);\n",
       "}\n",
       "\n",
       "/* on hover */\n",
       "#sk-container-id-2 div.sk-estimator:hover {\n",
       "  /* unfitted */\n",
       "  background-color: var(--sklearn-color-unfitted-level-2);\n",
       "}\n",
       "\n",
       "#sk-container-id-2 div.sk-estimator.fitted:hover {\n",
       "  /* fitted */\n",
       "  background-color: var(--sklearn-color-fitted-level-2);\n",
       "}\n",
       "\n",
       "/* Specification for estimator info (e.g. \"i\" and \"?\") */\n",
       "\n",
       "/* Common style for \"i\" and \"?\" */\n",
       "\n",
       ".sk-estimator-doc-link,\n",
       "a:link.sk-estimator-doc-link,\n",
       "a:visited.sk-estimator-doc-link {\n",
       "  float: right;\n",
       "  font-size: smaller;\n",
       "  line-height: 1em;\n",
       "  font-family: monospace;\n",
       "  background-color: var(--sklearn-color-background);\n",
       "  border-radius: 1em;\n",
       "  height: 1em;\n",
       "  width: 1em;\n",
       "  text-decoration: none !important;\n",
       "  margin-left: 1ex;\n",
       "  /* unfitted */\n",
       "  border: var(--sklearn-color-unfitted-level-1) 1pt solid;\n",
       "  color: var(--sklearn-color-unfitted-level-1);\n",
       "}\n",
       "\n",
       ".sk-estimator-doc-link.fitted,\n",
       "a:link.sk-estimator-doc-link.fitted,\n",
       "a:visited.sk-estimator-doc-link.fitted {\n",
       "  /* fitted */\n",
       "  border: var(--sklearn-color-fitted-level-1) 1pt solid;\n",
       "  color: var(--sklearn-color-fitted-level-1);\n",
       "}\n",
       "\n",
       "/* On hover */\n",
       "div.sk-estimator:hover .sk-estimator-doc-link:hover,\n",
       ".sk-estimator-doc-link:hover,\n",
       "div.sk-label-container:hover .sk-estimator-doc-link:hover,\n",
       ".sk-estimator-doc-link:hover {\n",
       "  /* unfitted */\n",
       "  background-color: var(--sklearn-color-unfitted-level-3);\n",
       "  color: var(--sklearn-color-background);\n",
       "  text-decoration: none;\n",
       "}\n",
       "\n",
       "div.sk-estimator.fitted:hover .sk-estimator-doc-link.fitted:hover,\n",
       ".sk-estimator-doc-link.fitted:hover,\n",
       "div.sk-label-container:hover .sk-estimator-doc-link.fitted:hover,\n",
       ".sk-estimator-doc-link.fitted:hover {\n",
       "  /* fitted */\n",
       "  background-color: var(--sklearn-color-fitted-level-3);\n",
       "  color: var(--sklearn-color-background);\n",
       "  text-decoration: none;\n",
       "}\n",
       "\n",
       "/* Span, style for the box shown on hovering the info icon */\n",
       ".sk-estimator-doc-link span {\n",
       "  display: none;\n",
       "  z-index: 9999;\n",
       "  position: relative;\n",
       "  font-weight: normal;\n",
       "  right: .2ex;\n",
       "  padding: .5ex;\n",
       "  margin: .5ex;\n",
       "  width: min-content;\n",
       "  min-width: 20ex;\n",
       "  max-width: 50ex;\n",
       "  color: var(--sklearn-color-text);\n",
       "  box-shadow: 2pt 2pt 4pt #999;\n",
       "  /* unfitted */\n",
       "  background: var(--sklearn-color-unfitted-level-0);\n",
       "  border: .5pt solid var(--sklearn-color-unfitted-level-3);\n",
       "}\n",
       "\n",
       ".sk-estimator-doc-link.fitted span {\n",
       "  /* fitted */\n",
       "  background: var(--sklearn-color-fitted-level-0);\n",
       "  border: var(--sklearn-color-fitted-level-3);\n",
       "}\n",
       "\n",
       ".sk-estimator-doc-link:hover span {\n",
       "  display: block;\n",
       "}\n",
       "\n",
       "/* \"?\"-specific style due to the `<a>` HTML tag */\n",
       "\n",
       "#sk-container-id-2 a.estimator_doc_link {\n",
       "  float: right;\n",
       "  font-size: 1rem;\n",
       "  line-height: 1em;\n",
       "  font-family: monospace;\n",
       "  background-color: var(--sklearn-color-background);\n",
       "  border-radius: 1rem;\n",
       "  height: 1rem;\n",
       "  width: 1rem;\n",
       "  text-decoration: none;\n",
       "  /* unfitted */\n",
       "  color: var(--sklearn-color-unfitted-level-1);\n",
       "  border: var(--sklearn-color-unfitted-level-1) 1pt solid;\n",
       "}\n",
       "\n",
       "#sk-container-id-2 a.estimator_doc_link.fitted {\n",
       "  /* fitted */\n",
       "  border: var(--sklearn-color-fitted-level-1) 1pt solid;\n",
       "  color: var(--sklearn-color-fitted-level-1);\n",
       "}\n",
       "\n",
       "/* On hover */\n",
       "#sk-container-id-2 a.estimator_doc_link:hover {\n",
       "  /* unfitted */\n",
       "  background-color: var(--sklearn-color-unfitted-level-3);\n",
       "  color: var(--sklearn-color-background);\n",
       "  text-decoration: none;\n",
       "}\n",
       "\n",
       "#sk-container-id-2 a.estimator_doc_link.fitted:hover {\n",
       "  /* fitted */\n",
       "  background-color: var(--sklearn-color-fitted-level-3);\n",
       "}\n",
       "</style><div id=\"sk-container-id-2\" class=\"sk-top-container\"><div class=\"sk-text-repr-fallback\"><pre>RandomForestClassifier(class_weight=&#x27;balanced&#x27;, random_state=42)</pre><b>In a Jupyter environment, please rerun this cell to show the HTML representation or trust the notebook. <br />On GitHub, the HTML representation is unable to render, please try loading this page with nbviewer.org.</b></div><div class=\"sk-container\" hidden><div class=\"sk-item\"><div class=\"sk-estimator fitted sk-toggleable\"><input class=\"sk-toggleable__control sk-hidden--visually\" id=\"sk-estimator-id-2\" type=\"checkbox\" checked><label for=\"sk-estimator-id-2\" class=\"sk-toggleable__label fitted sk-toggleable__label-arrow fitted\">&nbsp;&nbsp;RandomForestClassifier<a class=\"sk-estimator-doc-link fitted\" rel=\"noreferrer\" target=\"_blank\" href=\"https://scikit-learn.org/1.5/modules/generated/sklearn.ensemble.RandomForestClassifier.html\">?<span>Documentation for RandomForestClassifier</span></a><span class=\"sk-estimator-doc-link fitted\">i<span>Fitted</span></span></label><div class=\"sk-toggleable__content fitted\"><pre>RandomForestClassifier(class_weight=&#x27;balanced&#x27;, random_state=42)</pre></div> </div></div></div></div>"
      ],
      "text/plain": [
       "RandomForestClassifier(class_weight='balanced', random_state=42)"
      ]
     },
     "execution_count": 72,
     "metadata": {},
     "output_type": "execute_result"
    }
   ],
   "source": [
    "from sklearn.ensemble import RandomForestClassifier\n",
    "# adjust class weights\n",
    "# parameters for random_forest classifier\n",
    "\n",
    "model = RandomForestClassifier(random_state=42,class_weight='balanced')\n",
    "model.fit(X_train_scaled, y_train)"
   ]
  },
  {
   "cell_type": "code",
   "execution_count": 73,
   "metadata": {},
   "outputs": [
    {
     "name": "stdout",
     "output_type": "stream",
     "text": [
      "Model Accuracy: 0.9050219165659008\n"
     ]
    }
   ],
   "source": [
    "accuracy = model.score(X_test_scaled, y_test)\n",
    "print(f\"Model Accuracy: {accuracy}\")"
   ]
  },
  {
   "cell_type": "code",
   "execution_count": 74,
   "metadata": {},
   "outputs": [
    {
     "name": "stdout",
     "output_type": "stream",
     "text": [
      "[[36671  3935]\n",
      " [ 1092 11230]]\n",
      "              precision    recall  f1-score   support\n",
      "\n",
      "           0       0.97      0.90      0.94     40606\n",
      "           1       0.74      0.91      0.82     12322\n",
      "\n",
      "    accuracy                           0.91     52928\n",
      "   macro avg       0.86      0.91      0.88     52928\n",
      "weighted avg       0.92      0.91      0.91     52928\n",
      "\n"
     ]
    }
   ],
   "source": [
    "# classification report confusion matrix\n",
    "from sklearn.metrics import classification_report, confusion_matrix\n",
    "y_pred = model.predict(X_test_scaled)\n",
    "print(confusion_matrix(y_test, y_pred))\n",
    "print(classification_report(y_test, y_pred))"
   ]
  },
  {
   "cell_type": "code",
   "execution_count": 75,
   "metadata": {},
   "outputs": [
    {
     "data": {
      "text/plain": [
       "<Axes: >"
      ]
     },
     "execution_count": 75,
     "metadata": {},
     "output_type": "execute_result"
    },
    {
     "data": {
      "image/png": "[encoded data removed]",
      "text/plain": [
       "<Figure size 640x480 with 2 Axes>"
      ]
     },
     "metadata": {},
     "output_type": "display_data"
    }
   ],
   "source": [
    "# heatmap confusion matrix\n",
    "import seaborn as sns\n",
    "cm = confusion_matrix(y_test, y_pred)\n",
    "sns.heatmap(cm, annot=True, fmt='d', cmap='Blues')"
   ]
  },
  {
   "cell_type": "code",
   "execution_count": 39,
   "metadata": {},
   "outputs": [
    {
     "data": {
      "text/plain": [
       "Index(['video_id', 'video_published_at', 'video_trending__date',\n",
       "       'video_trending_country', 'channel_id', 'video_title',\n",
       "       'video_description', 'video_default_thumbnail', 'video_category_id',\n",
       "       'video_tags', 'video_duration', 'video_dimension', 'video_definition',\n",
       "       'video_licensed_content', 'video_view_count', 'video_like_count',\n",
       "       'video_comment_count', 'channel_title', 'channel_description',\n",
       "       'channel_custom_url', 'channel_published_at', 'channel_country',\n",
       "       'channel_view_count', 'channel_subscriber_count',\n",
       "       'channel_have_hidden_subscribers', 'channel_video_count',\n",
       "       'channel_localized_title', 'channel_localized_description',\n",
       "       'engagement_rate', 'time_difference', 'video_duration_seconds',\n",
       "       'time_to_trend_difference_seconds', 'likes_per_view',\n",
       "       'comments_per_view', 'is_weekend', 'is_trending',\n",
       "       'time_difference_days', 'channel_video_channel_publish_difference'],\n",
       "      dtype='object')"
      ]
     },
     "execution_count": 39,
     "metadata": {},
     "output_type": "execute_result"
    }
   ],
   "source": [
    "data.columns"
   ]
  },
  {
   "cell_type": "code",
   "execution_count": 35,
   "metadata": {},
   "outputs": [
    {
     "data": {
      "text/html": [
       "<div>\n",
       "<style scoped>\n",
       "    .dataframe tbody tr th:only-of-type {\n",
       "        vertical-align: middle;\n",
       "    }\n",
       "\n",
       "    .dataframe tbody tr th {\n",
       "        vertical-align: top;\n",
       "    }\n",
       "\n",
       "    .dataframe thead th {\n",
       "        text-align: right;\n",
       "    }\n",
       "</style>\n",
       "<table border=\"1\" class=\"dataframe\">\n",
       "  <thead>\n",
       "    <tr style=\"text-align: right;\">\n",
       "      <th></th>\n",
       "      <th>importance</th>\n",
       "    </tr>\n",
       "  </thead>\n",
       "  <tbody>\n",
       "    <tr>\n",
       "      <th>channel_video_count</th>\n",
       "      <td>0.455299</td>\n",
       "    </tr>\n",
       "    <tr>\n",
       "      <th>video_duration_seconds</th>\n",
       "      <td>0.289840</td>\n",
       "    </tr>\n",
       "    <tr>\n",
       "      <th>video_category_id</th>\n",
       "      <td>0.178292</td>\n",
       "    </tr>\n",
       "    <tr>\n",
       "      <th>is_weekend</th>\n",
       "      <td>0.040236</td>\n",
       "    </tr>\n",
       "    <tr>\n",
       "      <th>video_trending_country</th>\n",
       "      <td>0.009069</td>\n",
       "    </tr>\n",
       "    <tr>\n",
       "      <th>video_definition</th>\n",
       "      <td>0.008931</td>\n",
       "    </tr>\n",
       "    <tr>\n",
       "      <th>channel_have_hidden_subscribers</th>\n",
       "      <td>0.008912</td>\n",
       "    </tr>\n",
       "    <tr>\n",
       "      <th>channel_country</th>\n",
       "      <td>0.008286</td>\n",
       "    </tr>\n",
       "    <tr>\n",
       "      <th>video_dimension</th>\n",
       "      <td>0.001136</td>\n",
       "    </tr>\n",
       "    <tr>\n",
       "      <th>video_licensed_content</th>\n",
       "      <td>0.000000</td>\n",
       "    </tr>\n",
       "    <tr>\n",
       "      <th>channel_video_channel_publish_difference</th>\n",
       "      <td>0.000000</td>\n",
       "    </tr>\n",
       "  </tbody>\n",
       "</table>\n",
       "</div>"
      ],
      "text/plain": [
       "                                          importance\n",
       "channel_video_count                         0.455299\n",
       "video_duration_seconds                      0.289840\n",
       "video_category_id                           0.178292\n",
       "is_weekend                                  0.040236\n",
       "video_trending_country                      0.009069\n",
       "video_definition                            0.008931\n",
       "channel_have_hidden_subscribers             0.008912\n",
       "channel_country                             0.008286\n",
       "video_dimension                             0.001136\n",
       "video_licensed_content                      0.000000\n",
       "channel_video_channel_publish_difference    0.000000"
      ]
     },
     "execution_count": 35,
     "metadata": {},
     "output_type": "execute_result"
    }
   ],
   "source": [
    "importance = model.feature_importances_\n",
    "feature_importance = pd.DataFrame(importance, index=features, columns=['importance']).sort_values('importance', ascending=False)\n",
    "feature_importance"
   ]
  },
  {
   "cell_type": "code",
   "execution_count": 36,
   "metadata": {},
   "outputs": [
    {
     "data": {
      "text/plain": [
       "<Figure size 1000x800 with 0 Axes>"
      ]
     },
     "metadata": {},
     "output_type": "display_data"
    },
    {
     "data": {
      "image/png": "[encoded data removed]",
      "text/plain": [
       "<Figure size 640x480 with 1 Axes>"
      ]
     },
     "metadata": {},
     "output_type": "display_data"
    }
   ],
   "source": [
    "plt.figure(figsize=(10, 8))\n",
    "feature_importance.head(10).plot(kind='barh', legend=False)\n",
    "plt.title('Top 10 Feature Importances (Random Forest)')\n",
    "plt.xlabel('Importance')\n",
    "plt.ylabel('Feature')\n",
    "plt.gca().invert_yaxis()\n",
    "plt.show()"
   ]
  },
  {
   "cell_type": "code",
   "execution_count": null,
   "metadata": {},
   "outputs": [],
   "source": [
    "import shap\n",
    "\n",
    "explainer = shap.TreeExplainer(model)\n",
    "shap_values = explainer.shap_values(X_test_scaled)"
   ]
  },
  {
   "cell_type": "code",
   "execution_count": 254,
   "metadata": {},
   "outputs": [],
   "source": [
    "import torch\n",
    "import torch.nn as nn\n",
    "import torch.optim as optim\n",
    "from sklearn.metrics import classification_report, confusion_matrix\n",
    "from torch.utils.data import DataLoader, TensorDataset\n",
    "import numpy as np\n",
    "\n",
    "# Convert data to PyTorch tensors\n",
    "X_train_tensor = torch.tensor(X_train_scaled, dtype=torch.float32)\n",
    "y_train_tensor = torch.tensor(y_train.to_numpy(), dtype=torch.long)\n",
    "X_test_tensor = torch.tensor(X_test_scaled, dtype=torch.float32)\n",
    "y_test_tensor = torch.tensor(y_test.to_numpy(), dtype=torch.long)"
   ]
  },
  {
   "cell_type": "code",
   "execution_count": 255,
   "metadata": {},
   "outputs": [],
   "source": [
    "class NeuralNetwork(nn.Module):\n",
    "    def __init__(self, input_size, num_classes):\n",
    "        super(NeuralNetwork, self).__init__()\n",
    "        self.network = nn.Sequential(\n",
    "            nn.Linear(input_size, 128),\n",
    "            nn.ReLU(),\n",
    "            nn.Dropout(0.3),\n",
    "            nn.Linear(128, 64),\n",
    "            nn.ReLU(),\n",
    "            nn.Dropout(0.3),\n",
    "            nn.Linear(64, num_classes)\n",
    "        )\n",
    "    \n",
    "    def forward(self, x):\n",
    "        return self.network(x)"
   ]
  },
  {
   "cell_type": "code",
   "execution_count": 256,
   "metadata": {},
   "outputs": [],
   "source": [
    "input_size = X_train_tensor.shape[1]\n",
    "num_classes = len(np.unique(y_train_tensor))"
   ]
  },
  {
   "cell_type": "code",
   "execution_count": 257,
   "metadata": {},
   "outputs": [],
   "source": [
    "model = NeuralNetwork(input_size, num_classes)\n",
    "criterion = nn.CrossEntropyLoss()\n",
    "optimizer = optim.Adam(model.parameters(), lr=0.001)"
   ]
  },
  {
   "cell_type": "code",
   "execution_count": 258,
   "metadata": {},
   "outputs": [],
   "source": [
    "num_epochs = 100\n",
    "batch_size = 64\n",
    "\n",
    "\n",
    "train_dataset = TensorDataset(X_train_tensor, y_train_tensor)\n",
    "train_loader = DataLoader(train_dataset, batch_size=batch_size, shuffle=True)"
   ]
  },
  {
   "cell_type": "code",
   "execution_count": 259,
   "metadata": {},
   "outputs": [
    {
     "name": "stdout",
     "output_type": "stream",
     "text": [
      "Epoch [10/100], Loss: 0.5139\n",
      "Epoch [20/100], Loss: 0.5357\n",
      "Epoch [30/100], Loss: 0.4657\n",
      "Epoch [40/100], Loss: 0.5624\n",
      "Epoch [50/100], Loss: 0.5226\n",
      "Epoch [60/100], Loss: 0.4857\n",
      "Epoch [70/100], Loss: 0.2354\n",
      "Epoch [80/100], Loss: 0.3308\n",
      "Epoch [90/100], Loss: 0.5864\n",
      "Epoch [100/100], Loss: 0.5217\n"
     ]
    }
   ],
   "source": [
    "model.train()\n",
    "for epoch in range(num_epochs):\n",
    "    for X_batch, y_batch in train_loader:\n",
    "\n",
    "        outputs = model(X_batch)\n",
    "        loss = criterion(outputs, y_batch)\n",
    "\n",
    "        optimizer.zero_grad()\n",
    "        loss.backward()\n",
    "        optimizer.step()\n",
    "    \n",
    "    if (epoch+1) % 10 == 0:\n",
    "        print(f\"Epoch [{epoch+1}/{num_epochs}], Loss: {loss.item():.4f}\")"
   ]
  },
  {
   "cell_type": "code",
   "execution_count": 261,
   "metadata": {},
   "outputs": [
    {
     "name": "stdout",
     "output_type": "stream",
     "text": [
      "Model Accuracy: 0.7219\n",
      "[[37522  3010]\n",
      " [13981  6575]]\n",
      "              precision    recall  f1-score   support\n",
      "\n",
      "           0       0.73      0.93      0.82     40532\n",
      "           1       0.69      0.32      0.44     20556\n",
      "\n",
      "    accuracy                           0.72     61088\n",
      "   macro avg       0.71      0.62      0.63     61088\n",
      "weighted avg       0.71      0.72      0.69     61088\n",
      "\n"
     ]
    }
   ],
   "source": [
    "model.eval()\n",
    "with torch.no_grad():\n",
    "    y_pred = model(X_test_tensor)\n",
    "    _, y_pred_classes = torch.max(y_pred, 1)\n",
    "\n",
    "accuracy = (y_pred_classes == y_test_tensor).sum().item() / len(y_test_tensor)\n",
    "print(f\"Model Accuracy: {accuracy:.4f}\")\n",
    "\n",
    "y_test_np = y_test_tensor.numpy()\n",
    "y_pred_np = y_pred_classes.numpy()\n",
    "print(confusion_matrix(y_test_np, y_pred_np))\n",
    "print(classification_report(y_test_np, y_pred_np))"
   ]
  }
 ],
 "metadata": {
  "kernelspec": {
   "display_name": "ptcnn",
   "language": "python",
   "name": "python3"
  },
  "language_info": {
   "codemirror_mode": {
    "name": "ipython",
    "version": 3
   },
   "file_extension": ".py",
   "mimetype": "text/x-python",
   "name": "python",
   "nbconvert_exporter": "python",
   "pygments_lexer": "ipython3",
   "version": "3.12.7"
  }
 },
 "nbformat": 4,
 "nbformat_minor": 2
}
